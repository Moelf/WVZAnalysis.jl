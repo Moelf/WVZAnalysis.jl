{
 "cells": [
  {
   "cell_type": "markdown",
   "id": "f9c7ee1f",
   "metadata": {},
   "source": [
    "# NN Training\n",
    "\n",
    "In this example notebook, we will utilize the `wvz_ml_framework` module to:\n",
    "\n",
    "1) Load data in the 4l-DF signal region.\n",
    "\n",
    "2) Train a neural network to pick out signal events."
   ]
  },
  {
   "cell_type": "markdown",
   "id": "308f95e9",
   "metadata": {},
   "source": [
    "## Load data\n",
    "\n",
    "There is already a utility created to load data and generate train, test, and validation sets for NN training in one function."
   ]
  },
  {
   "cell_type": "code",
   "execution_count": 1,
   "id": "ab2b6202",
   "metadata": {},
   "outputs": [],
   "source": [
    "import sys\n",
    "sys.path.append('../')\n",
    "\n",
    "from wvz_ml_framework.nn_training import data_management"
   ]
  },
  {
   "cell_type": "markdown",
   "id": "22641e8c",
   "metadata": {},
   "source": [
    "We must specify the data paths, the training features, and the file used for rescaling. We can specify the training features separately from the features to be rescaled, which is useful if we have a feature that we don't want to rescale.\n",
    "\n",
    "If we don't already have a file to be used for rescaling, we can generate one first:"
   ]
  },
  {
   "cell_type": "code",
   "execution_count": 2,
   "id": "49281a87",
   "metadata": {},
   "outputs": [],
   "source": [
    "data_paths = {\n",
    "    'Signal': '/home/grabanal/WVZ/gabriel_ML_data/20220301_ELReLMIs54_MUReLMIs31_btag77_VVZ.arrow',\n",
    "    'Other': '/home/grabanal/WVZ/gabriel_ML_data/20220301_ELReLMIs54_MUReLMIs31_btag77_others.arrow',\n",
    "    'ttZ': '/home/grabanal/WVZ/gabriel_ML_data/20220301_ELReLMIs54_MUReLMIs31_btag77_ttZ.arrow',\n",
    "    'tWZ': '/home/grabanal/WVZ/gabriel_ML_data/20220301_ELReLMIs54_MUReLMIs31_btag77_tWZ.arrow',\n",
    "    'tZ': '/home/grabanal/WVZ/gabriel_ML_data/20220301_ELReLMIs54_MUReLMIs31_btag77_tZ.arrow',\n",
    "    'WZ': '/home/grabanal/WVZ/gabriel_ML_data/20220301_ELReLMIs54_MUReLMIs31_btag77_WZ.arrow',\n",
    "    'Zgamma': '/home/grabanal/WVZ/gabriel_ML_data/20220301_ELReLMIs54_MUReLMIs31_btag77_Zgamma.arrow',\n",
    "    'Zjets': '/home/grabanal/WVZ/gabriel_ML_data/20220301_ELReLMIs54_MUReLMIs31_btag77_Zjets.arrow',\n",
    "    'ZZ': '/home/grabanal/WVZ/gabriel_ML_data/20220301_ELReLMIs54_MUReLMIs31_btag77_ZZ.arrow'\n",
    "}\n",
    "\n",
    "with open('training_features.txt', 'r') as file:\n",
    "    training_features = [line.strip() for line in file.readlines()]\n",
    "    \n",
    "rescale_features = [feat for feat in training_features if feat not in ['SR']]\n",
    "\n",
    "data_management.generate_scale_params_file(data_paths, rescale_features, 'rescaling_parameters.json')"
   ]
  },
  {
   "cell_type": "markdown",
   "id": "a90d2051",
   "metadata": {},
   "source": [
    "Now we can load the data for NN training:"
   ]
  },
  {
   "cell_type": "code",
   "execution_count": 3,
   "id": "b088b691",
   "metadata": {},
   "outputs": [
    {
     "name": "stdout",
     "output_type": "stream",
     "text": [
      "Data loaded...\n",
      "Data scaled...\n",
      "Data cut down to DF signal region...\n",
      "Splits generated... Finished.\n"
     ]
    }
   ],
   "source": [
    "x_train, y_train, w_train, x_test, y_test, w_test, x_val, y_val, w_val \\\n",
    "    = data_management.get_train_test_val_data(data_paths=data_paths, \n",
    "                                              train_feats=training_features,\n",
    "                                              sr_to_train='DF',\n",
    "                                              test_prop=0.2,\n",
    "                                              val_prop=0.1,\n",
    "                                              rescale_filepath='rescaling_parameters.json',\n",
    "                                              rescale_feats=rescale_features\n",
    "                                             )"
   ]
  },
  {
   "cell_type": "markdown",
   "id": "9eb0f6f4",
   "metadata": {},
   "source": [
    "We can verify that the training data has been scaled appropriately:"
   ]
  },
  {
   "cell_type": "code",
   "execution_count": 4,
   "id": "6dc4d3c7",
   "metadata": {},
   "outputs": [
    {
     "data": {
      "text/html": [
       "<div>\n",
       "<style scoped>\n",
       "    .dataframe tbody tr th:only-of-type {\n",
       "        vertical-align: middle;\n",
       "    }\n",
       "\n",
       "    .dataframe tbody tr th {\n",
       "        vertical-align: top;\n",
       "    }\n",
       "\n",
       "    .dataframe thead th {\n",
       "        text-align: right;\n",
       "    }\n",
       "</style>\n",
       "<table border=\"1\" class=\"dataframe\">\n",
       "  <thead>\n",
       "    <tr style=\"text-align: right;\">\n",
       "      <th></th>\n",
       "      <th>HT</th>\n",
       "      <th>MET</th>\n",
       "      <th>METPhi</th>\n",
       "      <th>METSig</th>\n",
       "      <th>Njet</th>\n",
       "      <th>Nlep</th>\n",
       "      <th>SR</th>\n",
       "      <th>Wlep1_ambiguous</th>\n",
       "      <th>Wlep1_dphi</th>\n",
       "      <th>Wlep1_eta</th>\n",
       "      <th>...</th>\n",
       "      <th>phi_1</th>\n",
       "      <th>phi_2</th>\n",
       "      <th>phi_3</th>\n",
       "      <th>phi_4</th>\n",
       "      <th>pt_1</th>\n",
       "      <th>pt_2</th>\n",
       "      <th>pt_3</th>\n",
       "      <th>pt_4</th>\n",
       "      <th>pt_4l</th>\n",
       "      <th>total_HT</th>\n",
       "    </tr>\n",
       "  </thead>\n",
       "  <tbody>\n",
       "    <tr>\n",
       "      <th>68322</th>\n",
       "      <td>0.037396</td>\n",
       "      <td>0.000067</td>\n",
       "      <td>0.515023</td>\n",
       "      <td>0.022302</td>\n",
       "      <td>0.071429</td>\n",
       "      <td>0.0</td>\n",
       "      <td>2</td>\n",
       "      <td>0.0</td>\n",
       "      <td>0.252059</td>\n",
       "      <td>0.549023</td>\n",
       "      <td>...</td>\n",
       "      <td>0.985345</td>\n",
       "      <td>0.794212</td>\n",
       "      <td>0.364434</td>\n",
       "      <td>0.461831</td>\n",
       "      <td>0.000022</td>\n",
       "      <td>0.030430</td>\n",
       "      <td>0.031303</td>\n",
       "      <td>0.005583</td>\n",
       "      <td>0.000029</td>\n",
       "      <td>0.000089</td>\n",
       "    </tr>\n",
       "    <tr>\n",
       "      <th>37230</th>\n",
       "      <td>0.005320</td>\n",
       "      <td>0.000005</td>\n",
       "      <td>0.256754</td>\n",
       "      <td>0.001806</td>\n",
       "      <td>0.017857</td>\n",
       "      <td>0.0</td>\n",
       "      <td>2</td>\n",
       "      <td>0.5</td>\n",
       "      <td>0.024255</td>\n",
       "      <td>0.221941</td>\n",
       "      <td>...</td>\n",
       "      <td>0.816731</td>\n",
       "      <td>0.308365</td>\n",
       "      <td>0.412169</td>\n",
       "      <td>0.937142</td>\n",
       "      <td>0.000052</td>\n",
       "      <td>0.138499</td>\n",
       "      <td>0.140681</td>\n",
       "      <td>0.097185</td>\n",
       "      <td>0.000008</td>\n",
       "      <td>0.000147</td>\n",
       "    </tr>\n",
       "    <tr>\n",
       "      <th>98144</th>\n",
       "      <td>0.117883</td>\n",
       "      <td>0.000120</td>\n",
       "      <td>0.335295</td>\n",
       "      <td>0.028820</td>\n",
       "      <td>0.089286</td>\n",
       "      <td>0.0</td>\n",
       "      <td>2</td>\n",
       "      <td>0.5</td>\n",
       "      <td>0.002533</td>\n",
       "      <td>0.533782</td>\n",
       "      <td>...</td>\n",
       "      <td>0.277947</td>\n",
       "      <td>0.817833</td>\n",
       "      <td>0.590887</td>\n",
       "      <td>0.669867</td>\n",
       "      <td>0.000037</td>\n",
       "      <td>0.091178</td>\n",
       "      <td>0.131994</td>\n",
       "      <td>0.095179</td>\n",
       "      <td>0.000025</td>\n",
       "      <td>0.000266</td>\n",
       "    </tr>\n",
       "    <tr>\n",
       "      <th>43627</th>\n",
       "      <td>0.020949</td>\n",
       "      <td>0.000030</td>\n",
       "      <td>0.258334</td>\n",
       "      <td>0.017295</td>\n",
       "      <td>0.035714</td>\n",
       "      <td>0.0</td>\n",
       "      <td>2</td>\n",
       "      <td>0.5</td>\n",
       "      <td>0.757576</td>\n",
       "      <td>0.923661</td>\n",
       "      <td>...</td>\n",
       "      <td>0.700500</td>\n",
       "      <td>0.479316</td>\n",
       "      <td>0.379768</td>\n",
       "      <td>0.104574</td>\n",
       "      <td>0.000021</td>\n",
       "      <td>0.025476</td>\n",
       "      <td>0.050751</td>\n",
       "      <td>0.058359</td>\n",
       "      <td>0.000027</td>\n",
       "      <td>0.000075</td>\n",
       "    </tr>\n",
       "    <tr>\n",
       "      <th>64068</th>\n",
       "      <td>0.016065</td>\n",
       "      <td>0.000021</td>\n",
       "      <td>0.328759</td>\n",
       "      <td>0.008755</td>\n",
       "      <td>0.053571</td>\n",
       "      <td>0.0</td>\n",
       "      <td>2</td>\n",
       "      <td>0.5</td>\n",
       "      <td>0.516630</td>\n",
       "      <td>0.410597</td>\n",
       "      <td>...</td>\n",
       "      <td>0.952049</td>\n",
       "      <td>0.780097</td>\n",
       "      <td>0.554233</td>\n",
       "      <td>0.082905</td>\n",
       "      <td>0.000004</td>\n",
       "      <td>0.018293</td>\n",
       "      <td>0.047815</td>\n",
       "      <td>0.032044</td>\n",
       "      <td>0.000018</td>\n",
       "      <td>0.000044</td>\n",
       "    </tr>\n",
       "  </tbody>\n",
       "</table>\n",
       "<p>5 rows × 78 columns</p>\n",
       "</div>"
      ],
      "text/plain": [
       "             HT       MET    METPhi    METSig      Njet  Nlep  SR  \\\n",
       "68322  0.037396  0.000067  0.515023  0.022302  0.071429   0.0   2   \n",
       "37230  0.005320  0.000005  0.256754  0.001806  0.017857   0.0   2   \n",
       "98144  0.117883  0.000120  0.335295  0.028820  0.089286   0.0   2   \n",
       "43627  0.020949  0.000030  0.258334  0.017295  0.035714   0.0   2   \n",
       "64068  0.016065  0.000021  0.328759  0.008755  0.053571   0.0   2   \n",
       "\n",
       "       Wlep1_ambiguous  Wlep1_dphi  Wlep1_eta  ...     phi_1     phi_2  \\\n",
       "68322              0.0    0.252059   0.549023  ...  0.985345  0.794212   \n",
       "37230              0.5    0.024255   0.221941  ...  0.816731  0.308365   \n",
       "98144              0.5    0.002533   0.533782  ...  0.277947  0.817833   \n",
       "43627              0.5    0.757576   0.923661  ...  0.700500  0.479316   \n",
       "64068              0.5    0.516630   0.410597  ...  0.952049  0.780097   \n",
       "\n",
       "          phi_3     phi_4      pt_1      pt_2      pt_3      pt_4     pt_4l  \\\n",
       "68322  0.364434  0.461831  0.000022  0.030430  0.031303  0.005583  0.000029   \n",
       "37230  0.412169  0.937142  0.000052  0.138499  0.140681  0.097185  0.000008   \n",
       "98144  0.590887  0.669867  0.000037  0.091178  0.131994  0.095179  0.000025   \n",
       "43627  0.379768  0.104574  0.000021  0.025476  0.050751  0.058359  0.000027   \n",
       "64068  0.554233  0.082905  0.000004  0.018293  0.047815  0.032044  0.000018   \n",
       "\n",
       "       total_HT  \n",
       "68322  0.000089  \n",
       "37230  0.000147  \n",
       "98144  0.000266  \n",
       "43627  0.000075  \n",
       "64068  0.000044  \n",
       "\n",
       "[5 rows x 78 columns]"
      ]
     },
     "execution_count": 4,
     "metadata": {},
     "output_type": "execute_result"
    }
   ],
   "source": [
    "x_train.head()"
   ]
  },
  {
   "cell_type": "markdown",
   "id": "10ac3ee3",
   "metadata": {},
   "source": [
    "And that the datasets are the correct size:"
   ]
  },
  {
   "cell_type": "code",
   "execution_count": 5,
   "id": "3b6a90ec",
   "metadata": {},
   "outputs": [
    {
     "name": "stdout",
     "output_type": "stream",
     "text": [
      "Training proportion: 0.70\n",
      "Test proportion: 0.20\n",
      "Validation proportion: 0.10\n"
     ]
    }
   ],
   "source": [
    "total_size = len(x_train) + len(x_test) + len(x_val)\n",
    "\n",
    "print('Training proportion: %.2f'%(len(x_train) / total_size))\n",
    "print('Test proportion: %.2f'%(len(x_test) / total_size))\n",
    "print('Validation proportion: %.2f'%(len(x_val) / total_size))"
   ]
  },
  {
   "cell_type": "markdown",
   "id": "36b03b22",
   "metadata": {},
   "source": [
    "## Train neural network\n",
    "\n",
    "There is a utility written to easily train the neural networks that we have been using."
   ]
  },
  {
   "cell_type": "code",
   "execution_count": 6,
   "id": "406469b1",
   "metadata": {},
   "outputs": [
    {
     "name": "stderr",
     "output_type": "stream",
     "text": [
      "2022-06-01 20:03:34.347430: I tensorflow/stream_executor/platform/default/dso_loader.cc:49] Successfully opened dynamic library libcudart.so.10.1\n",
      "2022-06-01 20:03:35.968600: I tensorflow/compiler/jit/xla_cpu_device.cc:41] Not creating XLA devices, tf_xla_enable_xla_devices not set\n",
      "2022-06-01 20:03:35.973230: I tensorflow/stream_executor/platform/default/dso_loader.cc:49] Successfully opened dynamic library libcuda.so.1\n",
      "2022-06-01 20:03:36.168289: I tensorflow/core/common_runtime/gpu/gpu_device.cc:1720] Found device 0 with properties: \n",
      "pciBusID: 0000:65:00.0 name: Quadro RTX 4000 computeCapability: 7.5\n",
      "coreClock: 1.545GHz coreCount: 36 deviceMemorySize: 7.79GiB deviceMemoryBandwidth: 387.49GiB/s\n",
      "2022-06-01 20:03:36.168384: I tensorflow/stream_executor/platform/default/dso_loader.cc:49] Successfully opened dynamic library libcudart.so.10.1\n",
      "2022-06-01 20:03:36.175992: I tensorflow/stream_executor/platform/default/dso_loader.cc:49] Successfully opened dynamic library libcublas.so.10\n",
      "2022-06-01 20:03:36.176113: I tensorflow/stream_executor/platform/default/dso_loader.cc:49] Successfully opened dynamic library libcublasLt.so.10\n",
      "2022-06-01 20:03:36.180632: I tensorflow/stream_executor/platform/default/dso_loader.cc:49] Successfully opened dynamic library libcufft.so.10\n",
      "2022-06-01 20:03:36.182173: I tensorflow/stream_executor/platform/default/dso_loader.cc:49] Successfully opened dynamic library libcurand.so.10\n",
      "2022-06-01 20:03:36.187393: I tensorflow/stream_executor/platform/default/dso_loader.cc:49] Successfully opened dynamic library libcusolver.so.10\n",
      "2022-06-01 20:03:36.189689: I tensorflow/stream_executor/platform/default/dso_loader.cc:49] Successfully opened dynamic library libcusparse.so.10\n",
      "2022-06-01 20:03:36.199687: I tensorflow/stream_executor/platform/default/dso_loader.cc:49] Successfully opened dynamic library libcudnn.so.7\n",
      "2022-06-01 20:03:36.200833: I tensorflow/core/common_runtime/gpu/gpu_device.cc:1862] Adding visible gpu devices: 0\n"
     ]
    }
   ],
   "source": [
    "from wvz_ml_framework.nn_training import nn_training"
   ]
  },
  {
   "cell_type": "markdown",
   "id": "ea018bef",
   "metadata": {},
   "source": [
    "It trains a 3-layer model with a specified number of nodes per layer and dropout per layer, using the Adam optimizer. One simply needs to feed in train and validation data and hyperparameters. The model will be saved to a specified folder. We can also generate an ONNX version of the model by specifying `generate_onnx=True`.\n",
    "\n",
    "The train and validation data must be formatted in tuples of the form (training features, labels, weights)."
   ]
  },
  {
   "cell_type": "code",
   "execution_count": 7,
   "id": "8452ac17",
   "metadata": {
    "scrolled": false
   },
   "outputs": [
    {
     "name": "stderr",
     "output_type": "stream",
     "text": [
      "2022-06-01 20:04:27.742470: I tensorflow/core/platform/cpu_feature_guard.cc:142] This TensorFlow binary is optimized with oneAPI Deep Neural Network Library (oneDNN) to use the following CPU instructions in performance-critical operations:  SSE4.1 SSE4.2 AVX AVX2 AVX512F FMA\n",
      "To enable them in other operations, rebuild TensorFlow with the appropriate compiler flags.\n",
      "2022-06-01 20:04:27.745091: I tensorflow/core/common_runtime/gpu/gpu_device.cc:1720] Found device 0 with properties: \n",
      "pciBusID: 0000:65:00.0 name: Quadro RTX 4000 computeCapability: 7.5\n",
      "coreClock: 1.545GHz coreCount: 36 deviceMemorySize: 7.79GiB deviceMemoryBandwidth: 387.49GiB/s\n",
      "2022-06-01 20:04:27.745191: I tensorflow/stream_executor/platform/default/dso_loader.cc:49] Successfully opened dynamic library libcudart.so.10.1\n",
      "2022-06-01 20:04:27.745226: I tensorflow/stream_executor/platform/default/dso_loader.cc:49] Successfully opened dynamic library libcublas.so.10\n",
      "2022-06-01 20:04:27.745248: I tensorflow/stream_executor/platform/default/dso_loader.cc:49] Successfully opened dynamic library libcublasLt.so.10\n",
      "2022-06-01 20:04:27.745270: I tensorflow/stream_executor/platform/default/dso_loader.cc:49] Successfully opened dynamic library libcufft.so.10\n",
      "2022-06-01 20:04:27.745291: I tensorflow/stream_executor/platform/default/dso_loader.cc:49] Successfully opened dynamic library libcurand.so.10\n",
      "2022-06-01 20:04:27.745312: I tensorflow/stream_executor/platform/default/dso_loader.cc:49] Successfully opened dynamic library libcusolver.so.10\n",
      "2022-06-01 20:04:27.745333: I tensorflow/stream_executor/platform/default/dso_loader.cc:49] Successfully opened dynamic library libcusparse.so.10\n",
      "2022-06-01 20:04:27.745354: I tensorflow/stream_executor/platform/default/dso_loader.cc:49] Successfully opened dynamic library libcudnn.so.7\n",
      "2022-06-01 20:04:27.746021: I tensorflow/core/common_runtime/gpu/gpu_device.cc:1862] Adding visible gpu devices: 0\n",
      "2022-06-01 20:04:27.746086: I tensorflow/stream_executor/platform/default/dso_loader.cc:49] Successfully opened dynamic library libcudart.so.10.1\n",
      "2022-06-01 20:04:28.178281: I tensorflow/core/common_runtime/gpu/gpu_device.cc:1261] Device interconnect StreamExecutor with strength 1 edge matrix:\n",
      "2022-06-01 20:04:28.178310: I tensorflow/core/common_runtime/gpu/gpu_device.cc:1267]      0 \n",
      "2022-06-01 20:04:28.178318: I tensorflow/core/common_runtime/gpu/gpu_device.cc:1280] 0:   N \n",
      "2022-06-01 20:04:28.178956: I tensorflow/core/common_runtime/gpu/gpu_device.cc:1406] Created TensorFlow device (/job:localhost/replica:0/task:0/device:GPU:0 with 7072 MB memory) -> physical GPU (device: 0, name: Quadro RTX 4000, pci bus id: 0000:65:00.0, compute capability: 7.5)\n",
      "2022-06-01 20:04:28.179193: I tensorflow/compiler/jit/xla_gpu_device.cc:99] Not creating XLA devices, tf_xla_enable_xla_devices not set\n",
      "2022-06-01 20:04:30.758704: I tensorflow/compiler/mlir/mlir_graph_optimization_pass.cc:116] None of the MLIR optimization passes are enabled (registered 2)\n",
      "2022-06-01 20:04:30.759153: I tensorflow/core/platform/profile_utils/cpu_utils.cc:112] CPU Frequency: 3500000000 Hz\n"
     ]
    },
    {
     "name": "stdout",
     "output_type": "stream",
     "text": [
      "Epoch 1/15\n",
      " 1/76 [..............................] - ETA: 42s - loss: 0.0011 - accuracy: 0.4590"
     ]
    },
    {
     "name": "stderr",
     "output_type": "stream",
     "text": [
      "2022-06-01 20:04:31.162758: I tensorflow/stream_executor/platform/default/dso_loader.cc:49] Successfully opened dynamic library libcublas.so.10\n"
     ]
    },
    {
     "name": "stdout",
     "output_type": "stream",
     "text": [
      "76/76 [==============================] - 1s 12ms/step - loss: 0.0012 - accuracy: 0.5200 - val_loss: 0.0012 - val_accuracy: 0.6542\n",
      "Epoch 2/15\n",
      "76/76 [==============================] - 0s 4ms/step - loss: 0.0012 - accuracy: 0.6466 - val_loss: 0.0012 - val_accuracy: 0.6542\n",
      "Epoch 3/15\n",
      "76/76 [==============================] - 0s 4ms/step - loss: 0.0011 - accuracy: 0.6513 - val_loss: 0.0012 - val_accuracy: 0.6540\n",
      "Epoch 4/15\n",
      "76/76 [==============================] - 0s 4ms/step - loss: 0.0012 - accuracy: 0.6525 - val_loss: 0.0012 - val_accuracy: 0.6544\n",
      "Epoch 5/15\n",
      "76/76 [==============================] - 0s 4ms/step - loss: 0.0011 - accuracy: 0.6492 - val_loss: 0.0012 - val_accuracy: 0.6542\n",
      "Epoch 6/15\n",
      "76/76 [==============================] - 0s 4ms/step - loss: 0.0012 - accuracy: 0.6502 - val_loss: 0.0012 - val_accuracy: 0.6545\n",
      "Epoch 7/15\n",
      "76/76 [==============================] - 0s 4ms/step - loss: 0.0012 - accuracy: 0.6436 - val_loss: 0.0011 - val_accuracy: 0.6538\n",
      "Epoch 8/15\n",
      "76/76 [==============================] - 0s 4ms/step - loss: 0.0012 - accuracy: 0.6481 - val_loss: 0.0011 - val_accuracy: 0.6547\n",
      "Epoch 9/15\n",
      "76/76 [==============================] - 0s 4ms/step - loss: 0.0012 - accuracy: 0.6451 - val_loss: 0.0011 - val_accuracy: 0.6553\n",
      "Epoch 10/15\n",
      "76/76 [==============================] - 0s 4ms/step - loss: 0.0011 - accuracy: 0.6437 - val_loss: 0.0011 - val_accuracy: 0.6554\n",
      "Epoch 11/15\n",
      "76/76 [==============================] - 0s 4ms/step - loss: 0.0011 - accuracy: 0.6426 - val_loss: 0.0011 - val_accuracy: 0.6538\n",
      "Epoch 12/15\n",
      "76/76 [==============================] - 0s 4ms/step - loss: 0.0012 - accuracy: 0.6415 - val_loss: 0.0011 - val_accuracy: 0.6567\n",
      "Epoch 13/15\n",
      "76/76 [==============================] - 0s 4ms/step - loss: 0.0011 - accuracy: 0.6410 - val_loss: 0.0011 - val_accuracy: 0.6578\n",
      "Epoch 14/15\n",
      "76/76 [==============================] - 0s 4ms/step - loss: 0.0011 - accuracy: 0.6483 - val_loss: 0.0012 - val_accuracy: 0.6583\n",
      "Epoch 15/15\n",
      "76/76 [==============================] - 0s 4ms/step - loss: 0.0011 - accuracy: 0.6404 - val_loss: 0.0011 - val_accuracy: 0.6594\n"
     ]
    },
    {
     "name": "stderr",
     "output_type": "stream",
     "text": [
      "2022-06-01 20:04:37.052879: W tensorflow/python/util/util.cc:348] Sets are not currently considered sequences, but this may change in the future, so consider avoiding using them.\n"
     ]
    },
    {
     "name": "stdout",
     "output_type": "stream",
     "text": [
      "INFO:tensorflow:Assets written to: models/example/assets\n",
      "WARNING:tensorflow:From /home/anaconda3/envs/wvz_machine_learning/lib/python3.9/site-packages/tf2onnx/tf_loader.py:706: extract_sub_graph (from tensorflow.python.framework.graph_util_impl) is deprecated and will be removed in a future version.\n",
      "Instructions for updating:\n",
      "Use `tf.compat.v1.graph_util.extract_sub_graph`\n"
     ]
    },
    {
     "name": "stderr",
     "output_type": "stream",
     "text": [
      "2022-06-01 20:04:37.441721: I tensorflow/core/grappler/devices.cc:69] Number of eligible GPUs (core count >= 8, compute capability >= 0.0): 1\n",
      "2022-06-01 20:04:37.442360: I tensorflow/core/grappler/clusters/single_machine.cc:356] Starting new session\n",
      "2022-06-01 20:04:37.443659: I tensorflow/core/common_runtime/gpu/gpu_device.cc:1720] Found device 0 with properties: \n",
      "pciBusID: 0000:65:00.0 name: Quadro RTX 4000 computeCapability: 7.5\n",
      "coreClock: 1.545GHz coreCount: 36 deviceMemorySize: 7.79GiB deviceMemoryBandwidth: 387.49GiB/s\n",
      "2022-06-01 20:04:37.443756: I tensorflow/stream_executor/platform/default/dso_loader.cc:49] Successfully opened dynamic library libcudart.so.10.1\n",
      "2022-06-01 20:04:37.443799: I tensorflow/stream_executor/platform/default/dso_loader.cc:49] Successfully opened dynamic library libcublas.so.10\n",
      "2022-06-01 20:04:37.443832: I tensorflow/stream_executor/platform/default/dso_loader.cc:49] Successfully opened dynamic library libcublasLt.so.10\n",
      "2022-06-01 20:04:37.443863: I tensorflow/stream_executor/platform/default/dso_loader.cc:49] Successfully opened dynamic library libcufft.so.10\n",
      "2022-06-01 20:04:37.443894: I tensorflow/stream_executor/platform/default/dso_loader.cc:49] Successfully opened dynamic library libcurand.so.10\n",
      "2022-06-01 20:04:37.443926: I tensorflow/stream_executor/platform/default/dso_loader.cc:49] Successfully opened dynamic library libcusolver.so.10\n",
      "2022-06-01 20:04:37.443956: I tensorflow/stream_executor/platform/default/dso_loader.cc:49] Successfully opened dynamic library libcusparse.so.10\n",
      "2022-06-01 20:04:37.443987: I tensorflow/stream_executor/platform/default/dso_loader.cc:49] Successfully opened dynamic library libcudnn.so.7\n",
      "2022-06-01 20:04:37.444767: I tensorflow/core/common_runtime/gpu/gpu_device.cc:1862] Adding visible gpu devices: 0\n",
      "2022-06-01 20:04:37.444817: I tensorflow/core/common_runtime/gpu/gpu_device.cc:1261] Device interconnect StreamExecutor with strength 1 edge matrix:\n",
      "2022-06-01 20:04:37.444832: I tensorflow/core/common_runtime/gpu/gpu_device.cc:1267]      0 \n",
      "2022-06-01 20:04:37.444845: I tensorflow/core/common_runtime/gpu/gpu_device.cc:1280] 0:   N \n",
      "2022-06-01 20:04:37.445666: I tensorflow/core/common_runtime/gpu/gpu_device.cc:1406] Created TensorFlow device (/job:localhost/replica:0/task:0/device:GPU:0 with 7072 MB memory) -> physical GPU (device: 0, name: Quadro RTX 4000, pci bus id: 0000:65:00.0, compute capability: 7.5)\n",
      "2022-06-01 20:04:37.445702: I tensorflow/compiler/jit/xla_gpu_device.cc:99] Not creating XLA devices, tf_xla_enable_xla_devices not set\n",
      "2022-06-01 20:04:37.452269: I tensorflow/core/grappler/optimizers/meta_optimizer.cc:928] Optimization results for grappler item: graph_to_optimize\n",
      "  function_optimizer: function_optimizer did nothing. time = 0.004ms.\n",
      "  function_optimizer: function_optimizer did nothing. time = 0.001ms.\n",
      "\n",
      "2022-06-01 20:04:37.497137: I tensorflow/core/common_runtime/gpu/gpu_device.cc:1720] Found device 0 with properties: \n",
      "pciBusID: 0000:65:00.0 name: Quadro RTX 4000 computeCapability: 7.5\n",
      "coreClock: 1.545GHz coreCount: 36 deviceMemorySize: 7.79GiB deviceMemoryBandwidth: 387.49GiB/s\n",
      "2022-06-01 20:04:37.497220: I tensorflow/stream_executor/platform/default/dso_loader.cc:49] Successfully opened dynamic library libcudart.so.10.1\n",
      "2022-06-01 20:04:37.497262: I tensorflow/stream_executor/platform/default/dso_loader.cc:49] Successfully opened dynamic library libcublas.so.10\n",
      "2022-06-01 20:04:37.497294: I tensorflow/stream_executor/platform/default/dso_loader.cc:49] Successfully opened dynamic library libcublasLt.so.10\n",
      "2022-06-01 20:04:37.497325: I tensorflow/stream_executor/platform/default/dso_loader.cc:49] Successfully opened dynamic library libcufft.so.10\n",
      "2022-06-01 20:04:37.497356: I tensorflow/stream_executor/platform/default/dso_loader.cc:49] Successfully opened dynamic library libcurand.so.10\n",
      "2022-06-01 20:04:37.497386: I tensorflow/stream_executor/platform/default/dso_loader.cc:49] Successfully opened dynamic library libcusolver.so.10\n",
      "2022-06-01 20:04:37.497416: I tensorflow/stream_executor/platform/default/dso_loader.cc:49] Successfully opened dynamic library libcusparse.so.10\n",
      "2022-06-01 20:04:37.497447: I tensorflow/stream_executor/platform/default/dso_loader.cc:49] Successfully opened dynamic library libcudnn.so.7\n",
      "2022-06-01 20:04:37.498247: I tensorflow/core/common_runtime/gpu/gpu_device.cc:1862] Adding visible gpu devices: 0\n",
      "2022-06-01 20:04:37.498297: I tensorflow/core/common_runtime/gpu/gpu_device.cc:1261] Device interconnect StreamExecutor with strength 1 edge matrix:\n",
      "2022-06-01 20:04:37.498312: I tensorflow/core/common_runtime/gpu/gpu_device.cc:1267]      0 \n",
      "2022-06-01 20:04:37.498326: I tensorflow/core/common_runtime/gpu/gpu_device.cc:1280] 0:   N \n",
      "2022-06-01 20:04:37.499167: I tensorflow/core/common_runtime/gpu/gpu_device.cc:1406] Created TensorFlow device (/job:localhost/replica:0/task:0/device:GPU:0 with 7072 MB memory) -> physical GPU (device: 0, name: Quadro RTX 4000, pci bus id: 0000:65:00.0, compute capability: 7.5)\n",
      "2022-06-01 20:04:37.499207: I tensorflow/compiler/jit/xla_gpu_device.cc:99] Not creating XLA devices, tf_xla_enable_xla_devices not set\n",
      "2022-06-01 20:04:37.511327: I tensorflow/core/grappler/devices.cc:69] Number of eligible GPUs (core count >= 8, compute capability >= 0.0): 1\n",
      "2022-06-01 20:04:37.511425: I tensorflow/core/grappler/clusters/single_machine.cc:356] Starting new session\n",
      "2022-06-01 20:04:37.512138: I tensorflow/core/common_runtime/gpu/gpu_device.cc:1720] Found device 0 with properties: \n",
      "pciBusID: 0000:65:00.0 name: Quadro RTX 4000 computeCapability: 7.5\n",
      "coreClock: 1.545GHz coreCount: 36 deviceMemorySize: 7.79GiB deviceMemoryBandwidth: 387.49GiB/s\n",
      "2022-06-01 20:04:37.512186: I tensorflow/stream_executor/platform/default/dso_loader.cc:49] Successfully opened dynamic library libcudart.so.10.1\n",
      "2022-06-01 20:04:37.512212: I tensorflow/stream_executor/platform/default/dso_loader.cc:49] Successfully opened dynamic library libcublas.so.10\n",
      "2022-06-01 20:04:37.512234: I tensorflow/stream_executor/platform/default/dso_loader.cc:49] Successfully opened dynamic library libcublasLt.so.10\n",
      "2022-06-01 20:04:37.512254: I tensorflow/stream_executor/platform/default/dso_loader.cc:49] Successfully opened dynamic library libcufft.so.10\n",
      "2022-06-01 20:04:37.512274: I tensorflow/stream_executor/platform/default/dso_loader.cc:49] Successfully opened dynamic library libcurand.so.10\n",
      "2022-06-01 20:04:37.512294: I tensorflow/stream_executor/platform/default/dso_loader.cc:49] Successfully opened dynamic library libcusolver.so.10\n",
      "2022-06-01 20:04:37.512314: I tensorflow/stream_executor/platform/default/dso_loader.cc:49] Successfully opened dynamic library libcusparse.so.10\n",
      "2022-06-01 20:04:37.512334: I tensorflow/stream_executor/platform/default/dso_loader.cc:49] Successfully opened dynamic library libcudnn.so.7\n",
      "2022-06-01 20:04:37.512871: I tensorflow/core/common_runtime/gpu/gpu_device.cc:1862] Adding visible gpu devices: 0\n",
      "2022-06-01 20:04:37.512902: I tensorflow/core/common_runtime/gpu/gpu_device.cc:1261] Device interconnect StreamExecutor with strength 1 edge matrix:\n",
      "2022-06-01 20:04:37.512912: I tensorflow/core/common_runtime/gpu/gpu_device.cc:1267]      0 \n",
      "2022-06-01 20:04:37.512921: I tensorflow/core/common_runtime/gpu/gpu_device.cc:1280] 0:   N \n",
      "2022-06-01 20:04:37.513492: I tensorflow/core/common_runtime/gpu/gpu_device.cc:1406] Created TensorFlow device (/job:localhost/replica:0/task:0/device:GPU:0 with 7072 MB memory) -> physical GPU (device: 0, name: Quadro RTX 4000, pci bus id: 0000:65:00.0, compute capability: 7.5)\n",
      "2022-06-01 20:04:37.513517: I tensorflow/compiler/jit/xla_gpu_device.cc:99] Not creating XLA devices, tf_xla_enable_xla_devices not set\n",
      "2022-06-01 20:04:37.521517: I tensorflow/core/grappler/optimizers/meta_optimizer.cc:928] Optimization results for grappler item: graph_to_optimize\n",
      "  constant_folding: Graph size after: 25 nodes (-8), 32 edges (-8), time = 3.469ms.\n",
      "  function_optimizer: function_optimizer did nothing. time = 0.05ms.\n",
      "  constant_folding: Graph size after: 25 nodes (0), 32 edges (0), time = 1.296ms.\n",
      "  function_optimizer: function_optimizer did nothing. time = 0.037ms.\n",
      "\n"
     ]
    }
   ],
   "source": [
    "nn_training.make_and_train_model(\n",
    "    training_data=(x_train, y_train, w_train),\n",
    "    validation_data=(x_val, y_val, w_val),\n",
    "    batch_size=512,\n",
    "    num_nodes=64,\n",
    "    dropout=0.1,\n",
    "    learn_rate=1e-4,\n",
    "    epochs=15,\n",
    "    patience=5,\n",
    "    model_dir='models/',\n",
    "    model_name='example',\n",
    "    generate_onnx=True\n",
    ")"
   ]
  },
  {
   "cell_type": "code",
   "execution_count": null,
   "id": "cf762613",
   "metadata": {},
   "outputs": [],
   "source": []
  }
 ],
 "metadata": {
  "kernelspec": {
   "display_name": "wvz_machine_learning",
   "language": "python",
   "name": "wvz_machine_learning"
  },
  "language_info": {
   "codemirror_mode": {
    "name": "ipython",
    "version": 3
   },
   "file_extension": ".py",
   "mimetype": "text/x-python",
   "name": "python",
   "nbconvert_exporter": "python",
   "pygments_lexer": "ipython3",
   "version": "3.9.7"
  }
 },
 "nbformat": 4,
 "nbformat_minor": 5
}
