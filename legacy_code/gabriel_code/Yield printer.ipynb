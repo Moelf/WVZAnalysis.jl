{
 "cells": [
  {
   "cell_type": "code",
   "execution_count": 1,
   "metadata": {},
   "outputs": [],
   "source": [
    "import pyarrow as pa\n",
    "import pandas as pd\n",
    "import matplotlib.pyplot as plt\n",
    "import numpy as np\n",
    "import csv\n",
    "%matplotlib inline"
   ]
  },
  {
   "cell_type": "code",
   "execution_count": 2,
   "metadata": {},
   "outputs": [],
   "source": [
    "# identifier = '20220216_no_qual_no_iso'\n",
    "# # identifier = 'test' # i removed the charge sum requirement\n",
    "\n",
    "# identifier = '20220216_no_qual_no_iso'\n",
    "\n",
    "identifier = '20220301_ELReLMIs54_MUReLMIs31_btag77'\n",
    "# identifier = '20220301_ELReLMIs54_MUReLMIs31_btag77_nochargesum'\n",
    "\n",
    "\n",
    "\n",
    "original_sig = pd.read_feather('/home/grabanal/minitree/{}_VVZ.arrow'.format(identifier))\n",
    "original_bkg = pd.read_feather('/home/grabanal/minitree/{}_FULLBG.arrow'.format(identifier))\n",
    "\n",
    "original_ZZ = pd.read_feather('/home/grabanal/minitree/{}_ZZ.arrow'.format(identifier))\n",
    "original_WZ = pd.read_feather('/home/grabanal/minitree/{}_WZ.arrow'.format(identifier))\n",
    "original_Zjets = pd.read_feather('/home/grabanal/minitree/{}_Zjets.arrow'.format(identifier))\n",
    "original_Zgamma = pd.read_feather('/home/grabanal/minitree/{}_Zgamma.arrow'.format(identifier))\n",
    "original_ttZ = pd.read_feather('/home/grabanal/minitree/{}_ttZ.arrow'.format(identifier))\n",
    "original_tZ = pd.read_feather('/home/grabanal/minitree/{}_tZ.arrow'.format(identifier))\n",
    "original_tWZ = pd.read_feather('/home/grabanal/minitree/{}_tWZ.arrow'.format(identifier))\n",
    "original_others = pd.read_feather('/home/grabanal/minitree/{}_others.arrow'.format(identifier))\n",
    "\n",
    "original_oldZjets = pd.read_feather('/home/grabanal/minitree/{}_oldZjets.arrow'.format(identifier))"
   ]
  },
  {
   "cell_type": "code",
   "execution_count": 3,
   "metadata": {},
   "outputs": [],
   "source": [
    "sig = pd.read_feather('/home/grabanal/minitree/{}_VVZ.arrow'.format(identifier))\n",
    "bkg = pd.read_feather('/home/grabanal/minitree/{}_FULLBG.arrow'.format(identifier))\n",
    "\n",
    "ZZ = pd.read_feather('/home/grabanal/minitree/{}_ZZ.arrow'.format(identifier))\n",
    "WZ = pd.read_feather('/home/grabanal/minitree/{}_WZ.arrow'.format(identifier))\n",
    "Zjets = pd.read_feather('/home/grabanal/minitree/{}_Zjets.arrow'.format(identifier))\n",
    "Zgamma = pd.read_feather('/home/grabanal/minitree/{}_Zgamma.arrow'.format(identifier))\n",
    "ttZ = pd.read_feather('/home/grabanal/minitree/{}_ttZ.arrow'.format(identifier))\n",
    "tZ = pd.read_feather('/home/grabanal/minitree/{}_tZ.arrow'.format(identifier))\n",
    "tWZ = pd.read_feather('/home/grabanal/minitree/{}_tWZ.arrow'.format(identifier))\n",
    "others = pd.read_feather('/home/grabanal/minitree/{}_others.arrow'.format(identifier))\n",
    "\n",
    "oldZjets = pd.read_feather('/home/grabanal/minitree/{}_oldZjets.arrow'.format(identifier))"
   ]
  },
  {
   "cell_type": "code",
   "execution_count": 4,
   "metadata": {},
   "outputs": [],
   "source": [
    "def yield_and_error(df):\n",
    "    '''\n",
    "    input: \n",
    "    df  : dataframe\n",
    "    \n",
    "    output:\n",
    "    yield (significance, error)\n",
    "    '''\n",
    "    Y  = -1\n",
    "    dY = -1\n",
    "    Y  = sum(df.wgt)\n",
    "    dY = np.sqrt(sum(df.wgt**2))\n",
    "    # return tuple\n",
    "    return Y, dY\n",
    "\n",
    "def significance_and_error(S, dS, B, dB):\n",
    "    '''\n",
    "    input: \n",
    "    S  : signal\n",
    "    dS : signal error\n",
    "    B  : background\n",
    "    dB : background error\n",
    "    \n",
    "    output:\n",
    "    tuple (significance, error)\n",
    "    '''\n",
    "    # FAKE SIGNIFICANCE\n",
    "#     significance = S/np.sqrt(B)\n",
    "#     error        = np.sqrt( 1/B*(dS**2) + (S**2)/(4*B**3)*(dB**2) )\n",
    "#     return significance, error\n",
    "    \n",
    "    # REAL SIGNIFICANCE\n",
    "    # if a quantity is negative, return 0\n",
    "    if (S<=0 or B<=0):\n",
    "        return 0, 0\n",
    "    # calculate the significance and its error\n",
    "    significance = np.sqrt( 2*((S + B)*np.log(1 + S/B) - S) )\n",
    "    dSignifdS    = np.log(1 + S/B)/significance\n",
    "    dSignifdB    = ( np.log(1 + S/B) - S/B )/significance\n",
    "    error        = np.sqrt( (dSignifdS*dS)**2 + (dSignifdB*dB)**2 )\n",
    "    # return tuple\n",
    "    return significance, error\n",
    "\n",
    "def add_in_quadrature_3( XdX, YdY, ZdZ ):\n",
    "    '''\n",
    "    input: \n",
    "    XdX : tuple (significance, error)\n",
    "    YdY : tuple (significance, error)\n",
    "    ZdZ : tuple (significance, error)\n",
    "    \n",
    "    output:\n",
    "    tuple (significance, error) added in quadrature\n",
    "    '''\n",
    "    # unpack the significances\n",
    "    x, dx = XdX\n",
    "    y, dy = YdY\n",
    "    z, dz = ZdZ\n",
    "    # calculate the addition in quadrature and its error\n",
    "    quadrature_sum   = np.sqrt(x**2 + y**2 + z**2)\n",
    "    A                = (x**2)*(dx**2) + (y**2)*(dy**2) + (z**2)*(dz**2)\n",
    "    B                = (x**2) + (y**2) + (z**2)\n",
    "    if (quadrature_sum==0):\n",
    "        return 0, 0\n",
    "    quadrature_error = np.sqrt( A / B )\n",
    "    # return tuple\n",
    "    return quadrature_sum, quadrature_error\n",
    "\n",
    "def total_significance_and_error( df_sig, df_bg ):\n",
    "    \n",
    "    m_list = []\n",
    "    for sr in [0,1,2]:\n",
    "        S, dS = yield_and_error(df_sig[df_sig.SR == sr])\n",
    "        B, dB = yield_and_error( df_bg[ df_bg.SR == sr])\n",
    "        m_list.append(significance_and_error(S, dS, B, dB))\n",
    "    significance, error = add_in_quadrature_3(m_list[0], m_list[1], m_list[2])\n",
    "    return significance, error\n",
    "\n",
    "def print_total_significance_and_error( df_sig, df_bg ):\n",
    "    \n",
    "    m_list = []\n",
    "    S, dS, B, dB = 0, 0, 0, 0\n",
    "    for sr in [0,1,2]:\n",
    "        if (sr == 0):\n",
    "            print(\"Region 4ℓ-SF-inZ:\")\n",
    "        if (sr == 1):\n",
    "            print(\"Region 4ℓ-SF-noZ:\")\n",
    "        if (sr == 2):\n",
    "            print(\"Region 4ℓ-DF:\")\n",
    "        S, dS = yield_and_error(df_sig[df_sig.SR == sr])\n",
    "        print(\"--- S = {:.2f} ± {:.2f} \".format(S, dS))\n",
    "        B, dB = yield_and_error( df_bg[ df_bg.SR == sr])\n",
    "        print(\"--- B = {:.2f} ± {:.2f} \".format(B, dB))\n",
    "        significance, error = significance_and_error(S, dS, B, dB)\n",
    "        print(\"--- significance = {:.2f} ± {:.2f} \".format(significance, error))\n",
    "        m_list.append((significance, error))\n",
    "        print()\n",
    "        \n",
    "    significance, error = add_in_quadrature_3(m_list[0], m_list[1], m_list[2])\n",
    "    print(\"Total significance in quadrature = {:.2f} ± {:.2f} \".format(significance, error))"
   ]
  },
  {
   "cell_type": "code",
   "execution_count": 5,
   "metadata": {
    "scrolled": true
   },
   "outputs": [
    {
     "name": "stdout",
     "output_type": "stream",
     "text": [
      "Region 4ℓ-SF-inZ:\n",
      "--- S = 10.55 ± 0.07 \n",
      "--- B = 2129.70 ± 6.30 \n",
      "--- significance = 0.23 ± 0.00 \n",
      "\n",
      "Region 4ℓ-SF-noZ:\n",
      "--- S = 10.79 ± 0.12 \n",
      "--- B = 630.77 ± 3.74 \n",
      "--- significance = 0.43 ± 0.00 \n",
      "\n",
      "Region 4ℓ-DF:\n",
      "--- S = 12.61 ± 0.15 \n",
      "--- B = 65.23 ± 4.12 \n",
      "--- significance = 1.52 ± 0.05 \n",
      "\n",
      "Total significance in quadrature = 1.59 ± 0.05 \n"
     ]
    }
   ],
   "source": [
    "print_total_significance_and_error(original_sig, original_bkg)"
   ]
  },
  {
   "cell_type": "code",
   "execution_count": 6,
   "metadata": {},
   "outputs": [
    {
     "data": {
      "text/plain": [
       "-2"
      ]
     },
     "execution_count": 6,
     "metadata": {},
     "output_type": "execute_result"
    }
   ],
   "source": [
    "~(3 < 4 < 5)"
   ]
  },
  {
   "cell_type": "code",
   "execution_count": 7,
   "metadata": {},
   "outputs": [
    {
     "data": {
      "text/plain": [
       "True"
      ]
     },
     "execution_count": 7,
     "metadata": {},
     "output_type": "execute_result"
    }
   ],
   "source": [
    "x = 4\n",
    "3 < x < 5"
   ]
  },
  {
   "cell_type": "code",
   "execution_count": 8,
   "metadata": {},
   "outputs": [
    {
     "data": {
      "text/plain": [
       "-2"
      ]
     },
     "execution_count": 8,
     "metadata": {},
     "output_type": "execute_result"
    }
   ],
   "source": [
    "~(3 < x < 10)"
   ]
  },
  {
   "cell_type": "code",
   "execution_count": 9,
   "metadata": {},
   "outputs": [
    {
     "data": {
      "text/plain": [
       "0         0.271183\n",
       "1         0.872318\n",
       "2         0.695911\n",
       "3         2.441219\n",
       "4         0.492802\n",
       "            ...   \n",
       "122609    1.514092\n",
       "122610    2.125970\n",
       "122611    0.326498\n",
       "122612    1.776091\n",
       "122613    1.255982\n",
       "Name: Zlep1_eta, Length: 122614, dtype: float32"
      ]
     },
     "execution_count": 9,
     "metadata": {},
     "output_type": "execute_result"
    }
   ],
   "source": [
    "abs(sig.Zlep1_eta)"
   ]
  },
  {
   "cell_type": "code",
   "execution_count": 12,
   "metadata": {},
   "outputs": [],
   "source": [
    "def df_filter(df):\n",
    "    \n",
    "    temp = df.copy()\n",
    "    \n",
    "    temp = temp[(abs(temp.Zlep1_pid) != 11) | ( (abs(temp.Zlep1_eta) < 2.47) & ((abs(temp.Zlep1_eta) < 1.37) | (abs(temp.Zlep1_eta) > 1.52)) )].copy()\n",
    "    temp = temp[(abs(temp.Zlep1_pid) != 13) |   (abs(temp.Zlep1_eta) < 2.5)].copy()\n",
    "    \n",
    "    temp = temp[(abs(temp.Zlep2_pid) != 11) | ( (abs(temp.Zlep2_eta) < 2.47) & ((abs(temp.Zlep2_eta) < 1.37) | (abs(temp.Zlep2_eta) > 1.52)) )].copy()\n",
    "    temp = temp[(abs(temp.Zlep2_pid) != 13) |   (abs(temp.Zlep2_eta) < 2.5)].copy()\n",
    "    \n",
    "    temp = temp[(abs(temp.Wlep1_pid) != 11) | ( (abs(temp.Wlep1_eta) < 2.47) & ((abs(temp.Wlep1_eta) < 1.37) | (abs(temp.Wlep1_eta) > 1.52)) )].copy()\n",
    "    temp = temp[(abs(temp.Wlep1_pid) != 13) |   (abs(temp.Wlep1_eta) < 2.5)].copy()\n",
    "    \n",
    "    temp = temp[(abs(temp.Wlep2_pid) != 11) | ( (abs(temp.Wlep2_eta) < 2.47) & ((abs(temp.Wlep2_eta) < 1.37) | (abs(temp.Wlep2_eta) > 1.52)) )].copy()\n",
    "    temp = temp[(abs(temp.Wlep2_pid) != 13) |   (abs(temp.Wlep2_eta) < 2.5)].copy()\n",
    "    \n",
    "    return temp"
   ]
  },
  {
   "cell_type": "code",
   "execution_count": 36,
   "metadata": {},
   "outputs": [
    {
     "name": "stdout",
     "output_type": "stream",
     "text": [
      "0.004930271869277364\n",
      "0.01712111604311985\n",
      "0.19325153374233128\n"
     ]
    }
   ],
   "source": [
    "print(10.5/2129.7)\n",
    "print(10.8/630.8)\n",
    "print(12.6/65.2)"
   ]
  },
  {
   "cell_type": "code",
   "execution_count": 37,
   "metadata": {},
   "outputs": [
    {
     "name": "stdout",
     "output_type": "stream",
     "text": [
      "0.004988072001734981\n",
      "0.01696461145567311\n",
      "0.19022687609075045\n"
     ]
    }
   ],
   "source": [
    "print(9.2/1844.4)\n",
    "print(9.3/548.2)\n",
    "print(10.9/57.3)"
   ]
  },
  {
   "cell_type": "code",
   "execution_count": 13,
   "metadata": {},
   "outputs": [
    {
     "name": "stdout",
     "output_type": "stream",
     "text": [
      "In signal region:  0\n",
      "VVZ 9.2 ± 0.1 \n",
      "ZZ 1841.3 ± 6.0 \n",
      "WZ 0.4 ± 0.1 \n",
      "4\n",
      "Zjets 0.6 ± 0.5 \n",
      "Zgamma 0.0 ± 0.0 \n",
      "ttZ 1.4 ± 0.1 \n",
      "tZ 0.0 ± 0.0 \n",
      "tWZ 0.7 ± 0.1 \n",
      "others 0.1 ± 0.1 \n",
      "full BG 1844.4 ± 6.0 \n",
      "----------------------\n",
      "significance 0.21 ± 0.00 \n",
      "\n",
      "In signal region:  1\n",
      "VVZ 9.3 ± 0.1 \n",
      "ZZ 533.7 ± 2.7 \n",
      "WZ 2.2 ± 0.3 \n",
      "10\n",
      "Zjets 3.0 ± 2.4 \n",
      "Zgamma 0.1 ± 0.1 \n",
      "ttZ 5.6 ± 0.2 \n",
      "tZ 0.1 ± 0.1 \n",
      "tWZ 2.5 ± 0.2 \n",
      "others 1.0 ± 0.2 \n",
      "full BG 548.2 ± 3.6 \n",
      "----------------------\n",
      "significance 0.40 ± 0.00 \n",
      "\n",
      "In signal region:  2\n",
      "VVZ 10.9 ± 0.1 \n",
      "ZZ 32.0 ± 0.6 \n",
      "WZ 2.5 ± 0.3 \n",
      "34\n",
      "Zjets 12.3 ± 4.0 \n",
      "Zgamma 0.3 ± 0.3 \n",
      "ttZ 6.7 ± 0.2 \n",
      "tZ 0.1 ± 0.0 \n",
      "tWZ 2.7 ± 0.2 \n",
      "others 0.6 ± 0.1 \n",
      "full BG 57.3 ± 4.1 \n",
      "----------------------\n",
      "significance 1.40 ± 0.05 \n",
      "\n",
      "----------------------\n",
      "----------------------\n",
      "overall 1.47 ± 0.05 \n"
     ]
    }
   ],
   "source": [
    "backgrounds = [ZZ, WZ, Zjets, Zgamma, ttZ, tZ, tWZ, others]\n",
    "names = ['ZZ', 'WZ', 'Zjets', 'Zgamma', 'ttZ', 'tZ', 'tWZ', 'others']\n",
    "\n",
    "m_list = []\n",
    "\n",
    "for SR in [0,1,2]:\n",
    "    print(\"In signal region: \", SR)\n",
    "    \n",
    "    this_sig = sig[sig.SR == SR].copy()\n",
    "    \n",
    "    this_sig = df_filter(this_sig).copy()\n",
    "#     this_sig = this_sig[this_sig.Zlep1_ambiguous != 1].copy()  \n",
    "#     this_sig = this_sig[this_sig.Zlep2_ambiguous != 1].copy() \n",
    "#     this_sig = this_sig[this_sig.Wlep1_ambiguous != 1].copy() \n",
    "#     this_sig = this_sig[this_sig.Wlep1_ambiguous != 1].copy() \n",
    "\n",
    "    this_sig_y, this_sig_y_err = yield_and_error(this_sig)\n",
    "    print(\"VVZ {:.1f} ± {:.1f} \".format(this_sig_y, this_sig_y_err) )\n",
    "    \n",
    "    \n",
    "    sw  = 0\n",
    "    sw2 = 0\n",
    "    for i in range(len(names)):\n",
    "        this_bkg = backgrounds[i].copy()\n",
    "        this_bkg = this_bkg[this_bkg.SR == SR]\n",
    "        \n",
    "        this_bkg = df_filter(this_bkg).copy()\n",
    "#         this_bkg = this_bkg[this_bkg.Zlep1_ambiguous != 1].copy()  \n",
    "#         this_bkg = this_bkg[this_bkg.Zlep2_ambiguous != 1].copy() \n",
    "#         this_bkg = this_bkg[this_bkg.Wlep1_ambiguous != 1].copy() \n",
    "#         this_bkg = this_bkg[this_bkg.Wlep1_ambiguous != 1].copy() \n",
    "        \n",
    "        if (names[i] == 'Zjets'):\n",
    "            print(len(this_bkg))\n",
    "        \n",
    "        y, y_err = yield_and_error(this_bkg)\n",
    "        print(names[i], \"{:.1f} ± {:.1f} \".format(y, y_err) )\n",
    "        sw  += y\n",
    "        sw2 += y_err**2\n",
    "    \n",
    "    this_bkg_y = sw\n",
    "    this_bkg_y_err = np.sqrt(sw2)\n",
    "    \n",
    "    print(\"full BG {:.1f} ± {:.1f} \".format(this_bkg_y, this_bkg_y_err ))\n",
    "    \n",
    "    print(\"----------------------\")\n",
    "    significance, error = significance_and_error(this_sig_y, this_sig_y_err, this_bkg_y, this_bkg_y_err )\n",
    "    print(\"significance {:.2f} ± {:.2f} \".format(significance, error))\n",
    "    m_list.append((significance, error))\n",
    "    print()\n",
    "\n",
    "print(\"----------------------\")\n",
    "print(\"----------------------\")\n",
    "significance, error = add_in_quadrature_3(m_list[0], m_list[1], m_list[2])\n",
    "print(\"overall {:.2f} ± {:.2f} \".format(significance, error))"
   ]
  },
  {
   "cell_type": "code",
   "execution_count": 34,
   "metadata": {},
   "outputs": [
    {
     "data": {
      "image/png": "[encoded data removed]",
      "text/plain": [
       "<Figure size 432x288 with 1 Axes>"
      ]
     },
     "metadata": {
      "needs_background": "light"
     },
     "output_type": "display_data"
    }
   ],
   "source": [
    "test = df_filter(sig)\n",
    "\n",
    "plt.hist(test[abs(test.Wlep1_pid) == 11].Wlep1_eta, range=(-3,3), bins=600);"
   ]
  },
  {
   "cell_type": "markdown",
   "metadata": {},
   "source": [
    "# Application of quality/isolation"
   ]
  },
  {
   "cell_type": "code",
   "execution_count": 7,
   "metadata": {},
   "outputs": [
    {
     "data": {
      "text/plain": [
       "17385"
      ]
     },
     "execution_count": 7,
     "metadata": {},
     "output_type": "execute_result"
    }
   ],
   "source": [
    "len(original_oldZjets)"
   ]
  },
  {
   "cell_type": "code",
   "execution_count": 8,
   "metadata": {},
   "outputs": [
    {
     "data": {
      "text/plain": [
       "15587"
      ]
     },
     "execution_count": 8,
     "metadata": {},
     "output_type": "execute_result"
    }
   ],
   "source": [
    "len(original_Zjets)"
   ]
  },
  {
   "cell_type": "code",
   "execution_count": 4,
   "metadata": {},
   "outputs": [],
   "source": [
    "def apply_quality_isolation(this_df, Z_quality, i, j, W_quality, k, l):\n",
    "    \n",
    "    # ---------- W lepton analysis ----------\n",
    "    \n",
    "    # Check quality\n",
    "    # LL\n",
    "    if (Z_quality == 0): \n",
    "        pass\n",
    "    # LM\n",
    "    elif (Z_quality == 1): \n",
    "        this_df = this_df[(abs(this_df.Zlep1_pid) == 11) | (this_df.Zlep1_medium == True)] # medium muons \n",
    "        this_df = this_df[(abs(this_df.Zlep2_pid) == 11) | (this_df.Zlep2_medium == True)] # medium muons\n",
    "    # LT\n",
    "    elif (Z_quality == 2): \n",
    "        this_df = this_df[(abs(this_df.Zlep1_pid) == 11) | (this_df.Zlep1_tight == True)] # tight muons\n",
    "        this_df = this_df[(abs(this_df.Zlep2_pid) == 11) | (this_df.Zlep2_tight == True)] # tight muons\n",
    "    # ML\n",
    "    elif (Z_quality == 3): \n",
    "        this_df = this_df[(abs(this_df.Zlep1_pid) == 13) | (this_df.Zlep1_medium == True)] # medium electrons\n",
    "        this_df = this_df[(abs(this_df.Zlep2_pid) == 13) | (this_df.Zlep2_medium == True)] # medium electrons\n",
    "    # MM\n",
    "    elif (Z_quality == 4): \n",
    "        this_df = this_df[this_df.Zlep1_medium == True] # medium all\n",
    "        this_df = this_df[this_df.Zlep2_medium == True] # medium all\n",
    "    # MT\n",
    "    elif (Z_quality == 5): \n",
    "        this_df = this_df[(abs(this_df.Zlep1_pid) == 13) | (this_df.Zlep1_medium == True)] # medium electrons\n",
    "        this_df = this_df[(abs(this_df.Zlep1_pid) == 11) | (this_df.Zlep1_tight == True)]  # tight muons\n",
    "        this_df = this_df[(abs(this_df.Zlep2_pid) == 13) | (this_df.Zlep2_medium == True)] # medium electrons\n",
    "        this_df = this_df[(abs(this_df.Zlep2_pid) == 11) | (this_df.Zlep2_tight == True)]  # tight muons\n",
    "    # TL\n",
    "    elif (Z_quality == 6): \n",
    "        this_df = this_df[(abs(this_df.Zlep1_pid) == 13) | (this_df.Zlep1_tight == True)] # tight electrons\n",
    "        this_df = this_df[(abs(this_df.Zlep2_pid) == 13) | (this_df.Zlep2_tight == True)] # tight electrons\n",
    "    # TM\n",
    "    elif (Z_quality == 7):\n",
    "        this_df = this_df[(abs(this_df.Zlep1_pid) == 13) | (this_df.Zlep1_tight == True)]  # tight electrons\n",
    "        this_df = this_df[(abs(this_df.Zlep1_pid) == 11) | (this_df.Zlep1_medium == True)] # medium muons \n",
    "        this_df = this_df[(abs(this_df.Zlep2_pid) == 13) | (this_df.Zlep2_tight == True)]  # tight electrons\n",
    "        this_df = this_df[(abs(this_df.Zlep2_pid) == 11) | (this_df.Zlep2_medium == True)] # medium muons\n",
    "    # TT\n",
    "    elif (Z_quality == 8):\n",
    "        this_df = this_df[this_df.Zlep1_tight == True] # tight all\n",
    "        this_df = this_df[this_df.Zlep2_tight == True] # tight all\n",
    "\n",
    "    # Isolation loop for electrons, 0 means no iso\n",
    "\n",
    "    if (i == 0):\n",
    "        pass\n",
    "    else:\n",
    "        this_df = this_df[(abs(this_df.Zlep1_pid) == 13) | (this_df['Zlep1_iso_{}'.format(i)] == True)] # iso_i electrons\n",
    "        this_df = this_df[(abs(this_df.Zlep2_pid) == 13) | (this_df['Zlep2_iso_{}'.format(i)] == True)] # iso_i electrons\n",
    "\n",
    "    # Isolation loop for muons, 0 means no iso\n",
    "\n",
    "    if (j == 0):\n",
    "        pass\n",
    "    else:\n",
    "        this_df = this_df[(abs(this_df.Zlep1_pid) == 11) | (this_df['Zlep1_iso_{}'.format(j)] == True)] # iso_j muons\n",
    "        this_df = this_df[(abs(this_df.Zlep2_pid) == 11) | (this_df['Zlep2_iso_{}'.format(j)] == True)] # iso_j muons\n",
    "\n",
    "\n",
    "    # ---------- W lepton analysis ----------\n",
    "\n",
    "    # Quality loop (LL, LM, LT, ML, MM, MT, TL, TM, TT)\n",
    "\n",
    "    # Check quality\n",
    "    # LL\n",
    "    if (W_quality == 0): \n",
    "        pass\n",
    "    # LM\n",
    "    elif (W_quality == 1): \n",
    "        this_df = this_df[(abs(this_df.Wlep1_pid) == 11) | (this_df.Wlep1_medium == True)] # medium muons \n",
    "        this_df = this_df[(abs(this_df.Wlep2_pid) == 11) | (this_df.Wlep2_medium == True)] # medium muons\n",
    "    # LT\n",
    "    elif (W_quality == 2): \n",
    "        this_df = this_df[(abs(this_df.Wlep1_pid) == 11) | (this_df.Wlep1_tight == True)] # tight muons\n",
    "        this_df = this_df[(abs(this_df.Wlep2_pid) == 11) | (this_df.Wlep2_tight == True)] # tight muons\n",
    "    # ML\n",
    "    elif (W_quality == 3): \n",
    "        this_df = this_df[(abs(this_df.Wlep1_pid) == 13) | (this_df.Wlep1_medium == True)] # medium electrons\n",
    "        this_df = this_df[(abs(this_df.Wlep2_pid) == 13) | (this_df.Wlep2_medium == True)] # medium electrons\n",
    "    # MM\n",
    "    elif (W_quality == 4): \n",
    "        this_df = this_df[this_df.Wlep1_medium == True].copy() # medium all\n",
    "        this_df = this_df[this_df.Wlep2_medium == True].copy() # medium all\n",
    "    # MT\n",
    "    elif (W_quality == 5): \n",
    "        this_df = this_df[(abs(this_df.Wlep1_pid) == 13) | (this_df.Wlep1_medium == True)] # medium electrons\n",
    "        this_df = this_df[(abs(this_df.Wlep1_pid) == 11) | (this_df.Wlep1_tight == True)]  # tight muons\n",
    "        this_df = this_df[(abs(this_df.Wlep2_pid) == 13) | (this_df.Wlep2_medium == True)] # medium electrons\n",
    "        this_df = this_df[(abs(this_df.Wlep2_pid) == 11) | (this_df.Wlep2_tight == True)]  # tight muons\n",
    "    # TL\n",
    "    elif (W_quality == 6): \n",
    "        this_df = this_df[(abs(this_df.Wlep1_pid) == 13) | (this_df.Wlep1_tight == True)] # tight electrons\n",
    "        this_df = this_df[(abs(this_df.Wlep2_pid) == 13) | (this_df.Wlep2_tight == True)] # tight electrons\n",
    "    # TM\n",
    "    elif (W_quality == 7):\n",
    "        this_df = this_df[(abs(this_df.Wlep1_pid) == 13) | (this_df.Wlep1_tight == True)]  # tight electrons\n",
    "        this_df = this_df[(abs(this_df.Wlep1_pid) == 11) | (this_df.Wlep1_medium == True)] # medium muons \n",
    "        this_df = this_df[(abs(this_df.Wlep2_pid) == 13) | (this_df.Wlep2_tight == True)]  # tight electrons\n",
    "        this_df = this_df[(abs(this_df.Wlep2_pid) == 11) | (this_df.Wlep2_medium == True)] # medium muons\n",
    "    # TT\n",
    "    elif (W_quality == 8):\n",
    "        this_df = this_df[this_df.Wlep1_tight == True] # tight all\n",
    "        this_df = this_df[this_df.Wlep2_tight == True] # tight all\n",
    "\n",
    "    # Isolation loop for electrons, 0 means no iso\n",
    "\n",
    "    if (k == 0):\n",
    "        pass\n",
    "    else:\n",
    "        this_df = this_df[(abs(this_df.Wlep1_pid) == 13) | (this_df['Wlep1_iso_{}'.format(k)] == True)] # iso_k W electrons\n",
    "        this_df = this_df[(abs(this_df.Wlep2_pid) == 13) | (this_df['Wlep2_iso_{}'.format(k)] == True)] # iso_k W electrons\n",
    "\n",
    "    # Isolation loop for muons, 0 means no iso\n",
    "\n",
    "    if (l == 0):\n",
    "        pass\n",
    "    else:\n",
    "        this_df = this_df[(abs(this_df.Wlep1_pid) == 11) | (this_df['Wlep1_iso_{}'.format(l)] == True)] # iso_l W muons\n",
    "        this_df = this_df[(abs(this_df.Wlep2_pid) == 11) | (this_df['Wlep2_iso_{}'.format(l)] == True)] # iso_l W\n",
    "    \n",
    "    return this_df"
   ]
  },
  {
   "cell_type": "code",
   "execution_count": 11,
   "metadata": {},
   "outputs": [
    {
     "name": "stdout",
     "output_type": "stream",
     "text": [
      "--- Done!\n"
     ]
    }
   ],
   "source": [
    "# Z_quality = 0  # Quality loop (LL, LM, LT, ML, MM, MT, TL, TM, TT)\n",
    "# i         = 0\n",
    "# j         = 0\n",
    "# W_quality = 0\n",
    "# k         = 4 #e\n",
    "# l         = 1 #mu\n",
    "\n",
    "# Z_quality = 0  # Quality loop (LL, LM, LT, ML, MM, MT, TL, TM, TT)\n",
    "# i         = 5\n",
    "# j         = 3\n",
    "# W_quality = 8\n",
    "# k         = 4 #e\n",
    "# l         = 1 #mu\n",
    "\n",
    "Z_quality = 0  # Quality loop (LL, LM, LT, ML, MM, MT, TL, TM, TT)\n",
    "i         = 0\n",
    "j         = 0\n",
    "W_quality = 0\n",
    "k         = 0 #e\n",
    "l         = 0 #mu\n",
    "\n",
    "# Z_quality = 0  # Quality loop (LL, LM, LT, ML, MM, MT, TL, TM, TT)\n",
    "# i         = 0\n",
    "# j         = 0\n",
    "# W_quality = 0\n",
    "# k         = 4 #e\n",
    "# l         = 1 #mu\n",
    "\n",
    "sig      = apply_quality_isolation(original_sig,      Z_quality, i, j, W_quality, k, l)\n",
    "ZZ       = apply_quality_isolation(original_ZZ,       Z_quality, i, j, W_quality, k, l)\n",
    "WZ       = apply_quality_isolation(original_WZ,       Z_quality, i, j, W_quality, k, l)\n",
    "oldZjets = apply_quality_isolation(original_oldZjets, Z_quality, i, j, W_quality, k, l)\n",
    "Zjets    = apply_quality_isolation(original_Zjets,    Z_quality, i, j, W_quality, k, l)\n",
    "Zgamma   = apply_quality_isolation(original_Zgamma,   Z_quality, i, j, W_quality, k, l)\n",
    "ttZ      = apply_quality_isolation(original_ttZ,      Z_quality, i, j, W_quality, k, l)\n",
    "tZ       = apply_quality_isolation(original_tZ,       Z_quality, i, j, W_quality, k, l)\n",
    "tWZ      = apply_quality_isolation(original_tWZ,      Z_quality, i, j, W_quality, k, l)\n",
    "others   = apply_quality_isolation(original_others,   Z_quality, i, j, W_quality, k, l)\n",
    "bkg      = apply_quality_isolation(original_bkg,      Z_quality, i, j, W_quality, k, l)\n",
    "\n",
    "print(\"--- Done!\")"
   ]
  },
  {
   "cell_type": "code",
   "execution_count": null,
   "metadata": {},
   "outputs": [],
   "source": []
  },
  {
   "cell_type": "code",
   "execution_count": 20,
   "metadata": {},
   "outputs": [
    {
     "data": {
      "text/plain": [
       "0"
      ]
     },
     "execution_count": 20,
     "metadata": {},
     "output_type": "execute_result"
    }
   ],
   "source": [
    "sum(sig[(sig.Wlep1_iso_1 == False) & (abs(sig.Wlep1_pid) == 13)].wgt)"
   ]
  },
  {
   "cell_type": "code",
   "execution_count": 21,
   "metadata": {},
   "outputs": [
    {
     "name": "stdout",
     "output_type": "stream",
     "text": [
      "Region 4ℓ-SF-inZ:\n",
      "--- S = 10.55 ± 0.07 \n",
      "--- B = 2129.70 ± 6.30 \n",
      "--- significance = 0.23 ± 0.00 \n",
      "\n",
      "Region 4ℓ-SF-noZ:\n",
      "--- S = 10.79 ± 0.12 \n",
      "--- B = 630.77 ± 3.74 \n",
      "--- significance = 0.43 ± 0.00 \n",
      "\n",
      "Region 4ℓ-DF:\n",
      "--- S = 12.61 ± 0.15 \n",
      "--- B = 65.23 ± 4.12 \n",
      "--- significance = 1.52 ± 0.05 \n",
      "\n",
      "Total significance in quadrature = 1.59 ± 0.05 \n"
     ]
    }
   ],
   "source": [
    "print_total_significance_and_error(sig, bkg)"
   ]
  },
  {
   "cell_type": "code",
   "execution_count": 27,
   "metadata": {
    "scrolled": false
   },
   "outputs": [
    {
     "data": {
      "text/plain": [
       "261"
      ]
     },
     "execution_count": 27,
     "metadata": {},
     "output_type": "execute_result"
    }
   ],
   "source": [
    "len(oldZjets)"
   ]
  },
  {
   "cell_type": "code",
   "execution_count": 32,
   "metadata": {
    "scrolled": true
   },
   "outputs": [
    {
     "data": {
      "text/plain": [
       "89"
      ]
     },
     "execution_count": 32,
     "metadata": {},
     "output_type": "execute_result"
    }
   ],
   "source": [
    "len(Zjets[Zjets.SR==2])"
   ]
  },
  {
   "cell_type": "code",
   "execution_count": 96,
   "metadata": {
    "scrolled": true
   },
   "outputs": [
    {
     "name": "stdout",
     "output_type": "stream",
     "text": [
      "3.1897719958317636\n",
      "12.478457608021658\n",
      "33.633478207783135\n"
     ]
    },
    {
     "data": {
      "image/png": "[encoded data removed]",
      "text/plain": [
       "<Figure size 1382.4x345.6 with 3 Axes>"
      ]
     },
     "metadata": {
      "needs_background": "light"
     },
     "output_type": "display_data"
    }
   ],
   "source": [
    "plt.figure(figsize=[3*6.4,1*4.8])\n",
    "\n",
    "for i in [0, 1, 2]:\n",
    "\n",
    "    ax = plt.subplot(1, 3, i+1)\n",
    "    set_1 = oldZjets[oldZjets.SR == i].wgt\n",
    "\n",
    "    min_x = np.min(set_1)\n",
    "    max_x = np.max(set_1)\n",
    "    m = max(abs(min_x), max_x)\n",
    "    print(m)\n",
    "\n",
    "    if (i == 0):\n",
    "        label = 'old Z+jets in 4ℓ-SF-inZ'\n",
    "    elif (i == 1):\n",
    "        label = 'old Z+jets in 4ℓ-SF-noZ'\n",
    "    else:\n",
    "        label = 'old Z+jets in 4ℓ-DF'\n",
    "        \n",
    "    n, bins, _ = plt.hist(set_1, range=(-m, m), bins=50, color='red', alpha=0.5, label=label)\n",
    "    plt.yscale('log')\n",
    "    plt.ylabel('log(# of MC entries)')\n",
    "    plt.xlabel('MC weight')\n",
    "    plt.legend()\n",
    "\n",
    "plt.savefig('plots/MCweight_oldZjets_1.pdf')\n",
    "plt.show()"
   ]
  },
  {
   "cell_type": "code",
   "execution_count": 12,
   "metadata": {},
   "outputs": [
    {
     "name": "stdout",
     "output_type": "stream",
     "text": [
      "0.5250530403373633\n",
      "2.3363787007678356\n",
      "2.873706662946459\n"
     ]
    },
    {
     "data": {
      "image/png": "[encoded data removed]",
      "text/plain": [
       "<Figure size 1382.4x345.6 with 3 Axes>"
      ]
     },
     "metadata": {
      "needs_background": "light"
     },
     "output_type": "display_data"
    }
   ],
   "source": [
    "plt.figure(figsize=[3*6.4,1*4.8])\n",
    "\n",
    "for i in [0, 1, 2]:\n",
    "\n",
    "    ax = plt.subplot(1, 3, i+1)\n",
    "    set_1 = Zjets[Zjets.SR == i].wgt\n",
    "\n",
    "    min_x = np.min(set_1)\n",
    "    max_x = np.max(set_1)\n",
    "    m = max(abs(min_x), max_x)\n",
    "    print(m)\n",
    "    \n",
    "    if (i == 0):\n",
    "        label = 'new Z+jets in 4ℓ-SF-inZ'\n",
    "    elif (i == 1):\n",
    "        label = 'new Z+jets in 4ℓ-SF-noZ'\n",
    "    else:\n",
    "        label = 'new Z+jets in 4ℓ-DF'\n",
    "\n",
    "    n, bins, _ = plt.hist(set_1, range=(-m, m), bins=50, color='green', alpha=0.5, label=label)\n",
    "    plt.yscale('log')\n",
    "    plt.ylabel('log(# of MC entries)')\n",
    "    plt.xlabel('MC weight')\n",
    "    plt.legend()\n",
    "\n",
    "plt.savefig('plots/MCweight_newZjets_3.pdf')\n",
    "plt.show()"
   ]
  },
  {
   "cell_type": "code",
   "execution_count": 13,
   "metadata": {},
   "outputs": [
    {
     "name": "stdout",
     "output_type": "stream",
     "text": [
      "1.533298090029497\n",
      "2.3363787007678356\n",
      "3.1669534777507216\n"
     ]
    },
    {
     "data": {
      "image/png": "[encoded data removed]",
      "text/plain": [
       "<Figure size 1382.4x691.2 with 6 Axes>"
      ]
     },
     "metadata": {
      "needs_background": "light"
     },
     "output_type": "display_data"
    }
   ],
   "source": [
    "plt.figure(figsize=[3*6.4,2*4.8])\n",
    "\n",
    "b = 50\n",
    "\n",
    "m = -1\n",
    "\n",
    "for i in [0, 1, 2]:\n",
    "\n",
    "    set_1 = oldZjets[oldZjets.SR == i].wgt\n",
    "    set_2 = Zjets[Zjets.SR == i].wgt\n",
    "\n",
    "    min_1 = np.min(set_1)\n",
    "    max_1 = np.max(set_1)\n",
    "    min_2 = np.min(set_2)\n",
    "    max_2 = np.max(set_2)\n",
    "    m = np.max([m, abs(min_1), max_1, abs(min_2), max_2])\n",
    "    print(m)\n",
    "\n",
    "\n",
    "for i in [0, 1, 2]:\n",
    "\n",
    "\n",
    "    set_1 = oldZjets[oldZjets.SR == i].wgt\n",
    "    set_2 = Zjets[Zjets.SR == i].wgt\n",
    "\n",
    "#     min_1 = np.min(set_1)\n",
    "#     max_1 = np.max(set_1)\n",
    "#     min_2 = np.min(set_2)\n",
    "#     max_2 = np.max(set_2)\n",
    "#     m = np.max([abs(min_1), max_1, abs(min_2), max_2])\n",
    "#     print(m)\n",
    "    \n",
    "    ax = plt.subplot(2, 3, i+1)\n",
    "    \n",
    "    if (i == 0):\n",
    "        label = 'old Z+jets in 4ℓ-SF-inZ'\n",
    "    elif (i == 1):\n",
    "        label = 'old Z+jets in 4ℓ-SF-noZ'\n",
    "    else:\n",
    "        label = 'old Z+jets in 4ℓ-DF'\n",
    "\n",
    "    n, bins, _ = plt.hist(set_1, range=(-m, m), bins=b, color='red', alpha=0.5, label=label)\n",
    "    plt.yscale('log')\n",
    "    plt.ylabel('# of MC entries', fontsize=14)\n",
    "    plt.xlabel('MC weight', fontsize=14)\n",
    "    plt.legend()\n",
    "    \n",
    "    ax = plt.subplot(2, 3, i+1+3)\n",
    "    \n",
    "    if (i == 0):\n",
    "        label = 'new Z+jets in 4ℓ-SF-inZ'\n",
    "    elif (i == 1):\n",
    "        label = 'new Z+jets in 4ℓ-SF-noZ'\n",
    "    else:\n",
    "        label = 'new Z+jets in 4ℓ-DF'\n",
    "\n",
    "    n, bins, _ = plt.hist(set_2, range=(-m, m), bins=b, color='green', alpha=0.5, label=label)\n",
    "    plt.yscale('log')\n",
    "    plt.ylabel('# of MC entries', fontsize=14)\n",
    "    plt.xlabel('MC weight', fontsize=14)\n",
    "    plt.legend()\n",
    "# \n",
    "plt.savefig('plots/MC_weight_newZjets_1.pdf')\n",
    "plt.show()"
   ]
  },
  {
   "cell_type": "code",
   "execution_count": null,
   "metadata": {},
   "outputs": [],
   "source": []
  },
  {
   "cell_type": "markdown",
   "metadata": {},
   "source": [
    "# Using new Z+jets"
   ]
  },
  {
   "cell_type": "code",
   "execution_count": 14,
   "metadata": {
    "scrolled": true
   },
   "outputs": [
    {
     "data": {
      "text/plain": [
       "65"
      ]
     },
     "execution_count": 14,
     "metadata": {},
     "output_type": "execute_result"
    }
   ],
   "source": [
    "len(Zjets)"
   ]
  },
  {
   "cell_type": "code",
   "execution_count": 15,
   "metadata": {
    "scrolled": false
   },
   "outputs": [
    {
     "name": "stdout",
     "output_type": "stream",
     "text": [
      "In signal region:  0\n",
      "VVZ 10.3 ± 0.1 \n",
      "ZZ 2079.7 ± 6.2 \n",
      "WZ 0.5 ± 0.1 \n",
      "4\n",
      "Zjets 0.9 ± 0.6 \n",
      "Zgamma 0.0 ± 0.0 \n",
      "ttZ 1.6 ± 0.1 \n",
      "tZ 0.0 ± 0.0 \n",
      "tWZ 0.8 ± 0.1 \n",
      "others 0.1 ± 0.1 \n",
      "full BG 2083.6 ± 6.3 \n",
      "----------------------\n",
      "significance 0.22 ± 0.00 \n",
      "\n",
      "In signal region:  1\n",
      "VVZ 10.5 ± 0.1 \n",
      "ZZ 601.0 ± 2.7 \n",
      "WZ 3.0 ± 0.3 \n",
      "12\n",
      "Zjets 3.3 ± 2.4 \n",
      "Zgamma 0.4 ± 0.3 \n",
      "ttZ 6.2 ± 0.2 \n",
      "tZ 0.1 ± 0.1 \n",
      "tWZ 2.7 ± 0.3 \n",
      "others 1.1 ± 0.2 \n",
      "full BG 617.9 ± 3.7 \n",
      "----------------------\n",
      "significance 0.42 ± 0.00 \n",
      "\n",
      "In signal region:  2\n",
      "VVZ 12.3 ± 0.2 \n",
      "ZZ 36.0 ± 0.6 \n",
      "WZ 3.3 ± 0.3 \n",
      "40\n",
      "Zjets 12.6 ± 4.0 \n",
      "Zgamma 0.3 ± 0.3 \n",
      "ttZ 7.5 ± 0.2 \n",
      "tZ 0.1 ± 0.0 \n",
      "tWZ 3.3 ± 0.3 \n",
      "others 0.8 ± 0.2 \n",
      "full BG 63.9 ± 4.1 \n",
      "----------------------\n",
      "significance 1.49 ± 0.05 \n",
      "\n",
      "----------------------\n",
      "----------------------\n",
      "overall 1.57 ± 0.05 \n"
     ]
    }
   ],
   "source": [
    "backgrounds = [ZZ, WZ, Zjets, Zgamma, ttZ, tZ, tWZ, others]\n",
    "names = ['ZZ', 'WZ', 'Zjets', 'Zgamma', 'ttZ', 'tZ', 'tWZ', 'others']\n",
    "\n",
    "m_list = []\n",
    "\n",
    "for SR in [0,1,2]:\n",
    "    print(\"In signal region: \", SR)\n",
    "    \n",
    "    this_sig = sig[sig.SR == SR].copy()\n",
    "    \n",
    "    this_sig = this_sig[this_sig.Zlep1_ambiguous != 1].copy()  \n",
    "    this_sig = this_sig[this_sig.Zlep2_ambiguous != 1].copy() \n",
    "    this_sig = this_sig[this_sig.Wlep1_ambiguous != 1].copy() \n",
    "    this_sig = this_sig[this_sig.Wlep1_ambiguous != 1].copy() \n",
    "\n",
    "    this_sig_y, this_sig_y_err = yield_and_error(this_sig)\n",
    "    print(\"VVZ {:.1f} ± {:.1f} \".format(this_sig_y, this_sig_y_err) )\n",
    "    \n",
    "    \n",
    "    sw  = 0\n",
    "    sw2 = 0\n",
    "    for i in range(len(names)):\n",
    "        this_bkg = backgrounds[i].copy()\n",
    "        this_bkg = this_bkg[this_bkg.SR == SR]\n",
    "        \n",
    "        this_bkg = this_bkg[this_bkg.Zlep1_ambiguous != 1].copy()  \n",
    "        this_bkg = this_bkg[this_bkg.Zlep2_ambiguous != 1].copy() \n",
    "        this_bkg = this_bkg[this_bkg.Wlep1_ambiguous != 1].copy() \n",
    "        this_bkg = this_bkg[this_bkg.Wlep1_ambiguous != 1].copy() \n",
    "        \n",
    "        if (names[i] == 'Zjets'):\n",
    "            print(len(this_bkg))\n",
    "        \n",
    "        y, y_err = yield_and_error(this_bkg)\n",
    "        print(names[i], \"{:.1f} ± {:.1f} \".format(y, y_err) )\n",
    "        sw  += y\n",
    "        sw2 += y_err**2\n",
    "    \n",
    "    this_bkg_y = sw\n",
    "    this_bkg_y_err = np.sqrt(sw2)\n",
    "    \n",
    "    print(\"full BG {:.1f} ± {:.1f} \".format(this_bkg_y, this_bkg_y_err ))\n",
    "    \n",
    "    print(\"----------------------\")\n",
    "    significance, error = significance_and_error(this_sig_y, this_sig_y_err, this_bkg_y, this_bkg_y_err )\n",
    "    print(\"significance {:.2f} ± {:.2f} \".format(significance, error))\n",
    "    m_list.append((significance, error))\n",
    "    print()\n",
    "\n",
    "print(\"----------------------\")\n",
    "print(\"----------------------\")\n",
    "significance, error = add_in_quadrature_3(m_list[0], m_list[1], m_list[2])\n",
    "print(\"overall {:.2f} ± {:.2f} \".format(significance, error))"
   ]
  },
  {
   "cell_type": "code",
   "execution_count": null,
   "metadata": {},
   "outputs": [],
   "source": []
  },
  {
   "cell_type": "markdown",
   "metadata": {},
   "source": [
    "# Using old Z+jets samples"
   ]
  },
  {
   "cell_type": "code",
   "execution_count": 3,
   "metadata": {},
   "outputs": [
    {
     "ename": "NameError",
     "evalue": "name 'oldZjets' is not defined",
     "output_type": "error",
     "traceback": [
      "\u001b[0;31m---------------------------------------------------------------------------\u001b[0m",
      "\u001b[0;31mNameError\u001b[0m                                 Traceback (most recent call last)",
      "\u001b[0;32m/tmp/grabanal/ipykernel_74533/2782972254.py\u001b[0m in \u001b[0;36m<module>\u001b[0;34m\u001b[0m\n\u001b[0;32m----> 1\u001b[0;31m \u001b[0mlen\u001b[0m\u001b[0;34m(\u001b[0m\u001b[0moldZjets\u001b[0m\u001b[0;34m)\u001b[0m\u001b[0;34m\u001b[0m\u001b[0;34m\u001b[0m\u001b[0m\n\u001b[0m",
      "\u001b[0;31mNameError\u001b[0m: name 'oldZjets' is not defined"
     ]
    }
   ],
   "source": [
    "len(oldZjets)"
   ]
  },
  {
   "cell_type": "code",
   "execution_count": 13,
   "metadata": {},
   "outputs": [
    {
     "name": "stdout",
     "output_type": "stream",
     "text": [
      "In signal region:  0\n",
      "VVZ 10.5 ± 0.1 \n",
      "ZZ 2125.5 ± 6.3 \n",
      "WZ 0.5 ± 0.1 \n",
      "oldZjets -0.9 ± 1.6 \n",
      "Zgamma 0.0 ± 0.0 \n",
      "ttZ 1.7 ± 0.1 \n",
      "tZ 0.0 ± 0.0 \n",
      "tWZ 0.8 ± 0.1 \n",
      "others 0.1 ± 0.1 \n",
      "full BG 2127.8 ± 6.5 \n",
      "----------------------\n",
      "significance 0.23 ± 0.00 \n",
      "\n",
      "In signal region:  1\n",
      "VVZ 10.8 ± 0.1 \n",
      "ZZ 613.4 ± 2.8 \n",
      "WZ 3.2 ± 0.3 \n",
      "oldZjets 7.4 ± 4.8 \n",
      "Zgamma 0.4 ± 0.3 \n",
      "ttZ 6.4 ± 0.2 \n",
      "tZ 0.1 ± 0.1 \n",
      "tWZ 2.8 ± 0.3 \n",
      "others 1.1 ± 0.2 \n",
      "full BG 634.8 ± 5.6 \n",
      "----------------------\n",
      "significance 0.43 ± 0.00 \n",
      "\n",
      "In signal region:  2\n",
      "VVZ 12.6 ± 0.2 \n",
      "ZZ 36.8 ± 0.6 \n",
      "WZ 3.4 ± 0.3 \n",
      "oldZjets 0.0 ± 5.1 \n",
      "Zgamma 0.3 ± 0.3 \n",
      "ttZ 7.7 ± 0.2 \n",
      "tZ 0.1 ± 0.0 \n",
      "tWZ 3.3 ± 0.3 \n",
      "others 0.9 ± 0.2 \n",
      "full BG 52.5 ± 5.2 \n",
      "----------------------\n",
      "significance 1.68 ± 0.08 \n",
      "\n",
      "----------------------\n",
      "----------------------\n",
      "overall 1.75 ± 0.08 \n"
     ]
    }
   ],
   "source": [
    "backgrounds = [ZZ, WZ, oldZjets, Zgamma, ttZ, tZ, tWZ, others]\n",
    "names = ['ZZ', 'WZ', 'oldZjets', 'Zgamma', 'ttZ', 'tZ', 'tWZ', 'others']\n",
    "\n",
    "m_list = []\n",
    "\n",
    "for SR in [0,1,2]:\n",
    "    print(\"In signal region: \", SR)\n",
    "    \n",
    "    this_sig = sig[sig.SR == SR].copy()\n",
    "    this_sig_y, this_sig_y_err = yield_and_error(this_sig)\n",
    "    print(\"VVZ {:.1f} ± {:.1f} \".format(this_sig_y, this_sig_y_err) )\n",
    "    \n",
    "    \n",
    "    sw  = 0\n",
    "    sw2 = 0\n",
    "    for i in range(len(names)):\n",
    "        this_bkg = backgrounds[i].copy()\n",
    "        this_bkg = this_bkg[this_bkg.SR == SR]\n",
    "        y, y_err = yield_and_error(this_bkg)\n",
    "        print(names[i], \"{:.1f} ± {:.1f} \".format(y, y_err) )\n",
    "        sw  += y\n",
    "        sw2 += y_err**2\n",
    "    \n",
    "    this_bkg_y = sw\n",
    "    this_bkg_y_err = np.sqrt(sw2)\n",
    "    \n",
    "    print(\"full BG {:.1f} ± {:.1f} \".format(this_bkg_y, this_bkg_y_err ))\n",
    "    \n",
    "    print(\"----------------------\")\n",
    "    significance, error = significance_and_error(this_sig_y, this_sig_y_err, this_bkg_y, this_bkg_y_err )\n",
    "    print(\"significance {:.2f} ± {:.2f} \".format(significance, error))\n",
    "    m_list.append((significance, error))\n",
    "    print()\n",
    "\n",
    "print(\"----------------------\")\n",
    "print(\"----------------------\")\n",
    "significance, error = add_in_quadrature_3(m_list[0], m_list[1], m_list[2])\n",
    "print(\"overall {:.2f} ± {:.2f} \".format(significance, error))"
   ]
  },
  {
   "cell_type": "code",
   "execution_count": null,
   "metadata": {},
   "outputs": [],
   "source": []
  }
 ],
 "metadata": {
  "kernelspec": {
   "display_name": "wvz_machine_learning",
   "language": "python",
   "name": "wvz_machine_learning"
  },
  "language_info": {
   "codemirror_mode": {
    "name": "ipython",
    "version": 3
   },
   "file_extension": ".py",
   "mimetype": "text/x-python",
   "name": "python",
   "nbconvert_exporter": "python",
   "pygments_lexer": "ipython3",
   "version": "3.9.7"
  }
 },
 "nbformat": 4,
 "nbformat_minor": 4
}
