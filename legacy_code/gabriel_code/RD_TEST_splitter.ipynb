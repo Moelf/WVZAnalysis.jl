{
 "cells": [
  {
   "cell_type": "code",
   "execution_count": 2,
   "metadata": {},
   "outputs": [],
   "source": [
    "import numpy as np\n",
    "import pandas as pd"
   ]
  },
  {
   "cell_type": "code",
   "execution_count": 23,
   "metadata": {},
   "outputs": [
    {
     "name": "stdout",
     "output_type": "stream",
     "text": [
      "RD weight sum: 1411.3580999569908 ; Test weight sum: 1414.3456169758526\n",
      "RD weight sum: 1414.4351684981195 ; Test weight sum: 1411.2685484347203\n",
      "RD weight sum: 1410.200396923325 ; Test weight sum: 1415.5033200095472\n",
      "RD weight sum: 1406.540663914924 ; Test weight sum: 1419.1630530180419\n",
      "RD weight sum: 1414.2810225130545 ; Test weight sum: 1411.4226944198795\n",
      "RD weight sum: 1414.0532079060677 ; Test weight sum: 1411.6505090268593\n",
      "RD weight sum: 1417.7561020165708 ; Test weight sum: 1407.9476149163238\n",
      "RD weight sum: 1412.6833654308757 ; Test weight sum: 1413.0203515020742\n"
     ]
    }
   ],
   "source": [
    "# this_channel = '20220210_iso_e4m1_VVZ'\n",
    "# this_channel = '20220210_iso_e4m1_ZZ'\n",
    "# this_channel = '20220210_iso_e4m1_WZ'\n",
    "# this_channel = '20220210_iso_e4m1_Zjets'\n",
    "# this_channel = '20220210_iso_e4m1_Zgamma'\n",
    "# this_channel = '20220210_iso_e4m1_ttZ'\n",
    "# this_channel = '20220210_iso_e4m1_tZ'\n",
    "# this_channel = '20220210_iso_e4m1_tWZ'\n",
    "# this_channel = '20220210_iso_e4m1_others'\n",
    "# this_channel = '20220210_iso_e4m1_FULLBG'\n",
    "this_channel = '20220301_ELReLMIs54_MUReLMIs31_btag77_FULLBG'\n",
    "\n",
    "this_df = pd.read_feather('/home/grabanal/minitree/' + this_channel + '.arrow')\n",
    "this_indx = this_df.index\n",
    "\n",
    "wgt_rd, wgt_test = 100000, 1\n",
    "while np.abs(wgt_rd / wgt_test - 1) > 0.001:\n",
    "    this_df_rd = this_df.sample(frac=0.5)\n",
    "    rd_indx = this_df_rd.index\n",
    "\n",
    "    diff_indx = this_indx.difference(rd_indx)\n",
    "    this_df_test = this_df.loc[diff_indx]\n",
    "\n",
    "    wgt_rd, wgt_test = sum(this_df_rd.wgt), sum(this_df_test.wgt)\n",
    "    print('RD weight sum:', wgt_rd, '; Test weight sum:', wgt_test)"
   ]
  },
  {
   "cell_type": "code",
   "execution_count": 24,
   "metadata": {},
   "outputs": [],
   "source": [
    "this_df     .reset_index().to_feather('/home/grabanal/WVZ/gabriel_ML_data/' + this_channel + '.arrow')\n",
    "this_df_rd  .reset_index().to_feather('/home/grabanal/WVZ/gabriel_ML_data/' + this_channel + '_RD.arrow')\n",
    "this_df_test.reset_index().to_feather('/home/grabanal/WVZ/gabriel_ML_data/' + this_channel + '_TEST.arrow')"
   ]
  },
  {
   "cell_type": "code",
   "execution_count": null,
   "metadata": {},
   "outputs": [],
   "source": []
  }
 ],
 "metadata": {
  "kernelspec": {
   "display_name": "wvz_machine_learning",
   "language": "python",
   "name": "wvz_machine_learning"
  },
  "language_info": {
   "codemirror_mode": {
    "name": "ipython",
    "version": 3
   },
   "file_extension": ".py",
   "mimetype": "text/x-python",
   "name": "python",
   "nbconvert_exporter": "python",
   "pygments_lexer": "ipython3",
   "version": "3.9.7"
  }
 },
 "nbformat": 4,
 "nbformat_minor": 4
}
