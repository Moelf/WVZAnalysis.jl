{
 "cells": [
  {
   "cell_type": "code",
   "execution_count": 1,
   "metadata": {
    "scrolled": true
   },
   "outputs": [
    {
     "name": "stderr",
     "output_type": "stream",
     "text": [
      "2022-03-02 06:37:55.527962: I tensorflow/stream_executor/platform/default/dso_loader.cc:49] Successfully opened dynamic library libcudart.so.10.1\n",
      "2022-03-02 06:37:56.383379: I tensorflow/compiler/jit/xla_cpu_device.cc:41] Not creating XLA devices, tf_xla_enable_xla_devices not set\n",
      "2022-03-02 06:37:56.384180: I tensorflow/stream_executor/platform/default/dso_loader.cc:49] Successfully opened dynamic library libcuda.so.1\n",
      "2022-03-02 06:37:56.390132: I tensorflow/core/common_runtime/gpu/gpu_device.cc:1720] Found device 0 with properties: \n",
      "pciBusID: 0000:65:00.0 name: Quadro RTX 4000 computeCapability: 7.5\n",
      "coreClock: 1.545GHz coreCount: 36 deviceMemorySize: 7.79GiB deviceMemoryBandwidth: 387.49GiB/s\n",
      "2022-03-02 06:37:56.390153: I tensorflow/stream_executor/platform/default/dso_loader.cc:49] Successfully opened dynamic library libcudart.so.10.1\n",
      "2022-03-02 06:37:56.391569: I tensorflow/stream_executor/platform/default/dso_loader.cc:49] Successfully opened dynamic library libcublas.so.10\n",
      "2022-03-02 06:37:56.391607: I tensorflow/stream_executor/platform/default/dso_loader.cc:49] Successfully opened dynamic library libcublasLt.so.10\n",
      "2022-03-02 06:37:56.393118: I tensorflow/stream_executor/platform/default/dso_loader.cc:49] Successfully opened dynamic library libcufft.so.10\n",
      "2022-03-02 06:37:56.393346: I tensorflow/stream_executor/platform/default/dso_loader.cc:49] Successfully opened dynamic library libcurand.so.10\n",
      "2022-03-02 06:37:56.394910: I tensorflow/stream_executor/platform/default/dso_loader.cc:49] Successfully opened dynamic library libcusolver.so.10\n",
      "2022-03-02 06:37:56.395670: I tensorflow/stream_executor/platform/default/dso_loader.cc:49] Successfully opened dynamic library libcusparse.so.10\n",
      "2022-03-02 06:37:56.398814: I tensorflow/stream_executor/platform/default/dso_loader.cc:49] Successfully opened dynamic library libcudnn.so.7\n",
      "2022-03-02 06:37:56.399191: I tensorflow/core/common_runtime/gpu/gpu_device.cc:1862] Adding visible gpu devices: 0\n"
     ]
    }
   ],
   "source": [
    "import numpy as np\n",
    "import pandas as pd\n",
    "import matplotlib.pyplot as plt\n",
    "\n",
    "from tensorflow.keras.layers import Input, Dense, Dropout\n",
    "from tensorflow.keras.models import Model, Sequential\n",
    "from tensorflow.keras import backend as K\n",
    "from tensorflow import keras\n",
    "from tensorflow.errors import InvalidArgumentError\n",
    "import tensorflow as tf\n",
    "\n",
    "\n",
    "# Tensorflow GPU settings\n",
    "# gpu_options = tf.GPUOptions(allow_growth=True)#per_process_gpu_memory_fraction=0.5)\n",
    "# sess = tf.Session(config=tf.ConfigProto(gpu_options=gpu_options))\n",
    "physical_devices = tf.config.list_physical_devices('GPU') \n",
    "tf.config.experimental.set_memory_growth(physical_devices[0], True)\n",
    "\n",
    "from sklearn.metrics import roc_curve, roc_auc_score, auc\n",
    "from sklearn.model_selection import train_test_split\n",
    "from sklearn import preprocessing\n",
    "from sklearn.utils import shuffle\n",
    "\n",
    "from scipy import interpolate\n",
    "\n",
    "import keras_tuner as kt\n",
    "import sys"
   ]
  },
  {
   "cell_type": "markdown",
   "metadata": {},
   "source": [
    "Define functions"
   ]
  },
  {
   "cell_type": "code",
   "execution_count": 2,
   "metadata": {},
   "outputs": [],
   "source": [
    "def yield_and_error(df):\n",
    "    '''\n",
    "    input: \n",
    "    df  : dataframe\n",
    "    \n",
    "    output:\n",
    "    yield (significance, error)\n",
    "    '''\n",
    "    Y  = -1\n",
    "    dY = -1\n",
    "    Y  = sum(df.wgt)\n",
    "    dY = np.sqrt(sum(df.wgt**2))\n",
    "    # return tuple\n",
    "    return Y, dY\n",
    "\n",
    "\n",
    "def significance_and_error(S, dS, B, dB):\n",
    "    '''\n",
    "    input: \n",
    "    S  : signal\n",
    "    dS : signal error\n",
    "    B  : background\n",
    "    dB : background error\n",
    "    \n",
    "    output:\n",
    "    tuple (significance, error)\n",
    "    '''\n",
    "    # FAKE SIGNIFICANCE\n",
    "#     significance = S/np.sqrt(B)\n",
    "#     error        = np.sqrt( 1/B*(dS**2) + (S**2)/(4*B**3)*(dB**2) )\n",
    "#     return significance, error\n",
    "    \n",
    "    # REAL SIGNIFICANCE\n",
    "    # if a quantity is negative, return 0\n",
    "    if (S<=0 or B<=0):\n",
    "        return 0, 0\n",
    "#     S = np.abs(S)\n",
    "#     B = np.abs(B)\n",
    "    # calculate the significance and its error\n",
    "    significance = np.sqrt( 2*((S + B)*np.log(1 + S/B) - S) )\n",
    "    dSignifdS    = np.log(1 + S/B)/significance\n",
    "    dSignifdB    = ( np.log(1 + S/B) - S/B )/significance\n",
    "    error        = np.sqrt( (dSignifdS*dS)**2 + (dSignifdB*dB)**2 )\n",
    "    # return tuple\n",
    "    return significance, error\n",
    "\n",
    "\n",
    "def add_in_quadrature_3( XdX, YdY, ZdZ ):\n",
    "    '''\n",
    "    input: \n",
    "    XdX : tuple (significance, error)\n",
    "    YdY : tuple (significance, error)\n",
    "    ZdZ : tuple (significance, error)\n",
    "    \n",
    "    output:\n",
    "    tuple (significance, error) added in quadrature\n",
    "    '''\n",
    "    # unpack the significances\n",
    "    x, dx = XdX\n",
    "    y, dy = YdY\n",
    "    z, dz = ZdZ\n",
    "    # calculate the addition in quadrature and its error\n",
    "    quadrature_sum   = np.sqrt(x**2 + y**2 + z**2)\n",
    "    A                = (x**2)*(dx**2) + (y**2)*(dy**2) + (z**2)*(dz**2)\n",
    "    B                = (x**2) + (y**2) + (z**2)\n",
    "    if (quadrature_sum==0):\n",
    "        return 0, 0\n",
    "    quadrature_error = np.sqrt( A / B )\n",
    "    # return tuple\n",
    "    return quadrature_sum, quadrature_error\n",
    "\n",
    "\n",
    "def add_in_quadrature_n( my_inputs ):\n",
    "    '''\n",
    "    input: \n",
    "    a list of the type [XdX, YdY, ZdZ, etc.]\n",
    "    where\n",
    "    XdX : tuple (significance, error)\n",
    "    YdY : tuple (significance, error)\n",
    "    ZdZ : tuple (significance, error)\n",
    "    \n",
    "    output:\n",
    "    tuple (significance, error) added in quadrature\n",
    "    '''\n",
    "    # unpack the significances\n",
    "    values = np.array([])\n",
    "    errors = np.array([])\n",
    "    for i in range(len(my_inputs)):\n",
    "        x, dx = my_inputs[i]\n",
    "        values = np.append(values, x)\n",
    "        errors = np.append(errors, dx)\n",
    "    # calculate the addition in quadrature and its error\n",
    "    quadrature_sum = np.sqrt(sum(values**2))\n",
    "    \n",
    "    A = sum((values**2)*(errors**2))\n",
    "    B = sum(values**2)\n",
    "    \n",
    "#     quadrature_sum   = np.sqrt(x**2 + y**2 + z**2)\n",
    "#     A                = (x**2)*(dx**2) + (y**2)*(dy**2) + (z**2)*(dz**2)\n",
    "#     B                = (x**2) + (y**2) + (z**2)\n",
    "    if (quadrature_sum==0):\n",
    "        return 0, 0\n",
    "    quadrature_error = np.sqrt( A / B )\n",
    "    # return tuple\n",
    "    return quadrature_sum, quadrature_error\n",
    "\n",
    "\n",
    "def total_significance_and_error( df_sig, df_bg ):\n",
    "    \n",
    "    m_list = []\n",
    "    for sr in [0,1,2]:\n",
    "        S, dS = yield_and_error(df_sig[df_sig.SR == sr])\n",
    "        B, dB = yield_and_error( df_bg[ df_bg.SR == sr])\n",
    "        m_list.append(significance_and_error(S, dS, B, dB))\n",
    "    significance, error = add_in_quadrature_3(m_list[0], m_list[1], m_list[2])\n",
    "    return significance, error\n",
    "\n",
    "def print_total_significance_and_error( df_sig, df_bg ):\n",
    "    \n",
    "    m_list = []\n",
    "    for sr in [0,1,2]:\n",
    "        S, dS = yield_and_error(df_sig[df_sig.SR == sr])\n",
    "        print(\"--- S = {:.2f} ± {:.2f} \".format(S, dS))\n",
    "        B, dB = yield_and_error( df_bg[ df_bg.SR == sr])\n",
    "        print(\"--- B = {:.2f} ± {:.2f} \".format(B, dB))\n",
    "        m_list.append(significance_and_error(S, dS, B, dB))\n",
    "    significance, error = add_in_quadrature_3(m_list[0], m_list[1], m_list[2])\n",
    "    print(\"SF-inZ significance = {:.2f} ± {:.2f} \".format(m_list[0][0], m_list[0][1]))\n",
    "    print(\"SF-noZ significance = {:.2f} ± {:.2f} \".format(m_list[1][0], m_list[1][1]))\n",
    "    print(\"DF significance     = {:.2f} ± {:.2f} \".format(m_list[2][0], m_list[2][1]))\n",
    "    print(\"Total significance  = {:.2f} ± {:.2f} \".format(significance, error))\n"
   ]
  },
  {
   "cell_type": "markdown",
   "metadata": {},
   "source": [
    "test"
   ]
  },
  {
   "cell_type": "code",
   "execution_count": 3,
   "metadata": {
    "scrolled": true
   },
   "outputs": [
    {
     "data": {
      "text/plain": [
       "(3.1240998703626617, 0.1886101017756029)"
      ]
     },
     "execution_count": 3,
     "metadata": {},
     "output_type": "execute_result"
    }
   ],
   "source": [
    "add_in_quadrature_3((1.2,0.1),(1.6,0.2),(2.4,0.2))"
   ]
  },
  {
   "cell_type": "code",
   "execution_count": 4,
   "metadata": {},
   "outputs": [
    {
     "data": {
      "text/plain": [
       "(4.6173585522460785, 0.14733403229794106)"
      ]
     },
     "execution_count": 4,
     "metadata": {},
     "output_type": "execute_result"
    }
   ],
   "source": [
    "add_in_quadrature_n([(1.2,0.1),(1.6,0.2),(2.4,0.2),(3.4,0.1)])"
   ]
  },
  {
   "cell_type": "markdown",
   "metadata": {},
   "source": [
    "# Real ML starts here"
   ]
  },
  {
   "cell_type": "code",
   "execution_count": 7,
   "metadata": {},
   "outputs": [],
   "source": [
    "this_channel = '20220301_ELReLMIs54_MUReLMIs31_btag77'\n",
    "\n",
    "sig = pd.read_feather('/home/grabanal/WVZ/gabriel_ML_data/' + this_channel + '_VVZ_RD.arrow')\n",
    "sig = sig[sig.SR == 0]\n",
    "sig['is_signal'] = True\n",
    "sig = sig.reset_index(drop=True)\n",
    "\n",
    "bg = pd.read_feather('/home/grabanal/WVZ/gabriel_ML_data/' + this_channel + '_FULLBG_RD.arrow')\n",
    "bg = bg[bg.SR == 0]\n",
    "bg['is_signal'] = False\n",
    "bg = bg.reset_index(drop=True)\n",
    "\n",
    "name = 'trained_in_SR0_btagCont'"
   ]
  },
  {
   "cell_type": "code",
   "execution_count": 8,
   "metadata": {},
   "outputs": [
    {
     "name": "stdout",
     "output_type": "stream",
     "text": [
      "39782 781892\n",
      "5.2633852617844346 1069.8244928420672\n"
     ]
    }
   ],
   "source": [
    "print(len(sig), len(bg))\n",
    "print(sum(sig.wgt), sum(bg.wgt))"
   ]
  },
  {
   "cell_type": "code",
   "execution_count": 9,
   "metadata": {
    "scrolled": false
   },
   "outputs": [
    {
     "name": "stdout",
     "output_type": "stream",
     "text": [
      "--- S = 5.26 ± 0.05 \n",
      "--- B = 1069.82 ± 3.53 \n",
      "--- S = 0.00 ± 0.00 \n",
      "--- B = 0.00 ± 0.00 \n",
      "--- S = 0.00 ± 0.00 \n",
      "--- B = 0.00 ± 0.00 \n",
      "SF-inZ significance = 0.16 ± 0.00 \n",
      "SF-noZ significance = 0.00 ± 0.00 \n",
      "DF significance     = 0.00 ± 0.00 \n",
      "Total significance  = 0.16 ± 0.00 \n"
     ]
    }
   ],
   "source": [
    "print_total_significance_and_error(sig, bg)"
   ]
  },
  {
   "cell_type": "code",
   "execution_count": 10,
   "metadata": {},
   "outputs": [
    {
     "data": {
      "text/plain": [
       "Index(['index', 'Wlep1_phi', 'jet_eta_3', 'jet_btagCont_2', 'Zlep1_phi',\n",
       "       'Wlep1_ambiguous', 'leptonic_HT', 'Zlep2_pt', 'jet_m_2', 'jet_pt_2',\n",
       "       'lep4_ambiguous', 'METSig', 'jet_eta_4', 'jet_m_3', 'Zlep2_phi', 'MET',\n",
       "       'other_mass', 'jet_m_4', 'Wlep2_pid', 'jet_eta_1', 'Wlep1_dphi',\n",
       "       'Zlep1_pt', 'eta_3', 'eta_4', 'jet_pt_4', 'METPhi', 'wgt', 'jet_eta_2',\n",
       "       'phi_4', 'v_j_btag70', 'phi_1', 'jet_btagCont_4', 'jet_phi_2',\n",
       "       'jet_phi_3', 'Wlep2_ambiguous', 'Zlep1_dphi', 'Zlep1_pid', 'lep4_pid',\n",
       "       'mass_4l', 'Zlep2_pid', 'pt_4l', 'lep1_ambiguous', 'SR', 'Wlep1_pt',\n",
       "       'lep2_pid', 'Wlep1_pid', 'v_j_btag77', 'Wlep2_phi', 'chisq',\n",
       "       'Zlep1_ambiguous', 'jet_pt_3', 'jet_m_1', 'eta_1', 'v_j_btag85',\n",
       "       'jet_btagCont_3', 'total_HT', 'Zlep2_ambiguous', 'lep3_ambiguous',\n",
       "       'Zlep1_eta', 'Zlep2_dphi', 'lep3_pid', 'jet_btagCont_1', 'HT', 'pt_2',\n",
       "       'pt_4', 'pt_3', 'Wlep1_eta', 'Wlep2_dphi', 'phi_3', 'Zlep2_eta',\n",
       "       'jet_pt_1', 'pt_1', 'jet_phi_4', 'Njet', 'phi_2', 'Zcand_mass',\n",
       "       'Wlep2_eta', 'v_j_btag60', 'lep1_pid', 'v_j_btagCont', 'Wlep2_pt',\n",
       "       'jet_phi_1', 'Nlep', 'lep2_ambiguous', 'eta_2', 'is_signal'],\n",
       "      dtype='object')"
      ]
     },
     "execution_count": 10,
     "metadata": {},
     "output_type": "execute_result"
    }
   ],
   "source": [
    "sig.columns"
   ]
  },
  {
   "cell_type": "code",
   "execution_count": 13,
   "metadata": {},
   "outputs": [],
   "source": [
    "\n",
    "# lep_dphi_cols = ['Zlep1_pt', 'Zlep1_eta', 'Zlep1_dphi', \n",
    "#                  'Zlep2_pt', 'Zlep2_eta', 'Zlep2_dphi', \n",
    "#                  'Wlep1_pt', 'Wlep1_eta', 'Wlep1_dphi', \n",
    "#                  'Wlep2_pt', 'Wlep2_eta', 'Wlep2_dphi', \n",
    "#                  'Zlep1_pid', 'Zlep2_pid', 'Wlep1_pid','Wlep2_pid', \n",
    "#                  'pt_1', 'pt_2', 'pt_4', 'pt_3', \n",
    "#                  'Zcand_mass', 'other_mass', 'mass_4l', 'pt_4l',\n",
    "#                  'leptonic_HT', 'HT',  'total_HT',   \n",
    "#                  'MET', 'METSig', \n",
    "#                  'Njet',\n",
    "#                  'jet_pt_1', 'jet_pt_2', 'jet_pt_3', 'jet_pt_4',\n",
    "#                  'jet_eta_1', 'jet_eta_2', 'jet_eta_3', 'jet_eta_4',\n",
    "#                  'jet_m_1', 'jet_m_2', 'jet_m_3', 'jet_m_4',]\n",
    "\n",
    "                 \n",
    "lep_dphi_cols = ['Zlep1_pt', 'Zlep1_eta', 'Zlep1_dphi', \n",
    "                 'Zlep2_pt', 'Zlep2_eta', 'Zlep2_dphi', \n",
    "                 'Wlep1_pt', 'Wlep1_eta', 'Wlep1_dphi', \n",
    "                 'Wlep2_pt', 'Wlep2_eta', 'Wlep2_dphi', \n",
    "                 'Zlep1_pid', 'Zlep2_pid', 'Wlep1_pid','Wlep2_pid', \n",
    "                 'pt_1', 'pt_2', 'pt_4', 'pt_3', \n",
    "                 'Zcand_mass', 'other_mass', 'mass_4l', 'pt_4l',\n",
    "                 'leptonic_HT', 'HT',  'total_HT',   \n",
    "                 'MET', 'METSig', \n",
    "                 'Njet',\n",
    "                 'jet_pt_1', 'jet_pt_2', 'jet_pt_3', 'jet_pt_4',\n",
    "                 'jet_eta_1', 'jet_eta_2', 'jet_eta_3', 'jet_eta_4',\n",
    "                 'jet_m_1', 'jet_m_2', 'jet_m_3', 'jet_m_4',\n",
    "                 'jet_btagCont_1','jet_btagCont_2','jet_btagCont_3','jet_btagCont_4']\n",
    "\n",
    "X = pd.concat([sig[lep_dphi_cols], bg[lep_dphi_cols]], ignore_index=True)"
   ]
  },
  {
   "cell_type": "code",
   "execution_count": 14,
   "metadata": {},
   "outputs": [],
   "source": [
    "# Normalize inputs for NN training\n",
    "min_max_scaler = preprocessing.MinMaxScaler()\n",
    "\n",
    "min_max_scaler.fit(X)\n",
    "\n",
    "for df in [sig, bg]:\n",
    "    df[lep_dphi_cols] = min_max_scaler.transform(df[lep_dphi_cols])"
   ]
  },
  {
   "cell_type": "code",
   "execution_count": 15,
   "metadata": {},
   "outputs": [],
   "source": [
    "sig['dummy_wgt'] = 1\n",
    "bg['dummy_wgt']  = 1"
   ]
  },
  {
   "cell_type": "code",
   "execution_count": 16,
   "metadata": {},
   "outputs": [],
   "source": [
    "# Split train and test data\n",
    "\n",
    "# sig_train, sig_test = train_test_split(sig[lep_dphi_cols + ['wgt'] + ['SR']], train_size=0.5)\n",
    "# bg_train, bg_test = train_test_split(bg[lep_dphi_cols + ['wgt'] + ['SR']], train_size=0.5)\n",
    "sig_train, sig_test = train_test_split(sig[lep_dphi_cols + ['dummy_wgt'] + ['wgt'] + ['SR']], train_size=0.5)\n",
    "bg_train,  bg_test  = train_test_split( bg[lep_dphi_cols + ['dummy_wgt'] + ['wgt'] + ['SR']], train_size=0.5)\n",
    "\n",
    "n_sig = len(sig_train) # should be weighted?\n",
    "n_bg = len(bg_train)\n",
    "\n",
    "# weighted\n",
    "n_sig = sum(sig_train['wgt']) \n",
    "n_bg = sum(bg_train['wgt'])\n",
    "\n",
    "x_train = pd.concat([sig_train[lep_dphi_cols], bg_train[lep_dphi_cols]])\n",
    "y_train = np.concatenate([np.ones(len(sig_train)), np.zeros(len(bg_train))]) # [1,1,...,0,0,...]\n",
    "wgt_train = np.concatenate([sig_train['wgt'], bg_train['wgt']])\n",
    "# Scaling the weight and dummy weights:\n",
    "w_train = pd.Series(np.concatenate([(n_sig + n_bg) / n_sig * sig_train['wgt'], \n",
    "                                    (n_sig + n_bg) / n_bg  *  bg_train['wgt']]))\n",
    "dummy_w_train = pd.Series(np.concatenate([(n_sig + n_bg) / n_sig * sig_train['dummy_wgt'], \n",
    "                                          (n_sig + n_bg) / n_bg  *  bg_train['dummy_wgt']]))\n",
    "SR_train = np.concatenate([sig_train['SR'], bg_train['SR']])\n",
    "# sklearn.utils import shuffle\n",
    "x_train, y_train, wgt_train, w_train, dummy_w_train, SR_train = shuffle(x_train, y_train, wgt_train, w_train, dummy_w_train, SR_train)\n",
    "\n",
    "\n",
    "n_sig = len(sig_test) \n",
    "n_bg = len(bg_test)\n",
    "\n",
    "# weighted\n",
    "n_sig = sum(sig_test['wgt']) \n",
    "n_bg = sum(bg_test['wgt'])\n",
    "\n",
    "\n",
    "x_test = pd.concat([sig_test[lep_dphi_cols], bg_test[lep_dphi_cols]])\n",
    "y_test = np.concatenate([np.ones(len(sig_test)), np.zeros(len(bg_test))])  # [1,1,...,0,0,...]\n",
    "wgt_test = np.concatenate([sig_test['wgt'], bg_test['wgt']])\n",
    "# Scaling the weight and dummy weights:\n",
    "w_test = pd.Series(np.concatenate([(n_sig + n_bg) / n_sig * sig_test['wgt'], \n",
    "                                   (n_sig + n_bg) / n_bg  * bg_test['wgt']]))\n",
    "dummy_w_test = pd.Series(np.concatenate([(n_sig + n_bg) / n_sig * sig_test['dummy_wgt'], \n",
    "                                         (n_sig + n_bg) / n_bg  *  bg_test['dummy_wgt']]))\n",
    "SR_test = np.concatenate([sig_test['SR'], bg_test['SR']])\n"
   ]
  },
  {
   "cell_type": "code",
   "execution_count": 17,
   "metadata": {
    "scrolled": true
   },
   "outputs": [
    {
     "name": "stdout",
     "output_type": "stream",
     "text": [
      "19891 390946 410837 410837\n",
      "Training sample\n",
      "--- S = 2.63 ± 0.03 \n",
      "--- B = 534.70 ± 2.57 \n",
      "--- S = 0.00 ± 0.00 \n",
      "--- B = 0.00 ± 0.00 \n",
      "--- S = 0.00 ± 0.00 \n",
      "--- B = 0.00 ± 0.00 \n",
      "SF-inZ significance = 0.11 ± 0.00 \n",
      "SF-noZ significance = 0.00 ± 0.00 \n",
      "DF significance     = 0.00 ± 0.00 \n",
      "Total significance  = 0.11 ± 0.00 \n"
     ]
    }
   ],
   "source": [
    "print(len(sig_train), len(bg_train), len(y_train), len(w_train))\n",
    "print(\"Training sample\")\n",
    "print_total_significance_and_error(sig_train, bg_train)"
   ]
  },
  {
   "cell_type": "code",
   "execution_count": 18,
   "metadata": {},
   "outputs": [
    {
     "name": "stdout",
     "output_type": "stream",
     "text": [
      "19891 390946 410837 410837\n",
      "Eval sample\n",
      "--- S = 2.63 ± 0.03 \n",
      "--- B = 535.12 ± 2.42 \n",
      "--- S = 0.00 ± 0.00 \n",
      "--- B = 0.00 ± 0.00 \n",
      "--- S = 0.00 ± 0.00 \n",
      "--- B = 0.00 ± 0.00 \n",
      "SF-inZ significance = 0.11 ± 0.00 \n",
      "SF-noZ significance = 0.00 ± 0.00 \n",
      "DF significance     = 0.00 ± 0.00 \n",
      "Total significance  = 0.11 ± 0.00 \n"
     ]
    }
   ],
   "source": [
    "print(len(sig_test), len(bg_test), len(y_test), len(w_test))\n",
    "print(\"Eval sample\")\n",
    "print_total_significance_and_error(sig_test, bg_test)"
   ]
  },
  {
   "cell_type": "code",
   "execution_count": 19,
   "metadata": {
    "scrolled": true
   },
   "outputs": [
    {
     "data": {
      "image/png": "[encoded data removed]",
      "text/plain": [
       "<Figure size 921.6x345.6 with 2 Axes>"
      ]
     },
     "metadata": {
      "needs_background": "light"
     },
     "output_type": "display_data"
    }
   ],
   "source": [
    "plt.figure(figsize=[2*6.4,1*4.8])\n",
    "\n",
    "b = 50\n",
    "ax = plt.subplot(1, 2, 1)\n",
    "m = 1.05*np.max([np.max(abs(w_train)), np.max(abs(w_test))])\n",
    "# plot test\n",
    "_, b, _ = plt.hist(w_test[y_test==0], bins=b, alpha=0.5, range=(-m,m), label='Bkg (eval)')\n",
    "_, b, _ = plt.hist(w_test[y_test==1], bins=b, alpha=0.5, range=(-m,m), label='Sig (eval)')\n",
    "# plot train\n",
    "bin_centers = (b[:-1]+b[1:])/2\n",
    "w_train_bg  = np.histogram(w_train[y_train == 0], bins=b)[0]\n",
    "w_train_sig = np.histogram(w_train[y_train == 1], bins=b)[0]\n",
    "plt.scatter(bin_centers, w_train_bg,  label='Bkg (train)')\n",
    "plt.scatter(bin_centers, w_train_sig, label='Sig (train)')\n",
    "plt.xlim([-m,m])\n",
    "plt.yscale('log')\n",
    "plt.legend()\n",
    "plt.xlabel('scaled MC weight', fontsize=14)\n",
    "plt.ylabel('N(entries)', fontsize=14)\n",
    "\n",
    "b = 50\n",
    "ax = plt.subplot(1, 2, 2)\n",
    "m = 1.05*np.max([np.max(abs(dummy_w_train)), np.max(abs(dummy_w_test))])\n",
    "# plot test\n",
    "_, b, _ = plt.hist(dummy_w_test[y_test==0], bins=b, alpha=0.5, range=(-m,m), label='Bkg (eval)')\n",
    "_, b, _ = plt.hist(dummy_w_test[y_test==1], bins=b, alpha=0.5, range=(-m,m), label='Sig (eval)')\n",
    "bin_centers = (b[:-1]+b[1:])/2\n",
    "# plot train\n",
    "dummy_w_train_bg  = np.histogram(dummy_w_train[y_train == 0], bins=b)[0]\n",
    "dummy_w_train_sig = np.histogram(dummy_w_train[y_train == 1], bins=b)[0]\n",
    "plt.scatter(bin_centers, dummy_w_train_bg,  label='Bkg (train)')\n",
    "plt.scatter(bin_centers, dummy_w_train_sig, label='Sig (train)')\n",
    "plt.xlim([-m,m])\n",
    "plt.yscale('log')\n",
    "plt.legend()\n",
    "plt.xlabel('scaled dummy weight', fontsize=14)\n",
    "plt.ylabel('N(entries)', fontsize=14)\n",
    "\n",
    "plt.savefig('plots/scaled_weights_{}.pdf'.format(name))\n",
    "\n",
    "plt.show()"
   ]
  },
  {
   "cell_type": "markdown",
   "metadata": {},
   "source": [
    "Zoomed-in version of the normal MC weight, to see the substructure:"
   ]
  },
  {
   "cell_type": "code",
   "execution_count": 20,
   "metadata": {},
   "outputs": [
    {
     "name": "stdout",
     "output_type": "stream",
     "text": [
      "0.008348174604428743\n",
      "0.00016696349208857487\n"
     ]
    },
    {
     "data": {
      "image/png": "[encoded data removed]",
      "text/plain": [
       "<Figure size 921.6x691.2 with 4 Axes>"
      ]
     },
     "metadata": {
      "needs_background": "light"
     },
     "output_type": "display_data"
    }
   ],
   "source": [
    "fig = plt.figure(figsize=[2*6.4,2*4.8])\n",
    "\n",
    "b = 50\n",
    "ax = plt.subplot(2, 2, 1)\n",
    "m = 1.05*np.max([np.max(abs(wgt_train[y_train==0])), np.max(abs(wgt_test[y_test==0]))])\n",
    "# plot test\n",
    "_, b, _ = plt.hist(wgt_test[y_test==0], bins=b, alpha=0.5, range=(-m,m), label='Bkg (eval)')# plot train\n",
    "bin_centers = (b[:-1]+b[1:])/2\n",
    "wgt_train_bg  = np.histogram(wgt_train[y_train == 0], bins=b)[0]\n",
    "plt.scatter(bin_centers, wgt_train_bg,  label='Bkg (train)')\n",
    "plt.xlim([-m,m])\n",
    "# plt.yscale('log')\n",
    "plt.legend()\n",
    "plt.xlabel('raw MC weight', fontsize=14)\n",
    "plt.ylabel('N(entries)', fontsize=14)\n",
    "\n",
    "b = 50\n",
    "ax = plt.subplot(2, 2, 2)\n",
    "m = 1.05*np.max([np.max(abs(wgt_train[y_train==1])), np.max(abs(wgt_test[y_test==1]))])\n",
    "print(m)\n",
    "# plot test\n",
    "_, b, _ = plt.hist(wgt_test[y_test==1], bins=b, alpha=0.5, range=(-m,m), label='Sig (eval)', color='C1')\n",
    "# plot train\n",
    "bin_centers = (b[:-1]+b[1:])/2\n",
    "wgt_train_sig = np.histogram(wgt_train[y_train == 1], bins=b)[0]\n",
    "plt.scatter(bin_centers, wgt_train_sig, label='Sig (train)', color='C1')\n",
    "plt.xlim([-m,m])\n",
    "# plt.yscale('log')\n",
    "plt.legend()\n",
    "plt.xlabel('raw MC weight', fontsize=14)\n",
    "plt.ylabel('N(entries)', fontsize=14)\n",
    "\n",
    "\n",
    "b = 50\n",
    "ax = plt.subplot(2, 2, 3)\n",
    "m = 1.05*np.max([np.max(abs(wgt_train[y_train==0])), np.max(abs(wgt_test[y_test==0]))])*0.0015\n",
    "# plot test\n",
    "_, b, _ = plt.hist(wgt_test[y_test==0], bins=b, alpha=0.5, range=(-m,m), label='Bkg (eval)')# plot train\n",
    "bin_centers = (b[:-1]+b[1:])/2\n",
    "wgt_train_bg  = np.histogram(wgt_train[y_train == 0], bins=b)[0]\n",
    "plt.scatter(bin_centers, wgt_train_bg,  label='Bkg (train)')\n",
    "plt.xlim([-m,m])\n",
    "# plt.yscale('log')\n",
    "plt.legend()\n",
    "plt.xlabel('raw MC weight', fontsize=14)\n",
    "plt.ylabel('N(entries)', fontsize=14)\n",
    "\n",
    "b = 50\n",
    "ax = plt.subplot(2, 2, 4)\n",
    "m = 1.05*np.max([np.max(abs(wgt_train[y_train==1])), np.max(abs(wgt_test[y_test==1]))])*0.02\n",
    "print(m)\n",
    "# plot test\n",
    "_, b, _ = plt.hist(wgt_test[y_test==1], bins=b, alpha=0.5, range=(-m,m), label='Sig (eval)', color='C1')\n",
    "# plot train\n",
    "bin_centers = (b[:-1]+b[1:])/2\n",
    "wgt_train_sig = np.histogram(wgt_train[y_train == 1], bins=b)[0]\n",
    "plt.scatter(bin_centers, wgt_train_sig, label='Sig (train)', color='C1')\n",
    "plt.xlim([-m,m])\n",
    "# plt.yscale('log')\n",
    "plt.legend()\n",
    "plt.xlabel('raw MC weight', fontsize=14)\n",
    "plt.ylabel('N(entries)', fontsize=14)\n",
    "\n",
    "plt.savefig('plots/raw_weights_{}.pdf'.format(name))\n",
    "plt.show()"
   ]
  },
  {
   "cell_type": "markdown",
   "metadata": {},
   "source": [
    "# Fit ML classifier"
   ]
  },
  {
   "cell_type": "code",
   "execution_count": 21,
   "metadata": {},
   "outputs": [],
   "source": [
    "use_mc_weights = True\n",
    "# use_mc_weights = False\n",
    "\n",
    "# Chop off the negative weights?"
   ]
  },
  {
   "cell_type": "markdown",
   "metadata": {},
   "source": [
    "Train and evaluate!"
   ]
  },
  {
   "cell_type": "code",
   "execution_count": 22,
   "metadata": {
    "scrolled": true
   },
   "outputs": [
    {
     "name": "stdout",
     "output_type": "stream",
     "text": [
      "Running model 0\n"
     ]
    },
    {
     "name": "stderr",
     "output_type": "stream",
     "text": [
      "2022-03-02 06:38:33.877004: I tensorflow/core/platform/cpu_feature_guard.cc:142] This TensorFlow binary is optimized with oneAPI Deep Neural Network Library (oneDNN) to use the following CPU instructions in performance-critical operations:  SSE4.1 SSE4.2 AVX AVX2 AVX512F FMA\n",
      "To enable them in other operations, rebuild TensorFlow with the appropriate compiler flags.\n",
      "2022-03-02 06:38:33.879057: I tensorflow/core/common_runtime/gpu/gpu_device.cc:1720] Found device 0 with properties: \n",
      "pciBusID: 0000:65:00.0 name: Quadro RTX 4000 computeCapability: 7.5\n",
      "coreClock: 1.545GHz coreCount: 36 deviceMemorySize: 7.79GiB deviceMemoryBandwidth: 387.49GiB/s\n",
      "2022-03-02 06:38:33.879103: I tensorflow/stream_executor/platform/default/dso_loader.cc:49] Successfully opened dynamic library libcudart.so.10.1\n",
      "2022-03-02 06:38:33.879120: I tensorflow/stream_executor/platform/default/dso_loader.cc:49] Successfully opened dynamic library libcublas.so.10\n",
      "2022-03-02 06:38:33.879129: I tensorflow/stream_executor/platform/default/dso_loader.cc:49] Successfully opened dynamic library libcublasLt.so.10\n",
      "2022-03-02 06:38:33.879138: I tensorflow/stream_executor/platform/default/dso_loader.cc:49] Successfully opened dynamic library libcufft.so.10\n",
      "2022-03-02 06:38:33.879146: I tensorflow/stream_executor/platform/default/dso_loader.cc:49] Successfully opened dynamic library libcurand.so.10\n",
      "2022-03-02 06:38:33.879154: I tensorflow/stream_executor/platform/default/dso_loader.cc:49] Successfully opened dynamic library libcusolver.so.10\n",
      "2022-03-02 06:38:33.879162: I tensorflow/stream_executor/platform/default/dso_loader.cc:49] Successfully opened dynamic library libcusparse.so.10\n",
      "2022-03-02 06:38:33.879170: I tensorflow/stream_executor/platform/default/dso_loader.cc:49] Successfully opened dynamic library libcudnn.so.7\n",
      "2022-03-02 06:38:33.879469: I tensorflow/core/common_runtime/gpu/gpu_device.cc:1862] Adding visible gpu devices: 0\n",
      "2022-03-02 06:38:33.879502: I tensorflow/stream_executor/platform/default/dso_loader.cc:49] Successfully opened dynamic library libcudart.so.10.1\n",
      "2022-03-02 06:38:34.334906: I tensorflow/core/common_runtime/gpu/gpu_device.cc:1261] Device interconnect StreamExecutor with strength 1 edge matrix:\n",
      "2022-03-02 06:38:34.334940: I tensorflow/core/common_runtime/gpu/gpu_device.cc:1267]      0 \n",
      "2022-03-02 06:38:34.334949: I tensorflow/core/common_runtime/gpu/gpu_device.cc:1280] 0:   N \n",
      "2022-03-02 06:38:34.335576: I tensorflow/core/common_runtime/gpu/gpu_device.cc:1406] Created TensorFlow device (/job:localhost/replica:0/task:0/device:GPU:0 with 5209 MB memory) -> physical GPU (device: 0, name: Quadro RTX 4000, pci bus id: 0000:65:00.0, compute capability: 7.5)\n",
      "2022-03-02 06:38:34.335823: I tensorflow/compiler/jit/xla_gpu_device.cc:99] Not creating XLA devices, tf_xla_enable_xla_devices not set\n",
      "2022-03-02 06:38:34.665672: I tensorflow/compiler/mlir/mlir_graph_optimization_pass.cc:116] None of the MLIR optimization passes are enabled (registered 2)\n",
      "2022-03-02 06:38:34.666061: I tensorflow/core/platform/profile_utils/cpu_utils.cc:112] CPU Frequency: 3500000000 Hz\n"
     ]
    },
    {
     "name": "stdout",
     "output_type": "stream",
     "text": [
      "Epoch 1/10000\n"
     ]
    },
    {
     "name": "stderr",
     "output_type": "stream",
     "text": [
      "2022-03-02 06:38:35.166872: I tensorflow/stream_executor/platform/default/dso_loader.cc:49] Successfully opened dynamic library libcublas.so.10\n"
     ]
    },
    {
     "name": "stdout",
     "output_type": "stream",
     "text": [
      "1605/1605 [==============================] - 12s 7ms/step - loss: 0.0015 - accuracy: 0.5862 - val_loss: 0.0012 - val_accuracy: 0.6218\n",
      "Epoch 2/10000\n",
      "1605/1605 [==============================] - 11s 7ms/step - loss: 0.0012 - accuracy: 0.6112 - val_loss: 0.0011 - val_accuracy: 0.6176\n",
      "Epoch 3/10000\n",
      "1605/1605 [==============================] - 11s 7ms/step - loss: 0.0012 - accuracy: 0.6176 - val_loss: 0.0011 - val_accuracy: 0.6623\n",
      "Epoch 4/10000\n",
      "1605/1605 [==============================] - 11s 7ms/step - loss: 0.0012 - accuracy: 0.6361 - val_loss: 0.0011 - val_accuracy: 0.6644\n",
      "Epoch 5/10000\n",
      "1605/1605 [==============================] - 10s 7ms/step - loss: 0.0011 - accuracy: 0.6363 - val_loss: 0.0011 - val_accuracy: 0.6791\n",
      "Epoch 6/10000\n",
      "1605/1605 [==============================] - 10s 6ms/step - loss: 0.0011 - accuracy: 0.6357 - val_loss: 0.0011 - val_accuracy: 0.5903\n",
      "Epoch 7/10000\n",
      "1605/1605 [==============================] - 11s 7ms/step - loss: 0.0011 - accuracy: 0.6307 - val_loss: 0.0011 - val_accuracy: 0.6785\n",
      "Epoch 8/10000\n",
      "1605/1605 [==============================] - 11s 7ms/step - loss: 0.0011 - accuracy: 0.6456 - val_loss: 0.0011 - val_accuracy: 0.7109\n",
      "Epoch 9/10000\n",
      "1605/1605 [==============================] - 12s 7ms/step - loss: 0.0011 - accuracy: 0.6436 - val_loss: 0.0011 - val_accuracy: 0.7144\n",
      "Epoch 10/10000\n",
      "1605/1605 [==============================] - 11s 7ms/step - loss: 0.0011 - accuracy: 0.6440 - val_loss: 0.0011 - val_accuracy: 0.6025\n",
      "Epoch 11/10000\n",
      "1605/1605 [==============================] - 12s 7ms/step - loss: 0.0011 - accuracy: 0.6377 - val_loss: 0.0011 - val_accuracy: 0.6668\n",
      "Epoch 12/10000\n",
      "1605/1605 [==============================] - 11s 7ms/step - loss: 0.0011 - accuracy: 0.6360 - val_loss: 0.0011 - val_accuracy: 0.6884\n",
      "Epoch 13/10000\n",
      "1605/1605 [==============================] - 11s 7ms/step - loss: 0.0011 - accuracy: 0.6389 - val_loss: 0.0011 - val_accuracy: 0.7216\n",
      "Epoch 14/10000\n",
      "1605/1605 [==============================] - 11s 7ms/step - loss: 0.0011 - accuracy: 0.6432 - val_loss: 0.0011 - val_accuracy: 0.6771\n",
      "Epoch 15/10000\n",
      "1605/1605 [==============================] - 11s 7ms/step - loss: 0.0011 - accuracy: 0.6497 - val_loss: 0.0011 - val_accuracy: 0.6527\n",
      "Epoch 16/10000\n",
      "1605/1605 [==============================] - 11s 7ms/step - loss: 0.0011 - accuracy: 0.6365 - val_loss: 0.0011 - val_accuracy: 0.6509\n",
      "Epoch 17/10000\n",
      "1605/1605 [==============================] - 11s 7ms/step - loss: 0.0011 - accuracy: 0.6526 - val_loss: 0.0011 - val_accuracy: 0.7324\n",
      "Epoch 18/10000\n",
      "1605/1605 [==============================] - 11s 7ms/step - loss: 0.0011 - accuracy: 0.6310 - val_loss: 0.0011 - val_accuracy: 0.6604\n",
      "Epoch 19/10000\n",
      "1605/1605 [==============================] - 11s 7ms/step - loss: 0.0011 - accuracy: 0.6425 - val_loss: 0.0011 - val_accuracy: 0.6264\n",
      "Epoch 20/10000\n",
      "1605/1605 [==============================] - 11s 7ms/step - loss: 0.0011 - accuracy: 0.6525 - val_loss: 0.0010 - val_accuracy: 0.6409\n",
      "Epoch 21/10000\n",
      "1605/1605 [==============================] - 11s 7ms/step - loss: 0.0011 - accuracy: 0.6429 - val_loss: 0.0011 - val_accuracy: 0.6090\n",
      "Epoch 22/10000\n",
      "1605/1605 [==============================] - 11s 7ms/step - loss: 0.0010 - accuracy: 0.6345 - val_loss: 0.0011 - val_accuracy: 0.6695\n",
      "Epoch 23/10000\n",
      "1605/1605 [==============================] - 11s 7ms/step - loss: 0.0010 - accuracy: 0.6329 - val_loss: 0.0011 - val_accuracy: 0.6690\n",
      "Epoch 24/10000\n",
      "1605/1605 [==============================] - 11s 7ms/step - loss: 0.0010 - accuracy: 0.6476 - val_loss: 0.0011 - val_accuracy: 0.6933\n",
      "Epoch 25/10000\n",
      "1605/1605 [==============================] - 11s 7ms/step - loss: 0.0010 - accuracy: 0.6422 - val_loss: 0.0011 - val_accuracy: 0.6663\n",
      "Epoch 26/10000\n",
      "1605/1605 [==============================] - 11s 7ms/step - loss: 0.0010 - accuracy: 0.6397 - val_loss: 0.0011 - val_accuracy: 0.7009\n",
      "Epoch 27/10000\n",
      "1605/1605 [==============================] - 11s 7ms/step - loss: 0.0010 - accuracy: 0.6449 - val_loss: 0.0011 - val_accuracy: 0.6685\n",
      "Epoch 28/10000\n",
      "1605/1605 [==============================] - 11s 7ms/step - loss: 0.0010 - accuracy: 0.6365 - val_loss: 0.0011 - val_accuracy: 0.5471\n",
      "Epoch 29/10000\n",
      "1605/1605 [==============================] - 11s 7ms/step - loss: 0.0010 - accuracy: 0.6318 - val_loss: 0.0010 - val_accuracy: 0.6623\n",
      "Epoch 30/10000\n",
      "1605/1605 [==============================] - 11s 7ms/step - loss: 0.0010 - accuracy: 0.6455 - val_loss: 0.0011 - val_accuracy: 0.6445\n",
      "Epoch 31/10000\n",
      "1605/1605 [==============================] - 12s 7ms/step - loss: 0.0010 - accuracy: 0.6389 - val_loss: 0.0011 - val_accuracy: 0.6214\n",
      "Epoch 32/10000\n",
      "1605/1605 [==============================] - 12s 7ms/step - loss: 0.0010 - accuracy: 0.6438 - val_loss: 0.0011 - val_accuracy: 0.6796\n",
      "Epoch 33/10000\n",
      "1605/1605 [==============================] - 12s 7ms/step - loss: 0.0010 - accuracy: 0.6403 - val_loss: 0.0011 - val_accuracy: 0.5804\n",
      "Epoch 34/10000\n",
      "1605/1605 [==============================] - 12s 7ms/step - loss: 0.0010 - accuracy: 0.6391 - val_loss: 0.0011 - val_accuracy: 0.5829\n",
      "Epoch 35/10000\n",
      "1605/1605 [==============================] - 11s 7ms/step - loss: 0.0010 - accuracy: 0.6395 - val_loss: 0.0011 - val_accuracy: 0.6892\n",
      "Epoch 36/10000\n",
      "1605/1605 [==============================] - 11s 7ms/step - loss: 0.0010 - accuracy: 0.6330 - val_loss: 0.0010 - val_accuracy: 0.6533\n",
      "Epoch 37/10000\n",
      "1605/1605 [==============================] - 11s 7ms/step - loss: 0.0010 - accuracy: 0.6356 - val_loss: 0.0011 - val_accuracy: 0.5979\n",
      "Epoch 38/10000\n",
      "1605/1605 [==============================] - 12s 7ms/step - loss: 0.0010 - accuracy: 0.6354 - val_loss: 0.0011 - val_accuracy: 0.6035\n",
      "Epoch 39/10000\n",
      "1605/1605 [==============================] - 12s 7ms/step - loss: 0.0010 - accuracy: 0.6356 - val_loss: 0.0010 - val_accuracy: 0.7010\n",
      "Epoch 40/10000\n",
      "1605/1605 [==============================] - 12s 7ms/step - loss: 0.0010 - accuracy: 0.6479 - val_loss: 0.0010 - val_accuracy: 0.6172\n",
      "Epoch 41/10000\n",
      "1605/1605 [==============================] - 12s 7ms/step - loss: 0.0010 - accuracy: 0.6357 - val_loss: 0.0011 - val_accuracy: 0.6433\n",
      "Epoch 42/10000\n",
      "1605/1605 [==============================] - 12s 7ms/step - loss: 0.0010 - accuracy: 0.6427 - val_loss: 0.0011 - val_accuracy: 0.6767\n",
      "Epoch 43/10000\n",
      "1605/1605 [==============================] - 12s 7ms/step - loss: 9.9733e-04 - accuracy: 0.6532 - val_loss: 0.0011 - val_accuracy: 0.6209\n",
      "Epoch 44/10000\n",
      "1605/1605 [==============================] - 12s 7ms/step - loss: 9.9707e-04 - accuracy: 0.6352 - val_loss: 0.0011 - val_accuracy: 0.6146\n",
      "Epoch 45/10000\n",
      "1605/1605 [==============================] - 12s 7ms/step - loss: 0.0010 - accuracy: 0.6463 - val_loss: 0.0010 - val_accuracy: 0.6829\n",
      "Epoch 46/10000\n",
      "1605/1605 [==============================] - 11s 7ms/step - loss: 0.0010 - accuracy: 0.6402 - val_loss: 0.0011 - val_accuracy: 0.6748\n",
      "Epoch 47/10000\n",
      "1605/1605 [==============================] - 12s 7ms/step - loss: 0.0010 - accuracy: 0.6428 - val_loss: 0.0010 - val_accuracy: 0.6613\n",
      "Epoch 48/10000\n",
      "1605/1605 [==============================] - 12s 7ms/step - loss: 0.0010 - accuracy: 0.6368 - val_loss: 0.0011 - val_accuracy: 0.6626\n",
      "Epoch 49/10000\n",
      "1605/1605 [==============================] - 12s 7ms/step - loss: 0.0010 - accuracy: 0.6387 - val_loss: 0.0010 - val_accuracy: 0.6543\n",
      "Epoch 50/10000\n",
      "1605/1605 [==============================] - 12s 7ms/step - loss: 0.0010 - accuracy: 0.6364 - val_loss: 0.0011 - val_accuracy: 0.6708\n",
      "Epoch 51/10000\n",
      "1605/1605 [==============================] - 12s 7ms/step - loss: 0.0010 - accuracy: 0.6488 - val_loss: 0.0011 - val_accuracy: 0.7056\n",
      "Epoch 52/10000\n",
      "1605/1605 [==============================] - 12s 7ms/step - loss: 9.9146e-04 - accuracy: 0.6570 - val_loss: 0.0011 - val_accuracy: 0.6846\n",
      "Epoch 53/10000\n",
      "1605/1605 [==============================] - 12s 7ms/step - loss: 0.0010 - accuracy: 0.6489 - val_loss: 0.0011 - val_accuracy: 0.6805\n",
      "Epoch 54/10000\n",
      "1605/1605 [==============================] - 12s 7ms/step - loss: 9.9635e-04 - accuracy: 0.6475 - val_loss: 0.0010 - val_accuracy: 0.6397\n",
      "Epoch 55/10000\n",
      "1605/1605 [==============================] - 11s 7ms/step - loss: 9.8448e-04 - accuracy: 0.6438 - val_loss: 0.0011 - val_accuracy: 0.6548\n",
      "Epoch 56/10000\n"
     ]
    },
    {
     "name": "stdout",
     "output_type": "stream",
     "text": [
      "1605/1605 [==============================] - 12s 7ms/step - loss: 9.9546e-04 - accuracy: 0.6482 - val_loss: 0.0011 - val_accuracy: 0.7211\n",
      "Epoch 57/10000\n",
      "1605/1605 [==============================] - 12s 7ms/step - loss: 9.9821e-04 - accuracy: 0.6444 - val_loss: 0.0010 - val_accuracy: 0.6437\n",
      "Epoch 58/10000\n",
      "1605/1605 [==============================] - 12s 7ms/step - loss: 9.9439e-04 - accuracy: 0.6535 - val_loss: 0.0011 - val_accuracy: 0.6735\n",
      "Epoch 59/10000\n",
      "1605/1605 [==============================] - 12s 7ms/step - loss: 9.7455e-04 - accuracy: 0.6526 - val_loss: 0.0011 - val_accuracy: 0.6862\n",
      "Epoch 60/10000\n",
      "1605/1605 [==============================] - 12s 7ms/step - loss: 9.9149e-04 - accuracy: 0.6570 - val_loss: 0.0010 - val_accuracy: 0.6795\n",
      "Epoch 61/10000\n",
      "1605/1605 [==============================] - 12s 7ms/step - loss: 9.8464e-04 - accuracy: 0.6510 - val_loss: 0.0010 - val_accuracy: 0.6597\n",
      "Epoch 62/10000\n",
      "1605/1605 [==============================] - 11s 7ms/step - loss: 9.8467e-04 - accuracy: 0.6469 - val_loss: 0.0010 - val_accuracy: 0.6176\n",
      "Epoch 63/10000\n",
      "1605/1605 [==============================] - 12s 7ms/step - loss: 9.8952e-04 - accuracy: 0.6464 - val_loss: 0.0010 - val_accuracy: 0.6586\n",
      "Epoch 64/10000\n",
      "1605/1605 [==============================] - 11s 7ms/step - loss: 9.7950e-04 - accuracy: 0.6462 - val_loss: 0.0010 - val_accuracy: 0.6498\n",
      "Epoch 65/10000\n",
      "1605/1605 [==============================] - 12s 7ms/step - loss: 9.8802e-04 - accuracy: 0.6468 - val_loss: 0.0010 - val_accuracy: 0.6613\n",
      "Epoch 66/10000\n",
      "1605/1605 [==============================] - 12s 7ms/step - loss: 9.9432e-04 - accuracy: 0.6487 - val_loss: 0.0011 - val_accuracy: 0.6713\n",
      "Epoch 67/10000\n",
      "1605/1605 [==============================] - 12s 7ms/step - loss: 9.7973e-04 - accuracy: 0.6572 - val_loss: 0.0011 - val_accuracy: 0.6480\n",
      "Epoch 68/10000\n",
      "1605/1605 [==============================] - 12s 7ms/step - loss: 9.9021e-04 - accuracy: 0.6576 - val_loss: 0.0011 - val_accuracy: 0.6583\n",
      "Epoch 69/10000\n",
      "1605/1605 [==============================] - 12s 7ms/step - loss: 9.9397e-04 - accuracy: 0.6515 - val_loss: 0.0011 - val_accuracy: 0.6204\n",
      "Epoch 70/10000\n",
      "1605/1605 [==============================] - 12s 7ms/step - loss: 9.8110e-04 - accuracy: 0.6576 - val_loss: 0.0011 - val_accuracy: 0.6745\n",
      "Epoch 71/10000\n",
      "1605/1605 [==============================] - 11s 7ms/step - loss: 9.8850e-04 - accuracy: 0.6507 - val_loss: 0.0010 - val_accuracy: 0.6537\n",
      "Epoch 72/10000\n",
      "1605/1605 [==============================] - 12s 7ms/step - loss: 9.7493e-04 - accuracy: 0.6575 - val_loss: 0.0011 - val_accuracy: 0.6657\n",
      "Epoch 73/10000\n",
      "1605/1605 [==============================] - 12s 7ms/step - loss: 9.8295e-04 - accuracy: 0.6470 - val_loss: 0.0011 - val_accuracy: 0.6227\n",
      "Epoch 74/10000\n",
      "1605/1605 [==============================] - 12s 7ms/step - loss: 9.5753e-04 - accuracy: 0.6508 - val_loss: 0.0011 - val_accuracy: 0.6716\n",
      "Epoch 75/10000\n",
      "1605/1605 [==============================] - 12s 7ms/step - loss: 9.3107e-04 - accuracy: 0.6525 - val_loss: 0.0011 - val_accuracy: 0.6778\n",
      "Epoch 76/10000\n",
      "1605/1605 [==============================] - 11s 7ms/step - loss: 9.8242e-04 - accuracy: 0.6586 - val_loss: 0.0011 - val_accuracy: 0.6887\n",
      "Epoch 77/10000\n",
      "1605/1605 [==============================] - 12s 7ms/step - loss: 9.9468e-04 - accuracy: 0.6493 - val_loss: 0.0011 - val_accuracy: 0.6671\n",
      "Epoch 78/10000\n",
      "1605/1605 [==============================] - 12s 7ms/step - loss: 9.7299e-04 - accuracy: 0.6584 - val_loss: 0.0011 - val_accuracy: 0.7073\n",
      "Epoch 79/10000\n",
      "1605/1605 [==============================] - 12s 7ms/step - loss: 9.7460e-04 - accuracy: 0.6592 - val_loss: 0.0011 - val_accuracy: 0.6673\n",
      "Epoch 80/10000\n",
      "1605/1605 [==============================] - 12s 7ms/step - loss: 9.7323e-04 - accuracy: 0.6534 - val_loss: 0.0011 - val_accuracy: 0.6862\n",
      "Epoch 81/10000\n",
      "1605/1605 [==============================] - 12s 7ms/step - loss: 9.5452e-04 - accuracy: 0.6643 - val_loss: 0.0011 - val_accuracy: 0.6721\n",
      "Epoch 82/10000\n",
      "1605/1605 [==============================] - 12s 7ms/step - loss: 9.8184e-04 - accuracy: 0.6537 - val_loss: 0.0011 - val_accuracy: 0.5600\n",
      "Epoch 83/10000\n",
      "1605/1605 [==============================] - 12s 7ms/step - loss: 9.7425e-04 - accuracy: 0.6563 - val_loss: 0.0010 - val_accuracy: 0.6874\n",
      "Running model 1\n",
      "Epoch 1/10000\n",
      "1605/1605 [==============================] - 12s 7ms/step - loss: 0.0015 - accuracy: 0.5671 - val_loss: 0.0012 - val_accuracy: 0.6135\n",
      "Epoch 2/10000\n",
      "1605/1605 [==============================] - 11s 7ms/step - loss: 0.0012 - accuracy: 0.6237 - val_loss: 0.0011 - val_accuracy: 0.5659\n",
      "Epoch 3/10000\n",
      "1605/1605 [==============================] - 12s 7ms/step - loss: 0.0012 - accuracy: 0.6276 - val_loss: 0.0011 - val_accuracy: 0.6306\n",
      "Epoch 4/10000\n",
      "1605/1605 [==============================] - 11s 7ms/step - loss: 0.0012 - accuracy: 0.6315 - val_loss: 0.0011 - val_accuracy: 0.5810\n",
      "Epoch 5/10000\n",
      "1605/1605 [==============================] - 12s 7ms/step - loss: 0.0011 - accuracy: 0.6335 - val_loss: 0.0011 - val_accuracy: 0.6588\n",
      "Epoch 6/10000\n",
      "1605/1605 [==============================] - 12s 7ms/step - loss: 0.0011 - accuracy: 0.6352 - val_loss: 0.0011 - val_accuracy: 0.6408\n",
      "Epoch 7/10000\n",
      "1605/1605 [==============================] - 12s 7ms/step - loss: 0.0011 - accuracy: 0.6330 - val_loss: 0.0011 - val_accuracy: 0.6363\n",
      "Epoch 8/10000\n",
      "1605/1605 [==============================] - 12s 7ms/step - loss: 0.0011 - accuracy: 0.6508 - val_loss: 0.0011 - val_accuracy: 0.6614\n",
      "Epoch 9/10000\n",
      "1605/1605 [==============================] - 12s 7ms/step - loss: 0.0011 - accuracy: 0.6307 - val_loss: 0.0011 - val_accuracy: 0.6385\n",
      "Epoch 10/10000\n",
      "1605/1605 [==============================] - 12s 7ms/step - loss: 0.0011 - accuracy: 0.6337 - val_loss: 0.0011 - val_accuracy: 0.6518\n",
      "Epoch 11/10000\n",
      "1605/1605 [==============================] - 12s 7ms/step - loss: 0.0011 - accuracy: 0.6389 - val_loss: 0.0011 - val_accuracy: 0.7025\n",
      "Epoch 12/10000\n",
      "1605/1605 [==============================] - 11s 7ms/step - loss: 0.0011 - accuracy: 0.6484 - val_loss: 0.0011 - val_accuracy: 0.6632\n",
      "Epoch 13/10000\n",
      "1605/1605 [==============================] - 12s 7ms/step - loss: 0.0011 - accuracy: 0.6444 - val_loss: 0.0011 - val_accuracy: 0.6091\n",
      "Epoch 14/10000\n",
      "1605/1605 [==============================] - 12s 7ms/step - loss: 0.0011 - accuracy: 0.6351 - val_loss: 0.0011 - val_accuracy: 0.6616\n",
      "Epoch 15/10000\n",
      "1605/1605 [==============================] - 12s 7ms/step - loss: 0.0011 - accuracy: 0.6341 - val_loss: 0.0011 - val_accuracy: 0.6441\n",
      "Epoch 16/10000\n",
      "1605/1605 [==============================] - 11s 7ms/step - loss: 0.0011 - accuracy: 0.6413 - val_loss: 0.0011 - val_accuracy: 0.6355\n",
      "Epoch 17/10000\n",
      "1605/1605 [==============================] - 11s 7ms/step - loss: 0.0011 - accuracy: 0.6366 - val_loss: 0.0011 - val_accuracy: 0.6679\n",
      "Epoch 18/10000\n",
      "1605/1605 [==============================] - 12s 7ms/step - loss: 0.0011 - accuracy: 0.6451 - val_loss: 0.0011 - val_accuracy: 0.5884\n",
      "Epoch 19/10000\n",
      "1605/1605 [==============================] - 12s 7ms/step - loss: 0.0011 - accuracy: 0.6422 - val_loss: 0.0011 - val_accuracy: 0.6715\n",
      "Epoch 20/10000\n",
      "1605/1605 [==============================] - 12s 7ms/step - loss: 0.0011 - accuracy: 0.6424 - val_loss: 0.0010 - val_accuracy: 0.6146\n",
      "Epoch 21/10000\n",
      "1605/1605 [==============================] - 11s 7ms/step - loss: 0.0011 - accuracy: 0.6358 - val_loss: 0.0011 - val_accuracy: 0.5852\n",
      "Epoch 22/10000\n",
      "1236/1605 [======================>.......] - ETA: 1s - loss: 0.0011 - accuracy: 0.6334"
     ]
    },
    {
     "name": "stderr",
     "output_type": "stream",
     "text": [
      "IOPub message rate exceeded.\n",
      "The notebook server will temporarily stop sending output\n",
      "to the client in order to avoid crashing it.\n",
      "To change this limit, set the config variable\n",
      "`--NotebookApp.iopub_msg_rate_limit`.\n",
      "\n",
      "Current values:\n",
      "NotebookApp.iopub_msg_rate_limit=1000.0 (msgs/sec)\n",
      "NotebookApp.rate_limit_window=3.0 (secs)\n",
      "\n"
     ]
    },
    {
     "name": "stdout",
     "output_type": "stream",
     "text": [
      "1605/1605 [==============================] - 10s 6ms/step - loss: 0.0010 - accuracy: 0.6393 - val_loss: 0.0011 - val_accuracy: 0.6535\n",
      "Running model 2\n",
      "Epoch 1/10000\n",
      "1605/1605 [==============================] - 11s 7ms/step - loss: 0.0016 - accuracy: 0.5829 - val_loss: 0.0012 - val_accuracy: 0.5992\n",
      "Epoch 2/10000\n",
      "1605/1605 [==============================] - 11s 7ms/step - loss: 0.0011 - accuracy: 0.6368 - val_loss: 0.0011 - val_accuracy: 0.7038\n",
      "Epoch 15/10000\n",
      "1605/1605 [==============================] - 11s 7ms/step - loss: 0.0011 - accuracy: 0.6415 - val_loss: 0.0011 - val_accuracy: 0.6431\n",
      "Epoch 16/10000\n",
      "1605/1605 [==============================] - 11s 7ms/step - loss: 0.0011 - accuracy: 0.6349 - val_loss: 0.0011 - val_accuracy: 0.6463\n",
      "Epoch 17/10000\n",
      "1605/1605 [==============================] - 11s 7ms/step - loss: 0.0011 - accuracy: 0.6435 - val_loss: 0.0011 - val_accuracy: 0.5452\n",
      "Epoch 18/10000\n",
      "1605/1605 [==============================] - 11s 7ms/step - loss: 0.0011 - accuracy: 0.6387 - val_loss: 0.0011 - val_accuracy: 0.6418\n",
      "Epoch 19/10000\n",
      "1605/1605 [==============================] - 11s 7ms/step - loss: 0.0011 - accuracy: 0.6450 - val_loss: 0.0011 - val_accuracy: 0.6616\n",
      "Epoch 20/10000\n",
      "1605/1605 [==============================] - 11s 7ms/step - loss: 0.0011 - accuracy: 0.6337 - val_loss: 0.0011 - val_accuracy: 0.6418\n",
      "Epoch 21/10000\n",
      "1605/1605 [==============================] - 11s 7ms/step - loss: 0.0011 - accuracy: 0.6402 - val_loss: 0.0011 - val_accuracy: 0.6496\n",
      "Epoch 22/10000\n",
      "1605/1605 [==============================] - 11s 7ms/step - loss: 0.0010 - accuracy: 0.6357 - val_loss: 0.0011 - val_accuracy: 0.6878\n",
      "Epoch 23/10000\n",
      "1605/1605 [==============================] - 11s 7ms/step - loss: 0.0011 - accuracy: 0.6430 - val_loss: 0.0011 - val_accuracy: 0.6635\n",
      "Epoch 24/10000\n",
      "1605/1605 [==============================] - 11s 7ms/step - loss: 0.0010 - accuracy: 0.6380 - val_loss: 0.0011 - val_accuracy: 0.6707\n",
      "Epoch 25/10000\n",
      "1605/1605 [==============================] - 11s 7ms/step - loss: 0.0010 - accuracy: 0.6419 - val_loss: 0.0011 - val_accuracy: 0.6399\n",
      "Epoch 26/10000\n",
      "1605/1605 [==============================] - 11s 7ms/step - loss: 0.0010 - accuracy: 0.6370 - val_loss: 0.0011 - val_accuracy: 0.6390\n",
      "Epoch 27/10000\n",
      "1605/1605 [==============================] - 11s 7ms/step - loss: 0.0010 - accuracy: 0.6344 - val_loss: 0.0011 - val_accuracy: 0.6422\n",
      "Epoch 28/10000\n",
      "1605/1605 [==============================] - 11s 7ms/step - loss: 0.0010 - accuracy: 0.6417 - val_loss: 0.0011 - val_accuracy: 0.6238\n",
      "Epoch 29/10000\n",
      "1605/1605 [==============================] - 11s 7ms/step - loss: 0.0010 - accuracy: 0.6460 - val_loss: 0.0010 - val_accuracy: 0.6518\n",
      "Epoch 30/10000\n",
      "1605/1605 [==============================] - 11s 7ms/step - loss: 0.0010 - accuracy: 0.6289 - val_loss: 0.0011 - val_accuracy: 0.6735\n",
      "Epoch 31/10000\n",
      "1605/1605 [==============================] - 11s 7ms/step - loss: 0.0010 - accuracy: 0.6424 - val_loss: 0.0011 - val_accuracy: 0.5890\n",
      "Epoch 32/10000\n",
      "1605/1605 [==============================] - 11s 7ms/step - loss: 0.0010 - accuracy: 0.6389 - val_loss: 0.0010 - val_accuracy: 0.6174\n",
      "Epoch 33/10000\n",
      "1605/1605 [==============================] - 11s 7ms/step - loss: 0.0010 - accuracy: 0.6406 - val_loss: 0.0010 - val_accuracy: 0.6492\n",
      "Epoch 34/10000\n",
      "1605/1605 [==============================] - 11s 7ms/step - loss: 0.0010 - accuracy: 0.6435 - val_loss: 0.0011 - val_accuracy: 0.6014\n",
      "Epoch 35/10000\n",
      "1605/1605 [==============================] - 11s 7ms/step - loss: 0.0010 - accuracy: 0.6383 - val_loss: 0.0011 - val_accuracy: 0.6718\n",
      "Epoch 36/10000\n",
      "1605/1605 [==============================] - 11s 7ms/step - loss: 9.9060e-04 - accuracy: 0.6523 - val_loss: 0.0011 - val_accuracy: 0.7092\n",
      "Epoch 37/10000\n",
      " 527/1605 [========>.....................] - ETA: 4s - loss: 0.0010 - accuracy: 0.6370"
     ]
    },
    {
     "name": "stderr",
     "output_type": "stream",
     "text": [
      "IOPub message rate exceeded.\n",
      "The notebook server will temporarily stop sending output\n",
      "to the client in order to avoid crashing it.\n",
      "To change this limit, set the config variable\n",
      "`--NotebookApp.iopub_msg_rate_limit`.\n",
      "\n",
      "Current values:\n",
      "NotebookApp.iopub_msg_rate_limit=1000.0 (msgs/sec)\n",
      "NotebookApp.rate_limit_window=3.0 (secs)\n",
      "\n"
     ]
    },
    {
     "name": "stdout",
     "output_type": "stream",
     "text": [
      "1605/1605 [==============================] - 11s 7ms/step - loss: 0.0010 - accuracy: 0.6419 - val_loss: 0.0010 - val_accuracy: 0.5973\n",
      "Epoch 40/10000\n",
      "1605/1605 [==============================] - 11s 7ms/step - loss: 0.0010 - accuracy: 0.6381 - val_loss: 0.0011 - val_accuracy: 0.6103\n",
      "Epoch 41/10000\n",
      "1605/1605 [==============================] - 11s 7ms/step - loss: 0.0010 - accuracy: 0.6284 - val_loss: 0.0011 - val_accuracy: 0.6925\n",
      "Epoch 42/10000\n",
      "1605/1605 [==============================] - 11s 7ms/step - loss: 0.0010 - accuracy: 0.6503 - val_loss: 0.0011 - val_accuracy: 0.6438\n",
      "Epoch 43/10000\n",
      "1605/1605 [==============================] - 11s 7ms/step - loss: 0.0010 - accuracy: 0.6459 - val_loss: 0.0011 - val_accuracy: 0.6803\n",
      "Epoch 44/10000\n",
      "1605/1605 [==============================] - 11s 7ms/step - loss: 0.0010 - accuracy: 0.6501 - val_loss: 0.0011 - val_accuracy: 0.6414\n",
      "Epoch 45/10000\n",
      "1605/1605 [==============================] - 11s 7ms/step - loss: 0.0010 - accuracy: 0.6437 - val_loss: 0.0010 - val_accuracy: 0.6625\n",
      "Epoch 46/10000\n",
      "1605/1605 [==============================] - 11s 7ms/step - loss: 9.9476e-04 - accuracy: 0.6452 - val_loss: 0.0011 - val_accuracy: 0.6533\n",
      "Epoch 47/10000\n",
      "1605/1605 [==============================] - 11s 7ms/step - loss: 0.0010 - accuracy: 0.6421 - val_loss: 0.0011 - val_accuracy: 0.6726\n",
      "Epoch 48/10000\n",
      "1605/1605 [==============================] - 11s 7ms/step - loss: 9.9739e-04 - accuracy: 0.6501 - val_loss: 0.0011 - val_accuracy: 0.6855\n",
      "Epoch 49/10000\n",
      "1605/1605 [==============================] - 11s 7ms/step - loss: 9.9670e-04 - accuracy: 0.6484 - val_loss: 0.0011 - val_accuracy: 0.6666\n",
      "Epoch 50/10000\n",
      "1605/1605 [==============================] - 10s 6ms/step - loss: 9.9992e-04 - accuracy: 0.6395 - val_loss: 0.0010 - val_accuracy: 0.6525\n",
      "Epoch 51/10000\n",
      "1605/1605 [==============================] - 11s 7ms/step - loss: 9.8510e-04 - accuracy: 0.6477 - val_loss: 0.0011 - val_accuracy: 0.6625\n",
      "Epoch 52/10000\n",
      "1605/1605 [==============================] - 11s 7ms/step - loss: 9.9704e-04 - accuracy: 0.6511 - val_loss: 0.0011 - val_accuracy: 0.6362\n",
      "Epoch 53/10000\n",
      "1605/1605 [==============================] - 11s 7ms/step - loss: 9.9681e-04 - accuracy: 0.6496 - val_loss: 0.0011 - val_accuracy: 0.6689\n",
      "Epoch 54/10000\n",
      "1605/1605 [==============================] - 11s 7ms/step - loss: 9.9763e-04 - accuracy: 0.6562 - val_loss: 0.0011 - val_accuracy: 0.6672\n",
      "Epoch 55/10000\n",
      "1605/1605 [==============================] - 11s 7ms/step - loss: 0.0010 - accuracy: 0.6516 - val_loss: 0.0011 - val_accuracy: 0.6418\n",
      "Running model 5\n",
      "Epoch 1/10000\n",
      "1605/1605 [==============================] - 11s 7ms/step - loss: 0.0016 - accuracy: 0.5286 - val_loss: 0.0014 - val_accuracy: 0.3703\n",
      "Epoch 2/10000\n",
      "1605/1605 [==============================] - 11s 7ms/step - loss: 0.0012 - accuracy: 0.6114 - val_loss: 0.0011 - val_accuracy: 0.6279\n",
      "Epoch 3/10000\n",
      "1605/1605 [==============================] - 11s 7ms/step - loss: 0.0012 - accuracy: 0.6128 - val_loss: 0.0011 - val_accuracy: 0.6317\n",
      "Epoch 4/10000\n",
      "1605/1605 [==============================] - 11s 7ms/step - loss: 0.0011 - accuracy: 0.6388 - val_loss: 0.0011 - val_accuracy: 0.7069\n",
      "Epoch 5/10000\n",
      "1605/1605 [==============================] - 11s 7ms/step - loss: 0.0011 - accuracy: 0.6333 - val_loss: 0.0011 - val_accuracy: 0.5762\n",
      "Epoch 6/10000\n",
      "1605/1605 [==============================] - 11s 7ms/step - loss: 0.0011 - accuracy: 0.6334 - val_loss: 0.0011 - val_accuracy: 0.5945\n",
      "Epoch 7/10000\n",
      "1605/1605 [==============================] - 11s 7ms/step - loss: 0.0011 - accuracy: 0.6243 - val_loss: 0.0011 - val_accuracy: 0.6594\n",
      "Epoch 8/10000\n",
      " 154/1605 [=>............................] - ETA: 5s - loss: 0.0010 - accuracy: 0.6296"
     ]
    },
    {
     "name": "stderr",
     "output_type": "stream",
     "text": [
      "IOPub message rate exceeded.\n",
      "The notebook server will temporarily stop sending output\n",
      "to the client in order to avoid crashing it.\n",
      "To change this limit, set the config variable\n",
      "`--NotebookApp.iopub_msg_rate_limit`.\n",
      "\n",
      "Current values:\n",
      "NotebookApp.iopub_msg_rate_limit=1000.0 (msgs/sec)\n",
      "NotebookApp.rate_limit_window=3.0 (secs)\n",
      "\n"
     ]
    },
    {
     "name": "stdout",
     "output_type": "stream",
     "text": [
      "1605/1605 [==============================] - 11s 7ms/step - loss: 0.0011 - accuracy: 0.6348 - val_loss: 0.0011 - val_accuracy: 0.6633\n",
      "Epoch 12/10000\n",
      "1605/1605 [==============================] - 11s 7ms/step - loss: 0.0011 - accuracy: 0.6380 - val_loss: 0.0011 - val_accuracy: 0.7411\n",
      "Epoch 13/10000\n",
      "1605/1605 [==============================] - 11s 7ms/step - loss: 0.0011 - accuracy: 0.6390 - val_loss: 0.0011 - val_accuracy: 0.6840\n",
      "Epoch 14/10000\n",
      "1605/1605 [==============================] - 11s 7ms/step - loss: 0.0011 - accuracy: 0.6385 - val_loss: 0.0011 - val_accuracy: 0.6642\n",
      "Epoch 15/10000\n",
      "1605/1605 [==============================] - 11s 7ms/step - loss: 0.0011 - accuracy: 0.6351 - val_loss: 0.0011 - val_accuracy: 0.6084\n",
      "Epoch 16/10000\n",
      "1605/1605 [==============================] - 11s 7ms/step - loss: 0.0011 - accuracy: 0.6326 - val_loss: 0.0011 - val_accuracy: 0.5647\n",
      "Epoch 17/10000\n",
      "1605/1605 [==============================] - 11s 7ms/step - loss: 0.0011 - accuracy: 0.6345 - val_loss: 0.0011 - val_accuracy: 0.6277\n",
      "Epoch 18/10000\n",
      "1605/1605 [==============================] - 11s 7ms/step - loss: 0.0011 - accuracy: 0.6391 - val_loss: 0.0011 - val_accuracy: 0.6681\n",
      "Epoch 19/10000\n",
      "1605/1605 [==============================] - 11s 7ms/step - loss: 0.0011 - accuracy: 0.6266 - val_loss: 0.0011 - val_accuracy: 0.6695\n",
      "Epoch 20/10000\n",
      "1605/1605 [==============================] - 11s 7ms/step - loss: 0.0011 - accuracy: 0.6387 - val_loss: 0.0010 - val_accuracy: 0.6562\n",
      "Epoch 21/10000\n",
      "1605/1605 [==============================] - 11s 7ms/step - loss: 0.0011 - accuracy: 0.6326 - val_loss: 0.0011 - val_accuracy: 0.6204\n",
      "Epoch 22/10000\n",
      "1605/1605 [==============================] - 11s 7ms/step - loss: 0.0010 - accuracy: 0.6384 - val_loss: 0.0011 - val_accuracy: 0.6328\n",
      "Epoch 23/10000\n",
      "1605/1605 [==============================] - 11s 7ms/step - loss: 0.0010 - accuracy: 0.6310 - val_loss: 0.0011 - val_accuracy: 0.6821\n",
      "Epoch 24/10000\n",
      "1605/1605 [==============================] - 11s 7ms/step - loss: 0.0010 - accuracy: 0.6419 - val_loss: 0.0011 - val_accuracy: 0.6212\n",
      "Epoch 25/10000\n",
      "1605/1605 [==============================] - 11s 7ms/step - loss: 0.0010 - accuracy: 0.6435 - val_loss: 0.0011 - val_accuracy: 0.6779\n",
      "Epoch 26/10000\n",
      "1605/1605 [==============================] - 11s 7ms/step - loss: 0.0010 - accuracy: 0.6359 - val_loss: 0.0011 - val_accuracy: 0.6507\n",
      "Epoch 27/10000\n",
      "1605/1605 [==============================] - 11s 7ms/step - loss: 0.0010 - accuracy: 0.6426 - val_loss: 0.0011 - val_accuracy: 0.6518\n",
      "Epoch 28/10000\n",
      "1605/1605 [==============================] - 11s 7ms/step - loss: 0.0010 - accuracy: 0.6429 - val_loss: 0.0010 - val_accuracy: 0.6337\n",
      "Epoch 29/10000\n",
      "1605/1605 [==============================] - 11s 7ms/step - loss: 0.0010 - accuracy: 0.6435 - val_loss: 0.0011 - val_accuracy: 0.6428\n",
      "Epoch 30/10000\n",
      "1605/1605 [==============================] - 11s 7ms/step - loss: 0.0010 - accuracy: 0.6419 - val_loss: 0.0010 - val_accuracy: 0.6691\n",
      "Epoch 31/10000\n",
      "1605/1605 [==============================] - 11s 7ms/step - loss: 0.0010 - accuracy: 0.6352 - val_loss: 0.0011 - val_accuracy: 0.6836\n",
      "Epoch 32/10000\n",
      "1605/1605 [==============================] - 11s 7ms/step - loss: 0.0010 - accuracy: 0.6493 - val_loss: 0.0010 - val_accuracy: 0.6224\n",
      "Epoch 33/10000\n",
      "1605/1605 [==============================] - 11s 7ms/step - loss: 0.0010 - accuracy: 0.6328 - val_loss: 0.0011 - val_accuracy: 0.6774\n",
      "Epoch 34/10000\n",
      " 727/1605 [============>.................] - ETA: 3s - loss: 0.0010 - accuracy: 0.6483"
     ]
    },
    {
     "name": "stderr",
     "output_type": "stream",
     "text": [
      "IOPub message rate exceeded.\n",
      "The notebook server will temporarily stop sending output\n",
      "to the client in order to avoid crashing it.\n",
      "To change this limit, set the config variable\n",
      "`--NotebookApp.iopub_msg_rate_limit`.\n",
      "\n",
      "Current values:\n",
      "NotebookApp.iopub_msg_rate_limit=1000.0 (msgs/sec)\n",
      "NotebookApp.rate_limit_window=3.0 (secs)\n",
      "\n"
     ]
    },
    {
     "name": "stdout",
     "output_type": "stream",
     "text": [
      "1605/1605 [==============================] - 11s 7ms/step - loss: 0.0011 - accuracy: 0.6343 - val_loss: 0.0011 - val_accuracy: 0.6208\n",
      "Epoch 13/10000\n",
      "1605/1605 [==============================] - 11s 7ms/step - loss: 0.0011 - accuracy: 0.6269 - val_loss: 0.0011 - val_accuracy: 0.6688\n",
      "Epoch 14/10000\n",
      "1605/1605 [==============================] - 11s 7ms/step - loss: 0.0011 - accuracy: 0.6307 - val_loss: 0.0011 - val_accuracy: 0.6834\n",
      "Epoch 15/10000\n",
      "1605/1605 [==============================] - 11s 7ms/step - loss: 0.0011 - accuracy: 0.6343 - val_loss: 0.0011 - val_accuracy: 0.6741\n",
      "Epoch 16/10000\n",
      "1605/1605 [==============================] - 11s 7ms/step - loss: 0.0011 - accuracy: 0.6367 - val_loss: 0.0011 - val_accuracy: 0.6620\n",
      "Epoch 17/10000\n",
      "1605/1605 [==============================] - 11s 7ms/step - loss: 0.0011 - accuracy: 0.6313 - val_loss: 0.0011 - val_accuracy: 0.5748\n",
      "Epoch 18/10000\n",
      "1605/1605 [==============================] - 11s 7ms/step - loss: 0.0011 - accuracy: 0.6377 - val_loss: 0.0011 - val_accuracy: 0.6225\n",
      "Epoch 19/10000\n",
      "1605/1605 [==============================] - 11s 7ms/step - loss: 0.0011 - accuracy: 0.6236 - val_loss: 0.0011 - val_accuracy: 0.7296\n",
      "Epoch 20/10000\n",
      "1605/1605 [==============================] - 11s 7ms/step - loss: 0.0010 - accuracy: 0.6526 - val_loss: 0.0011 - val_accuracy: 0.6953\n",
      "Epoch 21/10000\n",
      "1605/1605 [==============================] - 11s 7ms/step - loss: 0.0011 - accuracy: 0.6455 - val_loss: 0.0011 - val_accuracy: 0.5768\n",
      "Epoch 22/10000\n",
      "1605/1605 [==============================] - 11s 7ms/step - loss: 0.0011 - accuracy: 0.6374 - val_loss: 0.0011 - val_accuracy: 0.6600\n",
      "Epoch 23/10000\n",
      "1605/1605 [==============================] - 11s 7ms/step - loss: 0.0010 - accuracy: 0.6471 - val_loss: 0.0011 - val_accuracy: 0.6583\n",
      "Epoch 24/10000\n",
      "1605/1605 [==============================] - 11s 7ms/step - loss: 0.0010 - accuracy: 0.6356 - val_loss: 0.0011 - val_accuracy: 0.6321\n",
      "Epoch 25/10000\n",
      "1605/1605 [==============================] - 11s 7ms/step - loss: 0.0010 - accuracy: 0.6343 - val_loss: 0.0011 - val_accuracy: 0.6571\n",
      "Epoch 26/10000\n",
      "1605/1605 [==============================] - 11s 7ms/step - loss: 0.0010 - accuracy: 0.6531 - val_loss: 0.0011 - val_accuracy: 0.7038\n",
      "Epoch 27/10000\n",
      "1605/1605 [==============================] - 11s 7ms/step - loss: 0.0010 - accuracy: 0.6355 - val_loss: 0.0011 - val_accuracy: 0.6763\n",
      "Epoch 28/10000\n",
      "1605/1605 [==============================] - 11s 7ms/step - loss: 0.0010 - accuracy: 0.6381 - val_loss: 0.0011 - val_accuracy: 0.6779\n",
      "Epoch 29/10000\n",
      "1605/1605 [==============================] - 11s 7ms/step - loss: 0.0010 - accuracy: 0.6327 - val_loss: 0.0011 - val_accuracy: 0.5969\n",
      "Epoch 30/10000\n",
      "1605/1605 [==============================] - 11s 7ms/step - loss: 0.0010 - accuracy: 0.6311 - val_loss: 0.0011 - val_accuracy: 0.6379\n",
      "Epoch 31/10000\n",
      "1605/1605 [==============================] - 11s 7ms/step - loss: 0.0010 - accuracy: 0.6456 - val_loss: 0.0011 - val_accuracy: 0.6645\n",
      "Epoch 32/10000\n",
      "1605/1605 [==============================] - 11s 7ms/step - loss: 0.0010 - accuracy: 0.6419 - val_loss: 0.0011 - val_accuracy: 0.6703\n",
      "Epoch 33/10000\n",
      "1605/1605 [==============================] - 11s 7ms/step - loss: 0.0010 - accuracy: 0.6429 - val_loss: 0.0011 - val_accuracy: 0.7219\n",
      "Epoch 34/10000\n",
      "1605/1605 [==============================] - 11s 7ms/step - loss: 0.0010 - accuracy: 0.6411 - val_loss: 0.0010 - val_accuracy: 0.5968\n",
      "Epoch 35/10000\n",
      "1368/1605 [========================>.....] - ETA: 0s - loss: 0.0010 - accuracy: 0.6323"
     ]
    },
    {
     "name": "stderr",
     "output_type": "stream",
     "text": [
      "IOPub message rate exceeded.\n",
      "The notebook server will temporarily stop sending output\n",
      "to the client in order to avoid crashing it.\n",
      "To change this limit, set the config variable\n",
      "`--NotebookApp.iopub_msg_rate_limit`.\n",
      "\n",
      "Current values:\n",
      "NotebookApp.iopub_msg_rate_limit=1000.0 (msgs/sec)\n",
      "NotebookApp.rate_limit_window=3.0 (secs)\n",
      "\n"
     ]
    }
   ],
   "source": [
    "# Fit ML classifier\n",
    "EPOCHS = 10000\n",
    "patience = 20\n",
    "batch_size = 256\n",
    "num_nodes = 64\n",
    "dropout = 0.1\n",
    "learn_rate = 1e-3\n",
    "\n",
    "v_classifier = []\n",
    "v_history = []\n",
    "\n",
    "n_models = 10\n",
    "\n",
    "x_test_results = x_test.copy()\n",
    "\n",
    "for i in range(n_models):\n",
    "    print(\"Running model\", i)\n",
    "    \n",
    "    # Generate and fit model\n",
    "    K.clear_session()\n",
    "\n",
    "# Generate and fit model\n",
    "    K.clear_session()\n",
    "    classifier = Sequential()\n",
    "    classifier.add(Dense(num_nodes, input_dim=x_train.shape[1], activation='relu')) \n",
    "    classifier.add(Dropout(dropout))\n",
    "    classifier.add(Dense(num_nodes, activation='relu'))\n",
    "    classifier.add(Dropout(dropout))\n",
    "    classifier.add(Dense(num_nodes, activation='relu'))\n",
    "    classifier.add(Dropout(dropout))\n",
    "    classifier.add(Dense(1, activation='sigmoid'))\n",
    "\n",
    "    opt = keras.optimizers.Adam(learning_rate=learn_rate)\n",
    "    classifier.compile(loss='binary_crossentropy', optimizer=opt, metrics=['accuracy'])\n",
    "\n",
    "    # Early stopping\n",
    "    callback = tf.keras.callbacks.EarlyStopping(monitor='val_loss', patience=patience, restore_best_weights=True)\n",
    "\n",
    "    if (use_mc_weights):\n",
    "        history = classifier.fit(x_train, y_train, epochs=EPOCHS, batch_size=batch_size,\n",
    "                                validation_data=(x_test, y_test, w_test), sample_weight=w_train, \n",
    "                                verbose=1, callbacks=[callback])\n",
    "    else:\n",
    "        history = classifier.fit(x_train, y_train, epochs=EPOCHS, batch_size=batch_size,\n",
    "                                validation_data=(x_test, y_test, dummy_w_test), sample_weight=dummy_w_train, \n",
    "                                verbose=1, callbacks=[callback])\n",
    "    \n",
    "    v_classifier.append(classifier)\n",
    "    v_history.append(history)\n",
    "    \n",
    "    x_test_results['pred_' + str(i)] = classifier.predict(x_test, batch_size=batch_size)"
   ]
  },
  {
   "cell_type": "markdown",
   "metadata": {},
   "source": [
    "Plot loss and accuracy vs. epoch"
   ]
  },
  {
   "cell_type": "code",
   "execution_count": 23,
   "metadata": {
    "scrolled": true
   },
   "outputs": [
    {
     "data": {
      "image/png": "[encoded data removed]",
      "text/plain": [
       "<Figure size 921.6x345.6 with 2 Axes>"
      ]
     },
     "metadata": {
      "needs_background": "light"
     },
     "output_type": "display_data"
    }
   ],
   "source": [
    "plt.figure(figsize=[2*6.4,1*4.8])\n",
    "\n",
    "for i in range(n_models):\n",
    "    \n",
    "    this_NN = v_classifier[i]\n",
    "    this_history = v_history[i]\n",
    "\n",
    "    # Plot the significances with their error bars:\n",
    "    ax = plt.subplot(1, 2, 1)\n",
    "    # plt.figure()\n",
    "    plt.title(\"Loss Function vs. Epoch\", fontsize=14)\n",
    "    plt.plot(this_history.history['loss'], alpha=0.25, color='C0')\n",
    "    plt.plot(this_history.history['val_loss'], alpha=0.25, color='C1')\n",
    "    plt.legend(['loss','val_loss'])\n",
    "    plt.xlabel('Epoch', fontsize=14)\n",
    "    # plt.ylabel('Loss', fontsize=14)\n",
    "    \n",
    "    # plt.yscale('log')\n",
    "\n",
    "    ax = plt.subplot(1, 2, 2)\n",
    "    # plt.figure()\n",
    "    plt.title(\"Accuracy (metric) vs. Epoch\", fontsize=14)\n",
    "    plt.plot(this_history.history['accuracy'], alpha=0.25, color='C0')\n",
    "    plt.plot(this_history.history['val_accuracy'], alpha=0.25, color='C1')\n",
    "    plt.legend(['accuracy','val_accuracy'])\n",
    "    plt.xlabel('Epoch', fontsize=14)\n",
    "    plt.ylim([0,1])\n",
    "    # plt.ylabel('Accuracy', fontsize=14)\n",
    "\n",
    "plt.savefig('plots/loss_accuracy_{}.pdf'.format(name))\n",
    "plt.show()"
   ]
  },
  {
   "cell_type": "markdown",
   "metadata": {},
   "source": [
    "Add some variables"
   ]
  },
  {
   "cell_type": "code",
   "execution_count": 24,
   "metadata": {},
   "outputs": [],
   "source": [
    "pred_columns = [c for c in x_test_results if c.startswith('pred')]\n",
    "x_test_results['mean_pred'] = np.mean(x_test_results[pred_columns], axis=1)\n",
    "x_test_results['is_signal'] = y_test\n",
    "# Add the real weights back:\n",
    "x_test_results['wgt'] = np.array(wgt_test)\n",
    "x_test_results['SR'] = np.array(SR_test)\n",
    "x_test_results['y'] = np.array(y_test)\n",
    "\n",
    "x_train_results = x_train.copy()\n",
    "x_train_results['pred'] = classifier.predict(x_train, batch_size=10000)\n",
    "x_train_results['wgt'] = np.array(wgt_train) # wgt_train preserves the original weights, and shuffled\n",
    "x_train_results['SR'] = np.array(SR_train)\n",
    "x_train_results['y'] = np.array(y_train)"
   ]
  },
  {
   "cell_type": "markdown",
   "metadata": {},
   "source": [
    "Plot yield vs NN output"
   ]
  },
  {
   "cell_type": "markdown",
   "metadata": {},
   "source": [
    "# Normalized signal / background plot"
   ]
  },
  {
   "cell_type": "code",
   "execution_count": 25,
   "metadata": {
    "scrolled": true
   },
   "outputs": [
    {
     "data": {
      "image/png": "[encoded data removed]",
      "text/plain": [
       "<Figure size 460.8x345.6 with 1 Axes>"
      ]
     },
     "metadata": {
      "needs_background": "light"
     },
     "output_type": "display_data"
    }
   ],
   "source": [
    "plt.figure(figsize=[1*6.4,1*4.8])\n",
    "\n",
    "# BACKGROUND\n",
    "# plt.subplot(1,2,1)\n",
    "plt.title(\"Yield vs NN output\")\n",
    "\n",
    "n_bg_test = sum(wgt_test[y_test == 0])\n",
    "n_bg_train = sum(wgt_train[y_train == 0])\n",
    "\n",
    "n, b, _ = plt.hist(x_test_results[y_test == 0].mean_pred, bins=30, alpha=0.5, label='Bkg (eval)', \n",
    "                   weights = wgt_test[y_test == 0]/n_bg_test)\n",
    "bin_centers = (b[:-1]+b[1:])/2\n",
    "train_bg_bin_y = np.histogram(x_train_results[y_train == 0].pred, bins=b, \n",
    "                              weights = wgt_train[y_train == 0]/n_bg_train)[0]\n",
    "scatter = plt.scatter(bin_centers, train_bg_bin_y, label='Bkg (train)')\n",
    "# to plot error bars:\n",
    "sumw2 = np.histogram(x_test_results[y_test == 0].mean_pred, bins=b, \n",
    "                              weights = (wgt_test[y_test == 0]/n_bg_test)**2)[0]\n",
    "bin_widths  = (b[1:]-b[:-1])/2\n",
    "plt.errorbar(x=bin_centers, y=n, xerr=bin_widths, yerr=np.sqrt(sumw2), fmt=' ', color='C0', alpha=0.5)\n",
    "# to plot error bars:\n",
    "sumw2 = np.histogram(x_train_results[y_train == 0].pred, bins=b, \n",
    "                              weights = (wgt_train[y_train == 0]/n_bg_train)**2)[0]\n",
    "bin_widths  = (b[1:]-b[:-1])/2\n",
    "plt.errorbar(x=bin_centers, y=scatter.get_offsets().data[:,1], xerr=bin_widths, yerr=np.sqrt(sumw2), fmt=' ', color='C0')\n",
    "\n",
    "\n",
    "plt.xlabel('NN Output', fontsize=14)\n",
    "plt.ylabel('Yield', fontsize=14)\n",
    "plt.xlim([0,1])\n",
    "plt.legend()\n",
    "\n",
    "# USING N(ENTRIES):\n",
    "# ax = plt.subplot(1,2,2)\n",
    "# plt.title(\"Signal Yield vs NN output\")\n",
    "\n",
    "n_sig_test = sum(wgt_test[y_test == 1])\n",
    "n_sig_train = sum(wgt_train[y_train == 1])\n",
    "\n",
    "n, b, _ = plt.hist(x_test_results[y_test == 1].mean_pred, bins=b, alpha=0.5, label='Sig (eval)', \n",
    "                   weights = wgt_test[y_test == 1]/n_sig_test, color='C1', linewidth=0)\n",
    "bin_centers = (b[:-1]+b[1:])/2\n",
    "train_sig_bin_y = np.histogram(x_train_results[y_train == 1].pred, bins=b, \n",
    "                              weights = wgt_train[y_train == 1]/n_sig_train)[0]\n",
    "scatter = plt.scatter(bin_centers, train_sig_bin_y, label='Sig (train)', color='C1')\n",
    "# to plot error bars:\n",
    "sumw2 = np.histogram(x_test_results[y_test == 1].mean_pred, bins=b, \n",
    "                              weights = (wgt_test[y_test == 1]/n_sig_test)**2)[0]\n",
    "bin_widths  = (b[1:]-b[:-1])/2\n",
    "plt.errorbar(x=bin_centers, y=n, xerr=bin_widths, yerr=np.sqrt(sumw2), fmt=' ', color='C1', alpha=0.5)\n",
    "# to plot error bars:\n",
    "sumw2 = np.histogram(x_train_results[y_train == 1].pred, bins=b, \n",
    "                              weights = (wgt_train[y_train == 1]/n_sig_train)**2)[0]\n",
    "plt.errorbar(x=bin_centers, y=scatter.get_offsets().data[:,1], xerr=bin_widths, yerr=np.sqrt(sumw2), \n",
    "             fmt=' ', color='C1', linewidth=2)\n",
    "\n",
    "plt.xlabel('NN Output', fontsize=14)\n",
    "plt.ylabel('Density', fontsize=14)\n",
    "plt.xlim([0,1])\n",
    "plt.legend()\n",
    "\n",
    "# plt.yscale('log')\n",
    "\n",
    "# plt.savefig('plots/plot1_together_{}.pdf'.format(name))\n",
    "plt.savefig('plots/plot1_together_normalized_{}.pdf'.format(name))\n",
    "# plt.savefig('plots/plot1_together_normalized_log_{}.pdf'.format(name))\n",
    "\n",
    "# plt.savefig('plots/2021-12-11_batch_' + str(batch_size) + '.pdf')\n",
    "plt.show()"
   ]
  },
  {
   "cell_type": "code",
   "execution_count": 26,
   "metadata": {},
   "outputs": [
    {
     "name": "stdout",
     "output_type": "stream",
     "text": [
      "535.1208469982864\n",
      "534.7036458437561\n",
      "2.6301990940483226\n",
      "2.6331861677360457\n"
     ]
    }
   ],
   "source": [
    "print(sum(wgt_test[y_test == 0]))\n",
    "print(sum(wgt_train[y_train == 0]))\n",
    "\n",
    "print(sum(wgt_test[y_test == 1]))\n",
    "print(sum(wgt_train[y_train == 1]))"
   ]
  },
  {
   "cell_type": "code",
   "execution_count": 27,
   "metadata": {
    "scrolled": false
   },
   "outputs": [
    {
     "name": "stdout",
     "output_type": "stream",
     "text": [
      "0.8281945656831466\n"
     ]
    },
    {
     "data": {
      "image/png": "[encoded data removed]",
      "text/plain": [
       "<Figure size 360x360 with 1 Axes>"
      ]
     },
     "metadata": {
      "needs_background": "light"
     },
     "output_type": "display_data"
    }
   ],
   "source": [
    "plt.figure(figsize=(5, 5))\n",
    "\n",
    "# for c in ['pred_0', 'mean_pred']:\n",
    "#     fpr, tpr, _ = roc_curve(y_test, x_test_results[c], sample_weight=w_test)\n",
    "\n",
    "#     plt.plot(fpr, tpr)\n",
    "    \n",
    "for c in ['mean_pred']:\n",
    "    fpr, tpr, _ = roc_curve(y_test, x_test_results[c], sample_weight=w_test)\n",
    "\n",
    "    plt.plot(fpr, tpr, ls='-', color='crimson')\n",
    "        \n",
    "plt.plot([0, 1], [0, 1], ls='--', color='grey')\n",
    "plt.xlabel('FPR', fontsize=20)\n",
    "plt.ylabel('TPR', fontsize=20)\n",
    "plt.savefig('plots/ROC_{}.pdf'.format(name))\n",
    "\n",
    "print(sum(tpr)/len(fpr))\n",
    "\n",
    "plt.show()"
   ]
  },
  {
   "cell_type": "markdown",
   "metadata": {},
   "source": [
    "# Finder of best cut in each signal region"
   ]
  },
  {
   "cell_type": "code",
   "execution_count": 28,
   "metadata": {
    "scrolled": false
   },
   "outputs": [
    {
     "name": "stdout",
     "output_type": "stream",
     "text": [
      "Finding the best NN cut in each separate signal region:\n",
      "\n",
      "---- In the region SF-inZ ----\n",
      "Original yields:\n",
      " S: 2.63 ± 0.03 events\n",
      " B: 535.12 ± 2.42 events\n",
      " Significance = 0.11 ± 0.00\n",
      "\n",
      "Best NN cut: 0.935\n",
      "New yields:\n",
      " S: 0.70 ± 0.02 events\n",
      " B: 1.86 ± 0.17 events\n",
      " Significance = 0.48 ± 0.02\n",
      "------------------------------\n",
      "\n",
      "---- In the region SF-noZ ----\n",
      "Best NN cut: 0.000\n",
      "New yields:\n",
      " S: 0.00 ± 0.00 events\n",
      " B: 0.00 ± 0.00 events\n",
      " Significance = 0.00 ± 0.00\n",
      "------------------------------\n",
      "\n",
      "---- In the region DF ----\n",
      "Best NN cut: 0.000\n",
      "New yields:\n",
      " S: 0.00 ± 0.00 events\n",
      " B: 0.00 ± 0.00 events\n",
      " Significance = 0.00 ± 0.00\n",
      "------------------------------\n",
      "\n",
      "---- In quadrature ----\n",
      "Old significance = 0.11 ± 0.00 \n",
      "Best significance = 0.48 ± 0.02 \n"
     ]
    }
   ],
   "source": [
    "print('Finding the best NN cut in each separate signal region:')\n",
    "print()\n",
    "\n",
    "\n",
    "best_significances = []\n",
    "best_cuts = []\n",
    "\n",
    "# for plotting:\n",
    "list_cuts = [[],[],[]]\n",
    "list_significances = [[],[],[]]\n",
    "list_significance_errors = [[],[],[]]\n",
    "list_signal_yields = [[],[],[]]\n",
    "list_signal_yield_errors = [[],[],[]]\n",
    "list_background_yields = [[],[],[]]\n",
    "list_background_yield_errors = [[],[],[]]\n",
    "\n",
    "for i in [0,1,2]:\n",
    "    \n",
    "    if (i==0): \n",
    "        print(\"---- In the region SF-inZ ----\")\n",
    "    if (i==1): \n",
    "        print(\"---- In the region SF-noZ ----\")\n",
    "    if (i==2): \n",
    "        print(\"---- In the region DF ----\")\n",
    "        \n",
    "    best_cut = 0\n",
    "    maximum_significance = 0\n",
    "    maximum_significance_error = 0\n",
    "    best_S = 0\n",
    "    best_dS = 0\n",
    "    best_B = 0\n",
    "    best_dB = 0\n",
    "\n",
    "    data_passed_cut = x_test_results[x_test_results.SR==i]\n",
    "\n",
    "    for x in np.linspace(0,0.99,200):\n",
    "        cut = x\n",
    "        data_passed_cut = data_passed_cut[data_passed_cut.mean_pred >= cut]\n",
    "        sig_passed_cut = data_passed_cut[data_passed_cut.is_signal == 1]\n",
    "        bg_passed_cut = data_passed_cut[data_passed_cut.is_signal == 0]\n",
    "\n",
    "        n_sig_passed_cut = sum(sig_passed_cut.wgt)\n",
    "        n_bg_passed_cut = sum(bg_passed_cut.wgt)\n",
    "\n",
    "        S, dS  = yield_and_error(sig_passed_cut)\n",
    "        B, dB  = yield_and_error(bg_passed_cut)\n",
    "            \n",
    "        if (S<0.25):\n",
    "            continue\n",
    "        if (B<0):\n",
    "            print(B)\n",
    "            continue\n",
    "        if (S+B<10/4):\n",
    "            continue\n",
    "        significance, error = significance_and_error(S, dS, B, dB)\n",
    "        \n",
    "        list_cuts[i].append(cut)\n",
    "        list_significances[i].append(significance)\n",
    "        list_significance_errors[i].append(error)\n",
    "        list_signal_yields[i].append(S)\n",
    "        list_signal_yield_errors[i].append(dS)\n",
    "        list_background_yields[i].append(B)\n",
    "        list_background_yield_errors[i].append(dB)\n",
    "        \n",
    "        if (cut == 0):\n",
    "            print('Original yields:')\n",
    "            print(' S: %.2f ± %.2f events'%(S,dS))\n",
    "            print(' B: %.2f ± %.2f events'%(B,dB))\n",
    "            print(' Significance = %.2f ± %.2f'%(significance, error))\n",
    "            print()\n",
    "\n",
    "        if (significance > maximum_significance):\n",
    "            best_cut = cut\n",
    "            maximum_significance = significance\n",
    "            maximum_significance_error = error\n",
    "            best_S = S\n",
    "            best_dS = dS\n",
    "            best_B = B\n",
    "            best_dB = dB\n",
    "            \n",
    "    best_significances.append((maximum_significance, maximum_significance_error))\n",
    "    best_cuts.append(best_cut)\n",
    "\n",
    "    print('Best NN cut: %.3f'%(best_cut))\n",
    "    print('New yields:')\n",
    "    print(' S: %.2f ± %.2f events'%(best_S,best_dS))\n",
    "    print(' B: %.2f ± %.2f events'%(best_B,best_dB))\n",
    "    print(' Significance = %.2f ± %.2f'%(maximum_significance, maximum_significance_error))\n",
    "    print(\"------------------------------\")\n",
    "    print()\n",
    "    \n",
    "    \n",
    "print(\"---- In quadrature ----\")\n",
    "\n",
    "\n",
    "temporal = []\n",
    "\n",
    "for i in [0,1,2]:\n",
    "    maximum_significance = 0\n",
    "    maximum_significance_error = 0\n",
    "    best_S = 0\n",
    "    best_dS = 0\n",
    "    best_B = 0\n",
    "    best_dB = 0\n",
    "\n",
    "    data_passed_cut = x_test_results[x_test_results.SR==i]\n",
    "    sig_passed_cut = data_passed_cut[data_passed_cut.is_signal == 1]\n",
    "    bg_passed_cut = data_passed_cut[data_passed_cut.is_signal == 0]\n",
    "\n",
    "    S, dS  = yield_and_error(sig_passed_cut)\n",
    "    B, dB  = yield_and_error(bg_passed_cut)\n",
    "    \n",
    "    temporal.append((significance_and_error(S, dS, B, dB)))\n",
    "\n",
    "old_quad, old_quad_error = add_in_quadrature_3(temporal[0], temporal[1], temporal[2]) \n",
    "print(\"Old significance = {:.2f} ± {:.2f} \".format(old_quad, old_quad_error))\n",
    "\n",
    "best_quad, best_quad_error = add_in_quadrature_3(best_significances[0], best_significances[1], best_significances[2]) \n",
    "print(\"Best significance = {:.2f} ± {:.2f} \".format(best_quad, best_quad_error))"
   ]
  },
  {
   "cell_type": "markdown",
   "metadata": {},
   "source": [
    "# END"
   ]
  },
  {
   "cell_type": "code",
   "execution_count": 27,
   "metadata": {},
   "outputs": [
    {
     "data": {
      "image/png": "[encoded data removed]",
      "text/plain": [
       "<Figure size 1382.4x345.6 with 3 Axes>"
      ]
     },
     "metadata": {
      "needs_background": "light"
     },
     "output_type": "display_data"
    }
   ],
   "source": [
    "plt.figure(figsize=[3*6.4,1*4.8])\n",
    "\n",
    "# Plot the significances with their error bars:\n",
    "ax = plt.subplot(1, 3, 3)\n",
    "# plt.figure(figsize=[1.5*6.4,1.5*4.8])\n",
    "plt.title('Significance vs. NN output cut', fontsize=14)\n",
    "plt.xlabel('NN-score cut', fontsize=14)\n",
    "plt.ylabel('Significance', fontsize=14)\n",
    "plt.errorbar(list_cuts[0], list_significances[0], yerr=list_significance_errors[0], \n",
    "             fmt=' ', capsize=1, color='crimson', alpha=0.5)\n",
    "plt.plot(list_cuts[0],list_significances[0], 'o', markersize = 3, color='crimson', alpha=0.75)\n",
    "\n",
    "plt.errorbar(list_cuts[1], list_significances[1], yerr=list_significance_errors[1], \n",
    "             fmt=' ', capsize=1, color='green', alpha=0.5)\n",
    "plt.plot(list_cuts[1],list_significances[1], 'o', markersize = 3, color='green', alpha=0.75)\n",
    "\n",
    "plt.errorbar(list_cuts[2],list_significances[2], yerr=list_significance_errors[2],\n",
    "             fmt=' ', capsize=1, color='blue', alpha=0.5)\n",
    "plt.plot(list_cuts[2],list_significances[2], 'o', markersize = 3, color='blue', alpha=0.75)\n",
    "plt.legend(['4ℓ-SF-inZ','4ℓ-SF-noZ','4ℓ-DF'])\n",
    "# Plot the maximums:\n",
    "plt.plot(best_cuts[0], best_significances[0][0],'*', color='crimson', fillstyle='full', \n",
    "         markeredgecolor='black', markersize=15)\n",
    "plt.plot(best_cuts[1], best_significances[1][0],'*', color='green', fillstyle='full', \n",
    "         markeredgecolor='black', markersize=15)\n",
    "plt.plot(best_cuts[2], best_significances[2][0],'*', color='blue', fillstyle='full', \n",
    "         markeredgecolor='black', markersize=15)\n",
    "plt.ylim(0)\n",
    "plt.xlim([-0.01,1.01])\n",
    "# plt.savefig('20211201.pdf')\n",
    "# plt.show()\n",
    "\n",
    "# Plot the signal yields with their error bars:\n",
    "ax = plt.subplot(1, 3, 1)\n",
    "# plt.figure(figsize=[1.5*6.4,1.5*4.8])\n",
    "plt.title('Signal yield vs. NN output cut', fontsize=14)\n",
    "plt.xlabel('NN-score cut', fontsize=14)\n",
    "plt.ylabel('Signal yield', fontsize=14)\n",
    "plt.errorbar(list_cuts[0], list_signal_yields[0], yerr=list_signal_yield_errors[0], \n",
    "             fmt=' ', capsize=1, color='crimson', alpha=0.5)\n",
    "plt.plot(list_cuts[0],list_signal_yields[0], 'o', markersize = 3, color='crimson', alpha=0.75)\n",
    "\n",
    "plt.errorbar(list_cuts[1], list_signal_yields[1], yerr=list_signal_yield_errors[1], \n",
    "             fmt=' ', capsize=1, color='green', alpha=0.5)\n",
    "plt.plot(list_cuts[1],list_signal_yields[1], 'o', markersize = 3, color='green', alpha=0.75)\n",
    "\n",
    "plt.errorbar(list_cuts[2],list_signal_yields[2], yerr=list_signal_yield_errors[2], \n",
    "             fmt=' ', capsize=1, color='blue', alpha=0.5)\n",
    "plt.plot(list_cuts[2],list_signal_yields[2], 'o', markersize = 3, color='blue', alpha=0.75)\n",
    "plt.ylim(0)\n",
    "plt.xlim([-0.01,1.01])\n",
    "plt.legend(['4ℓ-SF-inZ','4ℓ-SF-noZ','4ℓ-DF'])\n",
    "\n",
    "# Plot the background yields with their error bars:\n",
    "ax = plt.subplot(1, 3, 2)\n",
    "# plt.figure(figsize=[1.5*6.4,1.5*4.8])\n",
    "plt.title('Background yield vs. NN output cut', fontsize=14)\n",
    "plt.xlabel('NN-score cut', fontsize=14)\n",
    "plt.ylabel('Background yield', fontsize=14)\n",
    "plt.errorbar(list_cuts[0], list_background_yields[0], yerr=list_background_yield_errors[0], \n",
    "             fmt=' ', capsize=1, color='crimson', alpha=0.5)\n",
    "plt.plot(list_cuts[0],list_background_yields[0], 'o', markersize = 3, color='crimson', alpha=0.75)\n",
    "\n",
    "plt.errorbar(list_cuts[1], list_background_yields[1], yerr=list_background_yield_errors[1], \n",
    "             fmt=' ', capsize=1, color='green', alpha=0.5)\n",
    "plt.plot(list_cuts[1],list_background_yields[1], 'o', markersize = 3, color='green', alpha=0.75)\n",
    "\n",
    "plt.errorbar(list_cuts[2],list_background_yields[2], yerr=list_background_yield_errors[2], \n",
    "             fmt=' ', capsize=1, color='blue', alpha=0.5)\n",
    "plt.plot(list_cuts[2],list_background_yields[2], 'o', markersize = 3, color='blue', alpha=0.75)\n",
    "plt.ylim(0.0001)\n",
    "plt.xlim([-0.01,1.01])\n",
    "# plt.yscale('log')\n",
    "plt.legend(['4ℓ-SF-inZ','4ℓ-SF-noZ','4ℓ-DF'])\n",
    "\n",
    "plt.savefig('plots/plot2_{}.pdf'.format(name))\n",
    "plt.show()"
   ]
  },
  {
   "cell_type": "markdown",
   "metadata": {},
   "source": [
    "## Plot weight distribution in some samples separated by physics process"
   ]
  },
  {
   "cell_type": "code",
   "execution_count": 67,
   "metadata": {},
   "outputs": [
    {
     "data": {
      "image/png": "[encoded data removed]",
      "text/plain": [
       "<Figure size 921.6x345.6 with 2 Axes>"
      ]
     },
     "metadata": {
      "needs_background": "light"
     },
     "output_type": "display_data"
    }
   ],
   "source": [
    "VVZ     = pd.read_feather('/home/grabanal/minitree/20211129_no_iso_VVZ.arrow')\n",
    "ZZ       = pd.read_feather('/home/grabanal/minitree/20211129_no_iso_ZZ.arrow')\n",
    "WZ       = pd.read_feather('/home/grabanal/minitree/20211129_no_iso_WZ.arrow')\n",
    "Zjets_new  = pd.read_feather('/home/grabanal/minitree/20211129_no_iso_Zjets.arrow')\n",
    "Zgamma = pd.read_feather('/home/grabanal/minitree/20211129_no_iso_Zgamma.arrow')\n",
    "ttZ    = pd.read_feather('/home/grabanal/minitree/20211129_no_iso_ttZ.arrow')\n",
    "tZ     = pd.read_feather('/home/grabanal/minitree/20211129_no_iso_tZ.arrow')\n",
    "tWZ    = pd.read_feather('/home/grabanal/minitree/20211129_no_iso_tWZ.arrow')\n",
    "others = pd.read_feather('/home/grabanal/minitree/20211129_no_iso_others.arrow')\n",
    "FULLBG = pd.read_feather('/home/grabanal/minitree/20211129_no_iso_FULLBG.arrow')\n",
    "\n",
    "# VVZ     = pd.read_feather('/home/grabanal/minitree/20211129_iso_e4m1_VVZ.arrow')\n",
    "# ZZ       = pd.read_feather('/home/grabanal/minitree/20211129_iso_e4m1_ZZ.arrow')\n",
    "# WZ       = pd.read_feather('/home/grabanal/minitree/20211129_iso_e4m1_WZ.arrow')\n",
    "# Zjets_new  = pd.read_feather('/home/grabanal/minitree/20211129_iso_e4m1_Zjets.arrow')\n",
    "# Zgamma = pd.read_feather('/home/grabanal/minitree/20211129_iso_e4m1_Zgamma.arrow')\n",
    "# ttZ    = pd.read_feather('/home/grabanal/minitree/20211129_iso_e4m1_ttZ.arrow')\n",
    "# tZ     = pd.read_feather('/home/grabanal/minitree/20211129_iso_e4m1_tZ.arrow')\n",
    "# tWZ    = pd.read_feather('/home/grabanal/minitree/20211129_iso_e4m1_tWZ.arrow')\n",
    "# others = pd.read_feather('/home/grabanal/minitree/20211129_iso_e4m1_others.arrow')\n",
    "# FULLBG = pd.read_feather('/home/grabanal/minitree/20211129_iso_e4m1_FULLBG.arrow')\n",
    "\n",
    "\n",
    "individual_backgrounds = [ZZ, WZ, Zjets_new, Zgamma, ttZ, tZ, tWZ, others]\n",
    "\n",
    "order = [others, tZ, tWZ, ttZ, Zgamma, WZ, Zjets_new, ZZ]\n",
    "\n",
    "\n",
    "plt.figure(figsize=[2*6.4,1*4.8])\n",
    "variable, denom, my_range, my_bins = 'wgt', 1, (-30,30), 100\n",
    "my_alpha = 0.9\n",
    "\n",
    "\n",
    "\n",
    "ax = plt.subplot(1, 2, 1)\n",
    "plt.xlabel('MC weight', fontsize=14)\n",
    "plt.ylabel('N(entries)', fontsize=14)\n",
    "max_wgt = np.maximum( abs(np.min(VVZ['wgt'])), np.max(VVZ['wgt']) ) \n",
    "my_range = (-max_wgt,max_wgt)\n",
    "n, bins, patches = plt.hist(VVZ[variable]/denom, range=my_range,\n",
    "                            bins=my_bins, alpha=my_alpha, color='red', label='VVZ')\n",
    "ax.legend(['VVZ'])\n",
    "plt.yscale('log')\n",
    "    \n",
    "\n",
    "    \n",
    "ax = plt.subplot(1, 2, 2)\n",
    "plt.xlabel('MC weight', fontsize=14)\n",
    "plt.ylabel('N(entries)', fontsize=14)\n",
    "colors = ('blue','purple','grey','pink', 'gold', 'maroon','green','darkturquoise')\n",
    "labels = ('others', 'tZ', 'tWZ', 'ttZ', 'Z+gamma', 'WZ', 'Z+jets', 'full ZZ')\n",
    "max_wgt = np.maximum( abs(np.min(FULLBG['wgt'])), np.max(FULLBG['wgt']) ) \n",
    "my_range = (-max_wgt,max_wgt)\n",
    "n, bins, patches = plt.hist( (order[0][variable]/denom, \n",
    "                             order[1][variable]/denom,\n",
    "                             order[2][variable]/denom,\n",
    "                             order[3][variable]/denom,\n",
    "                             order[4][variable]/denom,\n",
    "                             order[5][variable]/denom,\n",
    "                             order[6][variable]/denom,\n",
    "                             order[7][variable]/denom),\n",
    "                            range=my_range, \n",
    "                            bins=my_bins, alpha=my_alpha, \n",
    "                            color=colors, label=labels, stacked=True)\n",
    "handles, labels = ax.get_legend_handles_labels()\n",
    "ax.legend(reversed(handles), reversed(labels), loc='best')\n",
    "plt.yscale('log')\n",
    "\n",
    "plt.savefig('plots/this.pdf')\n",
    "plt.show()"
   ]
  },
  {
   "cell_type": "code",
   "execution_count": 46,
   "metadata": {},
   "outputs": [
    {
     "data": {
      "text/plain": [
       "33.633478207783135"
      ]
     },
     "execution_count": 46,
     "metadata": {},
     "output_type": "execute_result"
    }
   ],
   "source": [
    "max_wgt = np.maximum( abs(np.min(FULLBG['wgt'])), np.max(FULLBG['wgt']) )\n",
    "max_wgt"
   ]
  },
  {
   "cell_type": "code",
   "execution_count": 47,
   "metadata": {},
   "outputs": [
    {
     "data": {
      "text/plain": [
       "12.864305480738405"
      ]
     },
     "execution_count": 47,
     "metadata": {},
     "output_type": "execute_result"
    }
   ],
   "source": [
    "abs(np.min(FULLBG['wgt']))"
   ]
  },
  {
   "cell_type": "code",
   "execution_count": 48,
   "metadata": {},
   "outputs": [
    {
     "data": {
      "text/plain": [
       "33.633478207783135"
      ]
     },
     "execution_count": 48,
     "metadata": {},
     "output_type": "execute_result"
    }
   ],
   "source": [
    "np.max(FULLBG['wgt'])"
   ]
  },
  {
   "cell_type": "markdown",
   "metadata": {},
   "source": [
    " end of notebook"
   ]
  },
  {
   "cell_type": "code",
   "execution_count": null,
   "metadata": {},
   "outputs": [],
   "source": []
  },
  {
   "cell_type": "markdown",
   "metadata": {},
   "source": [
    "# Test of Keras tuner"
   ]
  },
  {
   "cell_type": "code",
   "execution_count": 273,
   "metadata": {},
   "outputs": [],
   "source": [
    "# Fit ML classifier\n",
    "EPOCHS = 1000\n",
    "batch_size = 1000\n",
    "num_nodes = 64 # where is this used?\n",
    "dropout = 0.1\n",
    "# learning_rate = \n",
    "\n",
    "n_models = 1\n",
    "\n",
    "x_test_results = x_test.copy()\n",
    "\n",
    "def model_builder(hp):\n",
    "    \n",
    "#     model = keras.Sequential()\n",
    "#     model.add(keras.layers.Flatten(input_shape=(28, 28)))\n",
    "\n",
    "#     # Tune the number of units in the first Dense layer\n",
    "#     # Choose an optimal value between 32-512\n",
    "#     hp_units = hp.Int('units', min_value=32, max_value=512, step=32)\n",
    "#     model.add(keras.layers.Dense(units=hp_units, activation='relu'))\n",
    "#     model.add(keras.layers.Dense(10))\n",
    "\n",
    "#     # Tune the learning rate for the optimizer\n",
    "#     # Choose an optimal value from 0.01, 0.001, or 0.0001\n",
    "#     hp_learning_rate = hp.Choice('learning_rate', values=[1e-2, 1e-3, 1e-4])\n",
    "\n",
    "#     model.compile(optimizer=keras.optimizers.Adam(learning_rate=hp_learning_rate),\n",
    "#                 loss=keras.losses.SparseCategoricalCrossentropy(from_logits=True),\n",
    "#                 metrics=['accuracy'])\n",
    "\n",
    "#     return model\n",
    "\n",
    "    classifier = Sequential()\n",
    "    # Tune the number of units in the first Dense layer\n",
    "    # Choose an optimal value between 32-512\n",
    "    hp_units_1 = hp.Int('units_1', min_value=10, max_value=100, step=10)\n",
    "    classifier.add(Dense(units=hp_units_1, input_dim=x_train.shape[1], activation='relu')) \n",
    "    classifier.add(Dropout(dropout))\n",
    "    hp_units_2 = hp.Int('units_2', min_value=10, max_value=100, step=10)\n",
    "    classifier.add(Dense(units=hp_units_2, activation='relu'))\n",
    "    classifier.add(Dropout(dropout))\n",
    "    hp_units_3 = hp.Int('units_3', min_value=10, max_value=100, step=10)\n",
    "    classifier.add(Dense(units=hp_units_3, activation='relu'))\n",
    "    classifier.add(Dropout(dropout))\n",
    "#     hp_units_4 = hp.Int('units_4', min_value=2, max_value=2, step=1)\n",
    "#     classifier.add(Dense(units=hp_units_4, activation='relu'))\n",
    "#     classifier.add(Dropout(dropout))\n",
    "    classifier.add(Dense(1, activation='sigmoid'))\n",
    "    classifier.compile(loss='binary_crossentropy', optimizer='adam', metrics=['accuracy'])\n",
    "    \n",
    "    # Early stopping\n",
    "    callback = tf.keras.callbacks.EarlyStopping(monitor='val_loss', patience=20, restore_best_weights=False)\n",
    "\n",
    "#     history = classifier.fit(x_train, y_train, epochs=EPOCHS, batch_size=batch_size,\n",
    "#                              validation_data=(x_test, y_test, w_test), sample_weight=w_train, \n",
    "#                              verbose=1, callbacks=[callback])\n",
    "    \n",
    "#     x_test_results['pred_' + str(i)] = classifier.predict(x_test, batch_size=batch_size)\n",
    "    return classifier"
   ]
  },
  {
   "cell_type": "code",
   "execution_count": 275,
   "metadata": {},
   "outputs": [],
   "source": [
    "tuner = kt.Hyperband(model_builder,\n",
    "                     objective='val_accuracy',\n",
    "                     max_epochs=10,\n",
    "                     factor=3,\n",
    "                     directory='my_dir',\n",
    "                     project_name='intro_to_kt_0',\n",
    "                    hyperband_iterations=1)"
   ]
  },
  {
   "cell_type": "code",
   "execution_count": 276,
   "metadata": {},
   "outputs": [],
   "source": [
    "stop_early = tf.keras.callbacks.EarlyStopping(monitor='val_loss', patience=5)"
   ]
  },
  {
   "cell_type": "code",
   "execution_count": 277,
   "metadata": {},
   "outputs": [
    {
     "name": "stdout",
     "output_type": "stream",
     "text": [
      "Trial 30 Complete [00h 00m 25s]\n",
      "val_accuracy: 0.6669543385505676\n",
      "\n",
      "Best val_accuracy So Far: 0.7773230075836182\n",
      "Total elapsed time: 00h 05m 24s\n",
      "INFO:tensorflow:Oracle triggered exit\n",
      "\n",
      "The hyperparameter search is complete.\n",
      "The optimal number of units in dense layer 1 is 100, \n",
      "The optimal number of units in dense layer 2 is 100,\n",
      "The optimal number of units in dense layer 3 is 50\n",
      "\n"
     ]
    }
   ],
   "source": [
    "tuner.search(x_train, y_train, epochs=EPOCHS, batch_size=batch_size, \n",
    "             validation_data=(x_test, y_test, w_test), sample_weight=w_train, \n",
    "             verbose=1, callbacks=[stop_early])\n",
    "\n",
    "# Get the optimal hyperparameters\n",
    "best_hps=tuner.get_best_hyperparameters(num_trials=1)[0]\n",
    "\n",
    "print(f\"\"\"\n",
    "The hyperparameter search is complete.\n",
    "The optimal number of units in dense layer 1 is {best_hps.get('units_1')}, \n",
    "The optimal number of units in dense layer 2 is {best_hps.get('units_2')},\n",
    "The optimal number of units in dense layer 3 is {best_hps.get('units_3')}\n",
    "\"\"\")"
   ]
  },
  {
   "cell_type": "code",
   "execution_count": null,
   "metadata": {
    "scrolled": true
   },
   "outputs": [],
   "source": [
    "model = tuner.hypermodel.build(best_hps)"
   ]
  },
  {
   "cell_type": "code",
   "execution_count": null,
   "metadata": {},
   "outputs": [],
   "source": []
  },
  {
   "cell_type": "code",
   "execution_count": null,
   "metadata": {},
   "outputs": [],
   "source": []
  }
 ],
 "metadata": {
  "kernelspec": {
   "display_name": "wvz_machine_learning",
   "language": "python",
   "name": "wvz_machine_learning"
  },
  "language_info": {
   "codemirror_mode": {
    "name": "ipython",
    "version": 3
   },
   "file_extension": ".py",
   "mimetype": "text/x-python",
   "name": "python",
   "nbconvert_exporter": "python",
   "pygments_lexer": "ipython3",
   "version": "3.9.7"
  }
 },
 "nbformat": 4,
 "nbformat_minor": 4
}
