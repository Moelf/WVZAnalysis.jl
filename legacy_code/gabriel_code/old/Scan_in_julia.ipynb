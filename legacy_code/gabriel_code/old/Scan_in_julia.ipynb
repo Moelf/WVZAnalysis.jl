{
 "cells": [
  {
   "cell_type": "code",
   "execution_count": 1,
   "metadata": {},
   "outputs": [],
   "source": [
    "import Arrow\n",
    "using DataFrames, TypedTables\n",
    "using Printf"
   ]
  },
  {
   "cell_type": "code",
   "execution_count": 2,
   "metadata": {},
   "outputs": [
    {
     "data": {
      "text/plain": [
       "Table with 188 columns and 3000840 rows:\n",
       "      lep2_iso_5  Zlep2_iso_4  Zlep2_mt  Zlep2_tight  Zlep1_iso_8  ⋯\n",
       "    ┌───────────────────────────────────────────────────────────────\n",
       " 1  │ true        true         26928.9   true         true         ⋯\n",
       " 2  │ true        true         45493.2   true         true         ⋯\n",
       " 3  │ true        true         37756.1   true         false        ⋯\n",
       " 4  │ true        true         73870.1   true         true         ⋯\n",
       " 5  │ true        false        20572.4   true         false        ⋯\n",
       " 6  │ false       true         20948.9   false        false        ⋯\n",
       " 7  │ true        false        22119.3   true         false        ⋯\n",
       " 8  │ true        false        17199.8   true         false        ⋯\n",
       " 9  │ false       false        14639.5   false        false        ⋯\n",
       " 10 │ true        true         22735.3   true         false        ⋯\n",
       " 11 │ true        true         44518.0   true         true         ⋯\n",
       " 12 │ true        true         45271.1   true         true         ⋯\n",
       " 13 │ true        true         64942.8   true         true         ⋯\n",
       " 14 │ true        true         27713.0   true         true         ⋯\n",
       " 15 │ true        true         16180.3   true         true         ⋯\n",
       " 16 │ true        true         14296.8   true         false        ⋯\n",
       " 17 │ true        true         55776.5   true         false        ⋯\n",
       " 18 │ true        true         79242.7   true         false        ⋯\n",
       " 19 │ true        true         29542.6   true         false        ⋯\n",
       " 20 │ true        true         18640.1   true         false        ⋯\n",
       " 21 │ true        true         39789.5   true         false        ⋯\n",
       " 22 │ true        true         21689.8   true         false        ⋯\n",
       " 23 │ true        true         31630.4   true         true         ⋯\n",
       " ⋮  │     ⋮            ⋮          ⋮           ⋮            ⋮       ⋱"
      ]
     },
     "execution_count": 2,
     "metadata": {},
     "output_type": "execute_result"
    }
   ],
   "source": [
    "identifier = \"20220208_no_qual_no_iso\"\n",
    "\n",
    "sig_path = \"/home/grabanal/minitree/\" * identifier * \"_VVZ.arrow\" \n",
    "bkg_path = \"/home/grabanal/minitree/\" * identifier * \"_FULLBG.arrow\" \n",
    "const sig = DataFrame(Arrow.Table(sig_path))\n",
    "const bkg = DataFrame(Arrow.Table(bkg_path))\n",
    "const sig_tp = Table(sig)\n",
    "const bkg_tp = Table(bkg)"
   ]
  },
  {
   "cell_type": "code",
   "execution_count": 73,
   "metadata": {},
   "outputs": [
    {
     "data": {
      "text/plain": [
       ":((+).([1, 2, 3], 3, 6))"
      ]
     },
     "execution_count": 73,
     "metadata": {},
     "output_type": "execute_result"
    }
   ],
   "source": [
    "@macroexpand @. [1,2,3] + 3 + 6"
   ]
  },
  {
   "cell_type": "code",
   "execution_count": 4,
   "metadata": {
    "scrolled": false
   },
   "outputs": [
    {
     "name": "stdout",
     "output_type": "stream",
     "text": [
      "[\"lep2_iso_5\", \"Zlep2_iso_4\", \"Zlep2_mt\", \"Zlep2_tight\", \"Zlep1_iso_8\", \"Wlep2_iso_6\", \"Zlep1_iso_3\", \"jet_m_2\", \"lep3_iso_1\", \"Zlep1_mt\", \"jet_m_3\", \"Zlep2_phi\", \"jet_m_4\", \"lep1_iso_3\", \"lep4_iso_4\", \"lep3_iso_7\", \"lep2_tight\", \"Zlep1_iso_10\", \"phi_1\", \"lep2_iso_7\", \"jet_phi_3\", \"Zlep2_pid\", \"Wlep1_pid\", \"lep4_iso_8\", \"jet_pt_3\", \"lep1_iso_9\", \"Zlep2_iso_5\", \"lep3_pid\", \"Zlep2_dphi\", \"lep3_tight\", \"m_4\", \"lep4_iso_10\", \"lep2_iso_8\", \"Zlep2_iso_7\", \"Zlep2_eta\", \"jet_pt_1\", \"Zlep1_iso_9\", \"Njet\", \"Wlep2_eta\", \"lep1_pid\", \"m_2\", \"Zlep2_iso_10\", \"Zlep2_iso_11\", \"lep3_iso_10\", \"Zlep1_tight\", \"lep4_iso_7\", \"lep2_iso_1\", \"Zlep2_pt\", \"jet_pt_2\", \"lep3_iso_3\", \"jet_eta_4\", \"lep3_iso_11\", \"Zlep1_iso_4\", \"lep2_iso_3\", \"Zlep2_iso_3\", \"lep1_iso_5\", \"other_mass\", \"lep1_iso_1\", \"Wlep2_iso_8\", \"lep4_tight\", \"eta_3\", \"jet_eta_2\", \"lep1_medium\", \"Wlep1_tight\", \"jet_phi_2\", \"Wlep2_iso_4\", \"Zlep2_iso_9\", \"lep4_pid\", \"lep4_iso_1\", \"Zlep1_iso_6\", \"lep3_iso_4\", \"Wlep2_iso_2\", \"Zlep1_iso_1\", \"Wlep2_phi\", \"chisq\", \"jet_m_1\", \"v_j_btag85\", \"Zlep1_eta\", \"lep1_iso_6\", \"lep3_iso_6\", \"HT\", \"lep4_medium\", \"Zlep1_iso_5\", \"Wlep2_iso_9\", \"Zcand_mass\", \"Zlep2_iso\", \"v_j_btagCont\", \"Zlep2_iso_6\", \"Wlep2_pt\", \"Nlep\", \"Wlep1_phi\", \"Wlep2_tight\", \"lep1_iso_8\", \"Wlep1_medium\", \"Wlep2_iso_11\", \"Zlep1_phi\", \"Wlep1_iso_7\", \"leptonic_HT\", \"lep3_iso_5\", \"Wlep2_iso\", \"Zlep2_iso_1\", \"Wlep1_iso_11\", \"m_3\", \"MET\", \"Wlep2_pid\", \"Wlep2_iso_1\", \"Zlep1_iso\", \"Zlep2_iso_8\", \"Wlep1_iso_9\", \"eta_4\", \"jet_pt_4\", \"Wlep1_iso_8\", \"lep4_iso_3\", \"phi_4\", \"lep4_iso_9\", \"Wlep1_iso_3\", \"Wlep2_iso_5\", \"lep2_iso_10\", \"lep3_iso_2\", \"v_j_btag70\", \"Zlep1_dphi\", \"Zlep1_pid\", \"lep2_iso_6\", \"lep4_iso_5\", \"lep1_iso_4\", \"Wlep1_pt\", \"Wlep2_iso_10\", \"Wlep1_mt\", \"Wlep2_mt\", \"lep2_medium\", \"v_j_btag77\", \"eta_1\", \"Zlep1_medium\", \"total_HT\", \"lep1_iso_7\", \"lep2_iso_9\", \"Zlep1_iso_7\", \"Wlep1_iso_2\", \"lep4_iso_2\", \"lep1_iso_2\", \"pt_3\", \"phi_3\", \"lep4_iso_6\", \"pt_1\", \"phi_2\", \"eta_2\", \"lep1_iso_10\", \"jet_eta_3\", \"Wlep2_iso_7\", \"METSig\", \"jet_eta_1\", \"Wlep1_dphi\", \"Zlep1_pt\", \"lep1_iso_11\", \"lep3_iso_8\", \"METPhi\", \"wgt\", \"Zlep1_iso_2\", \"Wlep1_iso_4\", \"Wlep2_medium\", \"Zlep1_iso_11\", \"Wlep1_iso_5\", \"Wlep1_iso_1\", \"Zlep2_iso_2\", \"lep3_medium\", \"mass_4l\", \"Wlep1_iso\", \"Wlep1_iso_10\", \"pt_4l\", \"SR\", \"Zlep2_medium\", \"Wlep1_iso_6\", \"lep2_pid\", \"lep2_iso_11\", \"lep3_iso_9\", \"lep4_iso_11\", \"pt_2\", \"m_1\", \"pt_4\", \"lep1_tight\", \"lep2_iso_2\", \"Wlep2_dphi\", \"jet_phi_4\", \"Wlep1_eta\", \"v_j_btag60\", \"Wlep2_iso_3\", \"jet_phi_1\", \"lep2_iso_4\"]\n"
     ]
    }
   ],
   "source": [
    "names(bkg) |> println"
   ]
  },
  {
   "cell_type": "code",
   "execution_count": 24,
   "metadata": {},
   "outputs": [
    {
     "data": {
      "text/plain": [
       "get_sweight (generic function with 3 methods)"
      ]
     },
     "execution_count": 24,
     "metadata": {},
     "output_type": "execute_result"
    }
   ],
   "source": [
    "function get_sweight(Wlep1_pid,Wlep2_pid,Zlep1_pid,Zlep2_pid,w1e,w1mu,w2e,w2mu,z1e,z1mu,z2e,z2mu,wgt)\n",
    "    res = 0.0\n",
    "    for idx in eachindex(w1e)\n",
    "        wl1pid = abs(Wlep1_pid[idx])\n",
    "        wl2pid = abs(Wlep2_pid[idx])\n",
    "        zl1pid = abs(Zlep1_pid[idx])\n",
    "        zl2pid = abs(Zlep2_pid[idx])\n",
    "        flag =\n",
    "        (wl1pid == 11 && w1e[idx] || wl1pid == 13 && w1mu[idx]) &&\n",
    "        (wl2pid == 11 && w2e[idx] || wl2pid == 13 && w2mu[idx]) &&\n",
    "        (zl1pid == 11 && z1e[idx] || zl1pid == 13 && z1mu[idx]) &&\n",
    "        (zl2pid == 11 && z2e[idx] || zl2pid == 13 && z2mu[idx])\n",
    "        res += flag ? wgt[idx] : 0.0\n",
    "    end\n",
    "    res\n",
    "end"
   ]
  },
  {
   "cell_type": "code",
   "execution_count": 8,
   "metadata": {},
   "outputs": [
    {
     "data": {
      "text/plain": [
       "main (generic function with 1 method)"
      ]
     },
     "execution_count": 8,
     "metadata": {},
     "output_type": "execute_result"
    }
   ],
   "source": [
    "function main()\n",
    "    res = [Pair{Tuple{Int64, Int64}, Tuple{Float64, Float64}}[] for _ in 1:Threads.nthreads()]\n",
    "    Threads.@threads for (isow,isoz) in collect(Iterators.product(3:3,7:7))\n",
    "        col1 = Symbol(:Wlep1, :_iso_, isow)\n",
    "        col2 = Symbol(:Wlep2, :_iso_, isow)\n",
    "        col3 = Symbol(:Zlep1, :_iso_, isoz)\n",
    "        col4 = Symbol(:Zlep2, :_iso_, isoz)\n",
    "        iso_pic = (isow, isoz)\n",
    "        bkg_mask = @. bkg[!, col1] & bkg[!, col2] & bkg[!, col3] & bkg[!, col4]\n",
    "        sig_mask = @. sig[!, col1] & sig[!, col2] & sig[!, col3] & sig[!, col4]\n",
    "        @views push!(res[Threads.threadid()], iso_pic => (sum(sig[sig_mask, :wgt]), sum(bkg[bkg_mask, :wgt])))\n",
    "    end\n",
    "    return res\n",
    "end"
   ]
  },
  {
   "cell_type": "code",
   "execution_count": 31,
   "metadata": {},
   "outputs": [
    {
     "data": {
      "text/plain": [
       "cons_sym (generic function with 1 method)"
      ]
     },
     "execution_count": 31,
     "metadata": {},
     "output_type": "execute_result"
    }
   ],
   "source": [
    "function cons_sym(isoew,isomuw,isoez,isomuz)\n",
    "    Symbol(:Wlep1, :_iso_, isoew),\n",
    "    Symbol(:Wlep1, :_iso_, isomuw),\n",
    "    Symbol(:Wlep2, :_iso_, isoew),\n",
    "    Symbol(:Wlep2, :_iso_, isomuw),\n",
    "    Symbol(:Zlep1, :_iso_, isoez),\n",
    "    Symbol(:Zlep1, :_iso_, isomuz),\n",
    "    Symbol(:Zlep2, :_iso_, isoez),\n",
    "    Symbol(:Zlep2, :_iso_, isomuz)\n",
    "end"
   ]
  },
  {
   "cell_type": "code",
   "execution_count": 57,
   "metadata": {},
   "outputs": [
    {
     "data": {
      "text/plain": [
       "main2 (generic function with 1 method)"
      ]
     },
     "execution_count": 57,
     "metadata": {},
     "output_type": "execute_result"
    }
   ],
   "source": [
    "function main2()\n",
    "    res = [Pair{NTuple{4, Int64}, Tuple{Float64, Float64}}[] for _ in 1:Threads.nthreads()]\n",
    "    Threads.@threads for (i1, i2, i3, i4) in collect(Iterators.product(1:11, 1:11, 1:11, 1:11))\n",
    "        bkgbranches = getproperty.(Ref(bkg), cons_sym(i1, i2, i3, i4))\n",
    "        sigbranches = getproperty.(Ref(sig), cons_sym(i1, i2, i3, i4))\n",
    "        bkg_res = get_sweight(bkg.Wlep1_pid,bkg.Wlep2_pid,bkg.Zlep1_pid,bkg.Zlep2_pid, bkgbranches..., bkg.wgt)\n",
    "        sig_res = get_sweight(sig.Wlep1_pid,sig.Wlep2_pid,sig.Zlep1_pid,sig.Zlep2_pid, sigbranches..., sig.wgt)\n",
    "        push!(res[Threads.threadid()], (i1, i2, i3, i4) => (sig_res, bkg_res))\n",
    "    end\n",
    "    reduce(vcat, res)\n",
    "end"
   ]
  },
  {
   "cell_type": "code",
   "execution_count": 58,
   "metadata": {},
   "outputs": [
    {
     "name": "stdout",
     "output_type": "stream",
     "text": [
      "152.859760 seconds (1.57 M allocations: 81.989 MiB, 0.00% compilation time)\n"
     ]
    }
   ],
   "source": [
    "res = @time main2();"
   ]
  },
  {
   "cell_type": "code",
   "execution_count": 67,
   "metadata": {},
   "outputs": [
    {
     "data": {
      "text/plain": [
       "(5, 3, 5, 3) => (42.09128250079475, 3716.7418330882238)"
      ]
     },
     "execution_count": 67,
     "metadata": {},
     "output_type": "execute_result"
    }
   ],
   "source": [
    "res[3173]"
   ]
  },
  {
   "cell_type": "code",
   "execution_count": 66,
   "metadata": {},
   "outputs": [
    {
     "data": {
      "text/plain": [
       "((0.6891191559288661, 0.0), 3173)"
      ]
     },
     "execution_count": 66,
     "metadata": {},
     "output_type": "execute_result"
    }
   ],
   "source": [
    "findmax(p->significance_and_error(p[2][1], 0.0, p[2][2], 0), res)"
   ]
  },
  {
   "cell_type": "code",
   "execution_count": 76,
   "metadata": {},
   "outputs": [
    {
     "data": {
      "text/plain": [
       "10-element Vector{Pair{Tuple{Int64, Int64}, Tuple{Float64, Float64}}}:\n",
       " (1, 1) => (36.0729680507379, 3299.402839504189)\n",
       " (1, 2) => (36.59954774332903, 3305.435755091944)\n",
       " (2, 1) => (35.97286872093014, 3111.862004809716)\n",
       " (2, 2) => (36.603862381080596, 3131.306993720843)\n",
       " (3, 1) => (38.26525469410356, 3386.2759184491456)\n",
       " (3, 2) => (38.893506618115595, 3401.108562785788)\n",
       " (4, 1) => (35.102202711223335, 3012.7684730638784)\n",
       " (4, 2) => (35.69749827352121, 3027.312103394211)\n",
       " (5, 1) => (38.45563813893, 3488.189369550147)\n",
       " (5, 2) => (39.096207432547715, 3501.850097105305)"
      ]
     },
     "execution_count": 76,
     "metadata": {},
     "output_type": "execute_result"
    }
   ],
   "source": [
    "res[1]"
   ]
  },
  {
   "cell_type": "code",
   "execution_count": 82,
   "metadata": {},
   "outputs": [
    {
     "name": "stdout",
     "output_type": "stream",
     "text": [
      "VVZ signal yield: 48.01371271488642\n",
      "background yield: 5903.504636774685"
     ]
    }
   ],
   "source": [
    "print(\"VVZ signal yield: \", sum(sig.wgt))\n",
    "print(\"\\n\")\n",
    "print(\"background yield: \", sum(bkg.wgt))"
   ]
  },
  {
   "cell_type": "code",
   "execution_count": 156,
   "metadata": {},
   "outputs": [
    {
     "data": {
      "text/plain": [
       "171474-element Vector{Float64}:\n",
       " 1.7024226169456366e-8\n",
       " 1.3973349380121177e-8\n",
       " 1.8683882414393683e-8\n",
       " 1.9406012636190478e-8\n",
       " 2.827700209690963e-8\n",
       " 1.7980723600234236e-8\n",
       " 2.3612699439598696e-8\n",
       " 2.5510890881650877e-8\n",
       " 2.5849005231009215e-11\n",
       " 1.5410348153887595e-8\n",
       " 1.772351260084546e-8\n",
       " 1.0665142174745076e-8\n",
       " 4.278912056761412e-8\n",
       " ⋮\n",
       " 1.3432608033119304e-6\n",
       " 2.0057445058728455e-7\n",
       " 3.402794510656849e-7\n",
       " 5.111978865287091e-7\n",
       " 1.9431136165870995e-7\n",
       " 2.416423177555663e-7\n",
       " 5.866769486687698e-7\n",
       " 2.6851748073755986e-7\n",
       " 2.793446562076789e-7\n",
       " 3.63613823621103e-7\n",
       " 3.1747186547123067e-7\n",
       " 2.2837431973441594e-7"
      ]
     },
     "execution_count": 156,
     "metadata": {},
     "output_type": "execute_result"
    }
   ],
   "source": [
    "sig.wgt.^2"
   ]
  },
  {
   "cell_type": "code",
   "execution_count": 65,
   "metadata": {},
   "outputs": [
    {
     "data": {
      "text/plain": [
       "print_total_significance_and_error (generic function with 1 method)"
      ]
     },
     "execution_count": 65,
     "metadata": {},
     "output_type": "execute_result"
    }
   ],
   "source": [
    "function yield_and_error(df)\n",
    "#     '''\n",
    "#     input: \n",
    "#     df  : dataframe\n",
    "    \n",
    "#     output:\n",
    "#     yield (significance, error)\n",
    "#     '''\n",
    "    Y  = -1\n",
    "    dY = -1\n",
    "    Y  = sum(df.wgt)\n",
    "    dY = sqrt(sum(df.wgt.^2))\n",
    "    return Y, dY\n",
    "end\n",
    "\n",
    "function significance_and_error(S, dS, B, dB)\n",
    "#     '''\n",
    "#     input: \n",
    "#     S  : signal\n",
    "#     dS : signal error\n",
    "#     B  : background\n",
    "#     dB : background error\n",
    "    \n",
    "#     output:\n",
    "#     tuple (significance, error)\n",
    "#     '''\n",
    "    # FAKE SIGNIFICANCE\n",
    "#     significance = S/np.sqrt(B)\n",
    "#     error        = np.sqrt( 1/B*(dS**2) + (S**2)/(4*B**3)*(dB**2) )\n",
    "#     return significance, error\n",
    "    \n",
    "    # REAL SIGNIFICANCE\n",
    "    # if a quantity is negative, return 0\n",
    "    if ((S<=0) | (B<=0))\n",
    "        return 0, 0\n",
    "    end\n",
    "    # calculate the significance and its error\n",
    "    significance = sqrt( 2*((S + B)*log(1 + S/B) - S) )\n",
    "    dSignifdS    = log(1 + S/B)/significance\n",
    "    dSignifdB    = ( log(1 + S/B) - S/B )/significance\n",
    "    error        = sqrt( (dSignifdS*dS)^2 + (dSignifdB*dB)^2 )\n",
    "    # return tuple\n",
    "    return significance, error\n",
    "end\n",
    "\n",
    "function add_in_quadrature_3( XdX, YdY, ZdZ )\n",
    "#     '''\n",
    "#     input: \n",
    "#     XdX : tuple (significance, error)\n",
    "#     YdY : tuple (significance, error)\n",
    "#     ZdZ : tuple (significance, error)\n",
    "    \n",
    "#     output:\n",
    "#     tuple (significance, error) added in quadrature\n",
    "#     '''\n",
    "    # unpack the significances\n",
    "    x, dx = XdX\n",
    "    y, dy = YdY\n",
    "    z, dz = ZdZ\n",
    "    # calculate the addition in quadrature and its error\n",
    "    quadrature_sum   = sqrt(x^2 + y^2 + z^2)\n",
    "    A                = (x^2)*(dx^2) + (y^2)*(dy^2) + (z^2)*(dz^2)\n",
    "    B                = (x^2) + (y^2) + (z^2)\n",
    "    if (quadrature_sum == 0)\n",
    "        return 0, 0\n",
    "    end\n",
    "    quadrature_error = sqrt( A / B )\n",
    "    # return tuple\n",
    "    return quadrature_sum, quadrature_error\n",
    "end\n",
    "\n",
    "function total_significance_and_error( df_sig, df_bg )\n",
    "    \n",
    "    m_list = []\n",
    "    for sr in [0,1,2]\n",
    "        S, dS = yield_and_error(df_sig[df_sig.SR .== sr])\n",
    "        B, dB = yield_and_error( df_bg[ df_bg.SR .== sr])\n",
    "        m_list.append(significance_and_error(S, dS, B, dB))\n",
    "    end\n",
    "    significance, error = add_in_quadrature_3(m_list[1], m_list[2], m_list[3])\n",
    "    return significance, error\n",
    "end\n",
    "\n",
    "function print_total_significance_and_error( df_sig, df_bg )\n",
    "    \n",
    "    m_list = []\n",
    "    for sr in [0,1,2]\n",
    "        if (sr == 0)\n",
    "            print(\"Region 4ℓ-SF-inZ:\\n\")\n",
    "        end\n",
    "        if (sr == 1)\n",
    "            print(\"Region 4ℓ-SF-noZ:\\n\")\n",
    "        end\n",
    "        if (sr == 2)\n",
    "            print(\"Region 4ℓ-DF:\\n\")\n",
    "        end\n",
    "        S, dS = yield_and_error(df_sig[df_sig.SR .== sr, :])\n",
    "        @printf(\"--- S = %.2f ± %.2f \\n\", S, dS)\n",
    "        B, dB = yield_and_error( df_bg[ df_bg.SR .== sr, :])\n",
    "        @printf(\"--- B = %.2f ± %.2f \\n\", B, dB)\n",
    "        significance, error = significance_and_error(S, dS, B, dB)\n",
    "        @printf(\"--- significance = %.2f ± %.2f \\n\", significance, error)\n",
    "        push!(m_list, (significance, error))\n",
    "        print(\"\\n\")\n",
    "    end\n",
    "        \n",
    "    significance, error = add_in_quadrature_3(m_list[1], m_list[2], m_list[3])\n",
    "    @printf(\"Total significance in quadrature = %.2f ± %.2f \\n\", significance, error)\n",
    "end"
   ]
  },
  {
   "cell_type": "code",
   "execution_count": 158,
   "metadata": {},
   "outputs": [
    {
     "data": {
      "text/plain": [
       "(48.01371271488642, 0.2432267729879009)"
      ]
     },
     "execution_count": 158,
     "metadata": {},
     "output_type": "execute_result"
    }
   ],
   "source": [
    "yield_and_error(sig)"
   ]
  },
  {
   "cell_type": "code",
   "execution_count": 159,
   "metadata": {
    "scrolled": true
   },
   "outputs": [
    {
     "name": "stdout",
     "output_type": "stream",
     "text": [
      "Region 4ℓ-SF-inZ:\n",
      "--- S = 14.39 ± 0.08 \n",
      "--- B = 2916.97 ± 10.28 \n",
      "--- significance = 0.27 ± 0.00 \n",
      "\n",
      "Region 4ℓ-SF-noZ:\n",
      "--- S = 15.41 ± 0.14 \n",
      "--- B = 1723.12 ± 50.59 \n",
      "--- significance = 0.37 ± 0.01 \n",
      "\n",
      "Region 4ℓ-DF:\n",
      "--- S = 18.21 ± 0.18 \n",
      "--- B = 1263.41 ± 69.37 \n",
      "--- significance = 0.51 ± 0.01 \n",
      "\n",
      "Total significance in quadrature = 0.69 ± 0.01 \n"
     ]
    }
   ],
   "source": [
    "print_total_significance_and_error(sig, bkg)"
   ]
  },
  {
   "cell_type": "code",
   "execution_count": 169,
   "metadata": {},
   "outputs": [
    {
     "ename": "LoadError",
     "evalue": "ArgumentError: Cannot construct range from arguments:\nstart = 2\nstep = nothing\nstop = nothing\nlength = nothing\nTry specifying more arguments.\n",
     "output_type": "error",
     "traceback": [
      "ArgumentError: Cannot construct range from arguments:\nstart = 2\nstep = nothing\nstop = nothing\nlength = nothing\nTry specifying more arguments.\n",
      "",
      "Stacktrace:",
      " [1] range_error(start::Int64, step::Nothing, stop::Nothing, length::Nothing)",
      "   @ Base ./range.jl:199",
      " [2] _range(start::Int64, step::Nothing, stop::Nothing, len::Nothing)",
      "   @ Base ./range.jl:125",
      " [3] range(start::Int64; stop::Nothing, length::Nothing, step::Nothing)",
      "   @ Base ./range.jl:109",
      " [4] range(start::Int64)",
      "   @ Base ./range.jl:109",
      " [5] top-level scope",
      "   @ In[169]:1",
      " [6] eval",
      "   @ ./boot.jl:373 [inlined]",
      " [7] include_string(mapexpr::typeof(REPL.softscope), mod::Module, code::String, filename::String)",
      "   @ Base ./loading.jl:1196"
     ]
    }
   ],
   "source": [
    "range(n_qualities)"
   ]
  },
  {
   "cell_type": "code",
   "execution_count": 183,
   "metadata": {},
   "outputs": [
    {
     "name": "stdout",
     "output_type": "stream",
     "text": [
      "0123"
     ]
    }
   ],
   "source": [
    "for i in 0:n_qualities\n",
    "    print(i)\n",
    "end"
   ]
  },
  {
   "cell_type": "code",
   "execution_count": 207,
   "metadata": {},
   "outputs": [
    {
     "data": {
      "text/plain": [
       "3-element Vector{Vector{Float64}}:\n",
       " [0.0, 0.0, 0.0, 0.0, 0.0, 0.0, 0.0, 0.0, 0.0, 0.0  …  0.0, 0.0, 0.0, 0.0, 0.0, 0.0, 0.0, 0.0, 0.0, 0.0]\n",
       " [0.0, 0.0, 0.0, 0.0, 0.0, 0.0, 0.0, 0.0, 0.0, 0.0  …  0.0, 0.0, 0.0, 0.0, 0.0, 0.0, 0.0, 0.0, 0.0, 0.0]\n",
       " [0.0, 0.0, 0.0, 0.0, 0.0, 0.0, 0.0, 0.0, 0.0, 0.0  …  0.0, 0.0, 0.0, 0.0, 0.0, 0.0, 0.0, 0.0, 0.0, 0.0]"
      ]
     },
     "execution_count": 207,
     "metadata": {},
     "output_type": "execute_result"
    }
   ],
   "source": [
    "[zeros((n_qualities*n_iso)), zeros((n_qualities*n_iso)), zeros((n_qualities*n_iso))]"
   ]
  },
  {
   "cell_type": "code",
   "execution_count": 262,
   "metadata": {},
   "outputs": [
    {
     "name": "stdout",
     "output_type": "stream",
     "text": [
      "--- analyzing the signal\n",
      "--- Signal Region = 0\n",
      "counter = 0\n",
      "counter = 1\n",
      "counter = 2\n",
      "counter = 3\n",
      "counter = 4\n",
      "counter = 5\n",
      "counter = 6\n",
      "counter = 7\n",
      "--- Signal Region = 1\n",
      "counter = 0\n",
      "counter = 1\n",
      "counter = 2\n",
      "counter = 3\n",
      "counter = 4\n",
      "counter = 5\n",
      "counter = 6\n",
      "counter = 7\n",
      "--- Signal Region = 2\n",
      "counter = 0\n",
      "counter = 1\n",
      "counter = 2\n",
      "counter = 3\n",
      "counter = 4\n",
      "counter = 5\n",
      "counter = 6\n",
      "counter = 7\n"
     ]
    },
    {
     "ename": "LoadError",
     "evalue": "MethodError: no method matching ^(::Vector{Any}, ::Int64)\n\u001b[0mClosest candidates are:\n\u001b[0m  ^(\u001b[91m::Union{AbstractChar, AbstractString}\u001b[39m, ::Integer) at strings/basic.jl:721\n\u001b[0m  ^(\u001b[91m::LinearAlgebra.UniformScaling\u001b[39m, ::Number) at /buildworker/worker/package_linux64/build/usr/share/julia/stdlib/v1.7/LinearAlgebra/src/uniformscaling.jl:318\n\u001b[0m  ^(\u001b[91m::LinearAlgebra.Hermitian\u001b[39m, ::Integer) at /buildworker/worker/package_linux64/build/usr/share/julia/stdlib/v1.7/LinearAlgebra/src/symmetric.jl:726\n\u001b[0m  ...",
     "output_type": "error",
     "traceback": [
      "MethodError: no method matching ^(::Vector{Any}, ::Int64)\n\u001b[0mClosest candidates are:\n\u001b[0m  ^(\u001b[91m::Union{AbstractChar, AbstractString}\u001b[39m, ::Integer) at strings/basic.jl:721\n\u001b[0m  ^(\u001b[91m::LinearAlgebra.UniformScaling\u001b[39m, ::Number) at /buildworker/worker/package_linux64/build/usr/share/julia/stdlib/v1.7/LinearAlgebra/src/uniformscaling.jl:318\n\u001b[0m  ^(\u001b[91m::LinearAlgebra.Hermitian\u001b[39m, ::Integer) at /buildworker/worker/package_linux64/build/usr/share/julia/stdlib/v1.7/LinearAlgebra/src/symmetric.jl:726\n\u001b[0m  ...",
      "",
      "Stacktrace:",
      " [1] literal_pow",
      "   @ ./intfuncs.jl:325 [inlined]",
      " [2] top-level scope",
      "   @ ./In[262]:124",
      " [3] eval",
      "   @ ./boot.jl:373 [inlined]",
      " [4] include_string(mapexpr::typeof(REPL.softscope), mod::Module, code::String, filename::String)",
      "   @ Base ./loading.jl:1196"
     ]
    }
   ],
   "source": [
    "n_qualities = 9\n",
    "n_iso_electrons = 6\n",
    "n_iso_muons = 12\n",
    "n_iso = n_iso_electrons*n_iso_muons\n",
    "\n",
    "n_qualities = 2\n",
    "n_iso_electrons = 2\n",
    "n_iso_muons = 2\n",
    "n_iso = n_iso_electrons*n_iso_muons\n",
    "\n",
    "W_qual_iso_df = DataFrame()\n",
    "\n",
    "for (n, df) in zip([0,1],[sig, bkg])\n",
    "    \n",
    "    if (n == 0)\n",
    "        print(\"--- analyzing the signal\\n\")\n",
    "    end\n",
    "    if (n == 1)\n",
    "        print(\"--- analyzing the background\\n\")\n",
    "    end\n",
    "        \n",
    "#     y        = zeros((3,n_qualities*n_iso)) # for each SR\n",
    "#     y_err    = zeros((3,n_qualities*n_iso)) # for each SR\n",
    "    \n",
    "    y = [[],[],[]]\n",
    "    y_err = [[],[],[]]\n",
    "\n",
    "    for SR in [0,1,2]\n",
    "        \n",
    "        @printf(\"--- Signal Region = %i\\n\", SR)\n",
    "        counter = -1 # counter will go from 0 to 647\n",
    "        sr_df = copy(df[df.SR .== SR, :])\n",
    "        \n",
    "        # Quality loop (LL, LM, LT, ML, MM, MT, TL, TM, TT)\n",
    "        for quality in 0:(n_qualities-1)\n",
    "            \n",
    "            qual_df = copy(sr_df)\n",
    "            # Check quality\n",
    "            # LL\n",
    "            if (quality == 0) \n",
    "            # LM\n",
    "            elseif (quality == 1) \n",
    "                qual_df = qual_df[(abs.(qual_df.Wlep1_pid) .== 11) .| (qual_df.Wlep1_medium .== true), :] # medium muons \n",
    "                qual_df = qual_df[(abs.(qual_df.Wlep2_pid) .== 11) .| (qual_df.Wlep2_medium .== true), :] # medium muons\n",
    "            # LT\n",
    "            elseif  (quality == 2) \n",
    "                qual_df = qual_df[(abs.(qual_df.Wlep1_pid) .== 11) .| (qual_df.Wlep1_tight .== true), :] # tight muons\n",
    "                qual_df = qual_df[(abs.(qual_df.Wlep2_pid) .== 11) .| (qual_df.Wlep2_tight .== true), :] # tight muons\n",
    "            # ML\n",
    "            elseif  (quality == 3) \n",
    "                qual_df = qual_df[(abs.(qual_df.Wlep1_pid) .== 13) .| (qual_df.Wlep1_medium .== true), :] # medium electrons\n",
    "                qual_df = qual_df[(abs.(qual_df.Wlep2_pid) .== 13) .| (qual_df.Wlep2_medium .== true), :] # medium electrons\n",
    "            # MM\n",
    "            elseif  (quality == 4) \n",
    "                qual_df = qual_df[qual_df.Wlep1_medium .== true, :] # medium all\n",
    "                qual_df = qual_df[qual_df.Wlep2_medium .== true, :] # medium all\n",
    "            # MT\n",
    "            elseif  (quality == 5) \n",
    "                qual_df = qual_df[(abs.(qual_df.Wlep1_pid) .== 13) .| (qual_df.Wlep1_medium .== true), :] # medium electrons\n",
    "                qual_df = qual_df[(abs.(qual_df.Wlep1_pid) .== 11) .| (qual_df.Wlep1_tight .== true), :]  # tight muons\n",
    "                qual_df = qual_df[(abs.(qual_df.Wlep2_pid) .== 13) .| (qual_df.Wlep2_medium .== true), :] # medium electrons\n",
    "                qual_df = qual_df[(abs.(qual_df.Wlep2_pid) .== 11) .| (qual_df.Wlep2_tight .== true), :]  # tight muons\n",
    "            # TL\n",
    "            elseif (quality == 6) \n",
    "                qual_df = qual_df[(abs.(qual_df.Wlep1_pid) .== 13) .| (qual_df.Wlep1_tight .== true), :] # tight electrons\n",
    "                qual_df = qual_df[(abs.(qual_df.Wlep2_pid) .== 13) .| (qual_df.Wlep2_tight .== true), :] # tight electrons\n",
    "            # TM\n",
    "            elseif (quality == 7)\n",
    "                qual_df = qual_df[(abs.(qual_df.Wlep1_pid) .== 13) .| (qual_df.Wlep1_tight .== true), :]  # tight electrons\n",
    "                qual_df = qual_df[(abs.(qual_df.Wlep1_pid) .== 11) .| (qual_df.Wlep1_medium .== true), :] # medium muons \n",
    "                qual_df = qual_df[(abs.(qual_df.Wlep2_pid) .== 13) .| (qual_df.Wlep2_tight .== true), :]  # tight electrons\n",
    "                qual_df = qual_df[(abs.(qual_df.Wlep2_pid) .== 11) .| (qual_df.Wlep2_medium .== true), :] # medium muons\n",
    "            # TT\n",
    "            elseif (quality == 8)\n",
    "                qual_df = qual_df[qual_df.Wlep1_tight .== true, :] # tight all\n",
    "                qual_df = qual_df[qual_df.Wlep2_tight .== true, :] # tight all\n",
    "            end\n",
    "\n",
    "            # Isolation loop for electrons, 0 means no iso\n",
    "            for i in 0:(n_iso_electrons-1)\n",
    "                \n",
    "                iso_e_df = copy(qual_df)\n",
    "                if (i == 0)\n",
    "                else\n",
    "                    iso_e_df = iso_e_df[(abs.(iso_e_df.Wlep1_pid) .== 13) .| (iso_e_df[!, string(\"Wlep1_iso_\", i)] .== true), :] # iso_i electrons\n",
    "                    iso_e_df = iso_e_df[(abs.(iso_e_df.Wlep2_pid) .== 13) .| (iso_e_df[!, string(\"Wlep2_iso_\", i)] .== true), :] # iso_i electrons\n",
    "                end\n",
    "                                                    \n",
    "                # Isolation loop for muons, 0 means no iso\n",
    "                for j in 0:(n_iso_muons-1)\n",
    "                    \n",
    "                    iso_mu_df = copy(iso_e_df)\n",
    "                    if (j == 0)\n",
    "                    else\n",
    "                        iso_mu_df = iso_mu_df[(abs.(iso_mu_df.Wlep1_pid) .== 11) .| (iso_mu_df[!, string(\"Wlep1_iso_\", j)] .== true ), :] # iso_j muons\n",
    "                        iso_mu_df = iso_mu_df[(abs.(iso_mu_df.Wlep2_pid) .== 11) .| (iso_mu_df[!, string(\"Wlep2_iso_\", j)] .== true ), :] # iso_j muons\n",
    "                    end\n",
    "                                                        \n",
    "                    counter = counter + 1\n",
    "                    @printf(\"counter = %i\\n\", counter)\n",
    "\n",
    "#                     y[SR][counter]     = sum(iso_mu_df.wgt)\n",
    "                    push!(y[SR+1], sum(iso_mu_df.wgt))\n",
    "#                     y_err[SR][counter] = sum(iso_mu_df.wgt.^2)\n",
    "                    push!(y_err[SR+1], sum(iso_mu_df.wgt.^2))\n",
    "                end\n",
    "            end\n",
    "        end\n",
    "    end\n",
    "\n",
    "    y_err[1] = sqrt.(y_err[1])\n",
    "    y_err[2] = sqrt.(y_err[2])\n",
    "    y_err[3] = sqrt.(y_err[3])\n",
    "\n",
    "    # Saving information:\n",
    "    if (n == 0)\n",
    "        W_qual_iso_df[!, :SF_inZ_signal]     = y[1]\n",
    "        W_qual_iso_df[!, :SF_inZ_signal_err] = y_err[1]\n",
    "        W_qual_iso_df[!, :SF_noZ_signal]     = y[2]\n",
    "        W_qual_iso_df[!, :SF_noZ_signal_err] = y_err[2]\n",
    "        W_qual_iso_df[!, :DF_signal]         = y[3]\n",
    "        W_qual_iso_df[!, :DF_signal_err]     = y_err[3]\n",
    "        W_qual_iso_df[!, :signal]            = y[1]+y[2]+y[3]\n",
    "        W_qual_iso_df[!, :signal_err]        = sqrt(y_err[1]^2 + y_err[2]^2 + y_err[3]^2)\n",
    "        \n",
    "    elseif (n == 1)\n",
    "        W_qual_iso_df[:SF_inZ_background]     = y[1]\n",
    "        W_qual_iso_df[:SF_inZ_background_err] = y_err[1]\n",
    "        W_qual_iso_df[:SF_noZ_background]     = y[2]\n",
    "        W_qual_iso_df[:SF_noZ_background_err] = y_err[2]\n",
    "        W_qual_iso_df[:DF_background]         = y[3]\n",
    "        W_qual_iso_df[:DF_background_err]     = y_err[3]\n",
    "        W_qual_iso_df[:background]            = y[1]+y[2]+y[3]\n",
    "        W_qual_iso_df[:background_err]        = sqrt(y_err[1]^2 + y_err[2]^2 + y_err[3]^2)\n",
    "    end \n",
    "        \n",
    "    \n",
    "end                          \n",
    "                                            \n",
    "# Calculating the significances\n",
    "print(\"Calculating the significances\\n\")\n",
    "significances = [[],[],[],[]] \n",
    "errors = [[],[],[],[]]\n",
    "\n",
    "for choice in W_qual_iso_df.index:\n",
    "\n",
    "    # SF-inZ\n",
    "    significance, error = significance_and_error(W_qual_iso_df.at[choice,\"SF-inZ-signal\"], \\\n",
    "                                                 W_qual_iso_df.at[choice,\"SF-inZ-signal-err\"], \\\n",
    "                                                 W_qual_iso_df.at[choice,\"SF-inZ-background\"], \\\n",
    "                                                 W_qual_iso_df.at[choice,\"SF-inZ-background-err\"])\n",
    "    significances[0].append(significance)\n",
    "    errors[0].append(error)\n",
    "    # SF-noZ\n",
    "    significance, error = significance_and_error(W_qual_iso_df.at[choice,\"SF-noZ-signal\"], \\\n",
    "                                                 W_qual_iso_df.at[choice,\"SF-noZ-signal-err\"], \\\n",
    "                                                 W_qual_iso_df.at[choice,\"SF-noZ-background\"], \\\n",
    "                                                 W_qual_iso_df.at[choice,\"SF-noZ-background-err\"])\n",
    "    significances[1].append(significance)\n",
    "    errors[1].append(error)\n",
    "    # DF\n",
    "    significance, error = significance_and_error(W_qual_iso_df.at[choice,\"DF-signal\"], \\\n",
    "                                                 W_qual_iso_df.at[choice,\"DF-signal-err\"], \\\n",
    "                                                 W_qual_iso_df.at[choice,\"DF-background\"], \\\n",
    "                                                 W_qual_iso_df.at[choice,\"DF-background-err\"])\n",
    "    significances[2].append(significance)\n",
    "    errors[2].append(error)\n",
    "    # Quadrature\n",
    "    significance, error = add_in_quadrature_3((significances[1][-1], errors[1][-1]), \n",
    "                                              (significances[2][-1], errors[2][-1]),\n",
    "                                              (significances[3][-1], errors[3][-1]),)\n",
    "    significances[3].append(significance)\n",
    "    errors[3].append(error)\n",
    "    \n",
    "W_qual_iso_df[\"SF-inZ-significance\"]     = significances[1]\n",
    "W_qual_iso_df[\"SF-inZ-significance-err\"] = errors[1]\n",
    "W_qual_iso_df[\"SF-noZ-significance\"]     = significances[2]\n",
    "W_qual_iso_df[\"SF-noZ-significance-err\"] = errors[2]\n",
    "W_qual_iso_df[\"DF-significance\"]         = significances[3]\n",
    "W_qual_iso_df[\"DF-significance-err\"]     = errors[3]\n",
    "W_qual_iso_df[\"significance\"]            = significances[4]\n",
    "W_qual_iso_df[\"significance-err\"]        = errors[4]\n",
    "print(\"--- Done!\")"
   ]
  },
  {
   "cell_type": "code",
   "execution_count": null,
   "metadata": {},
   "outputs": [],
   "source": []
  },
  {
   "cell_type": "code",
   "execution_count": 256,
   "metadata": {},
   "outputs": [
    {
     "data": {
      "text/plain": [
       "171474-element Arrow.Primitive{Int32, Vector{Int32}}:\n",
       " 0\n",
       " 0\n",
       " 0\n",
       " 0\n",
       " 0\n",
       " 0\n",
       " 0\n",
       " 0\n",
       " 0\n",
       " 0\n",
       " 0\n",
       " 1\n",
       " 1\n",
       " ⋮\n",
       " 1\n",
       " 2\n",
       " 0\n",
       " 2\n",
       " 1\n",
       " 2\n",
       " 1\n",
       " 2\n",
       " 1\n",
       " 1\n",
       " 2\n",
       " 1"
      ]
     },
     "execution_count": 256,
     "metadata": {},
     "output_type": "execute_result"
    }
   ],
   "source": [
    "sig[!, \"SR\"]"
   ]
  },
  {
   "cell_type": "code",
   "execution_count": 249,
   "metadata": {},
   "outputs": [
    {
     "data": {
      "text/html": [
       "<div class=\"data-frame\"><p>166,007 rows × 188 columns (omitted printing of 181 columns)</p><table class=\"data-frame\"><thead><tr><th></th><th>lep2_iso_5</th><th>Zlep2_iso_4</th><th>Zlep2_mt</th><th>Zlep2_tight</th><th>Zlep1_iso_8</th><th>Wlep2_iso_6</th><th>Zlep1_iso_3</th></tr><tr><th></th><th title=\"Bool\">Bool</th><th title=\"Bool\">Bool</th><th title=\"Float32\">Float32</th><th title=\"Bool\">Bool</th><th title=\"Bool\">Bool</th><th title=\"Bool\">Bool</th><th title=\"Bool\">Bool</th></tr></thead><tbody><tr><th>1</th><td>1</td><td>1</td><td>22867.6</td><td>1</td><td>0</td><td>1</td><td>1</td></tr><tr><th>2</th><td>1</td><td>0</td><td>25179.8</td><td>1</td><td>0</td><td>0</td><td>1</td></tr><tr><th>3</th><td>1</td><td>1</td><td>42508.4</td><td>1</td><td>0</td><td>0</td><td>1</td></tr><tr><th>4</th><td>1</td><td>1</td><td>22017.4</td><td>0</td><td>1</td><td>0</td><td>1</td></tr><tr><th>5</th><td>1</td><td>1</td><td>50298.2</td><td>1</td><td>0</td><td>0</td><td>0</td></tr><tr><th>6</th><td>1</td><td>1</td><td>36787.7</td><td>1</td><td>1</td><td>1</td><td>1</td></tr><tr><th>7</th><td>1</td><td>1</td><td>20295.6</td><td>1</td><td>1</td><td>1</td><td>1</td></tr><tr><th>8</th><td>1</td><td>1</td><td>35853.7</td><td>1</td><td>1</td><td>0</td><td>1</td></tr><tr><th>9</th><td>1</td><td>1</td><td>39495.5</td><td>1</td><td>1</td><td>1</td><td>1</td></tr><tr><th>10</th><td>1</td><td>0</td><td>18532.6</td><td>1</td><td>0</td><td>1</td><td>1</td></tr><tr><th>11</th><td>1</td><td>1</td><td>40415.2</td><td>0</td><td>0</td><td>0</td><td>1</td></tr><tr><th>12</th><td>1</td><td>1</td><td>48298.3</td><td>0</td><td>0</td><td>1</td><td>1</td></tr><tr><th>13</th><td>1</td><td>1</td><td>15179.3</td><td>1</td><td>1</td><td>1</td><td>1</td></tr><tr><th>14</th><td>1</td><td>1</td><td>34803.9</td><td>1</td><td>1</td><td>1</td><td>1</td></tr><tr><th>15</th><td>1</td><td>1</td><td>28527.1</td><td>1</td><td>0</td><td>0</td><td>1</td></tr><tr><th>16</th><td>1</td><td>1</td><td>46218.4</td><td>1</td><td>1</td><td>1</td><td>1</td></tr><tr><th>17</th><td>1</td><td>1</td><td>52239.0</td><td>1</td><td>0</td><td>0</td><td>1</td></tr><tr><th>18</th><td>1</td><td>1</td><td>29676.3</td><td>1</td><td>1</td><td>0</td><td>1</td></tr><tr><th>19</th><td>1</td><td>1</td><td>65370.7</td><td>1</td><td>1</td><td>1</td><td>1</td></tr><tr><th>20</th><td>1</td><td>1</td><td>13974.5</td><td>1</td><td>1</td><td>0</td><td>1</td></tr><tr><th>21</th><td>1</td><td>1</td><td>25548.6</td><td>1</td><td>0</td><td>0</td><td>1</td></tr><tr><th>22</th><td>1</td><td>1</td><td>42890.3</td><td>1</td><td>0</td><td>0</td><td>1</td></tr><tr><th>23</th><td>1</td><td>0</td><td>17775.2</td><td>1</td><td>0</td><td>0</td><td>1</td></tr><tr><th>24</th><td>1</td><td>1</td><td>34108.1</td><td>0</td><td>1</td><td>1</td><td>1</td></tr><tr><th>25</th><td>1</td><td>1</td><td>62116.2</td><td>1</td><td>0</td><td>0</td><td>1</td></tr><tr><th>26</th><td>1</td><td>1</td><td>45687.8</td><td>1</td><td>0</td><td>0</td><td>1</td></tr><tr><th>27</th><td>1</td><td>1</td><td>87289.4</td><td>1</td><td>0</td><td>0</td><td>1</td></tr><tr><th>28</th><td>1</td><td>1</td><td>8053.51</td><td>1</td><td>1</td><td>1</td><td>1</td></tr><tr><th>29</th><td>1</td><td>1</td><td>54445.4</td><td>1</td><td>1</td><td>0</td><td>1</td></tr><tr><th>30</th><td>1</td><td>1</td><td>40359.0</td><td>1</td><td>0</td><td>1</td><td>1</td></tr><tr><th>&vellip;</th><td>&vellip;</td><td>&vellip;</td><td>&vellip;</td><td>&vellip;</td><td>&vellip;</td><td>&vellip;</td><td>&vellip;</td></tr></tbody></table></div>"
      ],
      "text/latex": [
       "\\begin{tabular}{r|cccccccc}\n",
       "\t& lep2\\_iso\\_5 & Zlep2\\_iso\\_4 & Zlep2\\_mt & Zlep2\\_tight & Zlep1\\_iso\\_8 & Wlep2\\_iso\\_6 & Zlep1\\_iso\\_3 & \\\\\n",
       "\t\\hline\n",
       "\t& Bool & Bool & Float32 & Bool & Bool & Bool & Bool & \\\\\n",
       "\t\\hline\n",
       "\t1 & 1 & 1 & 22867.6 & 1 & 0 & 1 & 1 & $\\dots$ \\\\\n",
       "\t2 & 1 & 0 & 25179.8 & 1 & 0 & 0 & 1 & $\\dots$ \\\\\n",
       "\t3 & 1 & 1 & 42508.4 & 1 & 0 & 0 & 1 & $\\dots$ \\\\\n",
       "\t4 & 1 & 1 & 22017.4 & 0 & 1 & 0 & 1 & $\\dots$ \\\\\n",
       "\t5 & 1 & 1 & 50298.2 & 1 & 0 & 0 & 0 & $\\dots$ \\\\\n",
       "\t6 & 1 & 1 & 36787.7 & 1 & 1 & 1 & 1 & $\\dots$ \\\\\n",
       "\t7 & 1 & 1 & 20295.6 & 1 & 1 & 1 & 1 & $\\dots$ \\\\\n",
       "\t8 & 1 & 1 & 35853.7 & 1 & 1 & 0 & 1 & $\\dots$ \\\\\n",
       "\t9 & 1 & 1 & 39495.5 & 1 & 1 & 1 & 1 & $\\dots$ \\\\\n",
       "\t10 & 1 & 0 & 18532.6 & 1 & 0 & 1 & 1 & $\\dots$ \\\\\n",
       "\t11 & 1 & 1 & 40415.2 & 0 & 0 & 0 & 1 & $\\dots$ \\\\\n",
       "\t12 & 1 & 1 & 48298.3 & 0 & 0 & 1 & 1 & $\\dots$ \\\\\n",
       "\t13 & 1 & 1 & 15179.3 & 1 & 1 & 1 & 1 & $\\dots$ \\\\\n",
       "\t14 & 1 & 1 & 34803.9 & 1 & 1 & 1 & 1 & $\\dots$ \\\\\n",
       "\t15 & 1 & 1 & 28527.1 & 1 & 0 & 0 & 1 & $\\dots$ \\\\\n",
       "\t16 & 1 & 1 & 46218.4 & 1 & 1 & 1 & 1 & $\\dots$ \\\\\n",
       "\t17 & 1 & 1 & 52239.0 & 1 & 0 & 0 & 1 & $\\dots$ \\\\\n",
       "\t18 & 1 & 1 & 29676.3 & 1 & 1 & 0 & 1 & $\\dots$ \\\\\n",
       "\t19 & 1 & 1 & 65370.7 & 1 & 1 & 1 & 1 & $\\dots$ \\\\\n",
       "\t20 & 1 & 1 & 13974.5 & 1 & 1 & 0 & 1 & $\\dots$ \\\\\n",
       "\t21 & 1 & 1 & 25548.6 & 1 & 0 & 0 & 1 & $\\dots$ \\\\\n",
       "\t22 & 1 & 1 & 42890.3 & 1 & 0 & 0 & 1 & $\\dots$ \\\\\n",
       "\t23 & 1 & 0 & 17775.2 & 1 & 0 & 0 & 1 & $\\dots$ \\\\\n",
       "\t24 & 1 & 1 & 34108.1 & 0 & 1 & 1 & 1 & $\\dots$ \\\\\n",
       "\t25 & 1 & 1 & 62116.2 & 1 & 0 & 0 & 1 & $\\dots$ \\\\\n",
       "\t26 & 1 & 1 & 45687.8 & 1 & 0 & 0 & 1 & $\\dots$ \\\\\n",
       "\t27 & 1 & 1 & 87289.4 & 1 & 0 & 0 & 1 & $\\dots$ \\\\\n",
       "\t28 & 1 & 1 & 8053.51 & 1 & 1 & 1 & 1 & $\\dots$ \\\\\n",
       "\t29 & 1 & 1 & 54445.4 & 1 & 1 & 0 & 1 & $\\dots$ \\\\\n",
       "\t30 & 1 & 1 & 40359.0 & 1 & 0 & 1 & 1 & $\\dots$ \\\\\n",
       "\t$\\dots$ & $\\dots$ & $\\dots$ & $\\dots$ & $\\dots$ & $\\dots$ & $\\dots$ & $\\dots$ &  \\\\\n",
       "\\end{tabular}\n"
      ],
      "text/plain": [
       "\u001b[1m166007×188 DataFrame\u001b[0m\n",
       "\u001b[1m    Row \u001b[0m│\u001b[1m lep2_iso_5 \u001b[0m\u001b[1m Zlep2_iso_4 \u001b[0m\u001b[1m Zlep2_mt \u001b[0m\u001b[1m Zlep2_tight \u001b[0m\u001b[1m Zlep1_iso_8 \u001b[0m\u001b[1m Wlep2_i\u001b[0m ⋯\n",
       "\u001b[1m        \u001b[0m│\u001b[90m Bool       \u001b[0m\u001b[90m Bool        \u001b[0m\u001b[90m Float32  \u001b[0m\u001b[90m Bool        \u001b[0m\u001b[90m Bool        \u001b[0m\u001b[90m Bool   \u001b[0m ⋯\n",
       "────────┼───────────────────────────────────────────────────────────────────────\n",
       "      1 │       true         true   22867.6         true        false          ⋯\n",
       "      2 │       true        false   25179.8         true        false        f\n",
       "      3 │       true         true   42508.4         true        false        f\n",
       "      4 │       true         true   22017.4        false         true        f\n",
       "      5 │       true         true   50298.2         true        false        f ⋯\n",
       "      6 │       true         true   36787.7         true         true\n",
       "      7 │       true         true   20295.6         true         true\n",
       "      8 │       true         true   35853.7         true         true        f\n",
       "      9 │       true         true   39495.5         true         true          ⋯\n",
       "     10 │       true        false   18532.6         true        false\n",
       "     11 │       true         true   40415.2        false        false        f\n",
       "   ⋮    │     ⋮            ⋮          ⋮           ⋮            ⋮            ⋮  ⋱\n",
       " 165998 │       true         true   50307.2         true        false        f\n",
       " 165999 │       true         true   63613.6         true         true        f ⋯\n",
       " 166000 │       true         true   27524.0         true         true        f\n",
       " 166001 │       true         true   70235.0         true        false        f\n",
       " 166002 │       true         true   20510.5         true        false        f\n",
       " 166003 │      false        false   18380.3         true        false        f ⋯\n",
       " 166004 │       true         true   25405.6         true        false        f\n",
       " 166005 │       true         true   36065.5         true         true        f\n",
       " 166006 │       true         true   44102.5         true        false        f\n",
       " 166007 │       true         true   35830.8         true         true          ⋯\n",
       "\u001b[36m                                             183 columns and 165986 rows omitted\u001b[0m"
      ]
     },
     "execution_count": 249,
     "metadata": {},
     "output_type": "execute_result"
    }
   ],
   "source": [
    "x = sig[ (sig.SR .== 0) .| (sig.Wlep1_tight .== true) , :]"
   ]
  },
  {
   "cell_type": "code",
   "execution_count": 192,
   "metadata": {
    "scrolled": true
   },
   "outputs": [
    {
     "data": {
      "text/plain": [
       "648"
      ]
     },
     "execution_count": 192,
     "metadata": {},
     "output_type": "execute_result"
    }
   ],
   "source": [
    "n_qualities*n_iso"
   ]
  },
  {
   "cell_type": "code",
   "execution_count": 201,
   "metadata": {},
   "outputs": [
    {
     "data": {
      "text/plain": [
       "\"Wlep1_iso_10\""
      ]
     },
     "execution_count": 201,
     "metadata": {},
     "output_type": "execute_result"
    }
   ],
   "source": [
    "str = string(\"Wlep1_iso_\",10)"
   ]
  },
  {
   "cell_type": "code",
   "execution_count": null,
   "metadata": {},
   "outputs": [],
   "source": []
  }
 ],
 "metadata": {
  "kernelspec": {
   "display_name": "Julia 1.7.0-beta4",
   "language": "julia",
   "name": "julia-1.7"
  },
  "language_info": {
   "file_extension": ".jl",
   "mimetype": "application/julia",
   "name": "julia",
   "version": "1.7.0"
  }
 },
 "nbformat": 4,
 "nbformat_minor": 4
}
