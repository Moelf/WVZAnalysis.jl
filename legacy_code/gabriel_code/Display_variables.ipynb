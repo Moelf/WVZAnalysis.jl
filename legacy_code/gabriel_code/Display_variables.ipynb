{
 "cells": [
  {
   "cell_type": "code",
   "execution_count": 1,
   "metadata": {},
   "outputs": [],
   "source": [
    "import numpy as np\n",
    "import pandas as pd\n",
    "import matplotlib.pyplot as plt\n",
    "# import ROOT"
   ]
  },
  {
   "cell_type": "code",
   "execution_count": 23,
   "metadata": {},
   "outputs": [],
   "source": [
    "# path = '/home/grabanal/WVZ/gabriel_ML_data/'\n",
    "path = '/home/grabanal/minitree/'\n",
    "# identifier = '20220117_iso_e4m1_'\n",
    "identifier = '20220126_iso_e4m1_'\n",
    "identifier = '20220210_iso_e4m1_'\n",
    "\n",
    "\n",
    "# identifier = '20220217_0pt_best_iso_'\n",
    "\n",
    "# identifier = '20220215_nobtag_iso_e4m1_'\n",
    "identifier = '20220220_best_iso_'\n",
    "identifier = '20220223_0btag_best_iso_'\n",
    "\n",
    "# identifier = '20220301_ELReLMIs54_MUReLMIs31_nobtag_'\n",
    "identifier = '20220301_ELReLMIs54_MUReLMIs31_btag77_'\n",
    "\n",
    "\n",
    "identifier = '20220301_ELReLLIs00_MUReLLIs00_btag77_nochargesum_' # not useful\n",
    "identifier = '20220301_ELReLMIs54_MUReLMIs31_btag77_nochargesum_'\n",
    "\n",
    "\n",
    "\n",
    "# subset = '_TEST'\n",
    "subset = ''\n",
    "VVZ     = pd.read_feather('{}{}VVZ{}.arrow'.format(path, identifier, subset))\n",
    "ZZ       = pd.read_feather('{}{}ZZ{}.arrow'.format(path, identifier, subset))\n",
    "WZ       = pd.read_feather('{}{}WZ{}.arrow'.format(path, identifier, subset))\n",
    "Zjets  = pd.read_feather('{}{}Zjets{}.arrow'.format(path, identifier, subset))\n",
    "Zgamma = pd.read_feather('{}{}Zgamma{}.arrow'.format(path, identifier, subset))\n",
    "ttZ    = pd.read_feather('{}{}ttZ{}.arrow'.format(path, identifier, subset))\n",
    "tZ     = pd.read_feather('{}{}tZ{}.arrow'.format(path, identifier, subset))\n",
    "tWZ    = pd.read_feather('{}{}tWZ{}.arrow'.format(path, identifier, subset))\n",
    "others = pd.read_feather('{}{}others{}.arrow'.format(path, identifier, subset))\n",
    "FULLBG = pd.read_feather('{}{}FULLBG{}.arrow'.format(path, identifier, subset))\n",
    "\n",
    "\n",
    "# PARTIALBG = pd.read_feather('/home/grabanal/minitree/PARTIALBG_2021_11_19_iso_e4m1.arrow')\n",
    "# individual_backgrounds = [ZZ, WZ, Zjets_new, Zgamma, ttZ, tZ, tWZ, others]\n",
    "# FULLBG = pd.read_feather('/home/grabanal/minitree/FULLBG_2021_11_11_no_iso.arrow')\n",
    "\n",
    "order = [others, tZ, tWZ, ttZ, Zgamma, WZ, Zjets, ZZ]\n",
    "# order = [FULLBG]"
   ]
  },
  {
   "cell_type": "code",
   "execution_count": 3,
   "metadata": {},
   "outputs": [],
   "source": [
    "variable_SR = 2\n",
    "\n",
    "VVZ = VVZ[VVZ.SR == variable_SR]\n",
    "FULLBG = FULLBG[FULLBG.SR == variable_SR]\n",
    "for item in order:\n",
    "    item = item[item.SR == variable_SR]"
   ]
  },
  {
   "cell_type": "code",
   "execution_count": null,
   "metadata": {},
   "outputs": [],
   "source": []
  },
  {
   "cell_type": "code",
   "execution_count": 31,
   "metadata": {},
   "outputs": [],
   "source": [
    "vvz_yield = sum(VVZ['wgt'])\n",
    "vvz_yield_error = np.sqrt( sum(VVZ['wgt']**2) )\n",
    "vvz_nentries = len(VVZ['wgt'])\n",
    "\n",
    "new_bkg_yield = sum(sum(bkg['wgt']) for bkg in order)\n",
    "new_bkg_yield_error = np.sqrt( sum(sum(bkg['wgt']**2) for bkg in order) )\n",
    "new_nentries = sum(len(bkg['wgt']) for bkg in order)"
   ]
  },
  {
   "cell_type": "code",
   "execution_count": null,
   "metadata": {},
   "outputs": [],
   "source": []
  },
  {
   "cell_type": "code",
   "execution_count": 5,
   "metadata": {},
   "outputs": [
    {
     "data": {
      "image/png": "[encoded data removed]",
      "text/plain": [
       "<Figure size 921.6x345.6 with 2 Axes>"
      ]
     },
     "metadata": {
      "needs_background": "light"
     },
     "output_type": "display_data"
    }
   ],
   "source": [
    "plt.figure(figsize=[2*6.4,1*4.8])\n",
    "\n",
    "# variable, denom, my_range, my_bins = 'SR', 1, (-0.5,2.5), 3\n",
    "\n",
    "variable, denom, my_range, my_bins = 'Njet', 1, (-0.5,10.5), 11\n",
    "# variable, denom, my_range, my_bins = 'METSig', 1, (0,20), 20\n",
    "# variable, denom, my_range, my_bins = 'mass_4l', 1000, (0,800), 40\n",
    "# variable, denom, my_range, my_bins = 'HT', 1, (0,300), 60\n",
    "# variable, denom, my_range, my_bins = 'Zlep1_pt', 1000, (0,300), 60\n",
    "# variable, denom, my_range, my_bins = 'Zlep2_pt', 1000, (0,300), 60\n",
    "# variable, denom, my_range, my_bins = 'Wlep1_pt', 1000, (0,300), 60\n",
    "# variable, denom, my_range, my_bins = 'Wlep2_pt', 1000, (0,300), 60\n",
    "# variable, denom, my_range, my_bins = 'Zlep1_pid', 1, (-13.5,13.5), 27\n",
    "# variable, denom, my_range, my_bins = 'Zlep2_pid', 1, (-13.5,13.5), 27\n",
    "# variable, denom, my_range, my_bins = 'Zlep1_dphi', 1, (-3.5,3.5), 50\n",
    "# variable, denom, my_range, my_bins = 'Zlep2_dphi', 1, (-3.5,3.5), 50\n",
    "# variable, denom, my_range, my_bins = 'Wlep1_dphi', 1, (-3.5,3.5), 50\n",
    "# variable, denom, my_range, my_bins = 'Wlep2_dphi', 1, (-3.5,3.5), 50\n",
    "\n",
    "# variable, denom, my_range, my_bins = 'Wlep1_pid', 1, (-13.5,13.5), 27\n",
    "# variable, denom, my_range, my_bins = 'Wlep2_pid', 1, (-13.5,13.5), 27\n",
    "# variable, denom, my_range, my_bins = 'leptonic_HT', 1000, (0,600), 120\n",
    "\n",
    "variable, denom, my_range, my_bins, b_overflow = 'jet_btagCont_4', 1, (-1.5,5.5), 7, False\n",
    "\n",
    "\n",
    "\n",
    "my_alpha = 0.9\n",
    "my_log = False\n",
    "\n",
    "ax = plt.subplot(1, 2, 1)\n",
    "n, bins, patches = plt.hist(VVZ[variable]/denom, weights=VVZ['wgt'], range=my_range,\n",
    "                            bins=my_bins, alpha=my_alpha, color='red', label='VVZ')\n",
    "# to get sumw2:\n",
    "sumw2, _ = np.histogram(VVZ[variable]/denom, weights=VVZ['wgt']**2, range=my_range, bins=my_bins)\n",
    "# to plot error bars:\n",
    "bin_centers = (bins[:-1]+bins[1:])/2\n",
    "bin_widths  = (bins[1:]-bins[:-1])/2\n",
    "plt.errorbar(x=bin_centers, y=n, xerr=bin_widths, yerr=np.sqrt(sumw2), fmt=' ', color='k', alpha=0.5)\n",
    "if (my_log):\n",
    "    plt.yscale('log')\n",
    "plt.legend(title='Yield = {:.1f} ± {:.1f}\\nN(entries) = {}'.format(\\\n",
    "    vvz_yield, vvz_yield_error, vvz_nentries), loc='best')\n",
    "\n",
    "\n",
    "ax = plt.subplot(1, 2, 2)\n",
    "colors = ('blue','purple','grey','pink', 'gold', 'maroon','green','darkturquoise')\n",
    "labels = ('others', 'tZ', 'tWZ', 'ttZ', 'Z+gamma', 'WZ', 'Z+jets', 'full ZZ')\n",
    "n, bins, patches = plt.hist( (order[0][variable]/denom, \n",
    "                             order[1][variable]/denom,\n",
    "                             order[2][variable]/denom,\n",
    "                             order[3][variable]/denom,\n",
    "                             order[4][variable]/denom,\n",
    "                             order[5][variable]/denom,\n",
    "                             order[6][variable]/denom,\n",
    "                             order[7][variable]/denom),\n",
    "                              weights=(order[0]['wgt'], \n",
    "                                      order[1]['wgt'], \n",
    "                                      order[2]['wgt'],\n",
    "                                      order[3]['wgt'],\n",
    "                                      order[4]['wgt'],\n",
    "                                      order[5]['wgt'],\n",
    "                                      order[6]['wgt'],\n",
    "                                      order[7]['wgt']),\n",
    "                            range=my_range, \n",
    "                            bins=my_bins, alpha=my_alpha, \n",
    "                            color=colors, label=labels, stacked=True)\n",
    "# to get sumw2:\n",
    "sumw2, _ = np.histogram(FULLBG[variable]/denom, \n",
    "                        weights=FULLBG['wgt']**2, range=my_range, bins=my_bins)\n",
    "# to plot error bars:\n",
    "bin_centers = (bins[:-1]+bins[1:])/2\n",
    "bin_widths  = (bins[1:]-bins[:-1])/2\n",
    "plt.errorbar(x=bin_centers, y=n[-1], xerr=bin_widths, yerr=np.sqrt(sumw2), fmt=' ', color='k', alpha=0.5)\n",
    "\n",
    "if (my_log):\n",
    "    plt.yscale('log')\n",
    "handles, labels = ax.get_legend_handles_labels()\n",
    "ax.legend(reversed(handles), reversed(labels), title='Yield = {:.1f} ± {:.1f}\\nN(entries) = {}'.format(\\\n",
    "    new_bkg_yield, new_bkg_yield_error, new_nentries), loc='best')\n",
    "# plt.legend(handles[::-1], labels[::-1], title='Line', loc=\"best\", )\n",
    "max_there = n.max()\n",
    "\n",
    "\n",
    "plt.savefig('plots/this_SR{}_{}.pdf'.format(variable_SR, variable))\n",
    "plt.show()\n"
   ]
  },
  {
   "cell_type": "code",
   "execution_count": 50,
   "metadata": {},
   "outputs": [
    {
     "data": {
      "text/plain": [
       "36.762996593966456"
      ]
     },
     "execution_count": 50,
     "metadata": {},
     "output_type": "execute_result"
    }
   ],
   "source": [
    "sum(VVZ['wgt'])"
   ]
  },
  {
   "cell_type": "code",
   "execution_count": 5,
   "metadata": {},
   "outputs": [
    {
     "data": {
      "text/plain": [
       "Index(['index', 'pt_4l', 'SR', 'Wlep1_pt', 'Zlep1_phi', 'Wlep1_pid',\n",
       "       'leptonic_HT', 'Zlep2_pt', 'METSig', 'Wlep2_phi', 'chisq', 'Zlep2_phi',\n",
       "       'MET', 'other_mass', 'total_HT', 'Wlep2_pid', 'Zlep1_eta', 'Wlep1_dphi',\n",
       "       'Zlep1_pt', 'Zlep2_dphi', 'HT', 'wgt', 'pt_2', 'pt_4', 'pt_3',\n",
       "       'Wlep1_eta', 'Wlep2_dphi', 'Zlep2_eta', 'Zcand_mass', 'pt_1', 'Njet',\n",
       "       'Zlep1_dphi', 'Zlep1_pid', 'Wlep2_pt', 'Nlep', 'Wlep2_eta', 'mass_4l',\n",
       "       'Zlep2_pid', 'Wlep1_phi'],\n",
       "      dtype='object')"
      ]
     },
     "execution_count": 5,
     "metadata": {},
     "output_type": "execute_result"
    }
   ],
   "source": [
    "VVZ.columns"
   ]
  },
  {
   "cell_type": "code",
   "execution_count": null,
   "metadata": {},
   "outputs": [],
   "source": [
    "['index', 'pt_4l', 'SR', 'Wlep1_pt', 'Zlep1_phi', 'Wlep1_pid',\n",
    "       'leptonic_HT', 'Zlep2_pt', 'METSig', 'Wlep2_phi', 'chisq', 'Zlep2_phi',\n",
    "       'MET', 'other_mass', 'total_HT', 'Wlep2_pid', 'Zlep1_eta', 'Wlep1_dphi',\n",
    "       'Zlep1_pt', 'Zlep2_dphi', 'HT', 'wgt', 'pt_2', 'pt_4', 'pt_3',\n",
    "       'Wlep1_eta', 'Wlep2_dphi', 'Zlep2_eta', 'Zcand_mass', 'pt_1', 'Njet',\n",
    "       'Zlep1_dphi', 'Zlep1_pid', 'Wlep2_pt', 'Nlep', 'Wlep2_eta', 'mass_4l',\n",
    "       'Zlep2_pid', 'Wlep1_phi'],\n"
   ]
  },
  {
   "cell_type": "code",
   "execution_count": 26,
   "metadata": {},
   "outputs": [],
   "source": [
    "for df in [VVZ, FULLBG]:\n",
    "    x = df['Wlep1_pt']*np.cos(df['Wlep1_phi']) + \\\n",
    "        df['Wlep2_pt']*np.cos(df['Wlep2_phi']) + \\\n",
    "        df['MET']*np.cos(df['METPhi'])\n",
    "    y = df['Wlep1_pt']*np.sin(df['Wlep1_phi']) + \\\n",
    "        df['Wlep2_pt']*np.sin(df['Wlep2_phi']) + \\\n",
    "        df['MET']*np.sin(df['METPhi'])\n",
    "    df['my_variable'] = np.sqrt(x**2 + y**2)"
   ]
  },
  {
   "cell_type": "code",
   "execution_count": 48,
   "metadata": {},
   "outputs": [
    {
     "data": {
      "text/plain": [
       "Index(['jet_eta_3', 'Zlep1_phi', 'leptonic_HT', 'Zlep2_pt', 'jet_m_2',\n",
       "       'jet_pt_2', 'METSig', 'jet_eta_4', 'jet_m_3', 'Zlep2_phi', 'MET',\n",
       "       'other_mass', 'jet_m_4', 'Wlep2_pid', 'jet_eta_1', 'Wlep1_dphi',\n",
       "       'Zlep1_pt', 'eta_3', 'eta_4', 'jet_pt_4', 'METPhi', 'wgt', 'jet_eta_2',\n",
       "       'phi_4', 'v_j_btag70', 'phi_1', 'jet_phi_2', 'jet_phi_3', 'Zlep1_dphi',\n",
       "       'Zlep1_pid', 'lep4_pid', 'mass_4l', 'Zlep2_pid', 'pt_4l', 'SR',\n",
       "       'Wlep1_pt', 'lep2_pid', 'Wlep1_pid', 'v_j_btag77', 'Wlep2_phi', 'chisq',\n",
       "       'jet_pt_3', 'jet_m_1', 'eta_1', 'v_j_btag85', 'total_HT', 'Zlep1_eta',\n",
       "       'Zlep2_dphi', 'lep3_pid', 'HT', 'pt_2', 'pt_4', 'pt_3', 'Wlep1_eta',\n",
       "       'Wlep2_dphi', 'phi_3', 'Zlep2_eta', 'jet_pt_1', 'pt_1', 'jet_phi_4',\n",
       "       'Njet', 'phi_2', 'Zcand_mass', 'Wlep2_eta', 'v_j_btag60', 'lep1_pid',\n",
       "       'v_j_btagCont', 'Wlep2_pt', 'jet_phi_1', 'Nlep', 'Wlep1_phi', 'eta_2'],\n",
       "      dtype='object')"
      ]
     },
     "execution_count": 48,
     "metadata": {},
     "output_type": "execute_result"
    }
   ],
   "source": [
    "VVZ.columns"
   ]
  },
  {
   "cell_type": "code",
   "execution_count": 6,
   "metadata": {},
   "outputs": [
    {
     "data": {
      "text/html": [
       "<div>\n",
       "<style scoped>\n",
       "    .dataframe tbody tr th:only-of-type {\n",
       "        vertical-align: middle;\n",
       "    }\n",
       "\n",
       "    .dataframe tbody tr th {\n",
       "        vertical-align: top;\n",
       "    }\n",
       "\n",
       "    .dataframe thead th {\n",
       "        text-align: right;\n",
       "    }\n",
       "</style>\n",
       "<table border=\"1\" class=\"dataframe\">\n",
       "  <thead>\n",
       "    <tr style=\"text-align: right;\">\n",
       "      <th></th>\n",
       "      <th>v_j_btag60</th>\n",
       "      <th>v_j_btag70</th>\n",
       "      <th>v_j_btag77</th>\n",
       "      <th>v_j_btag85</th>\n",
       "      <th>v_j_btagCont</th>\n",
       "    </tr>\n",
       "  </thead>\n",
       "  <tbody>\n",
       "    <tr>\n",
       "      <th>0</th>\n",
       "      <td>[False, False, False, False, False, False, False]</td>\n",
       "      <td>[False, False, False, False, False, False, False]</td>\n",
       "      <td>[False, False, False, False, False, False, False]</td>\n",
       "      <td>[False, False, False, False, False, False, False]</td>\n",
       "      <td>[1, 1, -1, 1, 1, 1, 1]</td>\n",
       "    </tr>\n",
       "    <tr>\n",
       "      <th>1</th>\n",
       "      <td>[False, False]</td>\n",
       "      <td>[False, False]</td>\n",
       "      <td>[False, False]</td>\n",
       "      <td>[False, False]</td>\n",
       "      <td>[1, 1]</td>\n",
       "    </tr>\n",
       "    <tr>\n",
       "      <th>2</th>\n",
       "      <td>[False, False, False, False, False, False, False]</td>\n",
       "      <td>[False, False, False, False, False, False, False]</td>\n",
       "      <td>[False, False, False, False, False, False, False]</td>\n",
       "      <td>[False, False, False, False, False, False, False]</td>\n",
       "      <td>[-1, 1, 1, -1, -1, -1, 1]</td>\n",
       "    </tr>\n",
       "    <tr>\n",
       "      <th>3</th>\n",
       "      <td>[False, False, False, False]</td>\n",
       "      <td>[False, False, False, False]</td>\n",
       "      <td>[False, False, False, False]</td>\n",
       "      <td>[False, False, False, False]</td>\n",
       "      <td>[1, 1, 1, 1]</td>\n",
       "    </tr>\n",
       "    <tr>\n",
       "      <th>4</th>\n",
       "      <td>[False, False, False, False, False, False]</td>\n",
       "      <td>[False, False, False, False, False, False]</td>\n",
       "      <td>[False, False, False, False, False, False]</td>\n",
       "      <td>[False, False, False, False, False, False]</td>\n",
       "      <td>[1, -1, 1, 1, -1, 1]</td>\n",
       "    </tr>\n",
       "  </tbody>\n",
       "</table>\n",
       "</div>"
      ],
      "text/plain": [
       "                                          v_j_btag60  \\\n",
       "0  [False, False, False, False, False, False, False]   \n",
       "1                                     [False, False]   \n",
       "2  [False, False, False, False, False, False, False]   \n",
       "3                       [False, False, False, False]   \n",
       "4         [False, False, False, False, False, False]   \n",
       "\n",
       "                                          v_j_btag70  \\\n",
       "0  [False, False, False, False, False, False, False]   \n",
       "1                                     [False, False]   \n",
       "2  [False, False, False, False, False, False, False]   \n",
       "3                       [False, False, False, False]   \n",
       "4         [False, False, False, False, False, False]   \n",
       "\n",
       "                                          v_j_btag77  \\\n",
       "0  [False, False, False, False, False, False, False]   \n",
       "1                                     [False, False]   \n",
       "2  [False, False, False, False, False, False, False]   \n",
       "3                       [False, False, False, False]   \n",
       "4         [False, False, False, False, False, False]   \n",
       "\n",
       "                                          v_j_btag85  \\\n",
       "0  [False, False, False, False, False, False, False]   \n",
       "1                                     [False, False]   \n",
       "2  [False, False, False, False, False, False, False]   \n",
       "3                       [False, False, False, False]   \n",
       "4         [False, False, False, False, False, False]   \n",
       "\n",
       "                v_j_btagCont  \n",
       "0     [1, 1, -1, 1, 1, 1, 1]  \n",
       "1                     [1, 1]  \n",
       "2  [-1, 1, 1, -1, -1, -1, 1]  \n",
       "3               [1, 1, 1, 1]  \n",
       "4       [1, -1, 1, 1, -1, 1]  "
      ]
     },
     "execution_count": 6,
     "metadata": {},
     "output_type": "execute_result"
    }
   ],
   "source": [
    "jet_variables = ttZ[['v_j_btag60','v_j_btag70','v_j_btag77','v_j_btag85','v_j_btagCont']]\n",
    "jet_variables.head(5)"
   ]
  },
  {
   "cell_type": "code",
   "execution_count": 7,
   "metadata": {},
   "outputs": [
    {
     "data": {
      "text/plain": [
       "array([ 1,  1, -1,  1,  1,  1,  1], dtype=int32)"
      ]
     },
     "execution_count": 7,
     "metadata": {},
     "output_type": "execute_result"
    }
   ],
   "source": [
    "ttZ['v_j_btagCont'][:][0]"
   ]
  },
  {
   "cell_type": "code",
   "execution_count": 15,
   "metadata": {},
   "outputs": [
    {
     "data": {
      "text/plain": [
       "-1"
      ]
     },
     "execution_count": 15,
     "metadata": {},
     "output_type": "execute_result"
    }
   ],
   "source": [
    "np.sign(-3)"
   ]
  },
  {
   "cell_type": "code",
   "execution_count": 24,
   "metadata": {},
   "outputs": [],
   "source": [
    "VVZ['my_variable'] = np.sign(VVZ['lep1_pid']) + np.sign(VVZ['lep2_pid']) \\\n",
    "                   + np.sign(VVZ['lep3_pid']) + np.sign(VVZ['lep4_pid'])\n",
    "FULLBG['my_variable'] = np.sign(FULLBG['lep1_pid']) + np.sign(FULLBG['lep2_pid']) \\\n",
    "                      + np.sign(FULLBG['lep3_pid']) + np.sign(FULLBG['lep4_pid'])"
   ]
  },
  {
   "cell_type": "code",
   "execution_count": 18,
   "metadata": {},
   "outputs": [
    {
     "data": {
      "text/plain": [
       "(array([6626.,    0., 1973.,    0.,    0.,    0.,    0., 3830.,    0.,\n",
       "         418.]),\n",
       " array([-2. , -1.6, -1.2, -0.8, -0.4,  0. ,  0.4,  0.8,  1.2,  1.6,  2. ]),\n",
       " <BarContainer object of 10 artists>)"
      ]
     },
     "execution_count": 18,
     "metadata": {},
     "output_type": "execute_result"
    },
    {
     "data": {
      "image/png": "[encoded data removed]",
      "text/plain": [
       "<Figure size 432x288 with 1 Axes>"
      ]
     },
     "metadata": {
      "needs_background": "light"
     },
     "output_type": "display_data"
    }
   ],
   "source": [
    "plt.hist(ttZ['jet_btagCont_4'])"
   ]
  },
  {
   "cell_type": "code",
   "execution_count": 27,
   "metadata": {},
   "outputs": [
    {
     "data": {
      "image/png": "[encoded data removed]",
      "text/plain": [
       "<Figure size 1382.4x345.6 with 3 Axes>"
      ]
     },
     "metadata": {
      "needs_background": "light"
     },
     "output_type": "display_data"
    }
   ],
   "source": [
    "plt.figure(figsize=[3*6.4,1*4.8])\n",
    "\n",
    "# variable, denom, my_range, my_bins, b_overflow = 'SR', 1, (-0.5,2.5), 3, True\n",
    "variable, denom, my_range, my_bins, b_overflow = 'my_variable', 1, (-4.5,4.5), 9, False \n",
    "\n",
    "# variable, denom, my_range, my_bins, b_overflow = 'pt_1', 1000, (0,300), 50, True\n",
    "# variable, denom, my_range, my_bins, b_overflow = 'pt_2', 1000, (0,300), 50, True\n",
    "# variable, denom, my_range, my_bins, b_overflow = 'pt_3', 1000, (0,300), 50, True\n",
    "# variable, denom, my_range, my_bins, b_overflow = 'pt_4', 1000, (0,300), 50, True\n",
    "\n",
    "# variable, denom, my_range, my_bins, b_overflow = 'Zlep1_pid', 1, (-13.5,13.5), 27, False # Yes\n",
    "# variable, denom, my_range, my_bins, b_overflow = 'Zlep1_pt', 1000, (0,300), 50, True # Yes\n",
    "# variable, denom, my_range, my_bins, b_overflow = 'Zlep1_eta', 1, (-3,3), 50, False\n",
    "# variable, denom, my_range, my_bins, b_overflow = 'Zlep1_phi', 1, (-3.5,3.5), 50, False\n",
    "# variable, denom, my_range, my_bins, b_overflow = 'Zlep1_dphi', 1, (-3.5,3.5), 50, False # Yes\n",
    "# variable, denom, my_range, my_bins, b_overflow = 'Zlep1_mt', 1000, (0,300), 50, True \n",
    "\n",
    "# variable, denom, my_range, my_bins, b_overflow = 'Zlep2_pid', 1, (-13.5,13.5), 27, False # Yes\n",
    "# variable, denom, my_range, my_bins, b_overflow = 'Zlep2_pt', 1000, (0,300), 50, True # Yes\n",
    "# variable, denom, my_range, my_bins, b_overflow = 'Zlep2_eta', 1, (-3,3), 50, False\n",
    "# variable, denom, my_range, my_bins, b_overflow = 'Zlep2_phi', 1, (-3.5,3.5), 50, False\n",
    "# variable, denom, my_range, my_bins, b_overflow = 'Zlep2_dphi', 1, (-3.5,3.5), 50, False # Yes\n",
    "# variable, denom, my_range, my_bins, b_overflow = 'Zlep2_mt', 1000, (0,300), 50, True \n",
    "\n",
    "# variable, denom, my_range, my_bins, b_overflow = 'Wlep1_pid', 1, (-13.5,13.5), 27, False\n",
    "# variable, denom, my_range, my_bins, b_overflow = 'Wlep1_pt', 1000, (0,300), 50, True # Yes\n",
    "# variable, denom, my_range, my_bins, b_overflow = 'Wlep1_eta', 1, (-3,3), 50, False\n",
    "# variable, denom, my_range, my_bins, b_overflow = 'Wlep1_phi', 1, (-3.5,3.5), 50, False\n",
    "# variable, denom, my_range, my_bins, b_overflow = 'Wlep1_dphi', 1, (-3.5,3.5), 50, False # Yes\n",
    "# variable, denom, my_range, my_bins, b_overflow = 'Wlep1_mt', 1000, (0,300), 50, True \n",
    "\n",
    "# variable, denom, my_range, my_bins, b_overflow = 'Wlep2_pid', 1, (-13.5,13.5), 27, False\n",
    "# variable, denom, my_range, my_bins, b_overflow = 'Wlep2_pt', 1000, (0,300), 50, True # Yes\n",
    "# variable, denom, my_range, my_bins, b_overflow = 'Wlep2_eta', 1, (-3,3), 50, False\n",
    "# variable, denom, my_range, my_bins, b_overflow = 'Wlep2_phi', 1, (-3.5,3.5), 50, False\n",
    "# variable, denom, my_range, my_bins, b_overflow = 'Wlep2_dphi', 1, (-3.5,3.5), 50, False # Yes\n",
    "# variable, denom, my_range, my_bins, b_overflow = 'Wlep2_mt', 1000, (0,300), 50, True \n",
    "\n",
    "# variable, denom, my_range, my_bins, b_overflow = 'leptonic_HT', 1000, (0,600), 50, True\n",
    "# variable, denom, my_range, my_bins, b_overflow = 'Zcand_mass', 1000, (60,120), 50, True\n",
    "# variable, denom, my_range, my_bins, b_overflow = 'other_mass', 1000, (0,150), 50, True\n",
    "# variable, denom, my_range, my_bins, b_overflow = 'mass_4l', 1000, (0,800), 50, True # Yes\n",
    "# variable, denom, my_range, my_bins, b_overflow = 'pt_4l', 1000, (0,300), 50, True \n",
    "# variable, denom, my_range, my_bins, b_overflow = 'chisq', 1, (0,500), 50, True\n",
    "\n",
    "# variable, denom, my_range, my_bins, b_overflow = 'Njet', 1, (-0.5,10.5), 11, True # Yes\n",
    "# variable, denom, my_range, my_bins, b_overflow = 'HT', 1000, (0,300), 50, True # Yes, already in GeV\n",
    "\n",
    "# variable, denom, my_range, my_bins, b_overflow = 'MET', 1000, (0,200), 50, True\n",
    "# variable, denom, my_range, my_bins, b_overflow = 'METSig', 1, (0,20), 50, True # Yes\n",
    "# variable, denom, my_range, my_bins, b_overflow = 'METPhi', 1, (-3.5,3.5), 50, True\n",
    "# variable, denom, my_range, my_bins, b_overflow = 'total_HT', 1000, (0,1000), 50, True\n",
    "\n",
    "# variable, denom, my_range, my_bins, b_overflow = 'jet_pt_1', 1000, (0,100), 20, True\n",
    "# variable, denom, my_range, my_bins, b_overflow = 'jet_pt_2', 1000, (0,100), 20, True\n",
    "# variable, denom, my_range, my_bins, b_overflow = 'jet_pt_3', 1000, (0,100), 20, True\n",
    "# variable, denom, my_range, my_bins, b_overflow = 'jet_pt_4', 1000, (0,100), 20, True\n",
    "# variable, denom, my_range, my_bins, b_overflow = 'jet_eta_1', 1, (-10,5), 50, False\n",
    "# variable, denom, my_range, my_bins, b_overflow = 'jet_eta_2', 1, (-10,5), 50, False\n",
    "# variable, denom, my_range, my_bins, b_overflow = 'jet_eta_3', 1, (-10,5), 50, False\n",
    "# variable, denom, my_range, my_bins, b_overflow = 'jet_eta_4', 1, (-10,5), 50, False\n",
    "# variable, denom, my_range, my_bins, b_overflow = 'jet_phi_1', 1, (-10.5,3.5), 50, False\n",
    "# variable, denom, my_range, my_bins, b_overflow = 'jet_phi_2', 1, (-10.5,3.5), 50, False\n",
    "# variable, denom, my_range, my_bins, b_overflow = 'jet_phi_3', 1, (-10.5,3.5), 50, False\n",
    "# variable, denom, my_range, my_bins, b_overflow = 'jet_phi_4', 1, (-10.5,3.5), 50, False\n",
    "\n",
    "\n",
    "# variable, denom, my_range, my_bins, b_overflow = 'm_1', 1, (0,200), 50, True\n",
    "\n",
    "# variable, denom, my_range, my_bins, b_overflow = 'jet_m_1', 1000, (0,20), 20, True\n",
    "# variable, denom, my_range, my_bins, b_overflow = 'jet_m_2', 1000, (0,20), 20, True\n",
    "# variable, denom, my_range, my_bins, b_overflow = 'jet_m_3', 1000, (0,20), 20, True\n",
    "# variable, denom, my_range, my_bins, b_overflow = 'jet_m_4', 1000, (0,20), 20, True\n",
    "\n",
    "\n",
    "# variable, denom, my_range, my_bins, b_overflow = 'jet_btagCont_1', 1, (-2.5,5.5), 8, False\n",
    "# variable, denom, my_range, my_bins, b_overflow = 'jet_btagCont_2', 1, (-2.5,5.5), 8, False\n",
    "# variable, denom, my_range, my_bins, b_overflow = 'jet_btagCont_3', 1, (-2.5,5.5), 8, False\n",
    "# variable, denom, my_range, my_bins, b_overflow = 'jet_btagCont_4', 1, (-2.5,5.5), 8, False\n",
    "\n",
    "# variable, denom, my_range, my_bins, b_overflow = 'jet_btagCont_1', 1, (-1.5,5.5), 7, False\n",
    "# variable, denom, my_range, my_bins, b_overflow = 'jet_btagCont_2', 1, (-1.5,5.5), 7, False\n",
    "# variable, denom, my_range, my_bins, b_overflow = 'jet_btagCont_3', 1, (-1.5,5.5), 7, False\n",
    "# variable, denom, my_range, my_bins, b_overflow = 'jet_btagCont_4', 1, (-1.5,5.5), 7, False\n",
    "\n",
    "# variable, denom, my_range, my_bins, b_overflow = 'Zlep1_ambiguous', 1, (-1.5,1.5), 3, False\n",
    "# variable, denom, my_range, my_bins, b_overflow = 'Zlep2_ambiguous', 1, (-1.5,1.5), 3, False\n",
    "# variable, denom, my_range, my_bins, b_overflow = 'Wlep1_ambiguous', 1, (-1.5,1.5), 3, False\n",
    "# variable, denom, my_range, my_bins, b_overflow = 'Wlep2_ambiguous', 1, (-1.5,1.5), 3, False\n",
    "# variable, denom, my_range, my_bins, b_overflow = 'lep1_ambiguous',  1, (-1.5,1.5), 3, False\n",
    "# variable, denom, my_range, my_bins, b_overflow = 'lep2_ambiguous',  1, (-1.5,1.5), 3, False\n",
    "# variable, denom, my_range, my_bins, b_overflow = 'lep3_ambiguous',  1, (-1.5,1.5), 3, False\n",
    "# variable, denom, my_range, my_bins, b_overflow = 'lep4_ambiguous',  1, (-1.5,1.5), 3, False\n",
    "\n",
    "# variable, denom, my_range, my_bins, b_overflow = 'Zlep1_ambiguous', 1, (-0.5,1.5), 2, False\n",
    "# variable, denom, my_range, my_bins, b_overflow = 'Zlep2_ambiguous', 1, (-0.5,1.5), 2, False\n",
    "# variable, denom, my_range, my_bins, b_overflow = 'Wlep1_ambiguous', 1, (-0.5,1.5), 2, False\n",
    "# variable, denom, my_range, my_bins, b_overflow = 'Wlep2_ambiguous', 1, (-0.5,1.5), 2, False\n",
    "# variable, denom, my_range, my_bins, b_overflow = 'lep1_ambiguous',  1, (-0.5,1.5), 2, False\n",
    "# variable, denom, my_range, my_bins, b_overflow = 'lep2_ambiguous',  1, (-0.5,1.5), 2, False\n",
    "# variable, denom, my_range, my_bins, b_overflow = 'lep3_ambiguous',  1, (-0.5,1.5), 2, False\n",
    "# variable, denom, my_range, my_bins, b_overflow = 'lep4_ambiguous',  1, (-0.5,1.5), 2, False\n",
    "\n",
    "\n",
    "\n",
    "\n",
    "my_alpha = 0.25\n",
    "my_log = False\n",
    "\n",
    "for i in [0, 1, 2]:\n",
    "\n",
    "    \n",
    "    signal     = VVZ[VVZ.SR == i].copy()\n",
    "    background = FULLBG[FULLBG.SR == i].copy()\n",
    "    \n",
    "#     signal = signal[signal[variable] > -2].copy()\n",
    "#     background = background[background[variable] > -2].copy()\n",
    "    \n",
    "    signal_yield = sum(signal['wgt'])\n",
    "    background_yield = sum(background['wgt'])\n",
    "    \n",
    "    signal_yield_error     = np.sqrt(sum(signal['wgt']**2))\n",
    "    background_yield_error = np.sqrt(sum(background['wgt']**2))\n",
    "    \n",
    "    signal_nentries     = len(signal['wgt'])\n",
    "    background_nentries = len(background['wgt'])\n",
    "\n",
    "  \n",
    "    ax = plt.subplot(1, 3, i+1)\n",
    "\n",
    "    # SIGNAL\n",
    "    n, bins, _ = plt.hist(signal[variable]/denom, weights=signal['wgt']/signal_yield, range=my_range,\n",
    "                                bins=my_bins, alpha=my_alpha, color='red', label='signal')\n",
    "    #### get sumw2:\n",
    "    sumw2, _ = np.histogram(signal[variable]/denom, weights=(signal['wgt']/signal_yield)**2, range=my_range, bins=my_bins)\n",
    "    #### plot error bars:\n",
    "    bin_centers = (bins[:-1]+bins[1:])/2\n",
    "    bin_widths  = (bins[1:]-bins[:-1])/2\n",
    "    plt.errorbar(x=bin_centers, y=n, xerr=bin_widths, yerr=np.sqrt(sumw2), fmt=' ', color='red')\n",
    "    #### overflow\n",
    "    if (b_overflow):\n",
    "        s = signal[variable]\n",
    "        w = signal['wgt']\n",
    "        overflow_scale = 1\n",
    "        w_overflow = sum(w[s > my_range[1]*denom])/signal_yield/overflow_scale\n",
    "        w_overflow_sumwgt = np.sqrt( sum(w[s > my_range[1]*denom]**2) )/signal_yield # implemente overflow scale\n",
    "        plt.bar([bin_centers[-1]+2*bin_widths[0]*overflow_scale], [w_overflow], \n",
    "                width=2*bin_widths[0]*overflow_scale, bottom=0, color='red', alpha=my_alpha) \n",
    "        plt.errorbar(x=[bin_centers[-1]+2*bin_widths[0]*overflow_scale], y=[w_overflow], \n",
    "                     xerr=bin_widths[0], yerr=w_overflow_sumwgt, color='red') \n",
    "    #### negative values\n",
    "    arrowsDn = bin_centers[n<0]\n",
    "    ax.plot(arrowsDn,[0+0.1*(ax.yaxis.get_data_interval()[1])]*len(arrowsDn), \n",
    "            marker=\"v\", color=\"red\", linewidth=0, alpha=my_alpha)\n",
    "\n",
    "\n",
    "    # BACKGROUND\n",
    "    n, bins, _ = plt.hist(background[variable]/denom, weights=background['wgt']/background_yield, range=my_range,\n",
    "                                bins=my_bins, alpha=my_alpha, color='blue', label='background')\n",
    "    #### get sumw2:\n",
    "    sumw2, _ = np.histogram(background[variable]/denom, \n",
    "                            weights=(background['wgt']/background_yield)**2, range=my_range, bins=my_bins)\n",
    "    #### plot error bars:\n",
    "    bin_centers = (bins[:-1]+bins[1:])/2\n",
    "    bin_widths  = (bins[1:]-bins[:-1])/2\n",
    "    plt.errorbar(x=bin_centers, y=n, xerr=bin_widths, yerr=np.sqrt(sumw2), fmt=' ', color='blue')\n",
    "    ### overflow:\n",
    "    if (b_overflow):\n",
    "        b = background[variable]\n",
    "        w = background['wgt']\n",
    "        overflow_scale = 1\n",
    "        w_overflow = sum(w[b > my_range[1]*denom])/background_yield/overflow_scale\n",
    "        w_overflow_sumwgt = np.sqrt( sum(w[b > my_range[1]*denom]**2) )/background_yield # implemente overflow scale\n",
    "        plt.bar([bin_centers[-1]+2*bin_widths[0]*overflow_scale], [w_overflow], \n",
    "                width=2*bin_widths[0]*overflow_scale, bottom=0, color='blue', alpha=my_alpha) \n",
    "        plt.errorbar(x=[bin_centers[-1]+2*bin_widths[0]*overflow_scale], y=[w_overflow], \n",
    "                     xerr=bin_widths[0], yerr=w_overflow_sumwgt, color='blue') \n",
    "    ### negative values\n",
    "    arrowsDn = bin_centers[n<0]\n",
    "    ax.plot(arrowsDn,[0+0.1*(ax.yaxis.get_data_interval()[1])]*len(arrowsDn), \n",
    "            marker=\"v\", color=\"blue\", linewidth=0, alpha=my_alpha)\n",
    "\n",
    "    \n",
    "#     plt.xticks([-1,0,1,2,3,4,5])\n",
    "\n",
    "    plt.legend()\n",
    "#     plt.xlabel(variable+' '+str(my_range))\n",
    "\n",
    "    if (my_log):\n",
    "        plt.yscale('log')\n",
    "#     plt.yscale('log')\n",
    "\n",
    "    plt.ylim(0)\n",
    "    plt.xlabel('charge sum of the highest 4 leptons')\n",
    "#     plt.xlim(my_range)\n",
    "plt.savefig('plots/x_new_comparison_{}.pdf'.format(variable))\n",
    "plt.show()\n",
    "\n",
    "\n"
   ]
  },
  {
   "cell_type": "code",
   "execution_count": null,
   "metadata": {},
   "outputs": [],
   "source": []
  },
  {
   "cell_type": "markdown",
   "metadata": {},
   "source": [
    "# ttZ"
   ]
  },
  {
   "cell_type": "code",
   "execution_count": 8,
   "metadata": {},
   "outputs": [
    {
     "data": {
      "image/png": "[encoded data removed]",
      "text/plain": [
       "<Figure size 1382.4x345.6 with 3 Axes>"
      ]
     },
     "metadata": {
      "needs_background": "light"
     },
     "output_type": "display_data"
    }
   ],
   "source": [
    "plt.figure(figsize=[3*6.4,1*4.8])\n",
    "\n",
    "# variable, denom, my_range, my_bins, b_overflow = 'SR', 1, (-0.5,2.5), 3, True\n",
    "# variable, denom, my_range, my_bins, b_overflow = 'my_variable', 1000, (0,500), 50, True \n",
    "\n",
    "# variable, denom, my_range, my_bins, b_overflow = 'pt_1', 1000, (0,300), 50, True\n",
    "# variable, denom, my_range, my_bins, b_overflow = 'pt_2', 1000, (0,300), 50, True\n",
    "# variable, denom, my_range, my_bins, b_overflow = 'pt_3', 1000, (0,300), 50, True\n",
    "# variable, denom, my_range, my_bins, b_overflow = 'pt_4', 1000, (0,300), 50, True\n",
    "\n",
    "# variable, denom, my_range, my_bins, b_overflow = 'Zlep1_pid', 1, (-13.5,13.5), 27, False # Yes\n",
    "# variable, denom, my_range, my_bins, b_overflow = 'Zlep1_pt', 1000, (0,300), 50, True # Yes\n",
    "# variable, denom, my_range, my_bins, b_overflow = 'Zlep1_eta', 1, (-3,3), 50, False\n",
    "# variable, denom, my_range, my_bins, b_overflow = 'Zlep1_phi', 1, (-3.5,3.5), 50, False\n",
    "# variable, denom, my_range, my_bins, b_overflow = 'Zlep1_dphi', 1, (-3.5,3.5), 50, False # Yes\n",
    "# variable, denom, my_range, my_bins, b_overflow = 'Zlep1_mt', 1000, (0,300), 50, True \n",
    "\n",
    "# variable, denom, my_range, my_bins, b_overflow = 'Zlep2_pid', 1, (-13.5,13.5), 27, False # Yes\n",
    "# variable, denom, my_range, my_bins, b_overflow = 'Zlep2_pt', 1000, (0,300), 50, True # Yes\n",
    "# variable, denom, my_range, my_bins, b_overflow = 'Zlep2_eta', 1, (-3,3), 50, False\n",
    "# variable, denom, my_range, my_bins, b_overflow = 'Zlep2_phi', 1, (-3.5,3.5), 50, False\n",
    "# variable, denom, my_range, my_bins, b_overflow = 'Zlep2_dphi', 1, (-3.5,3.5), 50, False # Yes\n",
    "# variable, denom, my_range, my_bins, b_overflow = 'Zlep2_mt', 1000, (0,300), 50, True \n",
    "\n",
    "# variable, denom, my_range, my_bins, b_overflow = 'Wlep1_pid', 1, (-13.5,13.5), 27, False\n",
    "# variable, denom, my_range, my_bins, b_overflow = 'Wlep1_pt', 1000, (0,300), 50, True # Yes\n",
    "# variable, denom, my_range, my_bins, b_overflow = 'Wlep1_eta', 1, (-3,3), 50, False\n",
    "# variable, denom, my_range, my_bins, b_overflow = 'Wlep1_phi', 1, (-3.5,3.5), 50, False\n",
    "# variable, denom, my_range, my_bins, b_overflow = 'Wlep1_dphi', 1, (-3.5,3.5), 50, False # Yes\n",
    "# variable, denom, my_range, my_bins, b_overflow = 'Wlep1_mt', 1000, (0,300), 50, True \n",
    "\n",
    "# variable, denom, my_range, my_bins, b_overflow = 'Wlep2_pid', 1, (-13.5,13.5), 27, False\n",
    "# variable, denom, my_range, my_bins, b_overflow = 'Wlep2_pt', 1000, (0,300), 50, True # Yes\n",
    "# variable, denom, my_range, my_bins, b_overflow = 'Wlep2_eta', 1, (-3,3), 50, False\n",
    "# variable, denom, my_range, my_bins, b_overflow = 'Wlep2_phi', 1, (-3.5,3.5), 50, False\n",
    "# variable, denom, my_range, my_bins, b_overflow = 'Wlep2_dphi', 1, (-3.5,3.5), 50, False # Yes\n",
    "# variable, denom, my_range, my_bins, b_overflow = 'Wlep2_mt', 1000, (0,300), 50, True \n",
    "\n",
    "# variable, denom, my_range, my_bins, b_overflow = 'leptonic_HT', 1000, (0,600), 50, True\n",
    "# variable, denom, my_range, my_bins, b_overflow = 'Zcand_mass', 1000, (60,120), 50, True\n",
    "# variable, denom, my_range, my_bins, b_overflow = 'other_mass', 1000, (0,150), 50, True\n",
    "# variable, denom, my_range, my_bins, b_overflow = 'mass_4l', 1000, (0,800), 50, True # Yes\n",
    "# variable, denom, my_range, my_bins, b_overflow = 'pt_4l', 1000, (0,300), 50, True \n",
    "# variable, denom, my_range, my_bins, b_overflow = 'chisq', 1, (0,500), 50, True\n",
    "\n",
    "# variable, denom, my_range, my_bins, b_overflow = 'Njet', 1, (-0.5,10.5), 11, True # Yes\n",
    "# variable, denom, my_range, my_bins, b_overflow = 'HT', 1000, (0,300), 50, True # Yes, already in GeV\n",
    "\n",
    "# variable, denom, my_range, my_bins, b_overflow = 'MET', 1000, (0,200), 50, True\n",
    "# variable, denom, my_range, my_bins, b_overflow = 'METSig', 1, (0,20), 50, True # Yes\n",
    "# variable, denom, my_range, my_bins, b_overflow = 'METPhi', 1, (-3.5,3.5), 50, True\n",
    "# variable, denom, my_range, my_bins, b_overflow = 'total_HT', 1000, (0,1000), 50, True\n",
    "\n",
    "# variable, denom, my_range, my_bins, b_overflow = 'jet_pt_1', 1000, (0,100), 20, True\n",
    "# variable, denom, my_range, my_bins, b_overflow = 'jet_pt_2', 1000, (0,100), 20, True\n",
    "# variable, denom, my_range, my_bins, b_overflow = 'jet_pt_3', 1000, (0,100), 20, True\n",
    "# variable, denom, my_range, my_bins, b_overflow = 'jet_pt_4', 1000, (0,100), 20, True\n",
    "# variable, denom, my_range, my_bins, b_overflow = 'jet_eta_1', 1, (-10,5), 50, False\n",
    "# variable, denom, my_range, my_bins, b_overflow = 'jet_eta_2', 1, (-10,5), 50, False\n",
    "# variable, denom, my_range, my_bins, b_overflow = 'jet_eta_3', 1, (-10,5), 50, False\n",
    "# variable, denom, my_range, my_bins, b_overflow = 'jet_eta_4', 1, (-10,5), 50, False\n",
    "# variable, denom, my_range, my_bins, b_overflow = 'jet_phi_1', 1, (-10.5,3.5), 50, False\n",
    "# variable, denom, my_range, my_bins, b_overflow = 'jet_phi_2', 1, (-10.5,3.5), 50, False\n",
    "# variable, denom, my_range, my_bins, b_overflow = 'jet_phi_3', 1, (-10.5,3.5), 50, False\n",
    "# variable, denom, my_range, my_bins, b_overflow = 'jet_phi_4', 1, (-10.5,3.5), 50, False\n",
    "\n",
    "\n",
    "# variable, denom, my_range, my_bins, b_overflow = 'm_1', 1, (0,200), 50, True\n",
    "\n",
    "# variable, denom, my_range, my_bins, b_overflow = 'jet_m_1', 1000, (0,20), 20, True\n",
    "# variable, denom, my_range, my_bins, b_overflow = 'jet_m_2', 1000, (0,20), 20, True\n",
    "# variable, denom, my_range, my_bins, b_overflow = 'jet_m_3', 1000, (0,20), 20, True\n",
    "# variable, denom, my_range, my_bins, b_overflow = 'jet_m_4', 1000, (0,20), 20, True\n",
    "\n",
    "\n",
    "# variable, denom, my_range, my_bins, b_overflow = 'jet_btagCont_1', 1, (-2.5,5.5), 8, False\n",
    "# variable, denom, my_range, my_bins, b_overflow = 'jet_btagCont_2', 1, (-2.5,5.5), 8, False\n",
    "# variable, denom, my_range, my_bins, b_overflow = 'jet_btagCont_3', 1, (-2.5,5.5), 8, False\n",
    "# variable, denom, my_range, my_bins, b_overflow = 'jet_btagCont_4', 1, (-2.5,5.5), 8, False\n",
    "\n",
    "# variable, denom, my_range, my_bins, b_overflow = 'jet_btagCont_1', 1, (-1.5,5.5), 7, False\n",
    "# variable, denom, my_range, my_bins, b_overflow = 'jet_btagCont_2', 1, (-1.5,5.5), 7, False\n",
    "# variable, denom, my_range, my_bins, b_overflow = 'jet_btagCont_3', 1, (-1.5,5.5), 7, False\n",
    "variable, denom, my_range, my_bins, b_overflow = 'jet_btagCont_4', 1, (-1.5,5.5), 7, False\n",
    "\n",
    "# variable, denom, my_range, my_bins, b_overflow = 'Zlep1_ambiguous', 1, (-1.5,1.5), 3, False\n",
    "# variable, denom, my_range, my_bins, b_overflow = 'Zlep2_ambiguous', 1, (-1.5,1.5), 3, False\n",
    "# variable, denom, my_range, my_bins, b_overflow = 'Wlep1_ambiguous', 1, (-1.5,1.5), 3, False\n",
    "# variable, denom, my_range, my_bins, b_overflow = 'Wlep2_ambiguous', 1, (-1.5,1.5), 3, False\n",
    "# variable, denom, my_range, my_bins, b_overflow = 'lep1_ambiguous',  1, (-1.5,1.5), 3, False\n",
    "# variable, denom, my_range, my_bins, b_overflow = 'lep2_ambiguous',  1, (-1.5,1.5), 3, False\n",
    "# variable, denom, my_range, my_bins, b_overflow = 'lep3_ambiguous',  1, (-1.5,1.5), 3, False\n",
    "# variable, denom, my_range, my_bins, b_overflow = 'lep4_ambiguous',  1, (-1.5,1.5), 3, False\n",
    "\n",
    "# variable, denom, my_range, my_bins, b_overflow = 'Zlep1_ambiguous', 1, (-0.5,1.5), 2, False\n",
    "# variable, denom, my_range, my_bins, b_overflow = 'Zlep2_ambiguous', 1, (-0.5,1.5), 2, False\n",
    "# variable, denom, my_range, my_bins, b_overflow = 'Wlep1_ambiguous', 1, (-0.5,1.5), 2, False\n",
    "# variable, denom, my_range, my_bins, b_overflow = 'Wlep2_ambiguous', 1, (-0.5,1.5), 2, False\n",
    "# variable, denom, my_range, my_bins, b_overflow = 'lep1_ambiguous',  1, (-0.5,1.5), 2, False\n",
    "# variable, denom, my_range, my_bins, b_overflow = 'lep2_ambiguous',  1, (-0.5,1.5), 2, False\n",
    "# variable, denom, my_range, my_bins, b_overflow = 'lep3_ambiguous',  1, (-0.5,1.5), 2, False\n",
    "# variable, denom, my_range, my_bins, b_overflow = 'lep4_ambiguous',  1, (-0.5,1.5), 2, False\n",
    "\n",
    "\n",
    "\n",
    "\n",
    "my_alpha = 0.25\n",
    "my_log = False\n",
    "\n",
    "for i in [0, 1, 2]:\n",
    "\n",
    "    \n",
    "    signal     = VVZ[VVZ.SR == i].copy()\n",
    "    background = ttZ[ttZ.SR == i].copy()\n",
    "    \n",
    "    signal = signal[signal[variable] > -2].copy()\n",
    "    background = background[background[variable] > -2].copy()\n",
    "    \n",
    "    signal_yield = sum(signal['wgt'])\n",
    "    background_yield = sum(background['wgt'])\n",
    "    \n",
    "    signal_yield_error     = np.sqrt(sum(signal['wgt']**2))\n",
    "    background_yield_error = np.sqrt(sum(background['wgt']**2))\n",
    "    \n",
    "    signal_nentries     = len(signal['wgt'])\n",
    "    background_nentries = len(background['wgt'])\n",
    "\n",
    "  \n",
    "    ax = plt.subplot(1, 3, i+1)\n",
    "\n",
    "    # SIGNAL\n",
    "    n, bins, _ = plt.hist(signal[variable]/denom, weights=signal['wgt']/signal_yield, range=my_range,\n",
    "                                bins=my_bins, alpha=my_alpha, color='red', label='signal')\n",
    "    #### get sumw2:\n",
    "    sumw2, _ = np.histogram(signal[variable]/denom, weights=(signal['wgt']/signal_yield)**2, range=my_range, bins=my_bins)\n",
    "    #### plot error bars:\n",
    "    bin_centers = (bins[:-1]+bins[1:])/2\n",
    "    bin_widths  = (bins[1:]-bins[:-1])/2\n",
    "    plt.errorbar(x=bin_centers, y=n, xerr=bin_widths, yerr=np.sqrt(sumw2), fmt=' ', color='red')\n",
    "    #### overflow\n",
    "    if (b_overflow):\n",
    "        s = signal[variable]\n",
    "        w = signal['wgt']\n",
    "        overflow_scale = 1\n",
    "        w_overflow = sum(w[s > my_range[1]*denom])/signal_yield/overflow_scale\n",
    "        w_overflow_sumwgt = np.sqrt( sum(w[s > my_range[1]*denom]**2) )/signal_yield # implemente overflow scale\n",
    "        plt.bar([bin_centers[-1]+2*bin_widths[0]*overflow_scale], [w_overflow], \n",
    "                width=2*bin_widths[0]*overflow_scale, bottom=0, color='red', alpha=my_alpha) \n",
    "        plt.errorbar(x=[bin_centers[-1]+2*bin_widths[0]*overflow_scale], y=[w_overflow], \n",
    "                     xerr=bin_widths[0], yerr=w_overflow_sumwgt, color='red') \n",
    "    #### negative values\n",
    "    arrowsDn = bin_centers[n<0]\n",
    "    ax.plot(arrowsDn,[0+0.1*(ax.yaxis.get_data_interval()[1])]*len(arrowsDn), \n",
    "            marker=\"v\", color=\"red\", linewidth=0, alpha=my_alpha)\n",
    "\n",
    "\n",
    "    # BACKGROUND\n",
    "    n, bins, _ = plt.hist(background[variable]/denom, weights=background['wgt']/background_yield, range=my_range,\n",
    "                                bins=my_bins, alpha=my_alpha, color='blue', label='ttZ')\n",
    "    #### get sumw2:\n",
    "    sumw2, _ = np.histogram(background[variable]/denom, \n",
    "                            weights=(background['wgt']/background_yield)**2, range=my_range, bins=my_bins)\n",
    "    #### plot error bars:\n",
    "    bin_centers = (bins[:-1]+bins[1:])/2\n",
    "    bin_widths  = (bins[1:]-bins[:-1])/2\n",
    "    plt.errorbar(x=bin_centers, y=n, xerr=bin_widths, yerr=np.sqrt(sumw2), fmt=' ', color='blue')\n",
    "    ### overflow:\n",
    "    if (b_overflow):\n",
    "        b = background[variable]\n",
    "        w = background['wgt']\n",
    "        overflow_scale = 1\n",
    "        w_overflow = sum(w[b > my_range[1]*denom])/background_yield/overflow_scale\n",
    "        w_overflow_sumwgt = np.sqrt( sum(w[b > my_range[1]*denom]**2) )/background_yield # implemente overflow scale\n",
    "        plt.bar([bin_centers[-1]+2*bin_widths[0]*overflow_scale], [w_overflow], \n",
    "                width=2*bin_widths[0]*overflow_scale, bottom=0, color='blue', alpha=my_alpha) \n",
    "        plt.errorbar(x=[bin_centers[-1]+2*bin_widths[0]*overflow_scale], y=[w_overflow], \n",
    "                     xerr=bin_widths[0], yerr=w_overflow_sumwgt, color='blue') \n",
    "    ### negative values\n",
    "    arrowsDn = bin_centers[n<0]\n",
    "    ax.plot(arrowsDn,[0+0.1*(ax.yaxis.get_data_interval()[1])]*len(arrowsDn), \n",
    "            marker=\"v\", color=\"blue\", linewidth=0, alpha=my_alpha)\n",
    "\n",
    "    \n",
    "    plt.xticks([-1,0,1,2,3,4,5])\n",
    "\n",
    "    plt.legend()\n",
    "#     plt.xlabel(variable+' '+str(my_range))\n",
    "\n",
    "    if (my_log):\n",
    "        plt.yscale('log')\n",
    "#     plt.yscale('log')\n",
    "\n",
    "    plt.ylim(0)\n",
    "#     plt.xlim(my_range)\n",
    "plt.savefig('plots/new_comparison_{}_if_jet.pdf'.format(variable))\n",
    "plt.show()"
   ]
  },
  {
   "cell_type": "code",
   "execution_count": null,
   "metadata": {},
   "outputs": [],
   "source": []
  },
  {
   "cell_type": "code",
   "execution_count": null,
   "metadata": {},
   "outputs": [],
   "source": []
  },
  {
   "cell_type": "code",
   "execution_count": 74,
   "metadata": {},
   "outputs": [
    {
     "data": {
      "image/png": "[encoded data removed]",
      "text/plain": [
       "<Figure size 432x288 with 1 Axes>"
      ]
     },
     "metadata": {
      "needs_background": "light"
     },
     "output_type": "display_data"
    }
   ],
   "source": [
    "plt.hist(signal['Wlep1_mt']/1000, bins = 1000)\n",
    "plt.show()"
   ]
  },
  {
   "cell_type": "markdown",
   "metadata": {},
   "source": [
    "# 2D Scatterplot"
   ]
  },
  {
   "cell_type": "code",
   "execution_count": 38,
   "metadata": {},
   "outputs": [
    {
     "data": {
      "image/png": "[encoded data removed]",
      "text/plain": [
       "<Figure size 1382.4x691.2 with 6 Axes>"
      ]
     },
     "metadata": {
      "needs_background": "light"
     },
     "output_type": "display_data"
    }
   ],
   "source": [
    "plt.figure(figsize=[3*6.4,2*4.8])\n",
    "\n",
    "\n",
    "# variable_x, denom_x, my_range_x, my_bins_x = 'Zlep1_dphi', 1, (-3.5,3.5), 50 # Yes\n",
    "# variable_y, denom_y, my_range_y, my_bins_y = 'Zlep2_dphi', 1, (-3.5,3.5), 50 # Yes\n",
    "\n",
    "# variable_x, denom_x, my_range_x, my_bins_x = 'jet_eta_1', 1, (-10,5), 50\n",
    "# variable_y, denom_y, my_range_y, my_bins_y = 'jet_eta_2', 1, (-10,5), 50\n",
    "\n",
    "# variable_x, denom_x, my_range_x, my_bins_x = 'my_variable', 1000, (0,500), 50 \n",
    "# variable_y, denom_y, my_range_y, my_bins_y = 'Njet', 1, (-0.5,10.5), 11 # Yes\n",
    "\n",
    "variable_x, denom_x, my_range_x, my_bins_x = 'MET', 1000, (0,200), 50\n",
    "variable_y, denom_y, my_range_y, my_bins_y = 'jet_pt_1', 1000, (0,300), 50\n",
    "\n",
    "\n",
    "\n",
    "my_alpha = 0.1\n",
    "my_log = False\n",
    "\n",
    "for i in [0, 1, 2]:\n",
    "    \n",
    "    signal     = VVZ[VVZ.SR == i].copy()\n",
    "    background = FULLBG[FULLBG.SR == i].copy()\n",
    "    \n",
    "    signal_yield = sum(signal['wgt'])\n",
    "    background_yield = sum(background['wgt'])\n",
    "\n",
    "  \n",
    "    ax = plt.subplot(2, 3, i+1)\n",
    "    \n",
    "    # SIGNAL\n",
    "    plt.scatter(x=signal[variable_x]/denom_x, y=signal[variable_y]/denom_y, s=0.5,\n",
    "#                 range=[my_range_x, my_range_y], \n",
    "#                 bins=[my_bins_x, my_bins_y], \n",
    "                alpha=my_alpha, color='red', label='signal')\n",
    "    \n",
    "    ax = plt.subplot(2, 3, i+1+3)\n",
    "\n",
    "#     # BACKGROUND\n",
    "    plt.scatter(x=background[variable_x]/denom_x, y=background[variable_y]/denom_y, s=0.5,\n",
    "#                 range=[my_range_x, my_range_y], \n",
    "#                 bins=[my_bins_x, my_bins_y], \n",
    "                alpha=my_alpha, color='blue', label='background')\n",
    "    \n",
    "\n",
    "\n",
    "\n",
    "\n",
    "\n",
    "    \n",
    "#     plt.legend()\n",
    "#     plt.xlabel(variable+' '+str(my_range))\n",
    "\n",
    "#     if (my_log):\n",
    "#         plt.yscale('log')\n",
    "# #     plt.yscale('log')\n",
    "\n",
    "#     plt.ylim(0)\n",
    "#     plt.xlim(my_range)\n",
    "plt.savefig('plots/2D_comparison_{}_vs_{}.pdf'.format(variable_y, variable_x))\n",
    "plt.show()\n",
    "\n",
    "\n"
   ]
  },
  {
   "cell_type": "code",
   "execution_count": 70,
   "metadata": {},
   "outputs": [
    {
     "data": {
      "text/plain": [
       "(array([2.0691e+04, 1.0400e+02, 3.4000e+01, 1.5000e+01, 1.0000e+00,\n",
       "        0.0000e+00, 1.0000e+00, 0.0000e+00, 1.0000e+00, 1.0000e+00]),\n",
       " array([1.52307528e-03, 6.18347578e+04, 1.23669516e+05, 1.85504266e+05,\n",
       "        2.47339031e+05, 3.09173781e+05, 3.71008531e+05, 4.32843281e+05,\n",
       "        4.94678062e+05, 5.56512812e+05, 6.18347562e+05], dtype=float32),\n",
       " <BarContainer object of 10 artists>)"
      ]
     },
     "execution_count": 70,
     "metadata": {},
     "output_type": "execute_result"
    },
    {
     "data": {
      "image/png": "[encoded data removed]",
      "text/plain": [
       "<Figure size 432x288 with 1 Axes>"
      ]
     },
     "metadata": {
      "needs_background": "light"
     },
     "output_type": "display_data"
    }
   ],
   "source": [
    "plt.hist(signal['chisq'])"
   ]
  },
  {
   "cell_type": "code",
   "execution_count": 20,
   "metadata": {},
   "outputs": [
    {
     "data": {
      "text/plain": [
       "2"
      ]
     },
     "execution_count": 20,
     "metadata": {},
     "output_type": "execute_result"
    }
   ],
   "source": [
    "1+1"
   ]
  },
  {
   "cell_type": "code",
   "execution_count": null,
   "metadata": {},
   "outputs": [],
   "source": []
  }
 ],
 "metadata": {
  "kernelspec": {
   "display_name": "wvz_machine_learning",
   "language": "python",
   "name": "wvz_machine_learning"
  },
  "language_info": {
   "codemirror_mode": {
    "name": "ipython",
    "version": 3
   },
   "file_extension": ".py",
   "mimetype": "text/x-python",
   "name": "python",
   "nbconvert_exporter": "python",
   "pygments_lexer": "ipython3",
   "version": "3.9.7"
  }
 },
 "nbformat": 4,
 "nbformat_minor": 4
}
