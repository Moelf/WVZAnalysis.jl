{
 "cells": [
  {
   "cell_type": "code",
   "execution_count": 1,
   "id": "b3c192a3",
   "metadata": {
    "slideshow": {
     "slide_type": "skip"
    }
   },
   "outputs": [
    {
     "name": "stderr",
     "output_type": "stream",
     "text": [
      "┌ Info: Precompiling WVZAnalysis [15e846ca-95d3-4e21-8d51-3cc2ce27e5cd]\n",
      "└ @ Base loading.jl:1423\n",
      "\u001b[33m\u001b[1m┌ \u001b[22m\u001b[39m\u001b[33m\u001b[1mWarning: \u001b[22m\u001b[39mPackage WVZAnalysis does not have LinearAlgebra in its dependencies:\n",
      "\u001b[33m\u001b[1m│ \u001b[22m\u001b[39m- If you have WVZAnalysis checked out for development and have\n",
      "\u001b[33m\u001b[1m│ \u001b[22m\u001b[39m  added LinearAlgebra as a dependency but haven't updated your primary\n",
      "\u001b[33m\u001b[1m│ \u001b[22m\u001b[39m  environment's manifest file, try `Pkg.resolve()`.\n",
      "\u001b[33m\u001b[1m│ \u001b[22m\u001b[39m- Otherwise you may need to report an issue with WVZAnalysis\n",
      "\u001b[33m\u001b[1m└ \u001b[22m\u001b[39mLoading LinearAlgebra into WVZAnalysis from project dependency, future warnings for WVZAnalysis are suppressed.\n"
     ]
    }
   ],
   "source": [
    "using Revise, WVZAnalysis, UnROOT\n",
    "# Arrow, DataFrames, MLJ, Plots, ComputationalResources, MLDataUtils\n",
    "# import StatsBase"
   ]
  },
  {
   "cell_type": "code",
   "execution_count": 2,
   "id": "ab01bf91",
   "metadata": {
    "slideshow": {
     "slide_type": "skip"
    }
   },
   "outputs": [],
   "source": [
    "V13BASE = \"/hdd01/minitree/v1.3/\"\n",
    "VVVfiles = joinpath.(V13BASE, readlines(joinpath(@__DIR__, \"VVVfile.list\")));"
   ]
  },
  {
   "cell_type": "code",
   "execution_count": 3,
   "id": "71ef4c44",
   "metadata": {
    "slideshow": {
     "slide_type": "skip"
    }
   },
   "outputs": [],
   "source": [
    "BGfiles = joinpath.(V13BASE, readlines(joinpath(@__DIR__, \"BGfile.list\")));\n",
    "sort!(BGfiles, by=filesize; rev=true);"
   ]
  },
  {
   "cell_type": "code",
   "execution_count": 4,
   "id": "83bdc033",
   "metadata": {
    "slideshow": {
     "slide_type": "skip"
    }
   },
   "outputs": [],
   "source": [
    "thread_hist(files) = reduce((.+), [WVZAnalysis.main_looper(x) for x in files]);\n",
    "#thread_data(files) = mapreduce(fetch, (x,y) -> append!.(x,y), [Threads.@spawn(WVZAnalysis.main_looper(x)) for x in files]);"
   ]
  },
  {
   "cell_type": "code",
   "execution_count": 10,
   "id": "f057c498",
   "metadata": {},
   "outputs": [
    {
     "name": "stdout",
     "output_type": "stream",
     "text": [
      " 48.217984 seconds (808.56 M allocations: 239.735 GiB, 35.50% gc time, 1.22% compilation time)\n"
     ]
    },
    {
     "data": {
      "text/plain": [
       "3-element Dictionaries.Dictionary{Symbol, FHist.Hist1D{Float32, Tuple{StepRange{Int64, Int64}}}}\n",
       " :Z_mass_first │                   \u001b[90m┌                              ┐\u001b[39m \n",
       "   \u001b…\n",
       "  :WZZ_ZZ_mass │ \n",
       "edges: 0:10:800\n",
       "bin counts: Float32[0.0, 0.0, 0.0, 0.0, 0.0, 0.…\n",
       "      :WWZ_MET │ \n",
       "edges: 0:5:400\n",
       "bin counts: Float32[211.15694, 447.93295, 424.18…"
      ]
     },
     "execution_count": 10,
     "metadata": {},
     "output_type": "execute_result"
    }
   ],
   "source": [
    "@time thread_hist(BGfiles)"
   ]
  },
  {
   "cell_type": "code",
   "execution_count": 6,
   "id": "b0e4b390",
   "metadata": {},
   "outputs": [
    {
     "data": {
      "text/plain": [
       "3-element Dictionaries.Dictionary{Symbol, FHist.Hist1D{Float32, Tuple{StepRange{Int64, Int64}}}}\n",
       " :Z_mass_first │                   \u001b[90m┌                              ┐\u001b[39m \n",
       "   \u001b…\n",
       "  :WZZ_ZZ_mass │ \n",
       "edges: 0:10:800\n",
       "bin counts: Float32[0.0, 0.0, 0.0, 0.0, 0.0, 0.…\n",
       "      :WWZ_MET │ \n",
       "edges: 0:5:400\n",
       "bin counts: Float32[0.0, 0.0, 0.0, 0.0, 0.0, 0.0…"
      ]
     },
     "execution_count": 6,
     "metadata": {},
     "output_type": "execute_result"
    }
   ],
   "source": [
    "WVZAnalysis.main_looper(BGfiles[end])"
   ]
  },
  {
   "cell_type": "code",
   "execution_count": 18,
   "id": "5bdad8c0",
   "metadata": {
    "slideshow": {
     "slide_type": "skip"
    }
   },
   "outputs": [
    {
     "name": "stdout",
     "output_type": "stream",
     "text": [
      " 41.966513 seconds (747.07 M allocations: 214.925 GiB, 27.02% gc time, 0.07% compilation time)\n"
     ]
    }
   ],
   "source": [
    "SIGhist = @time thread_hist(BGfiles);\n",
    "# WVZAnalysis.main_looper(VVVfiles[1])"
   ]
  },
  {
   "cell_type": "code",
   "execution_count": 23,
   "id": "bcdc85c3",
   "metadata": {},
   "outputs": [
    {
     "data": {
      "text/html": [
       "<div style=\"display: flex;\">\n",
       "    <div style=\"float:left; margin:5px\"><svg width=\"250\" height=\"200\" version=\"1.1\" xmlns=\"http://www.w3.org/2000/svg\">\n",
       "    <polyline points=\"12.5,180.0,12.5,104.5754722797861,15.312500000000002,104.5754722797861,15.312500000000002,19.999999999999996,18.125,19.999999999999996,18.125,28.482423812835876,20.9375,28.482423812835876,20.9375,55.26917851117521,23.750000000000004,55.26917851117521,23.750000000000004,75.65059140957435,26.562500000000004,75.65059140957435,26.562500000000004,102.30271648551334,29.375000000000004,102.30271648551334,29.375000000000004,123.5858497186825,32.1875,123.5858497186825,32.1875,138.60272100250862,35.0,138.60272100250862,35.0,148.67844096760714,37.81250000000001,148.67844096760714,37.81250000000001,159.05854509558895,40.62500000000001,159.05854509558895,40.62500000000001,164.07050491354383,43.43750000000001,164.07050491354383,43.43750000000001,170.29518325476965,46.25000000000001,170.29518325476965,46.25000000000001,172.5703869470692,49.06250000000001,172.5703869470692,49.06250000000001,174.45451423258876,51.87500000000001,174.45451423258876,51.87500000000001,176.0328933997979,54.68750000000001,176.0328933997979,54.68750000000001,176.8876969380972,57.50000000000001,176.8876969380972,57.50000000000001,177.63517431888582,60.31250000000001,177.63517431888582,60.31250000000001,178.2948743209093,63.12500000000001,178.2948743209093,63.12500000000001,178.6436440937494,65.9375,178.6436440937494,65.9375,179.38737932622374,68.75000000000001,179.38737932622374,68.75000000000001,179.12505504023432,71.56250000000001,179.12505504023432,71.56250000000001,179.38727725950426,74.37500000000001,179.38727725950426,74.37500000000001,179.5023021516908,77.18750000000001,179.5023021516908,77.18750000000001,179.60887194243534,80.00000000000001,179.60887194243534,80.00000000000001,179.69665179090003,82.81250000000001,179.69665179090003,82.81250000000001,179.77573018539644,85.62500000000001,179.77573018539644,85.62500000000001,179.82488319896805,88.43750000000001,179.82488319896805,88.43750000000001,179.84863465047007,91.25000000000001,179.84863465047007,91.25000000000001,179.8890796951764,94.06250000000001,179.8890796951764,94.06250000000001,179.87974676459143,96.87500000000001,179.87974676459143,96.87500000000001,179.93230118246146,99.68750000000001,179.93230118246146,99.68750000000001,179.9205894043061,102.50000000000001,179.9205894043061,102.50000000000001,179.9386926583464,105.31250000000001,179.9386926583464,105.31250000000001,179.93805722701697,108.12500000000001,179.93805722701697,108.12500000000001,179.94923127068458,110.93750000000001,179.94923127068458,110.93750000000001,179.97148194327747,113.75000000000001,179.97148194327747,113.75000000000001,179.953256614758,116.56250000000001,179.953256614758,116.56250000000001,179.94168361881185,119.37500000000001,179.94168361881185,119.37500000000001,179.97315234370396,122.18750000000001,179.97315234370396,122.18750000000001,179.9825967966575,125.00000000000001,179.9825967966575,125.00000000000001,179.97777036775665,127.81250000000001,179.97777036775665,127.81250000000001,179.9615161894509,130.62500000000003,179.9615161894509,130.62500000000003,179.98098279213872,133.43750000000003,179.98098279213872,133.43750000000003,179.973460268394,136.25000000000003,179.973460268394,136.25000000000003,179.97809974663056,139.06250000000003,179.97809974663056,139.06250000000003,179.9842710879253,141.87500000000003,179.9842710879253,141.87500000000003,179.98308465412651,144.68750000000003,179.98308465412651,144.68750000000003,179.98070836940158,147.50000000000003,179.98070836940158,147.50000000000003,179.98773777292863,150.31250000000003,179.98773777292863,150.31250000000003,179.9955920916878,153.12500000000003,179.9955920916878,153.12500000000003,179.9870994806865,155.93750000000003,179.9870994806865,155.93750000000003,179.98051543078049,158.75000000000003,179.98051543078049,158.75000000000003,179.9930900242752,161.56250000000003,179.9930900242752,161.56250000000003,179.99344664768714,164.37500000000003,179.99344664768714,164.37500000000003,179.99039512103474,167.18750000000003,179.99039512103474,167.18750000000003,179.99700891545078,170.00000000000003,179.99700891545078,170.00000000000003,179.99734917494115,172.81250000000003,179.99734917494115,172.81250000000003,179.99114883380534,175.62500000000003,179.99114883380534,175.62500000000003,179.9908140364959,178.43750000000003,179.9908140364959,178.43750000000003,179.9882293815199,181.25000000000003,179.9882293815199,181.25000000000003,179.99399056773427,184.06250000000003,179.99399056773427,184.06250000000003,179.995923967207,186.87500000000003,179.995923967207,186.87500000000003,179.998125811939,189.68750000000003,179.998125811939,189.68750000000003,179.99280083523664,192.50000000000003,179.99280083523664,192.50000000000003,179.99412360283566,195.31250000000003,179.99412360283566,195.31250000000003,179.99804561872668,198.12500000000003,179.99804561872668,198.12500000000003,179.9956615479946,200.93750000000003,179.9956615479946,200.93750000000003,179.99690654367814,203.75000000000003,179.99690654367814,203.75000000000003,179.99754512267688,206.56250000000003,179.99754512267688,206.56250000000003,179.99870101614954,209.37500000000003,179.99870101614954,209.37500000000003,179.9998410292489,212.18750000000003,179.9998410292489,212.18750000000003,179.99348125608142,215.00000000000003,179.99348125608142,215.00000000000003,179.9985608454828,217.81250000000003,179.9985608454828,217.81250000000003,180.0004152238026,220.62500000000003,180.0004152238026,220.62500000000003,179.99719800947096,223.43750000000003,179.99719800947096,223.43750000000003,179.99855803430344,226.25000000000003,179.99855803430344,226.25000000000003,179.998514396403,229.06250000000003,179.998514396403,229.06250000000003,179.99918036814174,231.87500000000003,179.99918036814174,231.87500000000003,179.99802612692932,234.68750000000003,179.99802612692932,234.68750000000003,179.99746840563978,237.50000000000003,179.99746840563978,237.5,180.0,12.5,180.0\" stroke=\"black\" fill=\"#ffffff00\" stroke-width=\"1\"/>\n",
       "    <polyline points=\"12.5,180.0,237.5,180.0\" stroke=\"black\" stroke-width=\"1\"/>\n",
       "    <text x=\"12.5\" y=\"190.0\" dominant-baseline=\"middle\" text-anchor=\"start\" fill=\"black\">0</text>\n",
       "    <text x=\"237.5\" y=\"190.0\" dominant-baseline=\"middle\" text-anchor=\"end\" fill=\"black\">400</text>\n",
       "</svg>\n",
       "</div>\n",
       "    <div style=\"float:left; margin:5px; max-width: 50%; display:flex; justify-content:center; align-items:center;\">\n",
       "        <ul>\n",
       "            <li>edges: 0:5:400</li>\n",
       "            <li>bin counts: Float32[211.15753, 447.93393, 424.18665, 349.1948, 292.13525, 217.52031, 157.93633, 115.89529, 87.68743, 58.627426  …  0.00044505246, 0.018249791, 0.0040290384, -0.0011624552, 0.007844416, 0.0040369085, 0.0041590766, 0.0022946307, 0.0055260295, 0.007087419]</li>\n",
       "            <li>maximum count: 447.93393</li>\n",
       "            <li>total count: 2519.1445</li>\n",
       "        </ul>\n",
       "    </div>\n",
       "</div>\n",
       "\n"
      ],
      "text/plain": [
       "\n",
       "edges: 0:5:400\n",
       "bin counts: Float32[211.15753, 447.93393, 424.18665, 349.1948, 292.13525, 217.52031, 157.93633, 115.89529, 87.68743, 58.627426  …  0.00044505246, 0.018249791, 0.0040290384, -0.0011624552, 0.007844416, 0.0040369085, 0.0041590766, 0.0022946307, 0.0055260295, 0.007087419]\n",
       "total count: 2519.1445"
      ]
     },
     "execution_count": 23,
     "metadata": {},
     "output_type": "execute_result"
    }
   ],
   "source": [
    "SIGhist[:WWZ_MET]"
   ]
  },
  {
   "cell_type": "code",
   "execution_count": 19,
   "id": "0afc3401",
   "metadata": {},
   "outputs": [
    {
     "data": {
      "text/plain": [
       "53.23512900713831"
      ]
     },
     "execution_count": 19,
     "metadata": {},
     "output_type": "execute_result"
    }
   ],
   "source": [
    "sum(filesize, BGfiles) / 1024^3"
   ]
  },
  {
   "cell_type": "code",
   "execution_count": null,
   "id": "0ac8a5f2",
   "metadata": {
    "slideshow": {
     "slide_type": "skip"
    }
   },
   "outputs": [],
   "source": [
    "# SIGdata = thread_data(BGfiles);\n",
    "# Arrow.write(\"/home/jiling/minitree/BG.arrow\", Dict(pairs(SIGdata)))"
   ]
  },
  {
   "cell_type": "code",
   "execution_count": null,
   "id": "5bf22489",
   "metadata": {
    "slideshow": {
     "slide_type": "skip"
    }
   },
   "outputs": [],
   "source": [
    "df_sig = DataFrame(Arrow.Table(\"/home/jiling/minitree/SIG.arrow\"));\n",
    "df_bg = DataFrame(Arrow.Table(\"/home/jiling/minitree/BG.arrow\"));\n",
    "\n",
    "df_sig.tag .= 1\n",
    "df_bg.tag .= 0;\n",
    "\n",
    "df_all = vcat(df_bg, df_sig);"
   ]
  },
  {
   "cell_type": "code",
   "execution_count": null,
   "id": "120b9c51",
   "metadata": {
    "slideshow": {
     "slide_type": "skip"
    }
   },
   "outputs": [],
   "source": [
    "df_balance = DataFrame(undersample(x->x.tag, df_all); copycols=true);"
   ]
  },
  {
   "cell_type": "code",
   "execution_count": null,
   "id": "4201a44d",
   "metadata": {
    "slideshow": {
     "slide_type": "skip"
    }
   },
   "outputs": [],
   "source": [
    "for n in names(df_balance[!, Not([:tag, :wgt])])\n",
    "    if eltype(df_balance[!, n]) <: Integer\n",
    "        df_balance[!, n] = float.(df_balance[!, n])\n",
    "    end\n",
    "    StatsBase.transform!(StatsBase.fit(StatsBase.UnitRangeTransform, df_balance[!, n]), df_balance[!, n])\n",
    "end"
   ]
  },
  {
   "cell_type": "code",
   "execution_count": null,
   "id": "ae734e37",
   "metadata": {
    "slideshow": {
     "slide_type": "skip"
    }
   },
   "outputs": [],
   "source": [
    "# Arrow.write(\"/home/jiling/minitree/TAG_BALANCE.arrow\", df_balance)"
   ]
  },
  {
   "cell_type": "code",
   "execution_count": null,
   "id": "624b0bc8",
   "metadata": {
    "slideshow": {
     "slide_type": "skip"
    }
   },
   "outputs": [],
   "source": [
    "y, X = unpack(df_balance, ==(:tag), x-> x ∉(:tag, :wgt); :tag=>OrderedFactor);"
   ]
  },
  {
   "cell_type": "code",
   "execution_count": null,
   "id": "d7c4300c",
   "metadata": {
    "slideshow": {
     "slide_type": "skip"
    }
   },
   "outputs": [],
   "source": [
    "train, test = partition(eachindex(y), 0.8, shuffle=true);"
   ]
  },
  {
   "cell_type": "code",
   "execution_count": null,
   "id": "b711d43a",
   "metadata": {
    "slideshow": {
     "slide_type": "skip"
    }
   },
   "outputs": [],
   "source": [
    "# filter(x->true, models(matching(X, y))) .|> println;"
   ]
  },
  {
   "cell_type": "code",
   "execution_count": null,
   "id": "3fa292ae",
   "metadata": {
    "slideshow": {
     "slide_type": "skip"
    }
   },
   "outputs": [],
   "source": [
    "my_pred(machine, xs) = map(x->x.prob_given_ref[2], MLJ.predict(machine, xs))"
   ]
  },
  {
   "cell_type": "code",
   "execution_count": null,
   "id": "dafd7a5a",
   "metadata": {
    "slideshow": {
     "slide_type": "skip"
    }
   },
   "outputs": [],
   "source": [
    "function density_plot(machine)\n",
    "    train_sig = findall(==(1), y[train])\n",
    "    train_bkg = findall(==(0), y[train])\n",
    "    BINS = 0:0.02:1\n",
    "    stephist(my_pred(machine, X[train, :][train_sig, :]), bins=BINS, normalize=true, label=\"train SIG\")\n",
    "    stephist!(my_pred(machine, X[train, :][train_bkg, :]), bins=BINS,normalize=true,label=\"train BKG\")\n",
    "\n",
    "    test_sig = findall(==(1), y[test])\n",
    "    test_bkg = findall(==(0), y[test])\n",
    "    stephist!(my_pred(machine, X[test, :][test_sig, :]), bins=BINS,normalize=true,label=\"test SIG\")\n",
    "    stephist!(my_pred(machine, X[test, :][test_bkg, :]), bins=BINS, normalize=true, xlabel=\"BDT prob.\",\n",
    "        label=\"test BKG\", title=\"Density plot\", legend=:top)\n",
    "end"
   ]
  },
  {
   "cell_type": "markdown",
   "id": "4b6c025c",
   "metadata": {
    "slideshow": {
     "slide_type": "slide"
    }
   },
   "source": [
    "## XGBoost"
   ]
  },
  {
   "cell_type": "code",
   "execution_count": null,
   "id": "2dfc45aa",
   "metadata": {
    "slideshow": {
     "slide_type": "-"
    }
   },
   "outputs": [],
   "source": [
    "#CLS = @load AdaBoostStumpClassifier\n",
    "CLS = @load XGBoostClassifier\n",
    "nnc = CLS(num_round=100, eta=0.45, max_depth=4);"
   ]
  },
  {
   "cell_type": "code",
   "execution_count": null,
   "id": "dab148b1",
   "metadata": {
    "slideshow": {
     "slide_type": "skip"
    }
   },
   "outputs": [],
   "source": [
    "# r1 = range(nnc, :eta, lower=0.2, upper=0.5);\n",
    "# r2 = range(nnc, :max_depth, lower=4, upper=7);\n",
    "# self_tuning_tree = TunedModel(model=nnc,\n",
    "#                               operation=MLJ.predict_mode,\n",
    "#                               resampling=Holdout(fraction_train=0.9, rng=1234),\n",
    "#                               tuning=Grid(resolution=8),\n",
    "#                               range=[r1, r2],\n",
    "#                               measure=misclassification_rate);"
   ]
  },
  {
   "cell_type": "code",
   "execution_count": null,
   "id": "785577e9",
   "metadata": {
    "slideshow": {
     "slide_type": "fragment"
    }
   },
   "outputs": [],
   "source": [
    "mach = machine(nnc, X, y)"
   ]
  },
  {
   "cell_type": "code",
   "execution_count": null,
   "id": "2dbf430c",
   "metadata": {
    "slideshow": {
     "slide_type": "fragment"
    }
   },
   "outputs": [],
   "source": [
    "fit!(mach; rows=train);\n",
    "# yhat = MLJ.predict(mach, X[train,:])\n",
    "# mean(cross_entropy(yhat, y[train]))"
   ]
  },
  {
   "cell_type": "code",
   "execution_count": null,
   "id": "6ddeafba",
   "metadata": {
    "slideshow": {
     "slide_type": "-"
    }
   },
   "outputs": [],
   "source": [
    "# fitted_params(mach).best_model"
   ]
  },
  {
   "cell_type": "code",
   "execution_count": null,
   "id": "f4e32922",
   "metadata": {
    "slideshow": {
     "slide_type": "subslide"
    }
   },
   "outputs": [],
   "source": [
    "yhat = MLJ.predict(mach, X)\n",
    "fprs, tprs, _ = roc_curve(MLJ.predict(mach, X[test,:]), y[test]);\n",
    "fprs_t, tprs_t, _ = roc_curve(yhat, y);\n",
    "plot(fprs, tprs; label=\"test\")\n",
    "plot!(fprs_t, tprs_t; label=\"train\", xlabel=\"false positive rate\", ylabel=\"truth positive rate\", fmt=:png)"
   ]
  },
  {
   "cell_type": "code",
   "execution_count": null,
   "id": "f61507e6",
   "metadata": {
    "scrolled": true,
    "slideshow": {
     "slide_type": "subslide"
    }
   },
   "outputs": [],
   "source": [
    "density_plot(mach)"
   ]
  },
  {
   "cell_type": "code",
   "execution_count": null,
   "id": "8a2985c1",
   "metadata": {},
   "outputs": [],
   "source": [
    "import XGBoost"
   ]
  },
  {
   "cell_type": "code",
   "execution_count": null,
   "id": "159c6bb1",
   "metadata": {},
   "outputs": [],
   "source": [
    "XGBoost.importance(mach.fitresult[1])"
   ]
  },
  {
   "cell_type": "code",
   "execution_count": null,
   "id": "e404c07e",
   "metadata": {},
   "outputs": [],
   "source": [
    "names(X)[[5,12,1,6,23,3,7,2,18]]"
   ]
  },
  {
   "cell_type": "markdown",
   "id": "7d7c6cc6",
   "metadata": {
    "slideshow": {
     "slide_type": "slide"
    }
   },
   "source": [
    "## Option 2"
   ]
  },
  {
   "cell_type": "code",
   "execution_count": null,
   "id": "21c996e0",
   "metadata": {
    "slideshow": {
     "slide_type": "fragment"
    }
   },
   "outputs": [],
   "source": [
    "import Flux\n",
    "CLS2 = @load NeuralNetworkClassifier\n",
    "nnc2 = CLS2(optimiser=Flux.Optimise.ADAGrad(), epochs = 100, batch_size=50, acceleration=CUDALibs())"
   ]
  },
  {
   "cell_type": "code",
   "execution_count": null,
   "id": "bce52b77",
   "metadata": {},
   "outputs": [],
   "source": [
    "MLJFlux.build(nnc2, Random.GLOBAL_RNG, (25, 2))"
   ]
  },
  {
   "cell_type": "code",
   "execution_count": null,
   "id": "cddf628c",
   "metadata": {
    "slideshow": {
     "slide_type": "skip"
    }
   },
   "outputs": [],
   "source": [
    "# iterated_model = IteratedModel(model=nnc2,\n",
    "#                                measures=cross_entropy,\n",
    "#                                resampling=Holdout(fraction_train=0.8),\n",
    "#                                controls=[Step(4),\n",
    "#                                          Patience(3),\n",
    "#                                          NumberLimit(100)],\n",
    "#                                 retrain=true);"
   ]
  },
  {
   "cell_type": "code",
   "execution_count": null,
   "id": "40723bac",
   "metadata": {
    "slideshow": {
     "slide_type": "subslide"
    }
   },
   "outputs": [],
   "source": [
    "mach2 = machine(nnc2, X, y)\n",
    "fit!(mach2; rows=train)"
   ]
  },
  {
   "cell_type": "code",
   "execution_count": null,
   "id": "8113206c",
   "metadata": {
    "scrolled": false,
    "slideshow": {
     "slide_type": "subslide"
    }
   },
   "outputs": [],
   "source": [
    "yhat = MLJ.predict(mach2, X)\n",
    "fprs, tprs, _ = roc(MLJ.predict(mach2, X[test,:]), y[test]);\n",
    "fprs_t, tprs_t, _ = roc(yhat, y);\n",
    "plot(fprs, tprs; label=\"test\")\n",
    "plot!(fprs_t, tprs_t; label=\"train\", xlabel=\"false positive rate\", ylabel=\"truth positive rate\", fmt=:png)"
   ]
  },
  {
   "cell_type": "code",
   "execution_count": null,
   "id": "b8d54813",
   "metadata": {
    "slideshow": {
     "slide_type": "subslide"
    }
   },
   "outputs": [],
   "source": [
    "density_plot(mach2)"
   ]
  },
  {
   "cell_type": "markdown",
   "id": "9f5b9e41",
   "metadata": {
    "slideshow": {
     "slide_type": "slide"
    }
   },
   "source": [
    "## Option 3"
   ]
  },
  {
   "cell_type": "code",
   "execution_count": null,
   "id": "86c0868d",
   "metadata": {
    "scrolled": true,
    "slideshow": {
     "slide_type": "fragment"
    }
   },
   "outputs": [],
   "source": [
    "CLS3 = @load EvoTreeClassifier\n",
    "nnc3 = CLS3(nrounds = 50,  η = 0.1, max_depth=5, device=\"gpu\")"
   ]
  },
  {
   "cell_type": "code",
   "execution_count": null,
   "id": "770957ce",
   "metadata": {
    "slideshow": {
     "slide_type": "subslide"
    }
   },
   "outputs": [],
   "source": [
    "mach3 = machine(nnc3, X, y)\n",
    "fit!(mach3, rows=train)"
   ]
  },
  {
   "cell_type": "code",
   "execution_count": null,
   "id": "b34be750",
   "metadata": {
    "slideshow": {
     "slide_type": "subslide"
    }
   },
   "outputs": [],
   "source": [
    "yhat = MLJ.predict(mach3, X)\n",
    "fprs, tprs, _ = roc(MLJ.predict(mach3, X[test,:]), y[test]);\n",
    "fprs_t, tprs_t, _ = roc(yhat, y);\n",
    "plot(fprs, tprs; label=\"test\")\n",
    "plot!(fprs_t, tprs_t; label=\"train\", xlabel=\"false positive rate\", ylabel=\"truth positive rate\", fmt=:png)"
   ]
  },
  {
   "cell_type": "code",
   "execution_count": null,
   "id": "8963a600",
   "metadata": {
    "slideshow": {
     "slide_type": "subslide"
    }
   },
   "outputs": [],
   "source": [
    "density_plot(mach3)"
   ]
  },
  {
   "cell_type": "code",
   "execution_count": null,
   "id": "04f9814f",
   "metadata": {},
   "outputs": [],
   "source": []
  }
 ],
 "metadata": {
  "celltoolbar": "Slideshow",
  "kernelspec": {
   "display_name": "Julia 1.7.0-beta4",
   "language": "julia",
   "name": "julia-1.7"
  },
  "language_info": {
   "file_extension": ".jl",
   "mimetype": "application/julia",
   "name": "julia",
   "version": "1.7.0"
  }
 },
 "nbformat": 4,
 "nbformat_minor": 5
}
