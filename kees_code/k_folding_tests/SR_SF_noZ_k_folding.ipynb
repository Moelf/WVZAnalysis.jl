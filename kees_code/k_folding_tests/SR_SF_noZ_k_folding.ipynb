{
 "cells": [
  {
   "cell_type": "code",
   "execution_count": 1,
   "metadata": {},
   "outputs": [
    {
     "name": "stderr",
     "output_type": "stream",
     "text": [
      "2022-03-14 16:08:19.838066: I tensorflow/stream_executor/platform/default/dso_loader.cc:49] Successfully opened dynamic library libcudart.so.10.1\n",
      "2022-03-14 16:08:20.626188: I tensorflow/compiler/jit/xla_cpu_device.cc:41] Not creating XLA devices, tf_xla_enable_xla_devices not set\n",
      "2022-03-14 16:08:20.632132: I tensorflow/stream_executor/platform/default/dso_loader.cc:49] Successfully opened dynamic library libcuda.so.1\n",
      "2022-03-14 16:08:20.656550: I tensorflow/core/common_runtime/gpu/gpu_device.cc:1720] Found device 0 with properties: \n",
      "pciBusID: 0000:65:00.0 name: Quadro RTX 4000 computeCapability: 7.5\n",
      "coreClock: 1.545GHz coreCount: 36 deviceMemorySize: 7.79GiB deviceMemoryBandwidth: 387.49GiB/s\n",
      "2022-03-14 16:08:20.656609: I tensorflow/stream_executor/platform/default/dso_loader.cc:49] Successfully opened dynamic library libcudart.so.10.1\n",
      "2022-03-14 16:08:20.660611: I tensorflow/stream_executor/platform/default/dso_loader.cc:49] Successfully opened dynamic library libcublas.so.10\n",
      "2022-03-14 16:08:20.660693: I tensorflow/stream_executor/platform/default/dso_loader.cc:49] Successfully opened dynamic library libcublasLt.so.10\n",
      "2022-03-14 16:08:20.664654: I tensorflow/stream_executor/platform/default/dso_loader.cc:49] Successfully opened dynamic library libcufft.so.10\n",
      "2022-03-14 16:08:20.665270: I tensorflow/stream_executor/platform/default/dso_loader.cc:49] Successfully opened dynamic library libcurand.so.10\n",
      "2022-03-14 16:08:20.668706: I tensorflow/stream_executor/platform/default/dso_loader.cc:49] Successfully opened dynamic library libcusolver.so.10\n",
      "2022-03-14 16:08:20.670395: I tensorflow/stream_executor/platform/default/dso_loader.cc:49] Successfully opened dynamic library libcusparse.so.10\n",
      "2022-03-14 16:08:20.676885: I tensorflow/stream_executor/platform/default/dso_loader.cc:49] Successfully opened dynamic library libcudnn.so.7\n",
      "2022-03-14 16:08:20.677420: I tensorflow/core/common_runtime/gpu/gpu_device.cc:1862] Adding visible gpu devices: 0\n"
     ]
    }
   ],
   "source": [
    "import numpy as np\n",
    "import pandas as pd\n",
    "import matplotlib.pyplot as plt\n",
    "\n",
    "from tensorflow.keras.layers import Input, Dense, Dropout\n",
    "from tensorflow.keras.models import Model, Sequential\n",
    "from tensorflow.keras import backend as K\n",
    "from tensorflow import keras\n",
    "from tensorflow.errors import InvalidArgumentError\n",
    "import tensorflow as tf\n",
    "\n",
    "# Tensorflow GPU settings\n",
    "# gpu_options = tf.GPUOptions(allow_growth=True)#per_process_gpu_memory_fraction=0.5)\n",
    "# sess = tf.Session(config=tf.ConfigProto(gpu_options=gpu_options))\n",
    "physical_devices = tf.config.list_physical_devices('GPU') \n",
    "tf.config.experimental.set_memory_growth(physical_devices[0], True)\n",
    "\n",
    "from sklearn.metrics import roc_curve, roc_auc_score, auc\n",
    "from sklearn.model_selection import train_test_split, StratifiedKFold\n",
    "from sklearn import preprocessing\n",
    "from sklearn.utils import shuffle\n",
    "\n",
    "from scipy import interpolate\n",
    "\n",
    "from atlasify import atlasify\n",
    "import pickle\n",
    "import os\n",
    "\n",
    "import sys\n",
    "sys.path.append('../')\n",
    "import plot_util\n",
    "import util"
   ]
  },
  {
   "cell_type": "code",
   "execution_count": 2,
   "metadata": {},
   "outputs": [],
   "source": [
    "# Note that we are loading the FULL signal and background datasets\n",
    "sig = pd.read_feather('/home/grabanal/WVZ/gabriel_ML_data/20220301_ELReLMIs54_MUReLMIs31_btag77_VVZ.arrow')\n",
    "sig['source'] = 'Signal'\n",
    "sig['is_signal'] = True\n",
    "# bg = pd.read_feather(('/home/grabanal/WVZ/gabriel_ML_data/'\n",
    "#                            + '20220301_ELReLMIs54_MUReLMIs31_btag77_FULLBG.arrow'))\n",
    "# bg['is_signal'] = False"
   ]
  },
  {
   "cell_type": "code",
   "execution_count": 6,
   "metadata": {},
   "outputs": [],
   "source": [
    "bg_others = pd.read_feather(('/home/grabanal/WVZ/gabriel_ML_data/'\n",
    "                             + '20220301_ELReLMIs54_MUReLMIs31_btag77_others.arrow'))\n",
    "bg_others['source'] = 'Other'\n",
    "\n",
    "bg_ttZ = pd.read_feather(('/home/grabanal/WVZ/gabriel_ML_data/'\n",
    "                          + '20220301_ELReLMIs54_MUReLMIs31_btag77_ttZ.arrow'))\n",
    "bg_ttZ['source'] = 'ttZ'\n",
    "\n",
    "bg_tWZ = pd.read_feather(('/home/grabanal/WVZ/gabriel_ML_data/'\n",
    "                          + '20220301_ELReLMIs54_MUReLMIs31_btag77_tWZ.arrow'))\n",
    "bg_tWZ['source'] = 'tWZ'\n",
    "\n",
    "bg_tZ = pd.read_feather(('/home/grabanal/WVZ/gabriel_ML_data/'\n",
    "                         + '20220301_ELReLMIs54_MUReLMIs31_btag77_tZ.arrow'))\n",
    "bg_tZ['source'] = 'tZ'\n",
    "\n",
    "bg_WZ = pd.read_feather(('/home/grabanal/WVZ/gabriel_ML_data/'\n",
    "                         + '20220301_ELReLMIs54_MUReLMIs31_btag77_WZ.arrow'))\n",
    "bg_WZ['source'] = 'WZ'\n",
    "\n",
    "bg_Zgamma = pd.read_feather(('/home/grabanal/WVZ/gabriel_ML_data/'\n",
    "                             + '20220301_ELReLMIs54_MUReLMIs31_btag77_Zgamma.arrow'))\n",
    "bg_Zgamma['source'] = 'Z + gamma'\n",
    "\n",
    "bg_Zjets = pd.read_feather(('/home/grabanal/WVZ/gabriel_ML_data/'\n",
    "                            + '20220301_ELReLMIs54_MUReLMIs31_btag77_Zjets.arrow'))\n",
    "bg_Zjets['source'] = 'Z + jets'\n",
    "\n",
    "bg_ZZ = pd.read_feather(('/home/grabanal/WVZ/gabriel_ML_data/'\n",
    "                         + '20220301_ELReLMIs54_MUReLMIs31_btag77_ZZ.arrow'))\n",
    "bg_ZZ['source'] = 'ZZ'\n",
    "\n",
    "bg = pd.concat([bg_others, bg_ttZ, bg_tWZ, bg_tZ, bg_WZ, bg_Zgamma, bg_Zjets, bg_ZZ])\n",
    "bg['is_signal'] = False"
   ]
  },
  {
   "cell_type": "code",
   "execution_count": 7,
   "metadata": {},
   "outputs": [
    {
     "name": "stdout",
     "output_type": "stream",
     "text": [
      "Using the following training features:\n",
      "['HT', 'MET', 'METPhi', 'METSig', 'Njet', 'Nlep', 'SR', 'Wlep1_ambiguous', 'Wlep1_dphi', 'Wlep1_eta', 'Wlep1_phi', 'Wlep1_pid', 'Wlep1_pt', 'Wlep2_ambiguous', 'Wlep2_dphi', 'Wlep2_eta', 'Wlep2_phi', 'Wlep2_pid', 'Wlep2_pt', 'Zcand_mass', 'Zlep1_ambiguous', 'Zlep1_dphi', 'Zlep1_eta', 'Zlep1_phi', 'Zlep1_pid', 'Zlep1_pt', 'Zlep2_ambiguous', 'Zlep2_dphi', 'Zlep2_eta', 'Zlep2_phi', 'Zlep2_pid', 'Zlep2_pt', 'chisq', 'eta_1', 'eta_2', 'eta_3', 'eta_4', 'jet_btagCont_1', 'jet_btagCont_2', 'jet_btagCont_3', 'jet_btagCont_4', 'jet_eta_1', 'jet_eta_2', 'jet_eta_3', 'jet_eta_4', 'jet_m_1', 'jet_m_2', 'jet_m_3', 'jet_m_4', 'jet_phi_1', 'jet_phi_2', 'jet_phi_3', 'jet_phi_4', 'jet_pt_1', 'jet_pt_2', 'jet_pt_3', 'jet_pt_4', 'lep1_ambiguous', 'lep1_pid', 'lep2_ambiguous', 'lep2_pid', 'lep3_ambiguous', 'lep3_pid', 'lep4_ambiguous', 'lep4_pid', 'leptonic_HT', 'mass_4l', 'other_mass', 'phi_1', 'phi_2', 'phi_3', 'phi_4', 'pt_1', 'pt_2', 'pt_3', 'pt_4', 'pt_4l', 'total_HT']\n"
     ]
    }
   ],
   "source": [
    "train_feats = sorted([f for f in sig.columns if f not in ['index', 'wgt', 'is_signal', \n",
    "                                                          'v_j_btag77', 'v_j_btag60', \n",
    "                                                          'v_j_btag85', 'v_j_btagCont', 'v_j_btag70', \n",
    "                                                          'source']])\n",
    "print('Using the following training features:')\n",
    "print(sorted(train_feats))"
   ]
  },
  {
   "cell_type": "code",
   "execution_count": 8,
   "metadata": {},
   "outputs": [],
   "source": [
    "# Normalize training features\n",
    "X = pd.concat([sig[train_feats], bg[train_feats]], ignore_index=True)\n",
    "\n",
    "min_max_scaler = preprocessing.MinMaxScaler()\n",
    "\n",
    "min_max_scaler.fit(X)\n",
    "\n",
    "for df in [sig, bg]:\n",
    "    df[train_feats] = min_max_scaler.transform(df[train_feats])"
   ]
  },
  {
   "cell_type": "code",
   "execution_count": 9,
   "metadata": {},
   "outputs": [],
   "source": [
    "# Cut to 4l-SF (no Z) signal region\n",
    "bg = bg[bg.SR == 0.5]\n",
    "sig = sig[sig.SR == 0.5]"
   ]
  },
  {
   "cell_type": "markdown",
   "metadata": {},
   "source": [
    "# Setup k-folds"
   ]
  },
  {
   "cell_type": "code",
   "execution_count": 10,
   "metadata": {},
   "outputs": [],
   "source": [
    "combined_data = pd.concat([sig[train_feats + ['wgt', 'is_signal', 'source']], \n",
    "                           bg[train_feats + ['wgt', 'is_signal', 'source']]], \n",
    "                          ignore_index=True)\n",
    "combined_labels = np.concatenate([np.ones(len(sig)), np.zeros(len(bg))])"
   ]
  },
  {
   "cell_type": "code",
   "execution_count": 11,
   "metadata": {},
   "outputs": [],
   "source": [
    "K_FOLDS = 5\n",
    "k_folder = StratifiedKFold(n_splits = K_FOLDS, random_state=314, shuffle=True)\n",
    "\n",
    "# Assign k-folds\n",
    "combined_data['k_fold'] = -1\n",
    "for i, (_, test_index) in enumerate(k_folder.split(combined_data, combined_labels)):\n",
    "    combined_data.loc[test_index, 'k_fold'] = i"
   ]
  },
  {
   "cell_type": "markdown",
   "metadata": {},
   "source": [
    "# Train models"
   ]
  },
  {
   "cell_type": "code",
   "execution_count": null,
   "metadata": {},
   "outputs": [],
   "source": [
    "EPOCHS = 10000\n",
    "PATIENCE = 200\n",
    "BATCH_SIZE = 512\n",
    "NUM_NODES = 64\n",
    "DROPOUT = 0.1\n",
    "LEARN_RATE = 1e-5\n",
    "\n",
    "def make_model(input_dim, num_nodes, dropout, learn_rate):\n",
    "    # Generate and fit model\n",
    "    K.clear_session()\n",
    "    classifier = Sequential()\n",
    "    classifier.add(Dense(num_nodes, input_dim=input_dim, activation='relu')) \n",
    "    classifier.add(Dropout(dropout))\n",
    "    classifier.add(Dense(num_nodes, activation='relu'))\n",
    "    classifier.add(Dropout(dropout))\n",
    "    classifier.add(Dense(num_nodes, activation='relu'))\n",
    "    classifier.add(Dropout(dropout))\n",
    "    classifier.add(Dense(1, activation='sigmoid'))\n",
    "\n",
    "    opt = keras.optimizers.Adam(learning_rate=learn_rate)\n",
    "    classifier.compile(loss='binary_crossentropy', optimizer=opt, metrics=['accuracy'])\n",
    "    \n",
    "    return classifier\n",
    "\n",
    "models = [None] * K_FOLDS\n",
    "\n",
    "for k in range(K_FOLDS):\n",
    "    # Generate train and validation samples\n",
    "    # The test sample has k-index k\n",
    "    # The validation sample has k-index k - 1\n",
    "    # The rest is for training\n",
    "    val_k_index = k - 1\n",
    "    if val_k_index < 0:\n",
    "        val_k_index = K_FOLDS - 1\n",
    "        \n",
    "    x_val = combined_data[combined_data.k_fold == val_k_index]\n",
    "    y_val = combined_labels[combined_data.k_fold == val_k_index]\n",
    "    w_val = np.abs(x_val.wgt)\n",
    "    \n",
    "    x_train = combined_data[(combined_data.k_fold != k)&(combined_data.k_fold != val_k_index)]\n",
    "    y_train = combined_labels[(combined_data.k_fold != k)&(combined_data.k_fold != val_k_index)]\n",
    "    \n",
    "    n_train_sig = sum(x_train[y_train == 1].wgt)\n",
    "    n_train_bg = sum(x_train[y_train == 0].wgt)\n",
    "    \n",
    "    sig_correction = (n_train_sig + n_train_bg) / (2 * n_train_sig)\n",
    "    bg_correction = (n_train_sig + n_train_bg) / (2 * n_train_bg)\n",
    "    w_train = (sig_correction * y_train + bg_correction * (1 - y_train)) * np.abs(x_train.wgt)\n",
    "    \n",
    "    # Restrict to training features\n",
    "    x_train = x_train[train_feats]\n",
    "    x_val = x_val[train_feats]\n",
    "    \n",
    "    # Generate and fit model\n",
    "    classifier = make_model(input_dim=x_train.shape[1], num_nodes=NUM_NODES, \n",
    "                            dropout=DROPOUT, learn_rate=LEARN_RATE)\n",
    "    \n",
    "    es_callback = tf.keras.callbacks.EarlyStopping(monitor='val_loss', patience=PATIENCE, \n",
    "                                                   restore_best_weights=True)\n",
    "\n",
    "    history = classifier.fit(x_train, y_train, sample_weight=w_train, \n",
    "                             validation_data=(x_val, y_val, w_val),\n",
    "                             epochs=EPOCHS, batch_size=BATCH_SIZE,\n",
    "                             verbose=1, callbacks=[es_callback], shuffle=True)\n",
    "    \n",
    "    # Save model and history\n",
    "    model_dir = 'models/SR_SF_noZ/'\n",
    "    model_name = 'classifier_abs_wgt_k_' + str(k)\n",
    "    if not os.path.exists(model_dir):\n",
    "        os.makedirs(model_dir)\n",
    "        \n",
    "    classifier.save(model_dir + model_name)\n",
    "    with open(model_dir + model_name + '_history.pkl', 'wb') as file_pi:\n",
    "        pickle.dump(history.history, file_pi)"
   ]
  },
  {
   "cell_type": "markdown",
   "metadata": {},
   "source": [
    "# Analyze results"
   ]
  },
  {
   "cell_type": "code",
   "execution_count": null,
   "metadata": {},
   "outputs": [],
   "source": [
    "import importlib\n",
    "importlib.reload(plot_util)"
   ]
  },
  {
   "cell_type": "code",
   "execution_count": null,
   "metadata": {},
   "outputs": [],
   "source": [
    "# Generate training history plots\n",
    "for k in range(K_FOLDS):\n",
    "    # Load model\n",
    "    model_dir = 'models/SR_SF_noZ/'\n",
    "    plot_dir = 'plots/SR_SF_noZ/'\n",
    "    model_name = 'classifier_abs_wgt_k_' + str(k)\n",
    "    \n",
    "    with open(model_dir + model_name + '_history.pkl', 'rb') as f:\n",
    "        history = pickle.load(f)\n",
    "        \n",
    "    # Loss\n",
    "    plt.plot(history['loss'], label='loss')\n",
    "    plt.plot(history['val_loss'], label='val loss')\n",
    "    \n",
    "    plt.legend(fontsize=12)\n",
    "    plt.xlabel('NN output', fontsize=12)\n",
    "    plt.ylabel('Density', fontsize=12)\n",
    "    \n",
    "    atlasify('Internal simulation', outside=True)\n",
    "    \n",
    "    plt.title('4$\\ell$-SF (no Z) history\\nk = ' + str(k), fontsize=14, loc='right')\n",
    "    \n",
    "    plot_util.save_fig(plot_dir, model_name + '_loss')\n",
    "    plt.show()\n",
    "    \n",
    "    # Accuracy\n",
    "    plt.plot(history['accuracy'], label='acc')\n",
    "    plt.plot(history['val_accuracy'], label='val acc')\n",
    "    \n",
    "    plt.legend(fontsize=12)\n",
    "    plt.xlabel('NN output', fontsize=12)\n",
    "    plt.ylabel('Density', fontsize=12)\n",
    "    \n",
    "    atlasify('Internal simulation', outside=True)\n",
    "    \n",
    "    plt.title('4$\\ell$-SF (no Z) history\\nk = ' + str(k), fontsize=14, loc='right')\n",
    "    \n",
    "    plot_util.save_fig(plot_dir, model_name + '_acc')\n",
    "    plt.show()"
   ]
  },
  {
   "cell_type": "code",
   "execution_count": 12,
   "metadata": {},
   "outputs": [
    {
     "name": "stderr",
     "output_type": "stream",
     "text": [
      "2022-03-14 16:09:33.039244: I tensorflow/core/platform/cpu_feature_guard.cc:142] This TensorFlow binary is optimized with oneAPI Deep Neural Network Library (oneDNN) to use the following CPU instructions in performance-critical operations:  SSE4.1 SSE4.2 AVX AVX2 AVX512F FMA\n",
      "To enable them in other operations, rebuild TensorFlow with the appropriate compiler flags.\n",
      "2022-03-14 16:09:33.041519: I tensorflow/core/common_runtime/gpu/gpu_device.cc:1720] Found device 0 with properties: \n",
      "pciBusID: 0000:65:00.0 name: Quadro RTX 4000 computeCapability: 7.5\n",
      "coreClock: 1.545GHz coreCount: 36 deviceMemorySize: 7.79GiB deviceMemoryBandwidth: 387.49GiB/s\n",
      "2022-03-14 16:09:33.041581: I tensorflow/stream_executor/platform/default/dso_loader.cc:49] Successfully opened dynamic library libcudart.so.10.1\n",
      "2022-03-14 16:09:33.041603: I tensorflow/stream_executor/platform/default/dso_loader.cc:49] Successfully opened dynamic library libcublas.so.10\n",
      "2022-03-14 16:09:33.041614: I tensorflow/stream_executor/platform/default/dso_loader.cc:49] Successfully opened dynamic library libcublasLt.so.10\n",
      "2022-03-14 16:09:33.041624: I tensorflow/stream_executor/platform/default/dso_loader.cc:49] Successfully opened dynamic library libcufft.so.10\n",
      "2022-03-14 16:09:33.041634: I tensorflow/stream_executor/platform/default/dso_loader.cc:49] Successfully opened dynamic library libcurand.so.10\n",
      "2022-03-14 16:09:33.041644: I tensorflow/stream_executor/platform/default/dso_loader.cc:49] Successfully opened dynamic library libcusolver.so.10\n",
      "2022-03-14 16:09:33.041653: I tensorflow/stream_executor/platform/default/dso_loader.cc:49] Successfully opened dynamic library libcusparse.so.10\n",
      "2022-03-14 16:09:33.041664: I tensorflow/stream_executor/platform/default/dso_loader.cc:49] Successfully opened dynamic library libcudnn.so.7\n",
      "2022-03-14 16:09:33.042066: I tensorflow/core/common_runtime/gpu/gpu_device.cc:1862] Adding visible gpu devices: 0\n",
      "2022-03-14 16:09:33.042104: I tensorflow/stream_executor/platform/default/dso_loader.cc:49] Successfully opened dynamic library libcudart.so.10.1\n",
      "2022-03-14 16:09:33.400928: I tensorflow/core/common_runtime/gpu/gpu_device.cc:1261] Device interconnect StreamExecutor with strength 1 edge matrix:\n",
      "2022-03-14 16:09:33.400960: I tensorflow/core/common_runtime/gpu/gpu_device.cc:1267]      0 \n",
      "2022-03-14 16:09:33.400968: I tensorflow/core/common_runtime/gpu/gpu_device.cc:1280] 0:   N \n",
      "2022-03-14 16:09:33.401595: I tensorflow/core/common_runtime/gpu/gpu_device.cc:1406] Created TensorFlow device (/job:localhost/replica:0/task:0/device:GPU:0 with 6600 MB memory) -> physical GPU (device: 0, name: Quadro RTX 4000, pci bus id: 0000:65:00.0, compute capability: 7.5)\n",
      "2022-03-14 16:09:33.401855: I tensorflow/compiler/jit/xla_gpu_device.cc:99] Not creating XLA devices, tf_xla_enable_xla_devices not set\n",
      "2022-03-14 16:09:33.812921: I tensorflow/compiler/mlir/mlir_graph_optimization_pass.cc:116] None of the MLIR optimization passes are enabled (registered 2)\n",
      "2022-03-14 16:09:33.813305: I tensorflow/core/platform/profile_utils/cpu_utils.cc:112] CPU Frequency: 3500000000 Hz\n",
      "2022-03-14 16:09:33.948357: I tensorflow/stream_executor/platform/default/dso_loader.cc:49] Successfully opened dynamic library libcublas.so.10\n"
     ]
    }
   ],
   "source": [
    "nn_out_col = 'nn_out'\n",
    "\n",
    "combined_data[nn_out_col] = -1\n",
    "\n",
    "for k in range(K_FOLDS):\n",
    "    # Load model\n",
    "    model_dir = 'models/SR_SF_noZ/'\n",
    "    model_name = 'classifier_abs_wgt_k_' + str(k)\n",
    "    \n",
    "    K.clear_session()\n",
    "    classifier = keras.models.load_model(model_dir + model_name)\n",
    "    \n",
    "    # We test classifier k on slice k\n",
    "    x_test = combined_data[combined_data.k_fold == k][train_feats]\n",
    "    combined_data.loc[combined_data.k_fold == k, nn_out_col] = classifier.predict(x_test, batch_size=10000)"
   ]
  },
  {
   "cell_type": "code",
   "execution_count": 13,
   "metadata": {},
   "outputs": [
    {
     "data": {
      "image/png": "[encoded data removed]",
      "text/plain": [
       "<Figure size 432x288 with 1 Axes>"
      ]
     },
     "metadata": {
      "needs_background": "light"
     },
     "output_type": "display_data"
    }
   ],
   "source": [
    "bg_sample = combined_data[combined_data.is_signal == 0]\n",
    "sig_sample = combined_data[combined_data.is_signal == 1]\n",
    "\n",
    "bg_ZZ_sample = bg_sample[bg_sample.source == 'ZZ']\n",
    "bg_Zjets_sample = bg_sample[bg_sample.source == 'Z + jets']\n",
    "bg_ttZ_sample = bg_sample[bg_sample.source == 'ttZ']\n",
    "bg_WZ_sample = bg_sample[bg_sample.source == 'WZ']\n",
    "bg_tWZ_sample = bg_sample[bg_sample.source == 'tWZ']\n",
    "bg_other_sample = bg_sample[bg_sample.source == 'Other']\n",
    "bg_Zgamma_sample = bg_sample[bg_sample.source == 'Z + gamma']\n",
    "bg_tZ_sample = bg_sample[bg_sample.source == 'tZ']\n",
    "\n",
    "plot_util.make_nn_output_source_plot(bg_ZZ_sample, bg_Zjets_sample, bg_ttZ_sample, \n",
    "                                     bg_WZ_sample, bg_tWZ_sample, bg_other_sample, \n",
    "                                     bg_Zgamma_sample, bg_tZ_sample,\n",
    "                                     sig_sample, column='nn_out', bins=10, log=True, \n",
    "                                     save=True, \n",
    "                                     save_dir='plots/SR_SF_noZ/', save_name='nn_output_density_stacked')"
   ]
  },
  {
   "cell_type": "code",
   "execution_count": null,
   "metadata": {},
   "outputs": [],
   "source": [
    "bg_sample = combined_data[combined_data.is_signal == 0]\n",
    "sig_sample = combined_data[combined_data.is_signal == 1]\n",
    "\n",
    "\n",
    "plot_util.make_nn_output_plot(bg_sample, sig_sample, 'nn_out', 'Background', 'Signal', \n",
    "                              save=True, save_dir='plots/SR_SF_noZ/', save_name='nn_output', \n",
    "                              title='4$\\ell$-SF (no Z)', log=True)\n",
    "plot_util.make_nn_output_plot(bg_sample, sig_sample, 'nn_out', 'Background', 'Signal', density=True, \n",
    "                              save=True, save_dir='plots/SR_SF_noZ/', save_name='nn_output_density', \n",
    "                              title='4$\\ell$-SF (no Z)', log=False)"
   ]
  },
  {
   "cell_type": "code",
   "execution_count": null,
   "metadata": {},
   "outputs": [],
   "source": [
    "n_cuts = 100\n",
    "\n",
    "cuts = np.arange(0, 1, 1./n_cuts)\n",
    "sigs = [-1]*n_cuts\n",
    "\n",
    "max_sig = -1\n",
    "max_sig_loc = -1\n",
    "\n",
    "for i, nn_cut in enumerate(cuts):\n",
    "    bg_sample = combined_data[(combined_data.is_signal == 0)&(combined_data.nn_out >= nn_cut)]\n",
    "    sig_sample = combined_data[(combined_data.is_signal == 1)&(combined_data.nn_out >= nn_cut)]\n",
    "\n",
    "    n_sig = sum(sig_sample.wgt)\n",
    "    n_bg = sum(bg_sample.wgt)\n",
    "\n",
    "    sig = util.significance(n_sig, n_bg)\n",
    "    sigs[i] = sig\n",
    "    if sig > max_sig:\n",
    "        max_sig = sig\n",
    "        max_sig_loc = nn_cut"
   ]
  },
  {
   "cell_type": "code",
   "execution_count": null,
   "metadata": {},
   "outputs": [],
   "source": [
    "# Plot scan\n",
    "plt.figure(figsize=(6, 4))\n",
    "plt.plot(cuts, sigs)\n",
    "\n",
    "plt.axhline(y=max_sig, color='black', ls='--', alpha=0.5)\n",
    "plt.axvline(x=max_sig_loc, color='black', ls='--', alpha=0.5)\n",
    "\n",
    "plt.ylabel('Significance', fontsize=14)\n",
    "plt.xlabel('NN cut', fontsize=14)\n",
    "plt.title('4$\\ell$-DF', loc='right', fontsize=14)\n",
    "\n",
    "plt.text(min(cuts), min(sigs), \n",
    "         'Max: %.2f $\\sigma$\\nLoc: %.2f'%(max_sig, max_sig_loc),\n",
    "         fontsize=14)\n",
    "\n",
    "atlasify('Internal Simulation', outside=True)\n",
    "\n",
    "plot_util.save_fig('plots/SR_SF_noZ/', 'sig_scan')"
   ]
  }
 ],
 "metadata": {
  "kernelspec": {
   "display_name": "wvz_machine_learning",
   "language": "python",
   "name": "wvz_machine_learning"
  },
  "language_info": {
   "codemirror_mode": {
    "name": "ipython",
    "version": 3
   },
   "file_extension": ".py",
   "mimetype": "text/x-python",
   "name": "python",
   "nbconvert_exporter": "python",
   "pygments_lexer": "ipython3",
   "version": "3.9.7"
  }
 },
 "nbformat": 4,
 "nbformat_minor": 4
}
