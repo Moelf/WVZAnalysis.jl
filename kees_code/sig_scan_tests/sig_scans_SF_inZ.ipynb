{
 "cells": [
  {
   "cell_type": "code",
   "execution_count": 1,
   "id": "61a88117",
   "metadata": {},
   "outputs": [
    {
     "name": "stderr",
     "output_type": "stream",
     "text": [
      "2022-03-21 02:27:20.410824: I tensorflow/stream_executor/platform/default/dso_loader.cc:49] Successfully opened dynamic library libcudart.so.10.1\n",
      "2022-03-21 02:27:23.929434: I tensorflow/compiler/jit/xla_cpu_device.cc:41] Not creating XLA devices, tf_xla_enable_xla_devices not set\n",
      "2022-03-21 02:27:23.932415: I tensorflow/stream_executor/platform/default/dso_loader.cc:49] Successfully opened dynamic library libcuda.so.1\n",
      "2022-03-21 02:27:24.035784: I tensorflow/core/common_runtime/gpu/gpu_device.cc:1720] Found device 0 with properties: \n",
      "pciBusID: 0000:65:00.0 name: Quadro RTX 4000 computeCapability: 7.5\n",
      "coreClock: 1.545GHz coreCount: 36 deviceMemorySize: 7.79GiB deviceMemoryBandwidth: 387.49GiB/s\n",
      "2022-03-21 02:27:24.035863: I tensorflow/stream_executor/platform/default/dso_loader.cc:49] Successfully opened dynamic library libcudart.so.10.1\n",
      "2022-03-21 02:27:24.068051: I tensorflow/stream_executor/platform/default/dso_loader.cc:49] Successfully opened dynamic library libcublas.so.10\n",
      "2022-03-21 02:27:24.068227: I tensorflow/stream_executor/platform/default/dso_loader.cc:49] Successfully opened dynamic library libcublasLt.so.10\n",
      "2022-03-21 02:27:24.087441: I tensorflow/stream_executor/platform/default/dso_loader.cc:49] Successfully opened dynamic library libcufft.so.10\n",
      "2022-03-21 02:27:24.091954: I tensorflow/stream_executor/platform/default/dso_loader.cc:49] Successfully opened dynamic library libcurand.so.10\n",
      "2022-03-21 02:27:24.125402: I tensorflow/stream_executor/platform/default/dso_loader.cc:49] Successfully opened dynamic library libcusolver.so.10\n",
      "2022-03-21 02:27:24.131318: I tensorflow/stream_executor/platform/default/dso_loader.cc:49] Successfully opened dynamic library libcusparse.so.10\n",
      "2022-03-21 02:27:24.188866: I tensorflow/stream_executor/platform/default/dso_loader.cc:49] Successfully opened dynamic library libcudnn.so.7\n",
      "2022-03-21 02:27:24.189932: I tensorflow/core/common_runtime/gpu/gpu_device.cc:1862] Adding visible gpu devices: 0\n"
     ]
    }
   ],
   "source": [
    "import numpy as np\n",
    "import pandas as pd\n",
    "import matplotlib.pyplot as plt\n",
    "\n",
    "from tensorflow.keras.layers import Input, Dense, Dropout\n",
    "from tensorflow.keras.models import Model, Sequential\n",
    "from tensorflow.keras import backend as K\n",
    "from tensorflow import keras\n",
    "from tensorflow.errors import InvalidArgumentError\n",
    "import tensorflow as tf\n",
    "\n",
    "# Tensorflow GPU settings\n",
    "# gpu_options = tf.GPUOptions(allow_growth=True)#per_process_gpu_memory_fraction=0.5)\n",
    "# sess = tf.Session(config=tf.ConfigProto(gpu_options=gpu_options))\n",
    "physical_devices = tf.config.list_physical_devices('GPU') \n",
    "tf.config.experimental.set_memory_growth(physical_devices[0], True)\n",
    "\n",
    "from sklearn.metrics import roc_curve, roc_auc_score, auc\n",
    "from sklearn.model_selection import train_test_split, StratifiedKFold\n",
    "from sklearn import preprocessing\n",
    "from sklearn.utils import shuffle\n",
    "\n",
    "from scipy import interpolate\n",
    "\n",
    "from atlasify import atlasify\n",
    "import pickle\n",
    "import os\n",
    "\n",
    "import sys\n",
    "sys.path.append('../')\n",
    "import plot_util\n",
    "import util"
   ]
  },
  {
   "cell_type": "markdown",
   "id": "5e8fcc87",
   "metadata": {},
   "source": [
    "# Load data and models"
   ]
  },
  {
   "cell_type": "code",
   "execution_count": 2,
   "id": "88c512cd",
   "metadata": {},
   "outputs": [],
   "source": [
    "sig = pd.read_feather('/home/grabanal/WVZ/gabriel_ML_data/20220301_ELReLMIs54_MUReLMIs31_btag77_VVZ.arrow')\n",
    "sig['source'] = 'Signal'\n",
    "sig['is_signal'] = True\n",
    "\n",
    "\n",
    "bg_others = pd.read_feather(('/home/grabanal/WVZ/gabriel_ML_data/'\n",
    "                             + '20220301_ELReLMIs54_MUReLMIs31_btag77_others.arrow'))\n",
    "bg_others['source'] = 'Other'\n",
    "\n",
    "bg_ttZ = pd.read_feather(('/home/grabanal/WVZ/gabriel_ML_data/'\n",
    "                          + '20220301_ELReLMIs54_MUReLMIs31_btag77_ttZ.arrow'))\n",
    "bg_ttZ['source'] = 'ttZ'\n",
    "\n",
    "bg_tWZ = pd.read_feather(('/home/grabanal/WVZ/gabriel_ML_data/'\n",
    "                          + '20220301_ELReLMIs54_MUReLMIs31_btag77_tWZ.arrow'))\n",
    "bg_tWZ['source'] = 'tWZ'\n",
    "\n",
    "bg_tZ = pd.read_feather(('/home/grabanal/WVZ/gabriel_ML_data/'\n",
    "                         + '20220301_ELReLMIs54_MUReLMIs31_btag77_tZ.arrow'))\n",
    "bg_tZ['source'] = 'tZ'\n",
    "\n",
    "bg_WZ = pd.read_feather(('/home/grabanal/WVZ/gabriel_ML_data/'\n",
    "                         + '20220301_ELReLMIs54_MUReLMIs31_btag77_WZ.arrow'))\n",
    "bg_WZ['source'] = 'WZ'\n",
    "\n",
    "bg_Zgamma = pd.read_feather(('/home/grabanal/WVZ/gabriel_ML_data/'\n",
    "                             + '20220301_ELReLMIs54_MUReLMIs31_btag77_Zgamma.arrow'))\n",
    "bg_Zgamma['source'] = 'Z + gamma'\n",
    "\n",
    "bg_Zjets = pd.read_feather(('/home/grabanal/WVZ/gabriel_ML_data/'\n",
    "                            + '20220301_ELReLMIs54_MUReLMIs31_btag77_Zjets.arrow'))\n",
    "bg_Zjets['source'] = 'Z + jets'\n",
    "\n",
    "bg_ZZ = pd.read_feather(('/home/grabanal/WVZ/gabriel_ML_data/'\n",
    "                         + '20220301_ELReLMIs54_MUReLMIs31_btag77_ZZ.arrow'))\n",
    "bg_ZZ['source'] = 'ZZ'\n",
    "\n",
    "bg = pd.concat([bg_others, bg_ttZ, bg_tWZ, bg_tZ, bg_WZ, bg_Zgamma, bg_Zjets, bg_ZZ])\n",
    "bg['is_signal'] = False"
   ]
  },
  {
   "cell_type": "code",
   "execution_count": 3,
   "id": "c63baed2",
   "metadata": {},
   "outputs": [
    {
     "name": "stdout",
     "output_type": "stream",
     "text": [
      "Using the following training features:\n",
      "['HT', 'MET', 'METPhi', 'METSig', 'Njet', 'Nlep', 'SR', 'Wlep1_ambiguous', 'Wlep1_dphi', 'Wlep1_eta', 'Wlep1_phi', 'Wlep1_pid', 'Wlep1_pt', 'Wlep2_ambiguous', 'Wlep2_dphi', 'Wlep2_eta', 'Wlep2_phi', 'Wlep2_pid', 'Wlep2_pt', 'Zcand_mass', 'Zlep1_ambiguous', 'Zlep1_dphi', 'Zlep1_eta', 'Zlep1_phi', 'Zlep1_pid', 'Zlep1_pt', 'Zlep2_ambiguous', 'Zlep2_dphi', 'Zlep2_eta', 'Zlep2_phi', 'Zlep2_pid', 'Zlep2_pt', 'chisq', 'eta_1', 'eta_2', 'eta_3', 'eta_4', 'jet_btagCont_1', 'jet_btagCont_2', 'jet_btagCont_3', 'jet_btagCont_4', 'jet_eta_1', 'jet_eta_2', 'jet_eta_3', 'jet_eta_4', 'jet_m_1', 'jet_m_2', 'jet_m_3', 'jet_m_4', 'jet_phi_1', 'jet_phi_2', 'jet_phi_3', 'jet_phi_4', 'jet_pt_1', 'jet_pt_2', 'jet_pt_3', 'jet_pt_4', 'lep1_ambiguous', 'lep1_pid', 'lep2_ambiguous', 'lep2_pid', 'lep3_ambiguous', 'lep3_pid', 'lep4_ambiguous', 'lep4_pid', 'leptonic_HT', 'mass_4l', 'other_mass', 'phi_1', 'phi_2', 'phi_3', 'phi_4', 'pt_1', 'pt_2', 'pt_3', 'pt_4', 'pt_4l', 'total_HT']\n"
     ]
    }
   ],
   "source": [
    "train_feats = sorted([f for f in sig.columns if f not in ['index', 'wgt', 'is_signal', \n",
    "                                                          'v_j_btag77', 'v_j_btag60', \n",
    "                                                          'v_j_btag85', 'v_j_btagCont', 'v_j_btag70', \n",
    "                                                          'source']])\n",
    "print('Using the following training features:')\n",
    "print(sorted(train_feats))"
   ]
  },
  {
   "cell_type": "code",
   "execution_count": 4,
   "id": "23eec00a",
   "metadata": {},
   "outputs": [],
   "source": [
    "# Normalize training features\n",
    "X = pd.concat([sig[train_feats], bg[train_feats]], ignore_index=True)\n",
    "\n",
    "min_max_scaler = preprocessing.MinMaxScaler()\n",
    "\n",
    "min_max_scaler.fit(X)\n",
    "\n",
    "for df in [sig, bg]:\n",
    "    df[train_feats] = min_max_scaler.transform(df[train_feats])"
   ]
  },
  {
   "cell_type": "code",
   "execution_count": 5,
   "id": "1981a5ab",
   "metadata": {},
   "outputs": [],
   "source": [
    "# Cut to 4l-SF (in Z) signal region\n",
    "bg = bg[bg.SR == 0]\n",
    "sig = sig[sig.SR == 0]"
   ]
  },
  {
   "cell_type": "markdown",
   "id": "0a649480",
   "metadata": {},
   "source": [
    "## Set up k-folds"
   ]
  },
  {
   "cell_type": "code",
   "execution_count": 6,
   "id": "1fc39063",
   "metadata": {},
   "outputs": [],
   "source": [
    "combined_data = pd.concat([sig[train_feats + ['wgt', 'is_signal', 'source']], \n",
    "                           bg[train_feats + ['wgt', 'is_signal', 'source']]], \n",
    "                          ignore_index=True)\n",
    "combined_labels = np.concatenate([np.ones(len(sig)), np.zeros(len(bg))])\n",
    "\n",
    "K_FOLDS = 5\n",
    "k_folder = StratifiedKFold(n_splits = K_FOLDS, random_state=314, shuffle=True)\n",
    "\n",
    "# Assign k-folds\n",
    "combined_data['k_fold'] = -1\n",
    "for i, (_, test_index) in enumerate(k_folder.split(combined_data, combined_labels)):\n",
    "    combined_data.loc[test_index, 'k_fold'] = i"
   ]
  },
  {
   "cell_type": "markdown",
   "id": "0816da9f",
   "metadata": {},
   "source": [
    "## Load models and evaluate on data"
   ]
  },
  {
   "cell_type": "code",
   "execution_count": 7,
   "id": "fd5a328a",
   "metadata": {},
   "outputs": [
    {
     "name": "stderr",
     "output_type": "stream",
     "text": [
      "2022-03-21 02:27:36.167583: I tensorflow/core/platform/cpu_feature_guard.cc:142] This TensorFlow binary is optimized with oneAPI Deep Neural Network Library (oneDNN) to use the following CPU instructions in performance-critical operations:  SSE4.1 SSE4.2 AVX AVX2 AVX512F FMA\n",
      "To enable them in other operations, rebuild TensorFlow with the appropriate compiler flags.\n",
      "2022-03-21 02:27:36.170109: I tensorflow/core/common_runtime/gpu/gpu_device.cc:1720] Found device 0 with properties: \n",
      "pciBusID: 0000:65:00.0 name: Quadro RTX 4000 computeCapability: 7.5\n",
      "coreClock: 1.545GHz coreCount: 36 deviceMemorySize: 7.79GiB deviceMemoryBandwidth: 387.49GiB/s\n",
      "2022-03-21 02:27:36.170169: I tensorflow/stream_executor/platform/default/dso_loader.cc:49] Successfully opened dynamic library libcudart.so.10.1\n",
      "2022-03-21 02:27:36.170198: I tensorflow/stream_executor/platform/default/dso_loader.cc:49] Successfully opened dynamic library libcublas.so.10\n",
      "2022-03-21 02:27:36.170218: I tensorflow/stream_executor/platform/default/dso_loader.cc:49] Successfully opened dynamic library libcublasLt.so.10\n",
      "2022-03-21 02:27:36.170236: I tensorflow/stream_executor/platform/default/dso_loader.cc:49] Successfully opened dynamic library libcufft.so.10\n",
      "2022-03-21 02:27:36.170254: I tensorflow/stream_executor/platform/default/dso_loader.cc:49] Successfully opened dynamic library libcurand.so.10\n",
      "2022-03-21 02:27:36.170272: I tensorflow/stream_executor/platform/default/dso_loader.cc:49] Successfully opened dynamic library libcusolver.so.10\n",
      "2022-03-21 02:27:36.170290: I tensorflow/stream_executor/platform/default/dso_loader.cc:49] Successfully opened dynamic library libcusparse.so.10\n",
      "2022-03-21 02:27:36.170308: I tensorflow/stream_executor/platform/default/dso_loader.cc:49] Successfully opened dynamic library libcudnn.so.7\n",
      "2022-03-21 02:27:36.170864: I tensorflow/core/common_runtime/gpu/gpu_device.cc:1862] Adding visible gpu devices: 0\n",
      "2022-03-21 02:27:36.171176: I tensorflow/stream_executor/platform/default/dso_loader.cc:49] Successfully opened dynamic library libcudart.so.10.1\n",
      "2022-03-21 02:27:37.545346: I tensorflow/core/common_runtime/gpu/gpu_device.cc:1261] Device interconnect StreamExecutor with strength 1 edge matrix:\n",
      "2022-03-21 02:27:37.545410: I tensorflow/core/common_runtime/gpu/gpu_device.cc:1267]      0 \n",
      "2022-03-21 02:27:37.545436: I tensorflow/core/common_runtime/gpu/gpu_device.cc:1280] 0:   N \n",
      "2022-03-21 02:27:37.547638: I tensorflow/core/common_runtime/gpu/gpu_device.cc:1406] Created TensorFlow device (/job:localhost/replica:0/task:0/device:GPU:0 with 7196 MB memory) -> physical GPU (device: 0, name: Quadro RTX 4000, pci bus id: 0000:65:00.0, compute capability: 7.5)\n",
      "2022-03-21 02:27:37.549464: I tensorflow/compiler/jit/xla_gpu_device.cc:99] Not creating XLA devices, tf_xla_enable_xla_devices not set\n",
      "2022-03-21 02:27:38.298246: I tensorflow/compiler/mlir/mlir_graph_optimization_pass.cc:116] None of the MLIR optimization passes are enabled (registered 2)\n",
      "2022-03-21 02:27:38.301512: I tensorflow/core/platform/profile_utils/cpu_utils.cc:112] CPU Frequency: 3500000000 Hz\n",
      "2022-03-21 02:27:38.519890: I tensorflow/stream_executor/platform/default/dso_loader.cc:49] Successfully opened dynamic library libcublas.so.10\n"
     ]
    }
   ],
   "source": [
    "nn_out_col = 'nn_out'\n",
    "\n",
    "combined_data[nn_out_col] = -1\n",
    "\n",
    "for k in range(K_FOLDS):\n",
    "    # Load model\n",
    "    model_dir = '../k_folding_tests/models/SR_SF_inZ/'\n",
    "    model_name = 'classifier_abs_wgt_k_' + str(k)\n",
    "    \n",
    "    K.clear_session()\n",
    "    classifier = keras.models.load_model(model_dir + model_name)\n",
    "    \n",
    "    # We test classifier k on slice k\n",
    "    x_test = combined_data[combined_data.k_fold == k][train_feats]\n",
    "    combined_data.loc[combined_data.k_fold == k, nn_out_col] = classifier.predict(x_test, batch_size=10000)"
   ]
  },
  {
   "cell_type": "markdown",
   "id": "aefc9612",
   "metadata": {},
   "source": [
    "# Greedy scan from left\n",
    "\n",
    "Here we will scan from the left. At each step, we will maximize the remaining significance. As a termination condition, we will require that each bin contain at least 10 events."
   ]
  },
  {
   "cell_type": "code",
   "execution_count": 8,
   "id": "47d8263c",
   "metadata": {},
   "outputs": [
    {
     "name": "stdout",
     "output_type": "stream",
     "text": [
      "Added edge at 0.9183673469387754\n",
      "Remaining significance: 0.7855655105653881\n",
      "Remaining events: 7.741035952125149\n",
      "Added edge at 1\n",
      "Remaining significance: 0\n",
      "Remaining events: 0\n"
     ]
    }
   ],
   "source": [
    "remaining_events = combined_data.copy()\n",
    "bin_edges = [0]\n",
    "\n",
    "min_bin_count = 5\n",
    "while sum(remaining_events.wgt) > min_bin_count:\n",
    "    remaining_sig = 0\n",
    "    new_edge = 1\n",
    "    for nn_cut in np.linspace(bin_edges[-1], 1, 50)[1:]:\n",
    "        events_to_right = remaining_events[remaining_events.nn_out > nn_cut]\n",
    "        \n",
    "        n_sig = np.sum(events_to_right[events_to_right.is_signal == 1].wgt)\n",
    "        n_bg = np.sum(events_to_right[events_to_right.is_signal == 0].wgt)\n",
    "        \n",
    "        tmp_sig = util.significance(n_sig, n_bg)\n",
    "        \n",
    "        current_bin_events = remaining_events[(remaining_events.nn_out > bin_edges[-1])\n",
    "                                              &(remaining_events.nn_out < nn_cut)]\n",
    "        current_bin_count = np.sum(current_bin_events.wgt)\n",
    "        \n",
    "        if tmp_sig > remaining_sig and (current_bin_count > min_bin_count \n",
    "                                        and np.sum(events_to_right.wgt) > min_bin_count):\n",
    "            remaining_sig = tmp_sig\n",
    "            new_edge = nn_cut\n",
    "           \n",
    "    print('Added edge at', new_edge)\n",
    "    print('Remaining significance:', remaining_sig)\n",
    "    print('Remaining events:', sum(remaining_events[remaining_events.nn_out > new_edge].wgt))\n",
    "    bin_edges.append(new_edge)\n",
    "    remaining_events = remaining_events[remaining_events.nn_out > new_edge]\n",
    "# bin_edges.append(1)"
   ]
  },
  {
   "cell_type": "code",
   "execution_count": 9,
   "id": "eaa5847f",
   "metadata": {},
   "outputs": [
    {
     "name": "stdout",
     "output_type": "stream",
     "text": [
      "Bin 1 significance: 0.1856760251932471 sigma\n",
      "Bin 2 significance: 0.7784924917464113 sigma\n",
      "Total significance: 0.8003287737155897 sigma\n"
     ]
    }
   ],
   "source": [
    "bin_significances = [0] * (len(bin_edges) - 1)\n",
    "\n",
    "for i in range(len(bin_edges) - 1):\n",
    "    bin_start = bin_edges[i]\n",
    "    bin_end = bin_edges[i + 1]\n",
    "    \n",
    "    bin_events = combined_data[(combined_data.nn_out > bin_start)&(combined_data.nn_out < bin_end)]\n",
    "    n_sig = np.sum(bin_events[bin_events.is_signal == 1].wgt)\n",
    "    n_bg = np.sum(bin_events[bin_events.is_signal == 0].wgt)\n",
    "    \n",
    "    bin_significances[i] = util.significance(n_sig, n_bg)\n",
    "    print('Bin', i+1, 'significance:', bin_significances[i], 'sigma')\n",
    "    \n",
    "total_sig = np.sqrt(np.sum(np.square(bin_significances)))\n",
    "print('Total significance:', total_sig, 'sigma')"
   ]
  },
  {
   "cell_type": "code",
   "execution_count": 11,
   "id": "e7c3f67c",
   "metadata": {},
   "outputs": [
    {
     "data": {
      "image/png": "[encoded data removed]",
      "text/plain": [
       "<Figure size 432x288 with 1 Axes>"
      ]
     },
     "metadata": {
      "needs_background": "light"
     },
     "output_type": "display_data"
    }
   ],
   "source": [
    "bg_sample = combined_data[combined_data.is_signal == 0]\n",
    "sig_sample = combined_data[combined_data.is_signal == 1]\n",
    "\n",
    "bg_ZZ_sample = bg_sample[bg_sample.source == 'ZZ']\n",
    "bg_Zjets_sample = bg_sample[bg_sample.source == 'Z + jets']\n",
    "bg_ttZ_sample = bg_sample[bg_sample.source == 'ttZ']\n",
    "bg_WZ_sample = bg_sample[bg_sample.source == 'WZ']\n",
    "bg_tWZ_sample = bg_sample[bg_sample.source == 'tWZ']\n",
    "bg_other_sample = bg_sample[bg_sample.source == 'Other']\n",
    "bg_Zgamma_sample = bg_sample[bg_sample.source == 'Z + gamma']\n",
    "bg_tZ_sample = bg_sample[bg_sample.source == 'tZ']\n",
    "\n",
    "color_palette = plot_util.color_scheme\n",
    "colors = [color_palette['tZ'],\n",
    "#           color_palette['Zgamma'],\n",
    "          color_palette['others'],\n",
    "          color_palette['tWZ'],\n",
    "          color_palette['WZ'],\n",
    "          color_palette['ttZ'],\n",
    "          color_palette['Zjets'],\n",
    "          color_palette['ZZ'],\n",
    "          color_palette['WVZ']\n",
    "         ]\n",
    "\n",
    "plot_util.make_nn_output_source_plot(bg_tZ_sample, \n",
    "#                                      bg_Zgamma_sample,\n",
    "                                     bg_other_sample,\n",
    "                                     bg_tWZ_sample,\n",
    "                                     bg_WZ_sample,\n",
    "                                     bg_ttZ_sample,\n",
    "                                     bg_Zjets_sample,\n",
    "                                     bg_ZZ_sample,\n",
    "                                     sig_sample, colors=colors, column='nn_out', bins=bin_edges, log=True, \n",
    "                                     save=True, \n",
    "                                     save_dir='plots/', save_name='greedy_left_SF_inZ', \n",
    "                                     title='4$\\ell$-SF (in Z)'+'\\nSig: %.2f$\\sigma$'%total_sig)"
   ]
  },
  {
   "cell_type": "markdown",
   "id": "8c0e3c11",
   "metadata": {},
   "source": [
    "# Greedy scan from right\n",
    "\n",
    "Here we will scan from the right. At each step, we will maximize the current significance. As a termination condition, we will require that each bin contain a minimum number of events."
   ]
  },
  {
   "cell_type": "code",
   "execution_count": 9,
   "id": "1900bbdd",
   "metadata": {},
   "outputs": [
    {
     "name": "stdout",
     "output_type": "stream",
     "text": [
      "Added edge at 0.9183673469387754\n",
      "Remaining significance: 0.7784924917464113\n",
      "Remaining events: 2132.5042025562366\n",
      "Added edge at 0.6184922948771344\n",
      "Remaining significance: 0.3291555390185848\n",
      "Remaining events: 1932.362456253656\n",
      "Added edge at 0.2272012511793555\n",
      "Remaining significance: 0.131574160646957\n",
      "Remaining events: 1522.3609055389932\n",
      "Added edge at 0.06491464319410156\n",
      "Remaining significance: 0.041310652478299854\n",
      "Remaining events: 962.8428389888534\n",
      "Added edge at 0.025170984095672033\n",
      "Remaining significance: 0.010821685750045527\n",
      "Remaining events: 437.3674956857141\n",
      "Added edge at 0.0035958548708102905\n",
      "Remaining significance: 0.0028403360910368124\n",
      "Remaining events: 2.226525792590404\n"
     ]
    }
   ],
   "source": [
    "remaining_events = combined_data.copy()\n",
    "bin_edges = [1]\n",
    "\n",
    "min_bin_count = 5\n",
    "while sum(remaining_events.wgt) > min_bin_count:\n",
    "    remaining_sig = 0\n",
    "    new_edge = 0\n",
    "    for nn_cut in np.linspace(0, bin_edges[0], 50)[:-1]:\n",
    "        current_bin_events = remaining_events[(remaining_events.nn_out < bin_edges[0])\n",
    "                                              &(remaining_events.nn_out > nn_cut)]\n",
    "        current_bin_count = np.sum(current_bin_events.wgt)\n",
    "        \n",
    "        n_sig = np.sum(current_bin_events[current_bin_events.is_signal == 1].wgt)\n",
    "        n_bg = np.sum(current_bin_events[current_bin_events.is_signal == 0].wgt)\n",
    "        \n",
    "        tmp_sig = util.significance(n_sig, n_bg)\n",
    "        \n",
    "        if tmp_sig > remaining_sig and current_bin_count > min_bin_count:\n",
    "            remaining_sig = tmp_sig\n",
    "            new_edge = nn_cut\n",
    "           \n",
    "    print('Added edge at', new_edge)\n",
    "    print('Remaining significance:', remaining_sig)\n",
    "    print('Remaining events:', sum(remaining_events[remaining_events.nn_out < new_edge].wgt))\n",
    "    bin_edges.insert(0, new_edge)\n",
    "    remaining_events = remaining_events[remaining_events.nn_out < new_edge]\n",
    "# bin_edges.append(1)"
   ]
  },
  {
   "cell_type": "code",
   "execution_count": 10,
   "id": "d1512813",
   "metadata": {},
   "outputs": [
    {
     "name": "stdout",
     "output_type": "stream",
     "text": [
      "Bin 1 significance: 0.0028403360910368124 sigma\n",
      "Bin 2 significance: 0.010821685750045527 sigma\n",
      "Bin 3 significance: 0.041310652478299854 sigma\n",
      "Bin 4 significance: 0.131574160646957 sigma\n",
      "Bin 5 significance: 0.3291555390185848 sigma\n",
      "Bin 6 significance: 0.7784924917464113 sigma\n",
      "Total significance: 0.8564679998236177 sigma\n"
     ]
    }
   ],
   "source": [
    "bin_significances = [0] * (len(bin_edges) - 1)\n",
    "\n",
    "for i in range(len(bin_edges) - 1):\n",
    "    bin_start = bin_edges[i]\n",
    "    bin_end = bin_edges[i + 1]\n",
    "    \n",
    "    bin_events = combined_data[(combined_data.nn_out > bin_start)&(combined_data.nn_out < bin_end)]\n",
    "    n_sig = np.sum(bin_events[bin_events.is_signal == 1].wgt)\n",
    "    n_bg = np.sum(bin_events[bin_events.is_signal == 0].wgt)\n",
    "    \n",
    "    bin_significances[i] = util.significance(n_sig, n_bg)\n",
    "    print('Bin', i+1, 'significance:', bin_significances[i], 'sigma')\n",
    "    \n",
    "total_sig = np.sqrt(np.sum(np.square(bin_significances)))\n",
    "print('Total significance:', total_sig, 'sigma')"
   ]
  },
  {
   "cell_type": "code",
   "execution_count": 12,
   "id": "ebc8b7c0",
   "metadata": {},
   "outputs": [
    {
     "data": {
      "image/png": "[encoded data removed]",
      "text/plain": [
       "<Figure size 432x288 with 1 Axes>"
      ]
     },
     "metadata": {
      "needs_background": "light"
     },
     "output_type": "display_data"
    }
   ],
   "source": [
    "bg_sample = combined_data[combined_data.is_signal == 0]\n",
    "sig_sample = combined_data[combined_data.is_signal == 1]\n",
    "\n",
    "bg_ZZ_sample = bg_sample[bg_sample.source == 'ZZ']\n",
    "bg_Zjets_sample = bg_sample[bg_sample.source == 'Z + jets']\n",
    "bg_ttZ_sample = bg_sample[bg_sample.source == 'ttZ']\n",
    "bg_WZ_sample = bg_sample[bg_sample.source == 'WZ']\n",
    "bg_tWZ_sample = bg_sample[bg_sample.source == 'tWZ']\n",
    "bg_other_sample = bg_sample[bg_sample.source == 'Other']\n",
    "# bg_Zgamma_sample = bg_sample[bg_sample.source == 'Z + gamma']\n",
    "bg_tZ_sample = bg_sample[bg_sample.source == 'tZ']\n",
    "\n",
    "color_palette = plot_util.color_scheme\n",
    "colors = [color_palette['tZ'],\n",
    "#           color_palette['Zgamma'],\n",
    "          color_palette['others'],\n",
    "          color_palette['tWZ'],\n",
    "          color_palette['WZ'],\n",
    "          color_palette['ttZ'],\n",
    "          color_palette['Zjets'],\n",
    "          color_palette['ZZ'],\n",
    "          color_palette['WVZ']\n",
    "         ]\n",
    "\n",
    "plot_util.make_nn_output_source_plot(bg_tZ_sample, \n",
    "#                                      bg_Zgamma_sample,\n",
    "                                     bg_other_sample,\n",
    "                                     bg_tWZ_sample,\n",
    "                                     bg_WZ_sample,\n",
    "                                     bg_ttZ_sample,\n",
    "                                     bg_Zjets_sample,\n",
    "                                     bg_ZZ_sample,\n",
    "                                     sig_sample, colors=colors, column='nn_out', bins=bin_edges, log=True, \n",
    "                                     save=True, \n",
    "                                     save_dir='plots/', save_name='greedy_right_SF_inZ', \n",
    "                                     title='4$\\ell$-SF (in Z)'+'\\nSig: %.2f$\\sigma$'%total_sig)"
   ]
  },
  {
   "cell_type": "code",
   "execution_count": null,
   "id": "5c01ce22",
   "metadata": {},
   "outputs": [],
   "source": []
  }
 ],
 "metadata": {
  "kernelspec": {
   "display_name": "wvz_machine_learning",
   "language": "python",
   "name": "wvz_machine_learning"
  },
  "language_info": {
   "codemirror_mode": {
    "name": "ipython",
    "version": 3
   },
   "file_extension": ".py",
   "mimetype": "text/x-python",
   "name": "python",
   "nbconvert_exporter": "python",
   "pygments_lexer": "ipython3",
   "version": "3.9.7"
  }
 },
 "nbformat": 4,
 "nbformat_minor": 5
}
