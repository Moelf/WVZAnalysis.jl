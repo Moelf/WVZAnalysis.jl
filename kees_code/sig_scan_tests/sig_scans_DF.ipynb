{
 "cells": [
  {
   "cell_type": "code",
   "execution_count": 1,
   "id": "e465dc56",
   "metadata": {},
   "outputs": [
    {
     "name": "stderr",
     "output_type": "stream",
     "text": [
      "2022-03-15 20:23:26.922559: I tensorflow/stream_executor/platform/default/dso_loader.cc:49] Successfully opened dynamic library libcudart.so.10.1\n",
      "2022-03-15 20:23:27.678929: I tensorflow/compiler/jit/xla_cpu_device.cc:41] Not creating XLA devices, tf_xla_enable_xla_devices not set\n",
      "2022-03-15 20:23:27.679997: I tensorflow/stream_executor/platform/default/dso_loader.cc:49] Successfully opened dynamic library libcuda.so.1\n",
      "2022-03-15 20:23:27.691398: I tensorflow/core/common_runtime/gpu/gpu_device.cc:1720] Found device 0 with properties: \n",
      "pciBusID: 0000:65:00.0 name: Quadro RTX 4000 computeCapability: 7.5\n",
      "coreClock: 1.545GHz coreCount: 36 deviceMemorySize: 7.79GiB deviceMemoryBandwidth: 387.49GiB/s\n",
      "2022-03-15 20:23:27.691422: I tensorflow/stream_executor/platform/default/dso_loader.cc:49] Successfully opened dynamic library libcudart.so.10.1\n",
      "2022-03-15 20:23:27.692786: I tensorflow/stream_executor/platform/default/dso_loader.cc:49] Successfully opened dynamic library libcublas.so.10\n",
      "2022-03-15 20:23:27.692822: I tensorflow/stream_executor/platform/default/dso_loader.cc:49] Successfully opened dynamic library libcublasLt.so.10\n",
      "2022-03-15 20:23:27.694254: I tensorflow/stream_executor/platform/default/dso_loader.cc:49] Successfully opened dynamic library libcufft.so.10\n",
      "2022-03-15 20:23:27.694477: I tensorflow/stream_executor/platform/default/dso_loader.cc:49] Successfully opened dynamic library libcurand.so.10\n",
      "2022-03-15 20:23:27.695999: I tensorflow/stream_executor/platform/default/dso_loader.cc:49] Successfully opened dynamic library libcusolver.so.10\n",
      "2022-03-15 20:23:27.696738: I tensorflow/stream_executor/platform/default/dso_loader.cc:49] Successfully opened dynamic library libcusparse.so.10\n",
      "2022-03-15 20:23:27.699716: I tensorflow/stream_executor/platform/default/dso_loader.cc:49] Successfully opened dynamic library libcudnn.so.7\n",
      "2022-03-15 20:23:27.700085: I tensorflow/core/common_runtime/gpu/gpu_device.cc:1862] Adding visible gpu devices: 0\n"
     ]
    }
   ],
   "source": [
    "import numpy as np\n",
    "import pandas as pd\n",
    "import matplotlib.pyplot as plt\n",
    "\n",
    "from tensorflow.keras.layers import Input, Dense, Dropout\n",
    "from tensorflow.keras.models import Model, Sequential\n",
    "from tensorflow.keras import backend as K\n",
    "from tensorflow import keras\n",
    "from tensorflow.errors import InvalidArgumentError\n",
    "import tensorflow as tf\n",
    "\n",
    "# Tensorflow GPU settings\n",
    "# gpu_options = tf.GPUOptions(allow_growth=True)#per_process_gpu_memory_fraction=0.5)\n",
    "# sess = tf.Session(config=tf.ConfigProto(gpu_options=gpu_options))\n",
    "physical_devices = tf.config.list_physical_devices('GPU') \n",
    "tf.config.experimental.set_memory_growth(physical_devices[0], True)\n",
    "\n",
    "from sklearn.metrics import roc_curve, roc_auc_score, auc\n",
    "from sklearn.model_selection import train_test_split, StratifiedKFold\n",
    "from sklearn import preprocessing\n",
    "from sklearn.utils import shuffle\n",
    "\n",
    "from scipy import interpolate\n",
    "\n",
    "from atlasify import atlasify\n",
    "import pickle\n",
    "import os\n",
    "\n",
    "import sys\n",
    "sys.path.append('../')\n",
    "import plot_util\n",
    "import util"
   ]
  },
  {
   "cell_type": "markdown",
   "id": "83821048",
   "metadata": {},
   "source": [
    "# Load data and models"
   ]
  },
  {
   "cell_type": "code",
   "execution_count": 4,
   "id": "8bb439d3",
   "metadata": {},
   "outputs": [],
   "source": [
    "sig = pd.read_feather('/home/grabanal/WVZ/gabriel_ML_data/20220301_ELReLMIs54_MUReLMIs31_btag77_VVZ.arrow')\n",
    "sig['source'] = 'Signal'\n",
    "sig['is_signal'] = True\n",
    "\n",
    "\n",
    "bg_others = pd.read_feather(('/home/grabanal/WVZ/gabriel_ML_data/'\n",
    "                             + '20220301_ELReLMIs54_MUReLMIs31_btag77_others.arrow'))\n",
    "bg_others['source'] = 'Other'\n",
    "\n",
    "bg_ttZ = pd.read_feather(('/home/grabanal/WVZ/gabriel_ML_data/'\n",
    "                          + '20220301_ELReLMIs54_MUReLMIs31_btag77_ttZ.arrow'))\n",
    "bg_ttZ['source'] = 'ttZ'\n",
    "\n",
    "bg_tWZ = pd.read_feather(('/home/grabanal/WVZ/gabriel_ML_data/'\n",
    "                          + '20220301_ELReLMIs54_MUReLMIs31_btag77_tWZ.arrow'))\n",
    "bg_tWZ['source'] = 'tWZ'\n",
    "\n",
    "bg_tZ = pd.read_feather(('/home/grabanal/WVZ/gabriel_ML_data/'\n",
    "                         + '20220301_ELReLMIs54_MUReLMIs31_btag77_tZ.arrow'))\n",
    "bg_tZ['source'] = 'tZ'\n",
    "\n",
    "bg_WZ = pd.read_feather(('/home/grabanal/WVZ/gabriel_ML_data/'\n",
    "                         + '20220301_ELReLMIs54_MUReLMIs31_btag77_WZ.arrow'))\n",
    "bg_WZ['source'] = 'WZ'\n",
    "\n",
    "bg_Zgamma = pd.read_feather(('/home/grabanal/WVZ/gabriel_ML_data/'\n",
    "                             + '20220301_ELReLMIs54_MUReLMIs31_btag77_Zgamma.arrow'))\n",
    "bg_Zgamma['source'] = 'Z + gamma'\n",
    "\n",
    "bg_Zjets = pd.read_feather(('/home/grabanal/WVZ/gabriel_ML_data/'\n",
    "                            + '20220301_ELReLMIs54_MUReLMIs31_btag77_Zjets.arrow'))\n",
    "bg_Zjets['source'] = 'Z + jets'\n",
    "\n",
    "bg_ZZ = pd.read_feather(('/home/grabanal/WVZ/gabriel_ML_data/'\n",
    "                         + '20220301_ELReLMIs54_MUReLMIs31_btag77_ZZ.arrow'))\n",
    "bg_ZZ['source'] = 'ZZ'\n",
    "\n",
    "bg = pd.concat([bg_others, bg_ttZ, bg_tWZ, bg_tZ, bg_WZ, bg_Zgamma, bg_Zjets, bg_ZZ])\n",
    "bg['is_signal'] = False"
   ]
  },
  {
   "cell_type": "code",
   "execution_count": 5,
   "id": "8b45498c",
   "metadata": {},
   "outputs": [
    {
     "name": "stdout",
     "output_type": "stream",
     "text": [
      "Using the following training features:\n",
      "['HT', 'MET', 'METPhi', 'METSig', 'Njet', 'Nlep', 'SR', 'Wlep1_ambiguous', 'Wlep1_dphi', 'Wlep1_eta', 'Wlep1_phi', 'Wlep1_pid', 'Wlep1_pt', 'Wlep2_ambiguous', 'Wlep2_dphi', 'Wlep2_eta', 'Wlep2_phi', 'Wlep2_pid', 'Wlep2_pt', 'Zcand_mass', 'Zlep1_ambiguous', 'Zlep1_dphi', 'Zlep1_eta', 'Zlep1_phi', 'Zlep1_pid', 'Zlep1_pt', 'Zlep2_ambiguous', 'Zlep2_dphi', 'Zlep2_eta', 'Zlep2_phi', 'Zlep2_pid', 'Zlep2_pt', 'chisq', 'eta_1', 'eta_2', 'eta_3', 'eta_4', 'jet_btagCont_1', 'jet_btagCont_2', 'jet_btagCont_3', 'jet_btagCont_4', 'jet_eta_1', 'jet_eta_2', 'jet_eta_3', 'jet_eta_4', 'jet_m_1', 'jet_m_2', 'jet_m_3', 'jet_m_4', 'jet_phi_1', 'jet_phi_2', 'jet_phi_3', 'jet_phi_4', 'jet_pt_1', 'jet_pt_2', 'jet_pt_3', 'jet_pt_4', 'lep1_ambiguous', 'lep1_pid', 'lep2_ambiguous', 'lep2_pid', 'lep3_ambiguous', 'lep3_pid', 'lep4_ambiguous', 'lep4_pid', 'leptonic_HT', 'mass_4l', 'other_mass', 'phi_1', 'phi_2', 'phi_3', 'phi_4', 'pt_1', 'pt_2', 'pt_3', 'pt_4', 'pt_4l', 'total_HT']\n"
     ]
    }
   ],
   "source": [
    "train_feats = sorted([f for f in sig.columns if f not in ['index', 'wgt', 'is_signal', \n",
    "                                                          'v_j_btag77', 'v_j_btag60', \n",
    "                                                          'v_j_btag85', 'v_j_btagCont', 'v_j_btag70', \n",
    "                                                          'source']])\n",
    "print('Using the following training features:')\n",
    "print(sorted(train_feats))"
   ]
  },
  {
   "cell_type": "code",
   "execution_count": 6,
   "id": "f90a514e",
   "metadata": {},
   "outputs": [],
   "source": [
    "# Normalize training features\n",
    "X = pd.concat([sig[train_feats], bg[train_feats]], ignore_index=True)\n",
    "\n",
    "min_max_scaler = preprocessing.MinMaxScaler()\n",
    "\n",
    "min_max_scaler.fit(X)\n",
    "\n",
    "for df in [sig, bg]:\n",
    "    df[train_feats] = min_max_scaler.transform(df[train_feats])"
   ]
  },
  {
   "cell_type": "code",
   "execution_count": 8,
   "id": "aed13cf5",
   "metadata": {},
   "outputs": [],
   "source": [
    "# Cut to 4l-DF signal region\n",
    "bg = bg[bg.SR == 1]\n",
    "sig = sig[sig.SR == 1]"
   ]
  },
  {
   "cell_type": "markdown",
   "id": "b992c3ff",
   "metadata": {},
   "source": [
    "## Set up k-folds"
   ]
  },
  {
   "cell_type": "code",
   "execution_count": 10,
   "id": "c36c5a01",
   "metadata": {},
   "outputs": [],
   "source": [
    "combined_data = pd.concat([sig[train_feats + ['wgt', 'is_signal', 'source']], \n",
    "                           bg[train_feats + ['wgt', 'is_signal', 'source']]], \n",
    "                          ignore_index=True)\n",
    "combined_labels = np.concatenate([np.ones(len(sig)), np.zeros(len(bg))])\n",
    "\n",
    "K_FOLDS = 5\n",
    "k_folder = StratifiedKFold(n_splits = K_FOLDS, random_state=314, shuffle=True)\n",
    "\n",
    "# Assign k-folds\n",
    "combined_data['k_fold'] = -1\n",
    "for i, (_, test_index) in enumerate(k_folder.split(combined_data, combined_labels)):\n",
    "    combined_data.loc[test_index, 'k_fold'] = i"
   ]
  },
  {
   "cell_type": "markdown",
   "id": "88e30e41",
   "metadata": {},
   "source": [
    "## Load models and evaluate on data"
   ]
  },
  {
   "cell_type": "code",
   "execution_count": null,
   "id": "9fa8ffe6",
   "metadata": {},
   "outputs": [],
   "source": [
    "nn_out_col = 'nn_out'\n",
    "\n",
    "combined_data[nn_out_col] = -1\n",
    "\n",
    "for k in range(K_FOLDS):\n",
    "    # Load model\n",
    "    model_dir = '../k_folding_tests/models/SR_DF/'\n",
    "    model_name = 'classifier_abs_wgt_k_' + str(k)\n",
    "    \n",
    "    K.clear_session()\n",
    "    classifier = keras.models.load_model(model_dir + model_name)\n",
    "    \n",
    "    # We test classifier k on slice k\n",
    "    x_test = combined_data[combined_data.k_fold == k][train_feats]\n",
    "    combined_data.loc[combined_data.k_fold == k, nn_out_col] = classifier.predict(x_test, batch_size=10000)"
   ]
  },
  {
   "cell_type": "markdown",
   "id": "c99c4a10",
   "metadata": {},
   "source": [
    "# Greedy scan from left\n",
    "\n",
    "Here we will scan from the left. At each step, we will maximize the remaining significance. As a termination condition, we will require that each bin contain a minimum number of events."
   ]
  },
  {
   "cell_type": "code",
   "execution_count": 73,
   "id": "5e532458",
   "metadata": {},
   "outputs": [
    {
     "name": "stdout",
     "output_type": "stream",
     "text": [
      "Added edge at 0.5918367346938775\n",
      "Remaining significance: 2.5187883142717076\n",
      "Remaining events: 14.502416763972455\n",
      "Added edge at 0.7084548104956268\n",
      "Remaining significance: 2.4723731281097634\n",
      "Remaining events: 9.095216528122812\n",
      "Added edge at 1\n",
      "Remaining significance: 0\n",
      "Remaining events: 0\n"
     ]
    }
   ],
   "source": [
    "remaining_events = combined_data.copy()\n",
    "bin_edges = [0]\n",
    "\n",
    "min_bin_count = 5\n",
    "while sum(remaining_events.wgt) > min_bin_count:\n",
    "    remaining_sig = 0\n",
    "    new_edge = 1\n",
    "    for nn_cut in np.linspace(bin_edges[-1], 1, 50)[1:]:\n",
    "        events_to_right = remaining_events[remaining_events.nn_out > nn_cut]\n",
    "        \n",
    "        n_sig = np.sum(events_to_right[events_to_right.is_signal == 1].wgt)\n",
    "        n_bg = np.sum(events_to_right[events_to_right.is_signal == 0].wgt)\n",
    "        \n",
    "        tmp_sig = util.significance(n_sig, n_bg)\n",
    "        \n",
    "        current_bin_events = remaining_events[(remaining_events.nn_out > bin_edges[-1])\n",
    "                                              &(remaining_events.nn_out < nn_cut)]\n",
    "        current_bin_count = np.sum(current_bin_events.wgt)\n",
    "        \n",
    "        if tmp_sig > remaining_sig and (current_bin_count > min_bin_count \n",
    "                                        and np.sum(events_to_right.wgt) > min_bin_count):\n",
    "            remaining_sig = tmp_sig\n",
    "            new_edge = nn_cut\n",
    "           \n",
    "    print('Added edge at', new_edge)\n",
    "    print('Remaining significance:', remaining_sig)\n",
    "    print('Remaining events:', sum(remaining_events[remaining_events.nn_out > new_edge].wgt))\n",
    "    bin_edges.append(new_edge)\n",
    "    remaining_events = remaining_events[remaining_events.nn_out > new_edge]\n",
    "# bin_edges.append(1)"
   ]
  },
  {
   "cell_type": "code",
   "execution_count": 74,
   "id": "e4059b84",
   "metadata": {},
   "outputs": [
    {
     "name": "stdout",
     "output_type": "stream",
     "text": [
      "Bin 1 significance: 0.6468557632095263 sigma\n",
      "Bin 2 significance: 1.0154424656869343 sigma\n",
      "Bin 3 significance: 2.4723731281097634 sigma\n",
      "Total significance: 2.7499408473850844 sigma\n"
     ]
    }
   ],
   "source": [
    "bin_significances = [0] * (len(bin_edges) - 1)\n",
    "\n",
    "for i in range(len(bin_edges) - 1):\n",
    "    bin_start = bin_edges[i]\n",
    "    bin_end = bin_edges[i + 1]\n",
    "    \n",
    "    bin_events = combined_data[(combined_data.nn_out > bin_start)&(combined_data.nn_out < bin_end)]\n",
    "    n_sig = np.sum(bin_events[bin_events.is_signal == 1].wgt)\n",
    "    n_bg = np.sum(bin_events[bin_events.is_signal == 0].wgt)\n",
    "    \n",
    "    bin_significances[i] = util.significance(n_sig, n_bg)\n",
    "    print('Bin', i+1, 'significance:', bin_significances[i], 'sigma')\n",
    "    \n",
    "total_sig = np.sqrt(np.sum(np.square(bin_significances)))\n",
    "print('Total significance:', total_sig, 'sigma')"
   ]
  },
  {
   "cell_type": "code",
   "execution_count": 75,
   "id": "3c579b94",
   "metadata": {},
   "outputs": [
    {
     "data": {
      "image/png": "[encoded data removed]",
      "text/plain": [
       "<Figure size 432x288 with 1 Axes>"
      ]
     },
     "metadata": {
      "needs_background": "light"
     },
     "output_type": "display_data"
    }
   ],
   "source": [
    "bg_sample = combined_data[combined_data.is_signal == 0]\n",
    "sig_sample = combined_data[combined_data.is_signal == 1]\n",
    "\n",
    "bg_ZZ_sample = bg_sample[bg_sample.source == 'ZZ']\n",
    "bg_Zjets_sample = bg_sample[bg_sample.source == 'Z + jets']\n",
    "bg_ttZ_sample = bg_sample[bg_sample.source == 'ttZ']\n",
    "bg_WZ_sample = bg_sample[bg_sample.source == 'WZ']\n",
    "bg_tWZ_sample = bg_sample[bg_sample.source == 'tWZ']\n",
    "bg_other_sample = bg_sample[bg_sample.source == 'Other']\n",
    "bg_Zgamma_sample = bg_sample[bg_sample.source == 'Z + gamma']\n",
    "bg_tZ_sample = bg_sample[bg_sample.source == 'tZ']\n",
    "\n",
    "color_palette = plot_util.color_scheme\n",
    "colors = [color_palette['tZ'],\n",
    "          color_palette['Zgamma'],\n",
    "          color_palette['others'],\n",
    "          color_palette['tWZ'],\n",
    "          color_palette['WZ'],\n",
    "          color_palette['ttZ'],\n",
    "          color_palette['Zjets'],\n",
    "          color_palette['ZZ'],\n",
    "          color_palette['WVZ']\n",
    "         ]\n",
    "\n",
    "plot_util.make_nn_output_source_plot(bg_tZ_sample, \n",
    "                                     bg_Zgamma_sample,\n",
    "                                     bg_other_sample,\n",
    "                                     bg_tWZ_sample,\n",
    "                                     bg_WZ_sample,\n",
    "                                     bg_ttZ_sample,\n",
    "                                     bg_Zjets_sample,\n",
    "                                     bg_ZZ_sample,\n",
    "                                     sig_sample, colors=colors, column='nn_out', bins=bin_edges, log=True, \n",
    "                                     save=True, \n",
    "                                     save_dir='plots/', save_name='greedy_left_DF', \n",
    "                                     title='4$\\ell$-DF'+'\\nSig: %.2f$\\sigma$'%total_sig)"
   ]
  },
  {
   "cell_type": "markdown",
   "id": "31b9c55d",
   "metadata": {},
   "source": [
    "# Greedy scan from right\n",
    "\n",
    "Here we will scan from the right. At each step, we will maximize the current significance. As a termination condition, we will require that each bin contain a minimum number of events."
   ]
  },
  {
   "cell_type": "code",
   "execution_count": 89,
   "id": "8a7be406",
   "metadata": {},
   "outputs": [
    {
     "name": "stdout",
     "output_type": "stream",
     "text": [
      "Added edge at 0.5918367346938775\n",
      "Remaining significance: 2.5187883142717076\n",
      "Remaining events: 63.344426599125526\n",
      "Added edge at 0.2536443148688047\n",
      "Remaining significance: 0.9760271209832163\n",
      "Remaining events: 46.46507143048025\n",
      "Added edge at 0.08799904801570775\n",
      "Remaining significance: 0.26948441043002164\n",
      "Remaining events: 33.21501034104382\n",
      "Added edge at 0.012571292573672536\n",
      "Remaining significance: 0.07642011415505522\n",
      "Remaining events: 13.661004989774575\n",
      "Added edge at 0.003335240886892714\n",
      "Remaining significance: 0.007272163216984162\n",
      "Remaining events: 8.275033046074748\n",
      "Added edge at 0.0009529259676836325\n",
      "Remaining significance: 0.00048683329914162585\n",
      "Remaining events: 2.951758188020625\n"
     ]
    }
   ],
   "source": [
    "remaining_events = combined_data.copy()\n",
    "bin_edges = [1]\n",
    "\n",
    "min_bin_count = 5\n",
    "while sum(remaining_events.wgt) > min_bin_count:\n",
    "    remaining_sig = 0\n",
    "    new_edge = 0\n",
    "    for nn_cut in np.linspace(0, bin_edges[0], 50)[:-1]:\n",
    "        current_bin_events = remaining_events[(remaining_events.nn_out < bin_edges[0])\n",
    "                                              &(remaining_events.nn_out > nn_cut)]\n",
    "        current_bin_count = np.sum(current_bin_events.wgt)\n",
    "        \n",
    "        n_sig = np.sum(current_bin_events[current_bin_events.is_signal == 1].wgt)\n",
    "        n_bg = np.sum(current_bin_events[current_bin_events.is_signal == 0].wgt)\n",
    "        \n",
    "        tmp_sig = util.significance(n_sig, n_bg)\n",
    "        \n",
    "        if tmp_sig > remaining_sig and current_bin_count > min_bin_count:\n",
    "            remaining_sig = tmp_sig\n",
    "            new_edge = nn_cut\n",
    "           \n",
    "    print('Added edge at', new_edge)\n",
    "    print('Remaining significance:', remaining_sig)\n",
    "    print('Remaining events:', sum(remaining_events[remaining_events.nn_out < new_edge].wgt))\n",
    "    bin_edges.insert(0, new_edge)\n",
    "    remaining_events = remaining_events[remaining_events.nn_out < new_edge]\n",
    "# bin_edges.append(1)"
   ]
  },
  {
   "cell_type": "code",
   "execution_count": 90,
   "id": "8f63b2b0",
   "metadata": {},
   "outputs": [
    {
     "name": "stdout",
     "output_type": "stream",
     "text": [
      "Bin 1 significance: 0.00048683329914162585 sigma\n",
      "Bin 2 significance: 0.007272163216984162 sigma\n",
      "Bin 3 significance: 0.07642011415505522 sigma\n",
      "Bin 4 significance: 0.26948441043002164 sigma\n",
      "Bin 5 significance: 0.9760271209832163 sigma\n",
      "Bin 6 significance: 2.5187883142717076 sigma\n",
      "Total significance: 2.7157758588814542 sigma\n"
     ]
    }
   ],
   "source": [
    "bin_significances = [0] * (len(bin_edges) - 1)\n",
    "\n",
    "for i in range(len(bin_edges) - 1):\n",
    "    bin_start = bin_edges[i]\n",
    "    bin_end = bin_edges[i + 1]\n",
    "    \n",
    "    bin_events = combined_data[(combined_data.nn_out > bin_start)&(combined_data.nn_out < bin_end)]\n",
    "    n_sig = np.sum(bin_events[bin_events.is_signal == 1].wgt)\n",
    "    n_bg = np.sum(bin_events[bin_events.is_signal == 0].wgt)\n",
    "    \n",
    "    bin_significances[i] = util.significance(n_sig, n_bg)\n",
    "    print('Bin', i+1, 'significance:', bin_significances[i], 'sigma')\n",
    "    \n",
    "total_sig = np.sqrt(np.sum(np.square(bin_significances)))\n",
    "print('Total significance:', total_sig, 'sigma')"
   ]
  },
  {
   "cell_type": "code",
   "execution_count": 91,
   "id": "c88ad8f2",
   "metadata": {},
   "outputs": [
    {
     "data": {
      "image/png": "[encoded data removed]",
      "text/plain": [
       "<Figure size 432x288 with 1 Axes>"
      ]
     },
     "metadata": {
      "needs_background": "light"
     },
     "output_type": "display_data"
    }
   ],
   "source": [
    "bg_sample = combined_data[combined_data.is_signal == 0]\n",
    "sig_sample = combined_data[combined_data.is_signal == 1]\n",
    "\n",
    "bg_ZZ_sample = bg_sample[bg_sample.source == 'ZZ']\n",
    "bg_Zjets_sample = bg_sample[bg_sample.source == 'Z + jets']\n",
    "bg_ttZ_sample = bg_sample[bg_sample.source == 'ttZ']\n",
    "bg_WZ_sample = bg_sample[bg_sample.source == 'WZ']\n",
    "bg_tWZ_sample = bg_sample[bg_sample.source == 'tWZ']\n",
    "bg_other_sample = bg_sample[bg_sample.source == 'Other']\n",
    "bg_Zgamma_sample = bg_sample[bg_sample.source == 'Z + gamma']\n",
    "bg_tZ_sample = bg_sample[bg_sample.source == 'tZ']\n",
    "\n",
    "color_palette = plot_util.color_scheme\n",
    "colors = [color_palette['tZ'],\n",
    "          color_palette['Zgamma'],\n",
    "          color_palette['others'],\n",
    "          color_palette['tWZ'],\n",
    "          color_palette['WZ'],\n",
    "          color_palette['ttZ'],\n",
    "          color_palette['Zjets'],\n",
    "          color_palette['ZZ'],\n",
    "          color_palette['WVZ']\n",
    "         ]\n",
    "\n",
    "plot_util.make_nn_output_source_plot(bg_tZ_sample, \n",
    "                                     bg_Zgamma_sample,\n",
    "                                     bg_other_sample,\n",
    "                                     bg_tWZ_sample,\n",
    "                                     bg_WZ_sample,\n",
    "                                     bg_ttZ_sample,\n",
    "                                     bg_Zjets_sample,\n",
    "                                     bg_ZZ_sample,\n",
    "                                     sig_sample, colors=colors, column='nn_out', bins=bin_edges, log=True, \n",
    "                                     save=True, \n",
    "                                     save_dir='plots/', save_name='greedy_right_DF', \n",
    "                                     title='4$\\ell$-DF'+'\\nSig: %.2f$\\sigma$'%total_sig)"
   ]
  },
  {
   "cell_type": "code",
   "execution_count": null,
   "id": "c9462d4f",
   "metadata": {},
   "outputs": [],
   "source": []
  }
 ],
 "metadata": {
  "kernelspec": {
   "display_name": "wvz_machine_learning",
   "language": "python",
   "name": "wvz_machine_learning"
  },
  "language_info": {
   "codemirror_mode": {
    "name": "ipython",
    "version": 3
   },
   "file_extension": ".py",
   "mimetype": "text/x-python",
   "name": "python",
   "nbconvert_exporter": "python",
   "pygments_lexer": "ipython3",
   "version": "3.9.7"
  }
 },
 "nbformat": 4,
 "nbformat_minor": 5
}
