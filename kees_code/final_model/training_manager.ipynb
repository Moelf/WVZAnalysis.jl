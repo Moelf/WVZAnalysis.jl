{
 "cells": [
  {
   "cell_type": "code",
   "execution_count": null,
   "id": "04a8755d",
   "metadata": {},
   "outputs": [],
   "source": [
    "import final_model_training"
   ]
  },
  {
   "cell_type": "markdown",
   "id": "d633d04e",
   "metadata": {},
   "source": [
    "# DF"
   ]
  },
  {
   "cell_type": "code",
   "execution_count": null,
   "id": "3972074c",
   "metadata": {},
   "outputs": [],
   "source": [
    "final_model_training.train_model('DF',\n",
    "                                 val_prop=0.2,\n",
    "                                 batch_size=128,\n",
    "                                 num_nodes=64,\n",
    "                                 dropout=0.1,\n",
    "                                 learn_rate=1e-5,\n",
    "                                 epochs=10000, patience=200)"
   ]
  },
  {
   "cell_type": "markdown",
   "id": "eec6cea9",
   "metadata": {},
   "source": [
    "# SF (no Z)"
   ]
  },
  {
   "cell_type": "code",
   "execution_count": null,
   "id": "5f98c1a8",
   "metadata": {},
   "outputs": [],
   "source": [
    "final_model_training.train_model('SF_noZ',\n",
    "                                 val_prop=0.2,\n",
    "                                 batch_size=512,\n",
    "                                 num_nodes=64,\n",
    "                                 dropout=0.1,\n",
    "                                 learn_rate=1e-5,\n",
    "                                 epochs=10000, patience=200)"
   ]
  },
  {
   "cell_type": "markdown",
   "id": "9c33376c",
   "metadata": {},
   "source": [
    "# SF (in Z)"
   ]
  },
  {
   "cell_type": "code",
   "execution_count": null,
   "id": "c0faa429",
   "metadata": {},
   "outputs": [],
   "source": [
    "final_model_training.train_model('SF_inZ',\n",
    "                                 val_prop=0.2,\n",
    "                                 batch_size=1024,\n",
    "                                 num_nodes=64,\n",
    "                                 dropout=0.1,\n",
    "                                 learn_rate=1e-5,\n",
    "                                 epochs=10000, patience=200)"
   ]
  },
  {
   "cell_type": "code",
   "execution_count": null,
   "id": "8a8a9347",
   "metadata": {},
   "outputs": [],
   "source": []
  }
 ],
 "metadata": {
  "kernelspec": {
   "display_name": "wvz_machine_learning",
   "language": "python",
   "name": "wvz_machine_learning"
  },
  "language_info": {
   "codemirror_mode": {
    "name": "ipython",
    "version": 3
   },
   "file_extension": ".py",
   "mimetype": "text/x-python",
   "name": "python",
   "nbconvert_exporter": "python",
   "pygments_lexer": "ipython3",
   "version": "3.9.7"
  }
 },
 "nbformat": 4,
 "nbformat_minor": 5
}
