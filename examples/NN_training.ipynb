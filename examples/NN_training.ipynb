{
 "cells": [
  {
   "cell_type": "markdown",
   "id": "350b9266",
   "metadata": {},
   "source": [
    "# NN Training\n",
    "\n",
    "In this example notebook, we will utilize the `wvz_ml_framework` module to:\n",
    "\n",
    "1) Load data in the 4l-DF signal region.\n",
    "\n",
    "2) Train a neural network to pick out signal events."
   ]
  },
  {
   "cell_type": "markdown",
   "id": "c8a7d059",
   "metadata": {},
   "source": [
    "## Load data\n",
    "\n",
    "There is already a utility created to load data and generate train, test, and validation sets for NN training in one function."
   ]
  },
  {
   "cell_type": "code",
   "execution_count": 3,
   "id": "0dd39cf9",
   "metadata": {},
   "outputs": [],
   "source": [
    "import sys\n",
    "sys.path.append('../')\n",
    "\n",
    "from wvz_ml_framework.nn_training import data_management"
   ]
  },
  {
   "cell_type": "markdown",
   "id": "b5900d41",
   "metadata": {},
   "source": [
    "We must specify the data paths, the training features, and the file used for rescaling. We can specify the training features separately from the features to be rescaled, which is useful if we have a feature that we don't want to rescale.\n",
    "\n",
    "If we don't already have a file to be used for rescaling, we can generate one first:"
   ]
  },
  {
   "cell_type": "code",
   "execution_count": 43,
   "id": "f81a5fed",
   "metadata": {},
   "outputs": [],
   "source": [
    "data_paths = {\n",
    "    'Signal': '/home/grabanal/WVZ/gabriel_ML_data/20220301_ELReLMIs54_MUReLMIs31_btag77_VVZ.arrow',\n",
    "    'Other': '/home/grabanal/WVZ/gabriel_ML_data/20220301_ELReLMIs54_MUReLMIs31_btag77_others.arrow',\n",
    "    'ttZ': '/home/grabanal/WVZ/gabriel_ML_data/20220301_ELReLMIs54_MUReLMIs31_btag77_ttZ.arrow',\n",
    "    'tWZ': '/home/grabanal/WVZ/gabriel_ML_data/20220301_ELReLMIs54_MUReLMIs31_btag77_tWZ.arrow',\n",
    "    'tZ': '/home/grabanal/WVZ/gabriel_ML_data/20220301_ELReLMIs54_MUReLMIs31_btag77_tZ.arrow',\n",
    "    'WZ': '/home/grabanal/WVZ/gabriel_ML_data/20220301_ELReLMIs54_MUReLMIs31_btag77_WZ.arrow',\n",
    "    'Zgamma': '/home/grabanal/WVZ/gabriel_ML_data/20220301_ELReLMIs54_MUReLMIs31_btag77_Zgamma.arrow',\n",
    "    'Zjets': '/home/grabanal/WVZ/gabriel_ML_data/20220301_ELReLMIs54_MUReLMIs31_btag77_Zjets.arrow',\n",
    "    'ZZ': '/home/grabanal/WVZ/gabriel_ML_data/20220301_ELReLMIs54_MUReLMIs31_btag77_ZZ.arrow'\n",
    "}\n",
    "\n",
    "with open('training_features.txt', 'r') as file:\n",
    "    training_features = [line.strip() for line in file.readlines()]\n",
    "    \n",
    "rescale_features = [feat for feat in training_features if feat not in ['SR']]\n",
    "\n",
    "data_management.generate_scale_params_file(data_paths, rescale_features, 'rescaling_parameters.json')"
   ]
  },
  {
   "cell_type": "markdown",
   "id": "64c68fc5",
   "metadata": {},
   "source": [
    "Now we can load the data for NN training:"
   ]
  },
  {
   "cell_type": "code",
   "execution_count": 52,
   "id": "b1ec7597",
   "metadata": {},
   "outputs": [
    {
     "name": "stdout",
     "output_type": "stream",
     "text": [
      "Data loaded...\n",
      "Data scaled...\n",
      "Data cut down to DF signal region...\n",
      "Splits generated... Finished.\n"
     ]
    }
   ],
   "source": [
    "x_train, y_train, w_train, x_test, y_test, w_test, x_val, y_val, w_val \\\n",
    "    = data_management.get_train_test_val_data(data_paths=data_paths, \n",
    "                                              train_feats=training_features,\n",
    "                                              sr_to_train='DF',\n",
    "                                              test_prop=0.2,\n",
    "                                              val_prop=0.1,\n",
    "                                              rescale_filepath='rescaling_parameters.json',\n",
    "                                              rescale_feats=rescale_features\n",
    "                                             )"
   ]
  },
  {
   "cell_type": "markdown",
   "id": "0a19a47f",
   "metadata": {},
   "source": [
    "We can verify that the training data has been scaled appropriately:"
   ]
  },
  {
   "cell_type": "code",
   "execution_count": 47,
   "id": "879dff66",
   "metadata": {},
   "outputs": [
    {
     "data": {
      "text/html": [
       "<div>\n",
       "<style scoped>\n",
       "    .dataframe tbody tr th:only-of-type {\n",
       "        vertical-align: middle;\n",
       "    }\n",
       "\n",
       "    .dataframe tbody tr th {\n",
       "        vertical-align: top;\n",
       "    }\n",
       "\n",
       "    .dataframe thead th {\n",
       "        text-align: right;\n",
       "    }\n",
       "</style>\n",
       "<table border=\"1\" class=\"dataframe\">\n",
       "  <thead>\n",
       "    <tr style=\"text-align: right;\">\n",
       "      <th></th>\n",
       "      <th>HT</th>\n",
       "      <th>MET</th>\n",
       "      <th>METPhi</th>\n",
       "      <th>METSig</th>\n",
       "      <th>Njet</th>\n",
       "      <th>Nlep</th>\n",
       "      <th>SR</th>\n",
       "      <th>Wlep1_ambiguous</th>\n",
       "      <th>Wlep1_dphi</th>\n",
       "      <th>Wlep1_eta</th>\n",
       "      <th>...</th>\n",
       "      <th>phi_1</th>\n",
       "      <th>phi_2</th>\n",
       "      <th>phi_3</th>\n",
       "      <th>phi_4</th>\n",
       "      <th>pt_1</th>\n",
       "      <th>pt_2</th>\n",
       "      <th>pt_3</th>\n",
       "      <th>pt_4</th>\n",
       "      <th>pt_4l</th>\n",
       "      <th>total_HT</th>\n",
       "    </tr>\n",
       "  </thead>\n",
       "  <tbody>\n",
       "    <tr>\n",
       "      <th>69008</th>\n",
       "      <td>0.000000</td>\n",
       "      <td>0.000040</td>\n",
       "      <td>0.820966</td>\n",
       "      <td>0.018378</td>\n",
       "      <td>0.000000</td>\n",
       "      <td>0.000000</td>\n",
       "      <td>2</td>\n",
       "      <td>0.0</td>\n",
       "      <td>0.914435</td>\n",
       "      <td>0.518686</td>\n",
       "      <td>...</td>\n",
       "      <td>0.214376</td>\n",
       "      <td>0.634932</td>\n",
       "      <td>0.620066</td>\n",
       "      <td>0.900982</td>\n",
       "      <td>0.000101</td>\n",
       "      <td>0.119961</td>\n",
       "      <td>0.187219</td>\n",
       "      <td>0.132414</td>\n",
       "      <td>0.000040</td>\n",
       "      <td>0.000195</td>\n",
       "    </tr>\n",
       "    <tr>\n",
       "      <th>69295</th>\n",
       "      <td>0.000000</td>\n",
       "      <td>0.000011</td>\n",
       "      <td>0.800249</td>\n",
       "      <td>0.007070</td>\n",
       "      <td>0.000000</td>\n",
       "      <td>0.000000</td>\n",
       "      <td>2</td>\n",
       "      <td>0.0</td>\n",
       "      <td>0.989696</td>\n",
       "      <td>0.749059</td>\n",
       "      <td>...</td>\n",
       "      <td>0.668510</td>\n",
       "      <td>0.222197</td>\n",
       "      <td>0.262986</td>\n",
       "      <td>0.859758</td>\n",
       "      <td>0.000023</td>\n",
       "      <td>0.062273</td>\n",
       "      <td>0.078476</td>\n",
       "      <td>0.067732</td>\n",
       "      <td>0.000009</td>\n",
       "      <td>0.000067</td>\n",
       "    </tr>\n",
       "    <tr>\n",
       "      <th>53637</th>\n",
       "      <td>0.062606</td>\n",
       "      <td>0.000007</td>\n",
       "      <td>0.584074</td>\n",
       "      <td>0.002546</td>\n",
       "      <td>0.107143</td>\n",
       "      <td>0.333333</td>\n",
       "      <td>2</td>\n",
       "      <td>0.0</td>\n",
       "      <td>0.868365</td>\n",
       "      <td>0.186055</td>\n",
       "      <td>...</td>\n",
       "      <td>0.341462</td>\n",
       "      <td>0.642700</td>\n",
       "      <td>0.400171</td>\n",
       "      <td>0.838771</td>\n",
       "      <td>0.000053</td>\n",
       "      <td>0.046632</td>\n",
       "      <td>0.064664</td>\n",
       "      <td>0.081993</td>\n",
       "      <td>0.000060</td>\n",
       "      <td>0.000176</td>\n",
       "    </tr>\n",
       "    <tr>\n",
       "      <th>103645</th>\n",
       "      <td>0.118793</td>\n",
       "      <td>0.000043</td>\n",
       "      <td>0.373225</td>\n",
       "      <td>0.012539</td>\n",
       "      <td>0.035714</td>\n",
       "      <td>0.000000</td>\n",
       "      <td>2</td>\n",
       "      <td>0.0</td>\n",
       "      <td>0.198775</td>\n",
       "      <td>0.312964</td>\n",
       "      <td>...</td>\n",
       "      <td>0.422225</td>\n",
       "      <td>0.488499</td>\n",
       "      <td>0.740492</td>\n",
       "      <td>0.311498</td>\n",
       "      <td>0.000084</td>\n",
       "      <td>0.075100</td>\n",
       "      <td>0.154655</td>\n",
       "      <td>0.037449</td>\n",
       "      <td>0.000120</td>\n",
       "      <td>0.000304</td>\n",
       "    </tr>\n",
       "    <tr>\n",
       "      <th>40007</th>\n",
       "      <td>0.000000</td>\n",
       "      <td>0.000029</td>\n",
       "      <td>0.923061</td>\n",
       "      <td>0.019082</td>\n",
       "      <td>0.000000</td>\n",
       "      <td>0.000000</td>\n",
       "      <td>2</td>\n",
       "      <td>0.0</td>\n",
       "      <td>0.834832</td>\n",
       "      <td>0.502581</td>\n",
       "      <td>...</td>\n",
       "      <td>0.525657</td>\n",
       "      <td>0.170426</td>\n",
       "      <td>0.968463</td>\n",
       "      <td>0.432287</td>\n",
       "      <td>0.000029</td>\n",
       "      <td>0.048493</td>\n",
       "      <td>0.059724</td>\n",
       "      <td>0.071490</td>\n",
       "      <td>0.000029</td>\n",
       "      <td>0.000066</td>\n",
       "    </tr>\n",
       "  </tbody>\n",
       "</table>\n",
       "<p>5 rows × 78 columns</p>\n",
       "</div>"
      ],
      "text/plain": [
       "              HT       MET    METPhi    METSig      Njet      Nlep  SR  \\\n",
       "69008   0.000000  0.000040  0.820966  0.018378  0.000000  0.000000   2   \n",
       "69295   0.000000  0.000011  0.800249  0.007070  0.000000  0.000000   2   \n",
       "53637   0.062606  0.000007  0.584074  0.002546  0.107143  0.333333   2   \n",
       "103645  0.118793  0.000043  0.373225  0.012539  0.035714  0.000000   2   \n",
       "40007   0.000000  0.000029  0.923061  0.019082  0.000000  0.000000   2   \n",
       "\n",
       "        Wlep1_ambiguous  Wlep1_dphi  Wlep1_eta  ...     phi_1     phi_2  \\\n",
       "69008               0.0    0.914435   0.518686  ...  0.214376  0.634932   \n",
       "69295               0.0    0.989696   0.749059  ...  0.668510  0.222197   \n",
       "53637               0.0    0.868365   0.186055  ...  0.341462  0.642700   \n",
       "103645              0.0    0.198775   0.312964  ...  0.422225  0.488499   \n",
       "40007               0.0    0.834832   0.502581  ...  0.525657  0.170426   \n",
       "\n",
       "           phi_3     phi_4      pt_1      pt_2      pt_3      pt_4     pt_4l  \\\n",
       "69008   0.620066  0.900982  0.000101  0.119961  0.187219  0.132414  0.000040   \n",
       "69295   0.262986  0.859758  0.000023  0.062273  0.078476  0.067732  0.000009   \n",
       "53637   0.400171  0.838771  0.000053  0.046632  0.064664  0.081993  0.000060   \n",
       "103645  0.740492  0.311498  0.000084  0.075100  0.154655  0.037449  0.000120   \n",
       "40007   0.968463  0.432287  0.000029  0.048493  0.059724  0.071490  0.000029   \n",
       "\n",
       "        total_HT  \n",
       "69008   0.000195  \n",
       "69295   0.000067  \n",
       "53637   0.000176  \n",
       "103645  0.000304  \n",
       "40007   0.000066  \n",
       "\n",
       "[5 rows x 78 columns]"
      ]
     },
     "execution_count": 47,
     "metadata": {},
     "output_type": "execute_result"
    }
   ],
   "source": [
    "x_train.head()"
   ]
  },
  {
   "cell_type": "markdown",
   "id": "f6701059",
   "metadata": {},
   "source": [
    "And that the datasets are the correct size:"
   ]
  },
  {
   "cell_type": "code",
   "execution_count": 56,
   "id": "3b8a30cd",
   "metadata": {},
   "outputs": [
    {
     "name": "stdout",
     "output_type": "stream",
     "text": [
      "Training proportion: 0.70\n",
      "Test proportion: 0.20\n",
      "Validation proportion: 0.10\n"
     ]
    }
   ],
   "source": [
    "total_size = len(x_train) + len(x_test) + len(x_val)\n",
    "\n",
    "print('Training proportion: %.2f'%(len(x_train) / total_size))\n",
    "print('Test proportion: %.2f'%(len(x_test) / total_size))\n",
    "print('Validation proportion: %.2f'%(len(x_val) / total_size))"
   ]
  },
  {
   "cell_type": "markdown",
   "id": "44c81add",
   "metadata": {},
   "source": [
    "## Train neural network\n",
    "\n",
    "There is a utility written to easily train the neural networks that we have been using."
   ]
  },
  {
   "cell_type": "code",
   "execution_count": 48,
   "id": "5cda8692",
   "metadata": {},
   "outputs": [
    {
     "name": "stderr",
     "output_type": "stream",
     "text": [
      "2022-05-26 18:01:35.314121: I tensorflow/stream_executor/platform/default/dso_loader.cc:49] Successfully opened dynamic library libcudart.so.10.1\n"
     ]
    }
   ],
   "source": [
    "from wvz_ml_framework.nn_training import nn_training"
   ]
  },
  {
   "cell_type": "markdown",
   "id": "9dea0aaf",
   "metadata": {},
   "source": [
    "It trains a 3-layer model with a specified number of nodes per layer and dropout per layer, using the Adam optimizer. One simply needs to feed in train and validation data and hyperparameters. The model will be saved to a specified folder.\n",
    "\n",
    "The train and validation data must be formatted in tuples of the form (training features, labels, weights)."
   ]
  },
  {
   "cell_type": "code",
   "execution_count": 57,
   "id": "9455bcfe",
   "metadata": {
    "scrolled": false
   },
   "outputs": [
    {
     "name": "stderr",
     "output_type": "stream",
     "text": [
      "2022-05-26 18:07:28.580228: I tensorflow/compiler/jit/xla_cpu_device.cc:41] Not creating XLA devices, tf_xla_enable_xla_devices not set\n",
      "2022-05-26 18:07:28.583597: I tensorflow/stream_executor/platform/default/dso_loader.cc:49] Successfully opened dynamic library libcuda.so.1\n",
      "2022-05-26 18:07:28.710857: I tensorflow/core/common_runtime/gpu/gpu_device.cc:1720] Found device 0 with properties: \n",
      "pciBusID: 0000:65:00.0 name: Quadro RTX 4000 computeCapability: 7.5\n",
      "coreClock: 1.545GHz coreCount: 36 deviceMemorySize: 7.79GiB deviceMemoryBandwidth: 387.49GiB/s\n",
      "2022-05-26 18:07:28.710954: I tensorflow/stream_executor/platform/default/dso_loader.cc:49] Successfully opened dynamic library libcudart.so.10.1\n",
      "2022-05-26 18:07:28.715748: I tensorflow/stream_executor/platform/default/dso_loader.cc:49] Successfully opened dynamic library libcublas.so.10\n",
      "2022-05-26 18:07:28.715852: I tensorflow/stream_executor/platform/default/dso_loader.cc:49] Successfully opened dynamic library libcublasLt.so.10\n",
      "2022-05-26 18:07:28.719988: I tensorflow/stream_executor/platform/default/dso_loader.cc:49] Successfully opened dynamic library libcufft.so.10\n",
      "2022-05-26 18:07:28.720935: I tensorflow/stream_executor/platform/default/dso_loader.cc:49] Successfully opened dynamic library libcurand.so.10\n",
      "2022-05-26 18:07:28.724296: I tensorflow/stream_executor/platform/default/dso_loader.cc:49] Successfully opened dynamic library libcusolver.so.10\n",
      "2022-05-26 18:07:28.725639: I tensorflow/stream_executor/platform/default/dso_loader.cc:49] Successfully opened dynamic library libcusparse.so.10\n",
      "2022-05-26 18:07:28.731932: I tensorflow/stream_executor/platform/default/dso_loader.cc:49] Successfully opened dynamic library libcudnn.so.7\n",
      "2022-05-26 18:07:28.732598: I tensorflow/core/common_runtime/gpu/gpu_device.cc:1862] Adding visible gpu devices: 0\n",
      "2022-05-26 18:07:28.733261: I tensorflow/core/platform/cpu_feature_guard.cc:142] This TensorFlow binary is optimized with oneAPI Deep Neural Network Library (oneDNN) to use the following CPU instructions in performance-critical operations:  SSE4.1 SSE4.2 AVX AVX2 AVX512F FMA\n",
      "To enable them in other operations, rebuild TensorFlow with the appropriate compiler flags.\n",
      "2022-05-26 18:07:28.736275: I tensorflow/core/common_runtime/gpu/gpu_device.cc:1720] Found device 0 with properties: \n",
      "pciBusID: 0000:65:00.0 name: Quadro RTX 4000 computeCapability: 7.5\n",
      "coreClock: 1.545GHz coreCount: 36 deviceMemorySize: 7.79GiB deviceMemoryBandwidth: 387.49GiB/s\n",
      "2022-05-26 18:07:28.736321: I tensorflow/stream_executor/platform/default/dso_loader.cc:49] Successfully opened dynamic library libcudart.so.10.1\n",
      "2022-05-26 18:07:28.736340: I tensorflow/stream_executor/platform/default/dso_loader.cc:49] Successfully opened dynamic library libcublas.so.10\n",
      "2022-05-26 18:07:28.736354: I tensorflow/stream_executor/platform/default/dso_loader.cc:49] Successfully opened dynamic library libcublasLt.so.10\n",
      "2022-05-26 18:07:28.736367: I tensorflow/stream_executor/platform/default/dso_loader.cc:49] Successfully opened dynamic library libcufft.so.10\n",
      "2022-05-26 18:07:28.736380: I tensorflow/stream_executor/platform/default/dso_loader.cc:49] Successfully opened dynamic library libcurand.so.10\n",
      "2022-05-26 18:07:28.736393: I tensorflow/stream_executor/platform/default/dso_loader.cc:49] Successfully opened dynamic library libcusolver.so.10\n",
      "2022-05-26 18:07:28.736406: I tensorflow/stream_executor/platform/default/dso_loader.cc:49] Successfully opened dynamic library libcusparse.so.10\n",
      "2022-05-26 18:07:28.736419: I tensorflow/stream_executor/platform/default/dso_loader.cc:49] Successfully opened dynamic library libcudnn.so.7\n",
      "2022-05-26 18:07:28.736924: I tensorflow/core/common_runtime/gpu/gpu_device.cc:1862] Adding visible gpu devices: 0\n",
      "2022-05-26 18:07:28.737246: I tensorflow/stream_executor/platform/default/dso_loader.cc:49] Successfully opened dynamic library libcudart.so.10.1\n",
      "2022-05-26 18:07:30.105098: I tensorflow/core/common_runtime/gpu/gpu_device.cc:1261] Device interconnect StreamExecutor with strength 1 edge matrix:\n",
      "2022-05-26 18:07:30.105166: I tensorflow/core/common_runtime/gpu/gpu_device.cc:1267]      0 \n",
      "2022-05-26 18:07:30.105196: I tensorflow/core/common_runtime/gpu/gpu_device.cc:1280] 0:   N \n",
      "2022-05-26 18:07:30.107489: I tensorflow/core/common_runtime/gpu/gpu_device.cc:1406] Created TensorFlow device (/job:localhost/replica:0/task:0/device:GPU:0 with 7117 MB memory) -> physical GPU (device: 0, name: Quadro RTX 4000, pci bus id: 0000:65:00.0, compute capability: 7.5)\n",
      "2022-05-26 18:07:30.109233: I tensorflow/compiler/jit/xla_gpu_device.cc:99] Not creating XLA devices, tf_xla_enable_xla_devices not set\n",
      "2022-05-26 18:07:33.307062: I tensorflow/compiler/mlir/mlir_graph_optimization_pass.cc:116] None of the MLIR optimization passes are enabled (registered 2)\n",
      "2022-05-26 18:07:33.310702: I tensorflow/core/platform/profile_utils/cpu_utils.cc:112] CPU Frequency: 3500000000 Hz\n"
     ]
    },
    {
     "name": "stdout",
     "output_type": "stream",
     "text": [
      "Epoch 1/15\n",
      " 1/76 [..............................] - ETA: 49s - loss: 0.0027 - accuracy: 0.4766"
     ]
    },
    {
     "name": "stderr",
     "output_type": "stream",
     "text": [
      "2022-05-26 18:07:33.851028: I tensorflow/stream_executor/platform/default/dso_loader.cc:49] Successfully opened dynamic library libcublas.so.10\n"
     ]
    },
    {
     "name": "stdout",
     "output_type": "stream",
     "text": [
      "76/76 [==============================] - 1s 11ms/step - loss: 0.0013 - accuracy: 0.5377 - val_loss: 0.0012 - val_accuracy: 0.6547\n",
      "Epoch 2/15\n",
      "76/76 [==============================] - 0s 4ms/step - loss: 0.0012 - accuracy: 0.6427 - val_loss: 0.0011 - val_accuracy: 0.6544\n",
      "Epoch 3/15\n",
      "76/76 [==============================] - 0s 4ms/step - loss: 0.0012 - accuracy: 0.6499 - val_loss: 0.0011 - val_accuracy: 0.6540\n",
      "Epoch 4/15\n",
      "76/76 [==============================] - 0s 4ms/step - loss: 0.0012 - accuracy: 0.6515 - val_loss: 0.0011 - val_accuracy: 0.6540\n",
      "Epoch 5/15\n",
      "76/76 [==============================] - 0s 4ms/step - loss: 0.0012 - accuracy: 0.6441 - val_loss: 0.0011 - val_accuracy: 0.6540\n",
      "Epoch 6/15\n",
      "76/76 [==============================] - 0s 4ms/step - loss: 0.0013 - accuracy: 0.6534 - val_loss: 0.0011 - val_accuracy: 0.6540\n",
      "Epoch 7/15\n",
      "76/76 [==============================] - 0s 4ms/step - loss: 0.0013 - accuracy: 0.6501 - val_loss: 0.0011 - val_accuracy: 0.6542\n",
      "Epoch 8/15\n",
      "76/76 [==============================] - 0s 4ms/step - loss: 0.0012 - accuracy: 0.6456 - val_loss: 0.0011 - val_accuracy: 0.6540\n",
      "Epoch 9/15\n",
      "76/76 [==============================] - 0s 4ms/step - loss: 0.0012 - accuracy: 0.6459 - val_loss: 0.0011 - val_accuracy: 0.6547\n",
      "Epoch 10/15\n",
      "76/76 [==============================] - 0s 4ms/step - loss: 0.0012 - accuracy: 0.6439 - val_loss: 0.0011 - val_accuracy: 0.6533\n",
      "Epoch 11/15\n",
      "76/76 [==============================] - 0s 4ms/step - loss: 0.0013 - accuracy: 0.6431 - val_loss: 0.0011 - val_accuracy: 0.6551\n",
      "Epoch 12/15\n",
      "76/76 [==============================] - 0s 4ms/step - loss: 0.0013 - accuracy: 0.6416 - val_loss: 0.0011 - val_accuracy: 0.6495\n",
      "Epoch 13/15\n",
      "76/76 [==============================] - 0s 4ms/step - loss: 0.0012 - accuracy: 0.6329 - val_loss: 0.0011 - val_accuracy: 0.6558\n"
     ]
    },
    {
     "name": "stderr",
     "output_type": "stream",
     "text": [
      "2022-05-26 18:07:39.010525: W tensorflow/python/util/util.cc:348] Sets are not currently considered sequences, but this may change in the future, so consider avoiding using them.\n"
     ]
    },
    {
     "name": "stdout",
     "output_type": "stream",
     "text": [
      "INFO:tensorflow:Assets written to: models/example/assets\n"
     ]
    }
   ],
   "source": [
    "nn_training.make_and_train_model(\n",
    "    training_data=(x_train, y_train, w_train),\n",
    "    validation_data=(x_val, y_val, w_val),\n",
    "    batch_size=512,\n",
    "    num_nodes=64,\n",
    "    dropout=0.1,\n",
    "    learn_rate=1e-4,\n",
    "    epochs=15,\n",
    "    patience=5,\n",
    "    model_dir='models/',\n",
    "    model_name='example'\n",
    ")"
   ]
  },
  {
   "cell_type": "code",
   "execution_count": null,
   "id": "10e85696",
   "metadata": {},
   "outputs": [],
   "source": []
  }
 ],
 "metadata": {
  "kernelspec": {
   "display_name": "wvz_machine_learning",
   "language": "python",
   "name": "wvz_machine_learning"
  },
  "language_info": {
   "codemirror_mode": {
    "name": "ipython",
    "version": 3
   },
   "file_extension": ".py",
   "mimetype": "text/x-python",
   "name": "python",
   "nbconvert_exporter": "python",
   "pygments_lexer": "ipython3",
   "version": "3.9.7"
  }
 },
 "nbformat": 4,
 "nbformat_minor": 5
}
